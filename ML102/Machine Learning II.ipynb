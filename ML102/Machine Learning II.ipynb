{
 "cells": [
  {
   "cell_type": "markdown",
   "id": "e00f2e75",
   "metadata": {},
   "source": [
    "# <font color=\"orange\">In this course we will follow these topics;</font>\n",
    "<b>\n",
    "->> K-Nearest Neighbors Algorithm\n",
    "<br>\n",
    "->> Support Vector Regression - SVR\n",
    "<br>\n",
    "->> Artificial neural network\n",
    "<br>\n",
    "->> Classification and Regression Trees\n",
    "<br>\n",
    "->> Random Forests\n",
    "<br>\n",
    "->> Gradient Boosting Machines\n",
    "<br>\n",
    "->> XGBoost\n",
    "<br>\n",
    "->> LightGBM\n",
    "<br>\n",
    "->> CatBoost\n",
    "</b>"
   ]
  },
  {
   "cell_type": "markdown",
   "id": "2deab022",
   "metadata": {},
   "source": [
    "# <font color=\"orange\">K-Nearest Neighbors Algorithm</font>\n",
    "->> The k-nearest neighbors algorithm, also known as KNN or k-NN, is a non-parametric, supervised learning classifier, which uses proximity to make classifications or predictions about the grouping of an individual data point.\n",
    "<br>\n",
    "->> Can be used for both regression and classification problems\n",
    "<img src=\"./used_images/knn.png\" width=\"300\" height=\"300\">\n",
    "<br>\n",
    "->> Let's assume that we have a new observation like above, and we want to predict it, we have its independent values. By knn, these x1,x2 values are compared with other observation units, the similarity is calculated. Then which one is close to our observation units (x1,x2), the y is predicted.\n",
    "<br>\n",
    "#### <font color=\"red\">How can we calculate the similarty of observations?</font>\n",
    "<br>\n",
    "<b>->> By Euclid or similar kind of calculations, we can calculate the distance to each observation.</b>\n",
    "<img src=\"./used_images/euclid.png\" width=\"200\" height=\"200\">\n",
    "<b>->> Lets assume that we take nearest 5 observation to prediction</b>\n",
    "<img src=\"./used_images/graph.png\" width=\"200\" height=\"200\">\n",
    "<b>->> We take the nearest k number of observation's y values' mean</b>\n",
    "<br>\n",
    "\n",
    "#### <font color=\"red\">Steps of KNN</font>\n",
    "<b>\n",
    "->> Determine the number of neighbors (K).\n",
    "<br>\n",
    "->> Calculate the distance between unknown point and other points.\n",
    "<br>\n",
    "->> Sort the distances and select the appropriate number of neighbors (K).\n",
    "<br>\n",
    "->> If problem is classification problem, select the most repeated class, if it is regression, give the mean value as prediction value.\n",
    "<br>\n"
   ]
  },
  {
   "cell_type": "markdown",
   "id": "081348d8",
   "metadata": {},
   "source": [
    "### <font color=\"red\">KNN Model and Prediction</font>"
   ]
  },
  {
   "cell_type": "code",
   "execution_count": 3,
   "id": "9f5a56f8",
   "metadata": {},
   "outputs": [],
   "source": [
    "import pandas as pd\n",
    "import numpy as np\n",
    "import seaborn as sns\n",
    "import matplotlib.pyplot as plt\n",
    "from sklearn import model_selection , neighbors\n",
    "from sklearn.model_selection import train_test_split , GridSearchCV\n",
    "from sklearn.metrics import r2_score , mean_squared_error\n",
    "from sklearn.preprocessing import scale , StandardScaler\n",
    "from sklearn.linear_model import LinearRegression\n",
    "from sklearn.tree import DecisionTreeClassifier\n",
    "from sklearn.neighbors import KNeighborsRegressor\n",
    "from sklearn.neural_network import MLPRegressor\n",
    "from sklearn.ensemble import RandomForestRegressor , GradientBoostingRegressor\n",
    "from sklearn.svm import SVR"
   ]
  },
  {
   "cell_type": "code",
   "execution_count": 4,
   "id": "73c77645",
   "metadata": {},
   "outputs": [],
   "source": [
    "from warnings import filterwarnings # ignores warnings\n",
    "filterwarnings(\"ignore\")"
   ]
  },
  {
   "cell_type": "code",
   "execution_count": 5,
   "id": "a61a6fb9",
   "metadata": {},
   "outputs": [],
   "source": [
    "df=pd.read_csv(\"./csv_files/Hitters.csv\")\n",
    "df.dropna(inplace=True)\n",
    "dms=pd.get_dummies(df[[\"League\",\"Division\",\"NewLeague\"]])\n",
    "y=df[[\"Salary\"]]\n",
    "X_=df.drop(columns=[\"Salary\",\"League\",\"Division\",\"NewLeague\"],axis=1).astype(\"float64\")\n",
    "X=pd.concat([X_,dms[[\"League_N\",\"Division_W\",\"NewLeague_N\"]]],axis=1)\n",
    "X_train, X_test, y_train, y_test=train_test_split(X,y,test_size=0.25,random_state=42)"
   ]
  },
  {
   "cell_type": "code",
   "execution_count": 6,
   "id": "c3bfeb9f",
   "metadata": {},
   "outputs": [],
   "source": [
    "knn_model=KNeighborsRegressor().fit(X_train,y_train)"
   ]
  },
  {
   "cell_type": "code",
   "execution_count": 7,
   "id": "cf30a709",
   "metadata": {},
   "outputs": [
    {
     "name": "stdout",
     "output_type": "stream",
     "text": [
      "5\n",
      "minkowski\n"
     ]
    }
   ],
   "source": [
    "print(knn_model.n_neighbors) # number of default neigh\n",
    "print(knn_model.metric) # default metric"
   ]
  },
  {
   "cell_type": "code",
   "execution_count": 8,
   "id": "f84b71c6",
   "metadata": {
    "scrolled": true
   },
   "outputs": [],
   "source": [
    "predicted=knn_model.predict(X_test)"
   ]
  },
  {
   "cell_type": "code",
   "execution_count": 9,
   "id": "918ed76c",
   "metadata": {},
   "outputs": [
    {
     "data": {
      "text/plain": [
       "426.6570764525201"
      ]
     },
     "execution_count": 9,
     "metadata": {},
     "output_type": "execute_result"
    }
   ],
   "source": [
    "np.sqrt(mean_squared_error(y_test,predicted)) # Error Rate of Test set"
   ]
  },
  {
   "cell_type": "markdown",
   "id": "2e99d286",
   "metadata": {},
   "source": [
    "### <font color=\"red\">KNN Model Tuning</font>"
   ]
  },
  {
   "cell_type": "code",
   "execution_count": 10,
   "id": "d47b6a16",
   "metadata": {},
   "outputs": [],
   "source": [
    "knn=KNeighborsRegressor()\n",
    "knn_param={\"n_neighbors\":np.arange(1,30,1)}\n",
    "gridcv_model=GridSearchCV(knn,knn_param,cv=10).fit(X_train,y_train)"
   ]
  },
  {
   "cell_type": "code",
   "execution_count": 11,
   "id": "4e272950",
   "metadata": {},
   "outputs": [
    {
     "data": {
      "text/plain": [
       "{'n_neighbors': 8}"
      ]
     },
     "execution_count": 11,
     "metadata": {},
     "output_type": "execute_result"
    }
   ],
   "source": [
    "yeni_param=gridcv_model.best_params_\n",
    "yeni_param"
   ]
  },
  {
   "cell_type": "code",
   "execution_count": 12,
   "id": "fad4d82a",
   "metadata": {
    "scrolled": true
   },
   "outputs": [
    {
     "data": {
      "text/plain": [
       "413.7094731463598"
      ]
     },
     "execution_count": 12,
     "metadata": {},
     "output_type": "execute_result"
    }
   ],
   "source": [
    "tunedmodel=KNeighborsRegressor(n_neighbors=yeni_param['n_neighbors']).fit(X_train,y_train)\n",
    "tuned_predictions=tunedmodel.predict(X_test)\n",
    "np.sqrt(mean_squared_error(y_test,tuned_predictions))"
   ]
  },
  {
   "cell_type": "code",
   "execution_count": 13,
   "id": "715bd8dd",
   "metadata": {},
   "outputs": [
    {
     "name": "stdout",
     "output_type": "stream",
     "text": [
      "k: 1 rmse 455.03925390751965\n",
      "k: 2 rmse 415.99629571490965\n",
      "k: 3 rmse 420.6765370082348\n",
      "k: 4 rmse 428.8564674588792\n",
      "k: 5 rmse 426.6570764525201\n",
      "k: 6 rmse 423.5071669008732\n",
      "k: 7 rmse 414.9361222421057\n",
      "k: 8 rmse 413.7094731463598\n",
      "k: 9 rmse 417.84419990871265\n",
      "k: 10 rmse 421.6252180741266\n"
     ]
    }
   ],
   "source": [
    "arr=[]\n",
    "for k in range(10):\n",
    "    k=k+1\n",
    "    knn_model=KNeighborsRegressor(n_neighbors=k).fit(X_train,y_train)\n",
    "    newpred=knn_model.predict(X_test)\n",
    "    rmse=np.sqrt(mean_squared_error(y_test,newpred))\n",
    "    arr.append(rmse)\n",
    "    print(\"k:\",k,\"rmse\",rmse)"
   ]
  },
  {
   "cell_type": "code",
   "execution_count": 14,
   "id": "5ed26075",
   "metadata": {},
   "outputs": [
    {
     "name": "stdout",
     "output_type": "stream",
     "text": [
      "k: 1 r squared 0.043492714162465695\n",
      "k: 2 r squared 0.2005901704919013\n",
      "k: 3 r squared 0.1825011742466076\n",
      "k: 4 r squared 0.15040003657031897\n",
      "k: 5 r squared 0.1590920400477076\n",
      "k: 6 r squared 0.17146266031335877\n",
      "k: 7 r squared 0.20465959684621493\n",
      "k: 8 r squared 0.2093550739421146\n",
      "k: 9 r squared 0.1934722523174407\n",
      "k: 10 r squared 0.17880988144588528\n"
     ]
    }
   ],
   "source": [
    "for k in range(10):\n",
    "    k=k+1\n",
    "    knn_model=KNeighborsRegressor(n_neighbors=k).fit(X_train,y_train)\n",
    "    newpred=knn_model.predict(X_test)\n",
    "    rmse=np.sqrt(mean_squared_error(y_test,newpred))\n",
    "    arr.append(rmse)\n",
    "    print(\"k:\",k,\"r squared\",r2_score(y_test,newpred))"
   ]
  },
  {
   "cell_type": "markdown",
   "id": "2cc934a2",
   "metadata": {},
   "source": [
    "# <font color=\"orange\">Support Vector Regression (SVR)</font>\n",
    "->> SVR is strong and flexible modelization technique, can be used  for classification and regression, and also it is a robust regression modeling technique.\n",
    "<br>\n",
    "->> SVR gives us the flexibility to define how much error is acceptable in our model and will find an appropriate line (or hyperplane in higher dimensions) to fit the data.\n",
    "<img src=\"./used_images/svr.png\" width=\"800\" height=\"800\">\n",
    "<b>\n",
    "->> Helps you find a regression equation, the differences between the actual values and the predicted values will be no further than a certain value of epsilon and ksi from the two sides of the regression curve. Kinda pressing process.\n",
    "<br>\n",
    "->>Thus, we can think that we dont deal with outliers which are less than epsilon values, moreover we deal with greater ones. \n",
    "</b>\n",
    "### <font color=\"red\">Support Vector Regression (SVR) Model and Prediction</font>"
   ]
  },
  {
   "cell_type": "code",
   "execution_count": 15,
   "id": "fc9cbc7f",
   "metadata": {},
   "outputs": [],
   "source": [
    "df=pd.read_csv(\"./csv_files/Hitters.csv\")\n",
    "df.dropna(inplace=True)\n",
    "dms=pd.get_dummies(df[[\"League\",\"Division\",\"NewLeague\"]])\n",
    "y=df[[\"Salary\"]]\n",
    "X_=df.drop(columns=[\"Salary\",\"League\",\"Division\",\"NewLeague\"],axis=1).astype(\"float64\")\n",
    "X=pd.concat([X_,dms[[\"League_N\",\"Division_W\",\"NewLeague_N\"]]],axis=1)\n",
    "X_train, X_test, y_train, y_test=train_test_split(X,y,test_size=0.25,random_state=42)"
   ]
  },
  {
   "cell_type": "code",
   "execution_count": 16,
   "id": "8402ac94",
   "metadata": {},
   "outputs": [],
   "source": [
    "svr_model=SVR(kernel=\"linear\").fit(X_train,y_train) # kernel can be linear or rbf"
   ]
  },
  {
   "cell_type": "code",
   "execution_count": 17,
   "id": "e5e50372",
   "metadata": {},
   "outputs": [
    {
     "name": "stdout",
     "output_type": "stream",
     "text": [
      "[-80.15196063]\n",
      "[[ -1.2183904    6.09602978  -3.67574533   0.14217072   0.51435925\n",
      "    1.28388992  12.55922527  -0.08693754   0.46597185   2.98259931\n",
      "    0.52944513  -0.79820793  -0.16015531   0.30872795   0.28842348\n",
      "   -1.79560066   6.41868986 -10.74313785   1.33374319]]\n"
     ]
    }
   ],
   "source": [
    "print(svr_model.intercept_) # B0 value\n",
    "print(svr_model.coef_) # w (B) values"
   ]
  },
  {
   "cell_type": "code",
   "execution_count": 18,
   "id": "98464c27",
   "metadata": {},
   "outputs": [
    {
     "name": "stdout",
     "output_type": "stream",
     "text": [
      "370.0408415795005\n"
     ]
    }
   ],
   "source": [
    "predicted=svr_model.predict(X_test)\n",
    "print(np.sqrt(mean_squared_error(y_test,predicted))) # RMSE TEST ERROR\n"
   ]
  },
  {
   "cell_type": "markdown",
   "id": "e37c24d5",
   "metadata": {},
   "source": [
    "### <font color=\"red\">Support Vector Regression (SVR) Model Tuning</font>"
   ]
  },
  {
   "cell_type": "code",
   "execution_count": 19,
   "id": "4719d0ac",
   "metadata": {},
   "outputs": [],
   "source": [
    "# we can change c values for model tuning by using GridSearchCV and k fold cross validation"
   ]
  },
  {
   "cell_type": "code",
   "execution_count": 20,
   "id": "f7132a10",
   "metadata": {},
   "outputs": [],
   "source": [
    "svr_model=SVR(kernel=\"linear\")"
   ]
  },
  {
   "cell_type": "code",
   "execution_count": 21,
   "id": "9a354f63",
   "metadata": {},
   "outputs": [],
   "source": [
    "svr_params={\"C\":[0.1,0.5,1,3]}"
   ]
  },
  {
   "cell_type": "code",
   "execution_count": 22,
   "id": "a4720615",
   "metadata": {
    "scrolled": true
   },
   "outputs": [
    {
     "name": "stdout",
     "output_type": "stream",
     "text": [
      "Fitting 5 folds for each of 4 candidates, totalling 20 fits\n"
     ]
    }
   ],
   "source": [
    "# we are fitting the model to find best param, in addition verbose=2 shows report of process, n_jobs for using all cpu\n",
    "svr_grid_model=GridSearchCV(svr_model,cv=5,param_grid=svr_params,verbose=2,n_jobs=-1).fit(X_train,y_train) "
   ]
  },
  {
   "cell_type": "code",
   "execution_count": 23,
   "id": "a043d567",
   "metadata": {},
   "outputs": [
    {
     "data": {
      "text/plain": [
       "{'C': 0.5}"
      ]
     },
     "execution_count": 23,
     "metadata": {},
     "output_type": "execute_result"
    }
   ],
   "source": [
    "bestparam=svr_grid_model.best_params_\n",
    "bestparam"
   ]
  },
  {
   "cell_type": "code",
   "execution_count": 24,
   "id": "1492067f",
   "metadata": {},
   "outputs": [],
   "source": [
    "# final model\n",
    "tuned_model=svr_model.set_params(kernel=\"linear\",C=bestparam[\"C\"]).fit(X_train,y_train)"
   ]
  },
  {
   "cell_type": "code",
   "execution_count": 25,
   "id": "36a285e5",
   "metadata": {},
   "outputs": [
    {
     "name": "stdout",
     "output_type": "stream",
     "text": [
      "367.98747616655294\n"
     ]
    }
   ],
   "source": [
    "tuned_predicted=tuned_model.predict(X_test)\n",
    "print(np.sqrt(mean_squared_error(y_test,tuned_predicted)))"
   ]
  },
  {
   "cell_type": "markdown",
   "id": "898aea93",
   "metadata": {},
   "source": [
    "# <font color=\"orange\">Artifical Neural Networks</font>\n",
    "->> Kinda strong algorithm that is used for regression and classification problems which based on human brain's data processing.\n",
    "<br>\n",
    "->> The aim is finding coefficients which can predict with minimum error.\n",
    "<img src=\"./used_images/ann.png\"  width=\"700\" height=\"600\">\n",
    "->> We can say, inputs are multiplied by weights, and then taken summation of them by sum function, then activation function processes these summation result and gives output.\n",
    "<br>\n",
    "->> This process represents the process of an artifical neural network, so when this process is done, it transfers result to other cell and it continues if there is a network.\n",
    "<img src=\"./used_images/anns.png\"  width=\"300\" height=\"300\">\n",
    "->> Artifical Neural Networks consist of neural network cells which are related to each other, cells are named as \"neurons\".\n",
    "<br>\n",
    "->> This is consisting of 3 layers, <font color=\"red\">Input, Hidden and Output layer.</font>\n",
    "<br>\n",
    "->> Hidden layer can consist of multiple layers. Hidden layer processes the data and the end of the process, it sends to processed data to the other layers, which are inside the hidden layer, or if there is not another layer, it sends to the output layer.\n",
    "<br>\n",
    "->> The all cells inside one layer are connected to all other cells which are inside the another layer.\n",
    "<br>\n",
    "->> In muliple layered structures, the most used network is Backpropagation network.\n",
    "<br>\n",
    "<br>\n",
    "->> In general, backpropagation has to do with recalculating input weights for artificial neurons using a gradient method. Delta learning does this using the difference between a target activation and an actual obtained activation. Using a linear activation function, network connections are adjusted.\n",
    "### <font color=\"red\">Steps of Ann</font>\n",
    "->> Data set is gathered.\n",
    "<br>\n",
    "->> Network's topological structure is determined.\n",
    "<br>\n",
    "->> The values are assigned to the weights, sometimes done randomly sometimes done by methods.\n",
    "<br>\n",
    "->> The dataset sends to the decided neural network.\n",
    "<br>\n",
    "->> Advanced calculation processes are done.\n",
    "<br>\n",
    "->> Actual and Predicted outputs are compared, and according to comparing result, the weight updates or completion of learning is done.\n",
    "<img src=\"./used_images/mathematical_form.png\"  width=\"500\" height=\"500\">\n",
    "### <font color=\"red\">Model and Prediction</font>\n",
    "->> We do standardization process on our dataset because almost all machine learning algorithms likes the standardization process, but while some algorithms works well with heterogeneous datasets, some algorithms works well with homogenous datasets.\n",
    "<br>\n",
    "->> Artifical Neural Networks algorithm works well on the homogenous datasets because there are some values that the difference between actual and predictions can cause an outlier. Therefore, generally the artifical neural networks are used after standardization process."
   ]
  },
  {
   "cell_type": "code",
   "execution_count": 26,
   "id": "9c05c307",
   "metadata": {},
   "outputs": [],
   "source": [
    "from sklearn.model_selection import train_test_split\n",
    "from sklearn.preprocessing import scale,StandardScaler\n",
    "from sklearn.neural_network import MLPRegressor\n",
    "from sklearn.metrics import mean_squared_error\n",
    "df=pd.read_csv(\"./csv_files/Hitters.csv\")\n",
    "df.dropna(inplace=True)\n",
    "dms=pd.get_dummies(df[[\"League\",\"Division\",\"NewLeague\"]])\n",
    "y=df[[\"Salary\"]]\n",
    "X_=df.drop(columns=[\"Salary\",\"League\",\"Division\",\"NewLeague\"],axis=1).astype(\"float64\")\n",
    "X=pd.concat([X_,dms[[\"League_N\",\"Division_W\",\"NewLeague_N\"]]],axis=1)\n",
    "X_train, X_test, y_train, y_test= train_test_split(X,y,test_size=0.25,random_state=42)"
   ]
  },
  {
   "cell_type": "code",
   "execution_count": 27,
   "id": "0b88c3a8",
   "metadata": {},
   "outputs": [],
   "source": [
    "scaler= StandardScaler() # Creating a scaler object to standardization"
   ]
  },
  {
   "cell_type": "code",
   "execution_count": 28,
   "id": "ee8b4213",
   "metadata": {},
   "outputs": [],
   "source": [
    "scaler.fit(X_train) # fitting the train datasets\n",
    "X_train_scaled=scaler.transform(X_train)  # transorming the trained dataset "
   ]
  },
  {
   "cell_type": "code",
   "execution_count": 29,
   "id": "ed718b2b",
   "metadata": {},
   "outputs": [],
   "source": [
    "scaler.fit(X_test)\n",
    "X_test_scaled=scaler.transform(X_test) # Similar process needs to be done for test dataset"
   ]
  },
  {
   "cell_type": "code",
   "execution_count": 30,
   "id": "27774435",
   "metadata": {},
   "outputs": [],
   "source": [
    "mlp_model=MLPRegressor().fit(X_train_scaled,y_train) # Creating a model"
   ]
  },
  {
   "cell_type": "code",
   "execution_count": 31,
   "id": "03911936",
   "metadata": {},
   "outputs": [
    {
     "data": {
      "text/plain": [
       "array([ 21.11842253,  31.90551057,  68.02407758,   7.99849986,\n",
       "        21.54459642,   2.86866031,   9.8572241 ,   7.86229315,\n",
       "        71.13562611,  34.96010131,  19.29147522,  73.21939073,\n",
       "        17.56987173,  21.87392921,   1.72781424,  41.94529803,\n",
       "        46.05728789,   3.43596293,  49.69909685,   6.45030763,\n",
       "         3.37748186,  36.94102326,  14.34407427,   6.66578204,\n",
       "        37.41679413,   3.65589706,  66.81935771,   2.47154468,\n",
       "        29.75785948,   3.15135674,   3.61994858,   4.62982474,\n",
       "         1.3457402 ,  14.84412572,   2.67901693,  41.62760131,\n",
       "       119.7835638 ,   3.2208412 ,   4.08625025,   2.66900349,\n",
       "         3.3412649 ,   5.37288457,   5.72262136,   4.16209383,\n",
       "        75.44416968,  27.99429046,   7.51557388,   3.62395578,\n",
       "         5.90152136,  25.00447145,  34.72869152,   1.61153764,\n",
       "        27.57690485,   5.28026825,   3.44670767,  21.48880042,\n",
       "         5.9177755 ,  39.84691745,   3.36135065, 115.30474152,\n",
       "       123.47406741,   9.95946547,  32.98340806,   3.47815112,\n",
       "        24.44901051,   3.93092399])"
      ]
     },
     "execution_count": 31,
     "metadata": {},
     "output_type": "execute_result"
    }
   ],
   "source": [
    "y_pred=mlp_model.predict(X_test_scaled) # Prediction\n",
    "y_pred"
   ]
  },
  {
   "cell_type": "code",
   "execution_count": 32,
   "id": "9ce258ba",
   "metadata": {},
   "outputs": [
    {
     "data": {
      "text/plain": [
       "662.9371096576372"
      ]
     },
     "execution_count": 32,
     "metadata": {},
     "output_type": "execute_result"
    }
   ],
   "source": [
    "np.sqrt(mean_squared_error(y_test,y_pred)) # Test Error "
   ]
  },
  {
   "cell_type": "markdown",
   "id": "54804abe",
   "metadata": {},
   "source": [
    "### <font color=\"red\">Model Tuning</font>"
   ]
  },
  {
   "cell_type": "code",
   "execution_count": 33,
   "id": "c7909660",
   "metadata": {},
   "outputs": [],
   "source": [
    "from sklearn.model_selection import GridSearchCV #For tuning we need to imprt gridsearchcv func"
   ]
  },
  {
   "cell_type": "code",
   "execution_count": 34,
   "id": "8e136c6e",
   "metadata": {},
   "outputs": [],
   "source": [
    "from warnings import filterwarnings # ignores warnings\n",
    "filterwarnings(\"ignore\")"
   ]
  },
  {
   "cell_type": "code",
   "execution_count": 35,
   "id": "d34ca69a",
   "metadata": {},
   "outputs": [],
   "source": [
    "mlp_params={\"alpha\":[0.1,0.01,0.02,0.001,0.0001],\"hidden_layer_sizes\":[(10,20),(5,5),(100,100)]} \n",
    "# alpha -> Lambda variables (penalty)\n",
    "# (10,20) -> this created 2 hidden layer, first one consists of 10 neurons, second one 20"
   ]
  },
  {
   "cell_type": "code",
   "execution_count": 36,
   "id": "12a93a53",
   "metadata": {},
   "outputs": [],
   "source": [
    "#First thing is we need to finish scaling process\n",
    "scaler=StandardScaler() # object\n",
    "scaler.fit(X_train) # fit\n",
    "x_train_scaled=scaler.transform(X_train) # transform\n",
    "\n",
    "##########\n",
    "\n",
    "scaler.fit(X_test)\n",
    "x_test_scaled=scaler.transform(X_test)\n",
    "\n",
    "mlp_model=MLPRegressor().fit(X_train_scaled,y_train)"
   ]
  },
  {
   "cell_type": "code",
   "execution_count": 37,
   "id": "d682893c",
   "metadata": {},
   "outputs": [
    {
     "name": "stdout",
     "output_type": "stream",
     "text": [
      "Fitting 10 folds for each of 15 candidates, totalling 150 fits\n"
     ]
    }
   ],
   "source": [
    "mlp_cv_model=GridSearchCV(mlp_model,param_grid=mlp_params,cv=10,verbose=2,n_jobs=-1).fit(X_train_scaled,y_train)"
   ]
  },
  {
   "cell_type": "code",
   "execution_count": 38,
   "id": "8f94d931",
   "metadata": {},
   "outputs": [
    {
     "data": {
      "text/plain": [
       "{'alpha': 0.0001, 'hidden_layer_sizes': (100, 100)}"
      ]
     },
     "execution_count": 38,
     "metadata": {},
     "output_type": "execute_result"
    }
   ],
   "source": [
    "best_params=mlp_cv_model.best_params_\n",
    "best_params           # we got best params for model"
   ]
  },
  {
   "cell_type": "code",
   "execution_count": 39,
   "id": "c83f09a4",
   "metadata": {},
   "outputs": [],
   "source": [
    "tuned_mlp_model=MLPRegressor(alpha=best_params[\"alpha\"],hidden_layer_sizes=best_params[\"hidden_layer_sizes\"]).fit(X_train_scaled,y_train)"
   ]
  },
  {
   "cell_type": "code",
   "execution_count": 40,
   "id": "07f28759",
   "metadata": {},
   "outputs": [
    {
     "data": {
      "text/plain": [
       "354.74438490444294"
      ]
     },
     "execution_count": 40,
     "metadata": {},
     "output_type": "execute_result"
    }
   ],
   "source": [
    "final_predicted=tuned_mlp_model.predict(X_test_scaled)\n",
    "np.sqrt(mean_squared_error(y_test,final_predicted)) # RMSE TEST FINAL ERROR"
   ]
  },
  {
   "cell_type": "markdown",
   "id": "abfce570",
   "metadata": {},
   "source": [
    "# <font color=\"orange\">Classification and Regression Trees (CART)</font>\n",
    "->> The aim is transforming complex structures into simple decision structures inside the dataset.\n",
    "<br>\n",
    "->> Heterogenous datasets splits into homogenous groups to an determined aimed variable, It is used to predict outcomes based on certain predictor variables.\n",
    "<br>\n",
    "->>They are excellent for data mining tasks because they require very little data pre-processing. Decision tree models are easy to understand and implement which gives them a strong advantage when compared to other analytical models.\n",
    "<br> \n",
    "->> Decision Trees are interested to transormation of complex structures into simple decision structures. \n",
    "##### <font color=\"red\">How can we do this?</font>\n",
    "( Dependent variable also called as target variable)\n",
    "<br>\n",
    "->> Heterogenous dataset means the first form of our dataset, the target variable is splitted into homogenous form, and then the prediction is done.\n",
    "<br>\n",
    "->> This algorithm is tend to overfitting, and the prediction success is lower than other algorithms in more complex problems and huge datasets. Also this algorithm is the base of other tree algorithms.\n",
    "<img src=\"./used_images/example.png\">\n",
    "### <font color=\"red\">Classification and Regression Trees (CART) Model and Prediction</font>"
   ]
  },
  {
   "cell_type": "code",
   "execution_count": 110,
   "id": "7e57afad",
   "metadata": {},
   "outputs": [],
   "source": [
    "import pandas as pd\n",
    "import numpy as np \n",
    "import matplotlib.pyplot as plt\n",
    "from sklearn.model_selection import train_test_split,GridSearchCV\n",
    "from sklearn.metrics import r2_score,mean_squared_error\n",
    "from sklearn.tree import DecisionTreeRegressor\n"
   ]
  },
  {
   "cell_type": "code",
   "execution_count": 111,
   "id": "45c7149e",
   "metadata": {},
   "outputs": [],
   "source": [
    "df=pd.read_csv(\"./csv_files/Hitters.csv\")\n",
    "df.dropna(inplace=True)\n",
    "dms=pd.get_dummies(df[[\"League\",\"Division\",\"NewLeague\"]])\n",
    "y=df[[\"Salary\"]]\n",
    "X_=df.drop(columns=[\"Salary\",\"League\",\"Division\",\"NewLeague\"],axis=1).astype(\"float64\")\n",
    "X=pd.concat([X_,dms[[\"League_N\",\"Division_W\",\"NewLeague_N\"]]],axis=1)\n",
    "X_train, X_test, y_train, y_test= train_test_split(X,y,test_size=0.25,random_state=42)"
   ]
  },
  {
   "cell_type": "code",
   "execution_count": 112,
   "id": "db13c504",
   "metadata": {},
   "outputs": [],
   "source": [
    "X_train=pd.DataFrame(X_train[\"Hits\"])\n",
    "X_test=pd.DataFrame(X_test[\"Hits\"])"
   ]
  },
  {
   "cell_type": "code",
   "execution_count": 113,
   "id": "cce883b4",
   "metadata": {},
   "outputs": [],
   "source": [
    "cart_model=DecisionTreeRegressor().fit(X_train,y_train)"
   ]
  },
  {
   "cell_type": "code",
   "execution_count": 114,
   "id": "403baca9",
   "metadata": {},
   "outputs": [
    {
     "data": {
      "image/png": "[encoded data removed]",
      "text/plain": [
       "<Figure size 432x288 with 1 Axes>"
      ]
     },
     "metadata": {
      "needs_background": "light"
     },
     "output_type": "display_data"
    }
   ],
   "source": [
    "X_grid=np.arange(min(np.array(X_train)),max(np.array(X_train)),0.01)\n",
    "X_grid=X_grid.reshape((len(X_grid),1))\n",
    "\n",
    "plt.scatter(X_train,y_train,color=\"red\")\n",
    "plt.plot(X_grid,cart_model.predict(X_grid),color=\"blue\")\n",
    "plt.title(\"CART\")\n",
    "plt.xlabel(\"Hits\")\n",
    "plt.ylabel(\"Salary\");"
   ]
  },
  {
   "cell_type": "code",
   "execution_count": 115,
   "id": "2071d5eb",
   "metadata": {},
   "outputs": [
    {
     "data": {
      "text/plain": [
       "468.49579052913884"
      ]
     },
     "execution_count": 115,
     "metadata": {},
     "output_type": "execute_result"
    }
   ],
   "source": [
    "# one variable prediction\n",
    "predicted=cart_model.predict(X_test)\n",
    "np.sqrt(mean_squared_error(y_test,predicted)) # RMSE TEST ERROR"
   ]
  },
  {
   "cell_type": "code",
   "execution_count": 116,
   "id": "d2816d05",
   "metadata": {},
   "outputs": [],
   "source": [
    "# prediction for all varaibles"
   ]
  },
  {
   "cell_type": "code",
   "execution_count": 117,
   "id": "c90e1737",
   "metadata": {},
   "outputs": [],
   "source": [
    "df=pd.read_csv(\"./csv_files/Hitters.csv\")\n",
    "df.dropna(inplace=True)\n",
    "dms=pd.get_dummies(df[[\"League\",\"Division\",\"NewLeague\"]])\n",
    "y=df[[\"Salary\"]]\n",
    "X_=df.drop(columns=[\"Salary\",\"League\",\"Division\",\"NewLeague\"],axis=1).astype(\"float64\")\n",
    "X=pd.concat([X_,dms[[\"League_N\",\"Division_W\",\"NewLeague_N\"]]],axis=1)\n",
    "X_train, X_test, y_train, y_test= train_test_split(X,y,test_size=0.25,random_state=42)"
   ]
  },
  {
   "cell_type": "code",
   "execution_count": 118,
   "id": "2df9f62f",
   "metadata": {},
   "outputs": [
    {
     "data": {
      "text/plain": [
       "455.1304099242193"
      ]
     },
     "execution_count": 118,
     "metadata": {},
     "output_type": "execute_result"
    }
   ],
   "source": [
    "cart_model=DecisionTreeRegressor().fit(X_train,y_train)\n",
    "predicted=cart_model.predict(X_test)\n",
    "np.sqrt(mean_squared_error(y_test,predicted)) #RMSE TEST ERROR FOR ALL VARIABLES"
   ]
  },
  {
   "cell_type": "markdown",
   "id": "1220fd4f",
   "metadata": {},
   "source": [
    "### <font color=\"red\">Classification and Regression Trees (CART) Model Tuning</font>"
   ]
  },
  {
   "cell_type": "code",
   "execution_count": 119,
   "id": "e562a69d",
   "metadata": {},
   "outputs": [],
   "source": [
    "# max_leaf_nodes, max_depth, min_samples_split,splitter generally these parameters are changing, critial ones."
   ]
  },
  {
   "cell_type": "code",
   "execution_count": 124,
   "id": "14b11148",
   "metadata": {},
   "outputs": [
    {
     "data": {
      "text/plain": [
       "452.3421786787781"
      ]
     },
     "execution_count": 124,
     "metadata": {},
     "output_type": "execute_result"
    }
   ],
   "source": [
    "cart_model=DecisionTreeRegressor().fit(X_train,y_train)\n",
    "predicted=cart_model.predict(X_test)\n",
    "np.sqrt(mean_squared_error(y_test,predicted)) #RMSE TEST ERROR FOR ALL VARIABLES"
   ]
  },
  {
   "cell_type": "code",
   "execution_count": 121,
   "id": "902570ef",
   "metadata": {},
   "outputs": [],
   "source": [
    "cart_params={\"min_samples_split\":[2,10,5,30,50,10],\"max_depth\":[2,3,4,5,10,20]}\n",
    "cart_gridcv_model=GridSearchCV(cart_model,param_grid=cart_params,cv=10).fit(X_train,y_train)"
   ]
  },
  {
   "cell_type": "code",
   "execution_count": 122,
   "id": "6c219f6e",
   "metadata": {},
   "outputs": [
    {
     "data": {
      "text/plain": [
       "{'max_depth': 10, 'min_samples_split': 50}"
      ]
     },
     "execution_count": 122,
     "metadata": {},
     "output_type": "execute_result"
    }
   ],
   "source": [
    "cart_gridcv_model.best_params_"
   ]
  },
  {
   "cell_type": "code",
   "execution_count": 123,
   "id": "fab9fe8d",
   "metadata": {},
   "outputs": [
    {
     "data": {
      "text/plain": [
       "361.0876906511434"
      ]
     },
     "execution_count": 123,
     "metadata": {},
     "output_type": "execute_result"
    }
   ],
   "source": [
    "# final model\n",
    "\n",
    "final_model=DecisionTreeRegressor(max_depth=4,min_samples_split=50).fit(X_train,y_train)\n",
    "predicted=final_model.predict(X_test)\n",
    "np.sqrt(mean_squared_error(y_test,predicted)) # RMSE TEST ERROR"
   ]
  },
  {
   "cell_type": "markdown",
   "id": "4f579893",
   "metadata": {},
   "source": [
    "# <font color=\"orange\">Random Forests</font>\n",
    "->> It is the ensemble learning of more than one algorithm or more than one tree by coming together and trying to predict.\n",
    "<br>\n",
    "->> <b><font color=\"red\">Bagging</font></b>,also known as Bootstrap aggregating, is an ensemble learning technique that helps to improve the performance and accuracy of machine learning algorithms.\n",
    "<br>\n",
    "->> It is used to deal with bias-variance trade-offs and reduces the variance of a prediction model.\n",
    "<br>\n",
    "->>  Bagging avoids overfitting of data and is used for both regression and classification models, specifically for decision tree algorithms.\n",
    "<img src=\"./used_images/bagging_1.png\" width=\"600\" height=\"600\">\n",
    "### <font color=\"red\">What Is Bootstrapping?</font>\n",
    "->> Bootstrapping is the method of randomly creating samples of data out of a population with replacement to estimate a population parameter. \n",
    "<img src=\"./used_images/bootstrap_1.png\" width=\"600\" height=\"600\">\n",
    "### <font color=\"red\">Steps to Perform Bagging</font>\n",
    "\n",
    "<ul>\n",
    "    <li> Imagine that we have total m number of observations, T number of Trees, and selecting n number of observation.(n&#60;m)Imagine that our m value, the total observation count is 1000, and lets imagine 750 . \n",
    "    </li>   \n",
    "    <li>\n",
    "        With selected n observations (in this example its 750), we create a tree model and we hold this tree. Then we put what we  took (750) sample inside to m, shuffle it, then randomly we select 750 again, we create another tree. \n",
    "    </li>\n",
    "    <li>\n",
    "        This process continues until certain T (Tree) value. After creating number of T trees, we ask their opinion like what is you best value and etc.. After this process, we get T number of different prediction, and we do a prediction for  an ensemble.\n",
    "    </li>\n",
    "</ul>\n",
    "\n",
    "### <font color=\"red\">Advantages of Bagging in Machine Learning</font>\n",
    "<ul>\n",
    "    <li>\n",
    "        Bagging minimizes the overfitting of data\n",
    "    </li>\n",
    "    <li>\n",
    "        It reduces the varaince and rmse value.\n",
    "    </li>\n",
    "    <li>\n",
    "        It improves the model’s accuracy\n",
    "    </li>\n",
    "    <li>\n",
    "        It deals with higher dimensional data efficiently\n",
    "    </li>\n",
    "  \n",
    "</ul>\n",
    "->> Random Forest Uses Bagging  Method, adds additional feature. As we know, random observation selection is increased randomness and decreased errors.\n",
    "<br>\n",
    "->> The random observation selection was successfull, so Breiman decided to do same logic to <b>variable selection. </b>\n",
    "<br>\n",
    "->> Random Forest uses Bagging (Randomly observation selection) and Random Subspace ( Randomly variable selection).\n",
    "<br>\n",
    "->> Observations is selected by bagging for trees, and variables is selectd by random subspace.\n",
    "<br>\n",
    "->> As we remember, in bootstrap we have m observation and n selected observation from m. Here same logic, we have number of p variable, and k number of selected variable from p.\n",
    "<br>\n",
    "->> To creating tree, dataset's 2/3 is used. The data which are outside, is used to evaluate performance of trees, and variable significancy.\n",
    "<br>\n",
    "->> Imagine at the end of the day, we have 10 different tree, they gives us diffrent results. Since we have actual results, we can evaluate their performance, and determine which tree's prediction is better.\n",
    "<br>\n",
    "->> In every node point, the variable selection is done randomly. (In regression problems p/3, classification sqrt(p) ). Before, it has been done to best varible splitter order. Here it is done randomly.\n",
    "\n",
    "### <font color=\"red\">Random Forest Model and Prediction</font>"
   ]
  },
  {
   "cell_type": "code",
   "execution_count": 32,
   "id": "11380074",
   "metadata": {},
   "outputs": [],
   "source": [
    "import pandas as pd\n",
    "import numpy as np\n",
    "import seaborn as sns\n",
    "import matplotlib.pyplot as plt\n",
    "from sklearn.model_selection import train_test_split,GridSearchCV\n",
    "from sklearn.metrics import r2_score,mean_squared_error\n",
    "from sklearn.tree import DecisionTreeRegressor\n",
    "from sklearn.ensemble import RandomForestRegressor\n",
    "from warnings import filterwarnings\n",
    "filterwarnings(\"ignore\")\n"
   ]
  },
  {
   "cell_type": "code",
   "execution_count": 33,
   "id": "a7a42b0b",
   "metadata": {},
   "outputs": [],
   "source": [
    "df=pd.read_csv(\"./csv_files/Hitters.csv\")\n",
    "df.dropna(inplace=True)\n",
    "dms=pd.get_dummies(df[[\"League\",\"Division\",\"NewLeague\"]])\n",
    "y=df[[\"Salary\"]]\n",
    "X_=df.drop(columns=[\"Salary\",\"League\",\"Division\",\"NewLeague\"],axis=1).astype(\"float64\")\n",
    "X=pd.concat([X_,dms[[\"League_N\",\"Division_W\",\"NewLeague_N\"]]],axis=1)\n",
    "X_train, X_test, y_train, y_test= train_test_split(X,y,test_size=0.25,random_state=42)"
   ]
  },
  {
   "cell_type": "code",
   "execution_count": 49,
   "id": "86b68532",
   "metadata": {},
   "outputs": [
    {
     "data": {
      "text/plain": [
       "336.69818323198"
      ]
     },
     "execution_count": 49,
     "metadata": {},
     "output_type": "execute_result"
    }
   ],
   "source": [
    "rf_model=RandomForestRegressor().fit(X_train,y_train)\n",
    "predicted=rf_model.predict(X_test)\n",
    "np.sqrt(mean_squared_error(y_test,predicted))"
   ]
  },
  {
   "cell_type": "markdown",
   "id": "caf5055d",
   "metadata": {},
   "source": [
    "### <font color=\"red\">Random Forest Model Tuning</font>"
   ]
  },
  {
   "cell_type": "code",
   "execution_count": 39,
   "id": "d73151a3",
   "metadata": {},
   "outputs": [],
   "source": [
    "# n_estimators, min_sample_split ,max_depth,max_features are important\n",
    "\n",
    "rf_param={\"n_estimators\":[200,500,1000,2000],\"min_samples_split\":[2,10,80,100],\"max_depth\":[5,8,10],\"max_features\":[2,5,10]}"
   ]
  },
  {
   "cell_type": "code",
   "execution_count": 40,
   "id": "1bb51480",
   "metadata": {},
   "outputs": [
    {
     "name": "stdout",
     "output_type": "stream",
     "text": [
      "Fitting 10 folds for each of 144 candidates, totalling 1440 fits\n"
     ]
    }
   ],
   "source": [
    "rfcv_model=GridSearchCV(rf_model,param_grid=rf_param,cv=10,n_jobs=-1,verbose=2).fit(X_train,y_train)"
   ]
  },
  {
   "cell_type": "code",
   "execution_count": 43,
   "id": "2539e5cf",
   "metadata": {},
   "outputs": [
    {
     "data": {
      "text/plain": [
       "{'max_depth': 10,\n",
       " 'max_features': 2,\n",
       " 'min_samples_split': 10,\n",
       " 'n_estimators': 500}"
      ]
     },
     "execution_count": 43,
     "metadata": {},
     "output_type": "execute_result"
    }
   ],
   "source": [
    "rfcv_model.best_params_"
   ]
  },
  {
   "cell_type": "code",
   "execution_count": 44,
   "id": "8ddc9054",
   "metadata": {},
   "outputs": [],
   "source": [
    "# final model\n",
    "\n",
    "final_model= RandomForestRegressor(n_estimators=500,max_depth=10,max_features=2,min_samples_split=10).fit(X_train,y_train)"
   ]
  },
  {
   "cell_type": "code",
   "execution_count": 45,
   "id": "5332ab3f",
   "metadata": {},
   "outputs": [
    {
     "data": {
      "text/plain": [
       "346.31085120691586"
      ]
     },
     "execution_count": 45,
     "metadata": {},
     "output_type": "execute_result"
    }
   ],
   "source": [
    "final_predicted=final_model.predict(X_test)\n",
    "np.sqrt(mean_squared_error(y_test,final_predicted))"
   ]
  },
  {
   "cell_type": "code",
   "execution_count": 51,
   "id": "c72f34cc",
   "metadata": {},
   "outputs": [
    {
     "data": {
      "text/plain": [
       "array([ 5.50979939,  5.30465188,  3.54148999,  4.01174647,  6.15690631,\n",
       "        5.77310465,  5.30988373, 10.99796535, 10.56565362,  7.22601294,\n",
       "       10.21060861,  9.62344625,  7.97763571,  4.23840835,  1.50990843,\n",
       "        1.21746375,  0.19821907,  0.35939255,  0.26770296])"
      ]
     },
     "execution_count": 51,
     "metadata": {},
     "output_type": "execute_result"
    }
   ],
   "source": [
    "## Variable significancy level,random forest allows us to see varibles importance, gives a score, then we can compare\n",
    "final_model.feature_importances_*100"
   ]
  },
  {
   "cell_type": "code",
   "execution_count": 61,
   "id": "84cb9b22",
   "metadata": {},
   "outputs": [
    {
     "data": {
      "image/png": "[encoded data removed]",
      "text/plain": [
       "<Figure size 432x288 with 1 Axes>"
      ]
     },
     "metadata": {
      "needs_background": "light"
     },
     "output_type": "display_data"
    }
   ],
   "source": [
    "importance= pd.DataFrame({\"Importance\":final_model.feature_importances_*100},index=X_test.columns)\n",
    "importance.sort_values(by=\"Importance\",axis=0,ascending=True).plot(kind=\"barh\",color=\"r\")\n",
    "plt.xlabel(\"Variable Importance\")\n",
    "plt.gca().legend_=None"
   ]
  },
  {
   "cell_type": "markdown",
   "id": "abf86187",
   "metadata": {},
   "source": [
    "Breiman, and Friedman\n",
    "<br> \n",
    "Kearns, and Valiant\n",
    "<br>\n",
    "Schapires, and Freund"
   ]
  },
  {
   "cell_type": "markdown",
   "id": "c293a568",
   "metadata": {},
   "source": [
    "# <font color=\"orange\">Gradient Boosting Machines - GBM</font>\n",
    "->> The generalized version of AdaBoost.\n",
    "<br>\n",
    "->> Boosting method/s is an idea based on gathering weak learners together, revealing strong learners. \n",
    "<br>\n",
    "->> Bad prediction is a high  result of mean squared error of real and predicted values . The trees, which are predicting bad, are weak predictors.\n",
    "<br>\n",
    "->> This idea is suggested on 1990 but nobody actualized this idea.\n",
    "<br>\n",
    "->> Adaptive Boosting (AdaBoost) is an algorithm that aims to gather weak classifiers together, and create a strong classifier.\n",
    "<img src=\"./used_images/adaboost.jpg\" width=\"500\" height=\"500\">\n",
    "<br>\n",
    "->> Gradient boosting creates a series of models in the form of a single predictive model.\n",
    "<br>\n",
    "->> The model, inside of the series, is generated on (fit)  previous model's prediction outliers/errors (residuals).\n",
    "<br>\n",
    "->> Gradient Boosting Machines (GBM) uses Gradient Descent Algorithm.\n",
    "<br>\n",
    "->> Gradient Boosting can use base learner types like (Trees, linear terms, splines, etc..).\n",
    "<br>\n",
    "->> Cost and Link functions can be modified.\n",
    "<br>\n",
    "->> GBM consists of Boosting + Gradient Descent.\n",
    "\n",
    "### <font color=\"red\">Gradient Boosting Machines (GBM) Model and Prediction</font>"
   ]
  },
  {
   "cell_type": "code",
   "execution_count": 1,
   "id": "03b4dbab",
   "metadata": {},
   "outputs": [],
   "source": [
    "import pandas as pd\n",
    "import numpy as np\n",
    "import seaborn as sns\n",
    "import matplotlib.pyplot as plt\n",
    "from sklearn.metrics import r2_score, mean_squared_error\n",
    "from sklearn.model_selection import train_test_split,GridSearchCV\n",
    "from sklearn.tree import DecisionTreeRegressor\n",
    "from sklearn.ensemble import RandomForestRegressor\n",
    "from sklearn.ensemble import GradientBoostingRegressor\n",
    "#from warnings import filterwarnings\n",
    "#filterwarnings(\"ignore\")"
   ]
  },
  {
   "cell_type": "code",
   "execution_count": 2,
   "id": "a7916ce0",
   "metadata": {},
   "outputs": [],
   "source": [
    "df=pd.read_csv(\"./csv_files/Hitters.csv\")\n",
    "df.dropna(inplace=True)\n",
    "dms=pd.get_dummies(df[[\"League\",\"Division\",\"NewLeague\"]])\n",
    "y=df[[\"Salary\"]]\n",
    "X_=df.drop(columns=[\"Salary\",\"League\",\"Division\",\"NewLeague\"],axis=1).astype(\"float64\")\n",
    "X=pd.concat([X_,dms[[\"League_N\",\"Division_W\",\"NewLeague_N\"]]],axis=1)\n",
    "X_train, X_test, y_train, y_test= train_test_split(X,y,test_size=0.25,random_state=42)"
   ]
  },
  {
   "cell_type": "code",
   "execution_count": 3,
   "id": "c9c3d727",
   "metadata": {},
   "outputs": [
    {
     "name": "stderr",
     "output_type": "stream",
     "text": [
      "C:\\ProgramData\\Anaconda3\\lib\\site-packages\\sklearn\\ensemble\\_gb.py:494: DataConversionWarning: A column-vector y was passed when a 1d array was expected. Please change the shape of y to (n_samples, ), for example using ravel().\n",
      "  y = column_or_1d(y, warn=True)\n"
     ]
    },
    {
     "data": {
      "text/plain": [
       "GradientBoostingRegressor()"
      ]
     },
     "execution_count": 3,
     "metadata": {},
     "output_type": "execute_result"
    }
   ],
   "source": [
    "gbm_model=GradientBoostingRegressor().fit(X_train,y_train)\n",
    "gbm_model"
   ]
  },
  {
   "cell_type": "code",
   "execution_count": null,
   "id": "b689022d",
   "metadata": {},
   "outputs": [],
   "source": []
  },
  {
   "cell_type": "code",
   "execution_count": 4,
   "id": "fff6cd28",
   "metadata": {},
   "outputs": [
    {
     "data": {
      "text/plain": [
       "351.94846665396204"
      ]
     },
     "execution_count": 4,
     "metadata": {},
     "output_type": "execute_result"
    }
   ],
   "source": [
    "predicted=gbm_model.predict(X_test)\n",
    "np.sqrt(mean_squared_error(y_test,predicted)) # FIRST RMSE TEST ERROR"
   ]
  },
  {
   "cell_type": "markdown",
   "id": "780bb71e",
   "metadata": {},
   "source": [
    "### <font color=\"red\">Gradient Boosting Machines (GBM) Model Tuning</font>"
   ]
  },
  {
   "cell_type": "code",
   "execution_count": 5,
   "id": "48b14dd8",
   "metadata": {},
   "outputs": [
    {
     "name": "stdout",
     "output_type": "stream",
     "text": [
      "Fitting 10 folds for each of 243 candidates, totalling 2430 fits\n"
     ]
    },
    {
     "name": "stderr",
     "output_type": "stream",
     "text": [
      "C:\\ProgramData\\Anaconda3\\lib\\site-packages\\sklearn\\ensemble\\_gb.py:494: DataConversionWarning: A column-vector y was passed when a 1d array was expected. Please change the shape of y to (n_samples, ), for example using ravel().\n",
      "  y = column_or_1d(y, warn=True)\n",
      "C:\\ProgramData\\Anaconda3\\lib\\site-packages\\sklearn\\ensemble\\_gb.py:293: FutureWarning: The loss 'lad' was deprecated in v1.0 and will be removed in version 1.2. Use 'absolute_error' which is equivalent.\n",
      "  warnings.warn(\n"
     ]
    }
   ],
   "source": [
    "# criterion, learning_rate, loss, max_features, max_depth, n_estimators, subsample, \n",
    "gbm_params={\"n_estimators\": [100,200,500],\n",
    "            \"learning_rate\": [0.001,0.1,0.01],\n",
    "            \"max_depth\": [3,5,8],\n",
    "            \"subsample\": [1,0.5,0.8],\n",
    "            \"loss\": [\"ls\",\"lad\",\"quantile\"]} \n",
    "gbmcv_model=GridSearchCV(gbm_model,param_grid=gbm_params,cv=10,n_jobs=-1,verbose=2).fit(X_train,y_train)"
   ]
  },
  {
   "cell_type": "code",
   "execution_count": 7,
   "id": "d1438915",
   "metadata": {},
   "outputs": [
    {
     "name": "stdout",
     "output_type": "stream",
     "text": [
      "{'learning_rate': 0.01, 'loss': 'lad', 'max_depth': 3, 'n_estimators': 500, 'subsample': 0.8}\n"
     ]
    }
   ],
   "source": [
    "print(gbmcv_model.best_params_)"
   ]
  },
  {
   "cell_type": "code",
   "execution_count": 11,
   "id": "ea0d821e",
   "metadata": {},
   "outputs": [
    {
     "name": "stderr",
     "output_type": "stream",
     "text": [
      "C:\\ProgramData\\Anaconda3\\lib\\site-packages\\sklearn\\ensemble\\_gb.py:494: DataConversionWarning: A column-vector y was passed when a 1d array was expected. Please change the shape of y to (n_samples, ), for example using ravel().\n",
      "  y = column_or_1d(y, warn=True)\n",
      "C:\\ProgramData\\Anaconda3\\lib\\site-packages\\sklearn\\ensemble\\_gb.py:293: FutureWarning: The loss 'lad' was deprecated in v1.0 and will be removed in version 1.2. Use 'absolute_error' which is equivalent.\n",
      "  warnings.warn(\n"
     ]
    },
    {
     "name": "stdout",
     "output_type": "stream",
     "text": [
      "320.79979280703145\n"
     ]
    }
   ],
   "source": [
    "# final model\n",
    "final_model=GradientBoostingRegressor(n_estimators=500,learning_rate=0.01,loss=\"lad\",max_depth=3,subsample=0.8).fit(X_train,y_train)\n",
    "predicted=final_model.predict(X_test)\n",
    "print(np.sqrt(mean_squared_error(y_test,predicted)))"
   ]
  },
  {
   "cell_type": "code",
   "execution_count": 14,
   "id": "5dabfcab",
   "metadata": {},
   "outputs": [
    {
     "data": {
      "image/png": "[encoded data removed]",
      "text/plain": [
       "<Figure size 432x288 with 1 Axes>"
      ]
     },
     "metadata": {
      "needs_background": "light"
     },
     "output_type": "display_data"
    }
   ],
   "source": [
    "importance = pd.DataFrame({\"importance\":final_model.feature_importances_*100},index=X_train.columns)\n",
    "\n",
    "importance.sort_values(by=\"importance\",ascending=True).plot(kind=\"barh\",color=\"r\")\n",
    "\n",
    "plt.xlabel(\"Variable Importance\")\n",
    "plt.gca().legend_=None"
   ]
  },
  {
   "cell_type": "markdown",
   "id": "e5338d7a",
   "metadata": {},
   "source": [
    "# <font color=\"orange\">Extreme Gradient Boosting (XGBoost) </font>\n",
    "->> XGBoost is an another optimized case of GBM, that can be integrated to other platforms, scaled, and it is used to increase the speed and performance of GBM.\n",
    "<br>\n",
    "->> Can be used in pyton, R , Hadoop, Scala and Julia.\n",
    "<br>\n",
    "->> Can be Scaled\n",
    "<br>\n",
    "->> Fast\n",
    "<br>\n",
    "->> High Prediction Rate\n",
    "<br>\n",
    "->> It has proved its success in many kaggle competetions.\n",
    "\n",
    "### <font color=\"red\">Extreme Gradient Boosting (XGBoost) Model and Prediction </font>"
   ]
  },
  {
   "cell_type": "code",
   "execution_count": 23,
   "id": "fa0e90d6",
   "metadata": {},
   "outputs": [
    {
     "name": "stdout",
     "output_type": "stream",
     "text": [
      "Defaulting to user installation because normal site-packages is not writeable\n",
      "Requirement already satisfied: xgboost in c:\\users\\a12gs\\appdata\\roaming\\python\\python39\\site-packages (1.6.2)\n",
      "Requirement already satisfied: scipy in c:\\programdata\\anaconda3\\lib\\site-packages (from xgboost) (1.7.3)\n",
      "Requirement already satisfied: numpy in c:\\programdata\\anaconda3\\lib\\site-packages (from xgboost) (1.21.5)\n"
     ]
    }
   ],
   "source": [
    "import numpy as np\n",
    "import pandas as pd\n",
    "import matplotlib.pyplot as plt\n",
    "import seaborn as sns\n",
    "import xgboost\n",
    "from xgboost import XGBRegressor\n",
    "from sklearn.metrics import r2_score,mean_squared_error\n",
    "from sklearn.tree import DecisionTreeRegressor\n",
    "from sklearn.model_selection import GridSearchCV,train_test_split\n",
    "!pip install xgboost"
   ]
  },
  {
   "cell_type": "code",
   "execution_count": 24,
   "id": "8cc2d6b2",
   "metadata": {},
   "outputs": [],
   "source": [
    "df=pd.read_csv(\"./csv_files/Hitters.csv\")\n",
    "df.dropna(inplace=True)\n",
    "dms=pd.get_dummies(df[[\"League\",\"Division\",\"NewLeague\"]])\n",
    "y=df[[\"Salary\"]]\n",
    "X_=df.drop(columns=[\"Salary\",\"League\",\"Division\",\"NewLeague\"],axis=1).astype(\"float64\")\n",
    "X=pd.concat([X_,dms[[\"League_N\",\"Division_W\",\"NewLeague_N\"]]],axis=1)\n",
    "X_train, X_test, y_train, y_test= train_test_split(X,y,test_size=0.25,random_state=42)"
   ]
  },
  {
   "cell_type": "code",
   "execution_count": 25,
   "id": "8ed77a1d",
   "metadata": {},
   "outputs": [
    {
     "data": {
      "text/plain": [
       "355.46515176059927"
      ]
     },
     "execution_count": 25,
     "metadata": {},
     "output_type": "execute_result"
    }
   ],
   "source": [
    "xgb_model=XGBRegressor().fit(X_train,y_train)\n",
    "predicted=xgb_model.predict(X_test)\n",
    "np.sqrt(mean_squared_error(y_test,predicted))"
   ]
  },
  {
   "cell_type": "markdown",
   "id": "fd90aa53",
   "metadata": {},
   "source": [
    "### <font color=\"red\">Extreme Gradient Boosting (XGBoost) Model Tuning </font>"
   ]
  },
  {
   "cell_type": "code",
   "execution_count": 20,
   "id": "6f9fd7c6",
   "metadata": {},
   "outputs": [
    {
     "name": "stdout",
     "output_type": "stream",
     "text": [
      "Fitting 10 folds for each of 180 candidates, totalling 1800 fits\n"
     ]
    }
   ],
   "source": [
    "# laerning_rate is used to avoid overfitting\n",
    "# n_estimators -> how many trees will be used\n",
    "# colsample_bytree -> it states the rate of subsamples which are gotten from trees\n",
    "xgb_params={\"learning_rate\":[0.1,0.01,0.5],\n",
    "           \"max_depth\":[2,3,4,5,8],\n",
    "           \"n_estimators\":[100,200,500,1000],\n",
    "           \"colsample_bytree\":[0.4,0.7,1]}\n",
    "xgbcv_model=GridSearchCV(xgb_model,param_grid=xgb_params,cv=10,n_jobs=-1,verbose=2).fit(X_train,y_train)"
   ]
  },
  {
   "cell_type": "code",
   "execution_count": 21,
   "id": "58f87ad3",
   "metadata": {},
   "outputs": [
    {
     "data": {
      "text/plain": [
       "{'colsample_bytree': 0.4,\n",
       " 'learning_rate': 0.1,\n",
       " 'max_depth': 2,\n",
       " 'n_estimators': 1000}"
      ]
     },
     "execution_count": 21,
     "metadata": {},
     "output_type": "execute_result"
    }
   ],
   "source": [
    "xgbcv_model.best_params_"
   ]
  },
  {
   "cell_type": "code",
   "execution_count": 22,
   "id": "2535c905",
   "metadata": {},
   "outputs": [
    {
     "data": {
      "text/plain": [
       "367.8515299923177"
      ]
     },
     "execution_count": 22,
     "metadata": {},
     "output_type": "execute_result"
    }
   ],
   "source": [
    "# final model\n",
    "\n",
    "final_model=XGBRegressor(n_estimators=1000,learning_rate=0.1,colsample_bytree=0.4,max_depth=2).fit(X_train,y_train)\n",
    "predicted=final_model.predict(X_test)\n",
    "np.sqrt(mean_squared_error(y_test,predicted))"
   ]
  },
  {
   "cell_type": "code",
   "execution_count": 27,
   "id": "83a9d170",
   "metadata": {},
   "outputs": [
    {
     "data": {
      "image/png": "[encoded data removed]",
      "text/plain": [
       "<Figure size 432x288 with 1 Axes>"
      ]
     },
     "metadata": {
      "needs_background": "light"
     },
     "output_type": "display_data"
    }
   ],
   "source": [
    "importance = pd.DataFrame({\"importance\":final_model.feature_importances_*100},index=X_train.columns)\n",
    "\n",
    "importance.sort_values(by=\"importance\",ascending=True).plot(kind=\"barh\",color=\"r\")\n",
    "\n",
    "plt.xlabel(\"Variable Importance\")\n",
    "plt.gca().legend_=None"
   ]
  },
  {
   "cell_type": "markdown",
   "id": "34b03563",
   "metadata": {},
   "source": [
    "# <font color=\"orange\">Light GBM </font>\n",
    "->> Light GBM is another developed type of GBM, that aimed to increase to performance of XGBoost's train time. <b>(Microsoft's Algorithm)</b>\n",
    "<br>\n",
    "->> When dataset and parameter number is increased, thje XGBoost's train time can be longer, so as a solution, LightGBM is developed for this problem \n",
    "<br>\n",
    "->> <b><font color=\"purple\"> Why LightGBM has more performance ? </font></b>\n",
    "<br>\n",
    "->> Light GBM is used Leaf-wise growth strategy, Depth First instead of Level Wise and Breadth-first.\n",
    "<br>\n",
    "->> The difference appears on the splitting processes, to splitting variables,and to discover different points of them, XGBoost is used Level-wise tree growth strategy also we can call like using Decision Trees. \n",
    "<br>\n",
    "->> On the other hand, LightGBM is focused on splitting process to better fitting and creating a better model, this process is called as Leaf_wise growth strategy.\n",
    "\n",
    "### <font color=\"red\">Light GBM Model and Prediction</font>"
   ]
  },
  {
   "cell_type": "code",
   "execution_count": 2,
   "id": "cd596002",
   "metadata": {},
   "outputs": [
    {
     "name": "stdout",
     "output_type": "stream",
     "text": [
      "Defaulting to user installation because normal site-packages is not writeable\n",
      "Requirement already satisfied: lightgbm in c:\\users\\a12gs\\appdata\\roaming\\python\\python39\\site-packages (3.3.2)\n",
      "Requirement already satisfied: numpy in c:\\programdata\\anaconda3\\lib\\site-packages (from lightgbm) (1.21.5)\n",
      "Requirement already satisfied: scipy in c:\\programdata\\anaconda3\\lib\\site-packages (from lightgbm) (1.7.3)\n",
      "Requirement already satisfied: wheel in c:\\programdata\\anaconda3\\lib\\site-packages (from lightgbm) (0.37.1)\n",
      "Requirement already satisfied: scikit-learn!=0.22.0 in c:\\programdata\\anaconda3\\lib\\site-packages (from lightgbm) (1.0.2)\n",
      "Requirement already satisfied: joblib>=0.11 in c:\\programdata\\anaconda3\\lib\\site-packages (from scikit-learn!=0.22.0->lightgbm) (1.1.0)\n",
      "Requirement already satisfied: threadpoolctl>=2.0.0 in c:\\programdata\\anaconda3\\lib\\site-packages (from scikit-learn!=0.22.0->lightgbm) (2.2.0)\n"
     ]
    }
   ],
   "source": [
    "from lightgbm import LGBMRegressor\n",
    "!pip install lightgbm "
   ]
  },
  {
   "cell_type": "code",
   "execution_count": 28,
   "id": "18bc291d",
   "metadata": {},
   "outputs": [],
   "source": [
    "df=pd.read_csv(\"./csv_files/Hitters.csv\")\n",
    "df.dropna(inplace=True)\n",
    "dms=pd.get_dummies(df[[\"League\",\"Division\",\"NewLeague\"]])\n",
    "y=df[[\"Salary\"]]\n",
    "X_=df.drop(columns=[\"Salary\",\"League\",\"Division\",\"NewLeague\"],axis=1).astype(\"float64\")\n",
    "X=pd.concat([X_,dms[[\"League_N\",\"Division_W\",\"NewLeague_N\"]]],axis=1)\n",
    "X_train, X_test, y_train, y_test= train_test_split(X,y,test_size=0.25,random_state=42)"
   ]
  },
  {
   "cell_type": "code",
   "execution_count": 31,
   "id": "453673be",
   "metadata": {},
   "outputs": [
    {
     "data": {
      "text/plain": [
       "363.8712087611089"
      ]
     },
     "execution_count": 31,
     "metadata": {},
     "output_type": "execute_result"
    }
   ],
   "source": [
    "lgbm_model=LGBMRegressor().fit(X_train,y_train)\n",
    "predicted=lgbm_model.predict(X_test)\n",
    "np.sqrt(mean_squared_error(y_test,predicted))"
   ]
  },
  {
   "cell_type": "markdown",
   "id": "979b8fc3",
   "metadata": {},
   "source": [
    "### <font color=\"red\">Light GBM Model Tuning</font>"
   ]
  },
  {
   "cell_type": "code",
   "execution_count": 37,
   "id": "b29d1248",
   "metadata": {},
   "outputs": [
    {
     "name": "stdout",
     "output_type": "stream",
     "text": [
      "Fitting 10 folds for each of 240 candidates, totalling 2400 fits\n"
     ]
    },
    {
     "data": {
      "text/plain": [
       "{'learning_rate': 0.1, 'max_depth': 6, 'n_estimators': 20}"
      ]
     },
     "execution_count": 37,
     "metadata": {},
     "output_type": "execute_result"
    }
   ],
   "source": [
    "# learning_rate, n_estimators, max_depth, colsample_bytree\n",
    "\n",
    "lgbm_params={\"learning_rate\":[0.01,0.1,0.5,1],\n",
    "             \"n_estimators\":[20,40,100,200,500,1000],\n",
    "             \"max_depth\":[1,2,3,4,5,6,7,8,9,10],\n",
    "            }\n",
    "lgbm_cv_model=GridSearchCV(lgbm_model,param_grid=lgbm_params,cv=10,n_jobs=-1,verbose=2).fit(X_train,y_train)\n",
    "lgbm_cv_model.best_params_"
   ]
  },
  {
   "cell_type": "code",
   "execution_count": 41,
   "id": "317aa7da",
   "metadata": {},
   "outputs": [
    {
     "data": {
      "text/plain": [
       "371.5044868943621"
      ]
     },
     "execution_count": 41,
     "metadata": {},
     "output_type": "execute_result"
    }
   ],
   "source": [
    "# final model\n",
    "final_model=LGBMRegressor(learning_rate=0.1,max_depth=6,n_estimators=20).fit(X_train,y_train)\n",
    "predicted=final_model.predict(X_test)\n",
    "np.sqrt(mean_squared_error(y_test,predicted))"
   ]
  },
  {
   "cell_type": "code",
   "execution_count": 44,
   "id": "356df761",
   "metadata": {},
   "outputs": [
    {
     "data": {
      "image/png": "[encoded data removed]",
      "text/plain": [
       "<Figure size 432x288 with 1 Axes>"
      ]
     },
     "metadata": {
      "needs_background": "light"
     },
     "output_type": "display_data"
    }
   ],
   "source": [
    "importance = pd.DataFrame({\"importance\":final_model.feature_importances_*100},index=X_train.columns)\n",
    "\n",
    "importance.sort_values(by=\"importance\",ascending=True).plot(kind=\"barh\",color=\"r\")\n",
    "\n",
    "plt.xlabel(\"Varaible Importance\")\n",
    "plt.gca().legend_=None"
   ]
  },
  {
   "cell_type": "markdown",
   "id": "4c48382b",
   "metadata": {},
   "source": [
    "# <font color=\"orange\">Category Boosting (CatBoost) </font>\n",
    "->> CatBoost is an another form of GBM that can handle categorical variables as automatically, fast and successful. <b>(Yandex)</b>\n",
    "<br>\n",
    "->> This is one of the good algorithm that can handle when we have important or more categorical variables.\n",
    "<br>\n",
    "->> In the methods, which are based on Tree methods, the data analysts can transform numerical values to categorical variables to make branching easier, and increasing tree performance.\n",
    "<br>\n",
    "->> Categorical Variable Support.\n",
    "<br>\n",
    "->> Fast and Scalable GPU Support.\n",
    "<br>\n",
    "->> More Successful Predictions.\n",
    "<br>\n",
    "->> Fast Train and Prediction.\n",
    "<br>\n",
    "->> The First open-source and successful Machine Learning work of Russia.\n",
    "\n",
    "### <font color=\"red\">Category Boosting (CatBoost) Model and Prediction </font>"
   ]
  },
  {
   "cell_type": "code",
   "execution_count": 47,
   "id": "112ca385",
   "metadata": {},
   "outputs": [],
   "source": [
    "from catboost import CatBoostRegressor\n",
    "!pip install catboost"
   ]
  },
  {
   "cell_type": "code",
   "execution_count": null,
   "id": "e7997056",
   "metadata": {
    "scrolled": true
   },
   "outputs": [],
   "source": [
    "catb_model=CatBoostRegressor().fit(X_train,y_train)\n"
   ]
  },
  {
   "cell_type": "code",
   "execution_count": 50,
   "id": "c27a7479",
   "metadata": {},
   "outputs": [
    {
     "data": {
      "text/plain": [
       "351.194631344607"
      ]
     },
     "execution_count": 50,
     "metadata": {},
     "output_type": "execute_result"
    }
   ],
   "source": [
    "predictions=catb_model.predict(X_test)\n",
    "np.sqrt(mean_squared_error(y_test,predictions)) # FIRST RMSE ERROR\n"
   ]
  },
  {
   "cell_type": "markdown",
   "id": "81effd64",
   "metadata": {},
   "source": [
    "### <font color=\"red\">Category Boosting (CatBoost) Model Tuning </font>"
   ]
  },
  {
   "cell_type": "code",
   "execution_count": null,
   "id": "2093855a",
   "metadata": {
    "scrolled": false
   },
   "outputs": [],
   "source": [
    "# iterations -> means tree counter, the number of fitted models\n",
    "catb_params={\"iterations\":[200,500,100],\n",
    "             \"learning_rate\":[0.01,0.1],\n",
    "             \"depth\":[3,6,8]}\n",
    "catb_cv_model=GridSearchCV(catb_model,\n",
    "                           catb_params,\n",
    "                           cv=5,\n",
    "                           n_jobs=-1,\n",
    "                           verbose=2).fit(X_train,y_train)"
   ]
  },
  {
   "cell_type": "code",
   "execution_count": 54,
   "id": "18687a6b",
   "metadata": {},
   "outputs": [
    {
     "data": {
      "text/plain": [
       "{'depth': 8, 'iterations': 100, 'learning_rate': 0.01}"
      ]
     },
     "execution_count": 54,
     "metadata": {},
     "output_type": "execute_result"
    }
   ],
   "source": [
    "catb_cv_model.best_params_"
   ]
  },
  {
   "cell_type": "code",
   "execution_count": null,
   "id": "5b204e20",
   "metadata": {
    "scrolled": false
   },
   "outputs": [],
   "source": [
    "# final model\n",
    "final_model=CatBoostRegressor(iterations=100,depth=8,learning_rate=0.01).fit(X_train,y_train)\n"
   ]
  },
  {
   "cell_type": "code",
   "execution_count": 58,
   "id": "be4a1015",
   "metadata": {},
   "outputs": [
    {
     "data": {
      "text/plain": [
       "390.4243220331881"
      ]
     },
     "execution_count": 58,
     "metadata": {},
     "output_type": "execute_result"
    }
   ],
   "source": [
    "predicted=final_model.predict(X_test)\n",
    "np.sqrt(mean_squared_error(y_test,predicted))\n"
   ]
  },
  {
   "cell_type": "markdown",
   "id": "bfb62826",
   "metadata": {},
   "source": [
    "# <font color=\"orange\">Automatization of Machine Learning Tasks </font>"
   ]
  },
  {
   "cell_type": "code",
   "execution_count": 63,
   "id": "44313b5c",
   "metadata": {},
   "outputs": [],
   "source": [
    "# ALL FUNCTIONS THAT WE USED IN THIS PAPER\n",
    "\n",
    "import pandas as pd\n",
    "import numpy as np\n",
    "import seaborn as sns\n",
    "import matplotlib.pyplot as plt\n",
    "\n",
    "from sklearn import model_selection,neighbors\n",
    "from sklearn.preprocessing import scale, StandardScaler\n",
    "from sklearn.linear_model import LinearRegression\n",
    "from sklearn.metrics import r2_score,mean_squared_error\n",
    "from sklearn.model_selection import GridSearchCV,train_test_split\n",
    "from sklearn.tree import DecisionTreeRegressor\n",
    "from sklearn.neighbors import KNeighborsRegressor\n",
    "from sklearn.neural_network import MLPRegressor\n",
    "from sklearn.svm import SVR\n",
    "from xgboost import XGBRegressor\n",
    "from lightgbm import LGBMRegressor\n",
    "from catboost import CatBoostRegressor\n",
    "from sklearn.ensemble import GradientBoostingRegressor,AdaBoostRegressor,RandomForestRegressor"
   ]
  },
  {
   "cell_type": "code",
   "execution_count": 64,
   "id": "7f7abc79",
   "metadata": {
    "scrolled": true
   },
   "outputs": [],
   "source": [
    "df=pd.read_csv(\"./csv_files/Hitters.csv\")\n",
    "df.dropna(inplace=True)\n",
    "dms=pd.get_dummies(df[[\"League\",\"Division\",\"NewLeague\"]])\n",
    "models=[LGBMRegressor,\n",
    "        XGBRegressor,\n",
    "        GradientBoostingRegressor,\n",
    "        RandomForestRegressor,\n",
    "        DecisionTreeRegressor,\n",
    "        MLPRegressor,\n",
    "        KNeighborsRegressor,\n",
    "        SVR]"
   ]
  },
  {
   "cell_type": "code",
   "execution_count": 70,
   "id": "d8b75251",
   "metadata": {},
   "outputs": [],
   "source": [
    "def compML(df,y,models): \n",
    "    \n",
    "    \n",
    "    # Train, Test Processes\n",
    "    y=df[y]\n",
    "    X_=df.drop(columns=[\"Salary\",\"League\",\"Division\",\"NewLeague\"],axis=1).astype(\"float64\")\n",
    "    X=pd.concat([X_,dms[[\"League_N\",\"Division_W\",\"NewLeague_N\"]]],axis=1)\n",
    "    X_train, X_test, y_train, y_test= train_test_split(X,y,test_size=0.25,random_state=42)\n",
    "    \n",
    "    # Modeling\n",
    "    for alg in models:\n",
    "        model=alg().fit(X_train,y_train)\n",
    "        predicted=model.predict(X_test)\n",
    "        RMSE=np.sqrt(mean_squared_error(y_test,predicted))\n",
    "        mode_name=alg.__name__\n",
    "        print(mode_name,\"Test Error:{:2f}\".format(RMSE))\n",
    "    \n",
    "    "
   ]
  },
  {
   "cell_type": "code",
   "execution_count": 71,
   "id": "caf9bdf1",
   "metadata": {},
   "outputs": [
    {
     "name": "stdout",
     "output_type": "stream",
     "text": [
      "LGBMRegressor Test Error:363.871209\n",
      "XGBRegressor Test Error:355.465152\n",
      "GradientBoostingRegressor Test Error:348.773613\n",
      "RandomForestRegressor Test Error:344.107058\n",
      "DecisionTreeRegressor Test Error:436.290672\n",
      "MLPRegressor Test Error:452.120135\n",
      "KNeighborsRegressor Test Error:426.657076\n",
      "SVR Test Error:460.003266\n"
     ]
    }
   ],
   "source": [
    "compML(df,\"Salary\",models)"
   ]
  },
  {
   "cell_type": "code",
   "execution_count": null,
   "id": "5750341e",
   "metadata": {},
   "outputs": [],
   "source": []
  }
 ],
 "metadata": {
  "kernelspec": {
   "display_name": "Python 3 (ipykernel)",
   "language": "python",
   "name": "python3"
  },
  "language_info": {
   "codemirror_mode": {
    "name": "ipython",
    "version": 3
   },
   "file_extension": ".py",
   "mimetype": "text/x-python",
   "name": "python",
   "nbconvert_exporter": "python",
   "pygments_lexer": "ipython3",
   "version": "3.9.12"
  }
 },
 "nbformat": 4,
 "nbformat_minor": 5
}
