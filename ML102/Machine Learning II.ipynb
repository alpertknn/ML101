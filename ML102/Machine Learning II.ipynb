{
 "cells": [
  {
   "cell_type": "markdown",
   "id": "e00f2e75",
   "metadata": {},
   "source": [
    "# <font color=\"orange\">In this course we will follow these topics;</font>\n",
    "<b>\n",
    "->> K-Nearest Neighbors Algorithm\n",
    "<br>\n",
    "->> Support Vector Regression - SVR\n",
    "<br>\n",
    "->> Artificial neural network\n",
    "<br>\n",
    "->> Classification and Regression Trees\n",
    "<br>\n",
    "->> Random Forests\n",
    "<br>\n",
    "->> Gradient Boosting Machines\n",
    "<br>\n",
    "->> XGBoost\n",
    "<br>\n",
    "->> LightGBM\n",
    "<br>\n",
    "->> CatBoost\n",
    "</b>"
   ]
  },
  {
   "cell_type": "markdown",
   "id": "2deab022",
   "metadata": {},
   "source": [
    "# <font color=\"orange\">K-Nearest Neighbors Algorithm</font>\n",
    "->> The k-nearest neighbors algorithm, also known as KNN or k-NN, is a non-parametric, supervised learning classifier, which uses proximity to make classifications or predictions about the grouping of an individual data point.\n",
    "<br>\n",
    "->> Can be used for both regression and classification problems\n",
    "<img src=\"./used_images/knn.png\" width=\"300\" height=\"300\">\n",
    "<br>\n",
    "->> Let's assume that we have a new observation like above, and we want to predict it, we have its independent values. By knn, these x1,x2 values are compared with other observation units, the similarity is calculated. Then which one is close to our observation units (x1,x2), the y is predicted.\n",
    "<br>\n",
    "#### <font color=\"red\">How can we calculate the similarty of observations?</font>\n",
    "<br>\n",
    "<b>->> By Euclid or similar kind of calculations, we can calculate the distance to each observation.</b>\n",
    "<img src=\"./used_images/euclid.png\" width=\"200\" height=\"200\">\n",
    "<b>->> Lets assume that we take nearest 5 observation to prediction</b>\n",
    "<img src=\"./used_images/graph.png\" width=\"200\" height=\"200\">\n",
    "<b>->> We take the nearest k number of observation's y values' mean</b>\n",
    "<br>\n",
    "\n",
    "#### <font color=\"red\">Steps of KNN</font>\n",
    "<b>\n",
    "->> Determine the number of neighbors (K).\n",
    "<br>\n",
    "->> Calculate the distance between unknown point and other points.\n",
    "<br>\n",
    "->> Sort the distances and select the appropriate number of neighbors (K).\n",
    "<br>\n",
    "->> If problem is classification problem, select the most repeated class, if it is regression, give the mean value as prediction value.\n",
    "<br>\n"
   ]
  },
  {
   "cell_type": "markdown",
   "id": "081348d8",
   "metadata": {},
   "source": [
    "### <font color=\"red\">KNN Model and Prediction</font>"
   ]
  },
  {
   "cell_type": "code",
   "execution_count": 3,
   "id": "9f5a56f8",
   "metadata": {},
   "outputs": [],
   "source": [
    "import pandas as pd\n",
    "import numpy as np\n",
    "import seaborn as sns\n",
    "import matplotlib.pyplot as plt\n",
    "from sklearn import model_selection , neighbors\n",
    "from sklearn.model_selection import train_test_split , GridSearchCV\n",
    "from sklearn.metrics import r2_score , mean_squared_error\n",
    "from sklearn.preprocessing import scale , StandardScaler\n",
    "from sklearn.linear_model import LinearRegression\n",
    "from sklearn.tree import DecisionTreeClassifier\n",
    "from sklearn.neighbors import KNeighborsRegressor\n",
    "from sklearn.neural_network import MLPRegressor\n",
    "from sklearn.ensemble import RandomForestRegressor , GradientBoostingRegressor\n",
    "from sklearn.svm import SVR"
   ]
  },
  {
   "cell_type": "code",
   "execution_count": 4,
   "id": "73c77645",
   "metadata": {},
   "outputs": [],
   "source": [
    "from warnings import filterwarnings # ignores warnings\n",
    "filterwarnings(\"ignore\")"
   ]
  },
  {
   "cell_type": "code",
   "execution_count": 5,
   "id": "a61a6fb9",
   "metadata": {},
   "outputs": [],
   "source": [
    "df=pd.read_csv(\"./csv_files/Hitters.csv\")\n",
    "df.dropna(inplace=True)\n",
    "dms=pd.get_dummies(df[[\"League\",\"Division\",\"NewLeague\"]])\n",
    "y=df[[\"Salary\"]]\n",
    "X_=df.drop(columns=[\"Salary\",\"League\",\"Division\",\"NewLeague\"],axis=1).astype(\"float64\")\n",
    "X=pd.concat([X_,dms[[\"League_N\",\"Division_W\",\"NewLeague_N\"]]],axis=1)\n",
    "X_train, X_test, y_train, y_test=train_test_split(X,y,test_size=0.25,random_state=42)"
   ]
  },
  {
   "cell_type": "code",
   "execution_count": 6,
   "id": "c3bfeb9f",
   "metadata": {},
   "outputs": [],
   "source": [
    "knn_model=KNeighborsRegressor().fit(X_train,y_train)"
   ]
  },
  {
   "cell_type": "code",
   "execution_count": 7,
   "id": "cf30a709",
   "metadata": {},
   "outputs": [
    {
     "name": "stdout",
     "output_type": "stream",
     "text": [
      "5\n",
      "minkowski\n"
     ]
    }
   ],
   "source": [
    "print(knn_model.n_neighbors) # number of default neigh\n",
    "print(knn_model.metric) # default metric"
   ]
  },
  {
   "cell_type": "code",
   "execution_count": 8,
   "id": "f84b71c6",
   "metadata": {
    "scrolled": true
   },
   "outputs": [],
   "source": [
    "predicted=knn_model.predict(X_test)"
   ]
  },
  {
   "cell_type": "code",
   "execution_count": 9,
   "id": "918ed76c",
   "metadata": {},
   "outputs": [
    {
     "data": {
      "text/plain": [
       "426.6570764525201"
      ]
     },
     "execution_count": 9,
     "metadata": {},
     "output_type": "execute_result"
    }
   ],
   "source": [
    "np.sqrt(mean_squared_error(y_test,predicted)) # Error Rate of Test set"
   ]
  },
  {
   "cell_type": "markdown",
   "id": "2e99d286",
   "metadata": {},
   "source": [
    "### <font color=\"red\">KNN Model Tuning</font>"
   ]
  },
  {
   "cell_type": "code",
   "execution_count": 10,
   "id": "d47b6a16",
   "metadata": {},
   "outputs": [],
   "source": [
    "knn=KNeighborsRegressor()\n",
    "knn_param={\"n_neighbors\":np.arange(1,30,1)}\n",
    "gridcv_model=GridSearchCV(knn,knn_param,cv=10).fit(X_train,y_train)"
   ]
  },
  {
   "cell_type": "code",
   "execution_count": 11,
   "id": "4e272950",
   "metadata": {},
   "outputs": [
    {
     "data": {
      "text/plain": [
       "{'n_neighbors': 8}"
      ]
     },
     "execution_count": 11,
     "metadata": {},
     "output_type": "execute_result"
    }
   ],
   "source": [
    "yeni_param=gridcv_model.best_params_\n",
    "yeni_param"
   ]
  },
  {
   "cell_type": "code",
   "execution_count": 12,
   "id": "fad4d82a",
   "metadata": {
    "scrolled": true
   },
   "outputs": [
    {
     "data": {
      "text/plain": [
       "413.7094731463598"
      ]
     },
     "execution_count": 12,
     "metadata": {},
     "output_type": "execute_result"
    }
   ],
   "source": [
    "tunedmodel=KNeighborsRegressor(n_neighbors=yeni_param['n_neighbors']).fit(X_train,y_train)\n",
    "tuned_predictions=tunedmodel.predict(X_test)\n",
    "np.sqrt(mean_squared_error(y_test,tuned_predictions))"
   ]
  },
  {
   "cell_type": "code",
   "execution_count": 13,
   "id": "715bd8dd",
   "metadata": {},
   "outputs": [
    {
     "name": "stdout",
     "output_type": "stream",
     "text": [
      "k: 1 rmse 455.03925390751965\n",
      "k: 2 rmse 415.99629571490965\n",
      "k: 3 rmse 420.6765370082348\n",
      "k: 4 rmse 428.8564674588792\n",
      "k: 5 rmse 426.6570764525201\n",
      "k: 6 rmse 423.5071669008732\n",
      "k: 7 rmse 414.9361222421057\n",
      "k: 8 rmse 413.7094731463598\n",
      "k: 9 rmse 417.84419990871265\n",
      "k: 10 rmse 421.6252180741266\n"
     ]
    }
   ],
   "source": [
    "arr=[]\n",
    "for k in range(10):\n",
    "    k=k+1\n",
    "    knn_model=KNeighborsRegressor(n_neighbors=k).fit(X_train,y_train)\n",
    "    newpred=knn_model.predict(X_test)\n",
    "    rmse=np.sqrt(mean_squared_error(y_test,newpred))\n",
    "    arr.append(rmse)\n",
    "    print(\"k:\",k,\"rmse\",rmse)"
   ]
  },
  {
   "cell_type": "code",
   "execution_count": 14,
   "id": "5ed26075",
   "metadata": {},
   "outputs": [
    {
     "name": "stdout",
     "output_type": "stream",
     "text": [
      "k: 1 r squared 0.043492714162465695\n",
      "k: 2 r squared 0.2005901704919013\n",
      "k: 3 r squared 0.1825011742466076\n",
      "k: 4 r squared 0.15040003657031897\n",
      "k: 5 r squared 0.1590920400477076\n",
      "k: 6 r squared 0.17146266031335877\n",
      "k: 7 r squared 0.20465959684621493\n",
      "k: 8 r squared 0.2093550739421146\n",
      "k: 9 r squared 0.1934722523174407\n",
      "k: 10 r squared 0.17880988144588528\n"
     ]
    }
   ],
   "source": [
    "for k in range(10):\n",
    "    k=k+1\n",
    "    knn_model=KNeighborsRegressor(n_neighbors=k).fit(X_train,y_train)\n",
    "    newpred=knn_model.predict(X_test)\n",
    "    rmse=np.sqrt(mean_squared_error(y_test,newpred))\n",
    "    arr.append(rmse)\n",
    "    print(\"k:\",k,\"r squared\",r2_score(y_test,newpred))"
   ]
  },
  {
   "cell_type": "markdown",
   "id": "2cc934a2",
   "metadata": {},
   "source": [
    "# <font color=\"orange\">Support Vector Regression (SVR)</font>\n",
    "->> SVR is strong and flexible modelization technique, can be used  for classification and regression, and also it is a robust regression modeling technique.\n",
    "<br>\n",
    "->> SVR gives us the flexibility to define how much error is acceptable in our model and will find an appropriate line (or hyperplane in higher dimensions) to fit the data.\n",
    "<img src=\"./used_images/svr.png\" width=\"800\" height=\"800\">\n",
    "<b>\n",
    "->> Helps you find a regression equation, the differences between the actual values and the predicted values will be no further than a certain value of epsilon and ksi from the two sides of the regression curve. Kinda pressing process.\n",
    "<br>\n",
    "->>Thus, we can think that we dont deal with outliers which are less than epsilon values, moreover we deal with greater ones. \n",
    "</b>\n",
    "### <font color=\"red\">Support Vector Regression (SVR) Model and Prediction</font>"
   ]
  },
  {
   "cell_type": "code",
   "execution_count": 15,
   "id": "fc9cbc7f",
   "metadata": {},
   "outputs": [],
   "source": [
    "df=pd.read_csv(\"./csv_files/Hitters.csv\")\n",
    "df.dropna(inplace=True)\n",
    "dms=pd.get_dummies(df[[\"League\",\"Division\",\"NewLeague\"]])\n",
    "y=df[[\"Salary\"]]\n",
    "X_=df.drop(columns=[\"Salary\",\"League\",\"Division\",\"NewLeague\"],axis=1).astype(\"float64\")\n",
    "X=pd.concat([X_,dms[[\"League_N\",\"Division_W\",\"NewLeague_N\"]]],axis=1)\n",
    "X_train, X_test, y_train, y_test=train_test_split(X,y,test_size=0.25,random_state=42)"
   ]
  },
  {
   "cell_type": "code",
   "execution_count": 16,
   "id": "8402ac94",
   "metadata": {},
   "outputs": [],
   "source": [
    "svr_model=SVR(kernel=\"linear\").fit(X_train,y_train) # kernel can be linear or rbf"
   ]
  },
  {
   "cell_type": "code",
   "execution_count": 17,
   "id": "e5e50372",
   "metadata": {},
   "outputs": [
    {
     "name": "stdout",
     "output_type": "stream",
     "text": [
      "[-80.15196063]\n",
      "[[ -1.2183904    6.09602978  -3.67574533   0.14217072   0.51435925\n",
      "    1.28388992  12.55922527  -0.08693754   0.46597185   2.98259931\n",
      "    0.52944513  -0.79820793  -0.16015531   0.30872795   0.28842348\n",
      "   -1.79560066   6.41868986 -10.74313785   1.33374319]]\n"
     ]
    }
   ],
   "source": [
    "print(svr_model.intercept_) # B0 value\n",
    "print(svr_model.coef_) # w (B) values"
   ]
  },
  {
   "cell_type": "code",
   "execution_count": 18,
   "id": "98464c27",
   "metadata": {},
   "outputs": [
    {
     "name": "stdout",
     "output_type": "stream",
     "text": [
      "370.0408415795005\n"
     ]
    }
   ],
   "source": [
    "predicted=svr_model.predict(X_test)\n",
    "print(np.sqrt(mean_squared_error(y_test,predicted))) # RMSE TEST ERROR\n"
   ]
  },
  {
   "cell_type": "markdown",
   "id": "e37c24d5",
   "metadata": {},
   "source": [
    "### <font color=\"red\">Support Vector Regression (SVR) Model Tuning</font>"
   ]
  },
  {
   "cell_type": "code",
   "execution_count": 19,
   "id": "4719d0ac",
   "metadata": {},
   "outputs": [],
   "source": [
    "# we can change c values for model tuning by using GridSearchCV and k fold cross validation"
   ]
  },
  {
   "cell_type": "code",
   "execution_count": 20,
   "id": "f7132a10",
   "metadata": {},
   "outputs": [],
   "source": [
    "svr_model=SVR(kernel=\"linear\")"
   ]
  },
  {
   "cell_type": "code",
   "execution_count": 21,
   "id": "9a354f63",
   "metadata": {},
   "outputs": [],
   "source": [
    "svr_params={\"C\":[0.1,0.5,1,3]}"
   ]
  },
  {
   "cell_type": "code",
   "execution_count": 22,
   "id": "a4720615",
   "metadata": {
    "scrolled": true
   },
   "outputs": [
    {
     "name": "stdout",
     "output_type": "stream",
     "text": [
      "Fitting 5 folds for each of 4 candidates, totalling 20 fits\n"
     ]
    }
   ],
   "source": [
    "# we are fitting the model to find best param, in addition verbose=2 shows report of process, n_jobs for using all cpu\n",
    "svr_grid_model=GridSearchCV(svr_model,cv=5,param_grid=svr_params,verbose=2,n_jobs=-1).fit(X_train,y_train) "
   ]
  },
  {
   "cell_type": "code",
   "execution_count": 23,
   "id": "a043d567",
   "metadata": {},
   "outputs": [
    {
     "data": {
      "text/plain": [
       "{'C': 0.5}"
      ]
     },
     "execution_count": 23,
     "metadata": {},
     "output_type": "execute_result"
    }
   ],
   "source": [
    "bestparam=svr_grid_model.best_params_\n",
    "bestparam"
   ]
  },
  {
   "cell_type": "code",
   "execution_count": 24,
   "id": "1492067f",
   "metadata": {},
   "outputs": [],
   "source": [
    "# final model\n",
    "tuned_model=svr_model.set_params(kernel=\"linear\",C=bestparam[\"C\"]).fit(X_train,y_train)"
   ]
  },
  {
   "cell_type": "code",
   "execution_count": 25,
   "id": "36a285e5",
   "metadata": {},
   "outputs": [
    {
     "name": "stdout",
     "output_type": "stream",
     "text": [
      "367.98747616655294\n"
     ]
    }
   ],
   "source": [
    "tuned_predicted=tuned_model.predict(X_test)\n",
    "print(np.sqrt(mean_squared_error(y_test,tuned_predicted)))"
   ]
  },
  {
   "cell_type": "markdown",
   "id": "898aea93",
   "metadata": {},
   "source": [
    "# <font color=\"orange\">Artifical Neural Networks</font>\n",
    "->> Kinda strong algorithm that is used for regression and classification problems which based on human brain's data processing.\n",
    "<br>\n",
    "->> The aim is finding coefficients which can predict with minimum error.\n",
    "<img src=\"./used_images/ann.png\"  width=\"700\" height=\"600\">\n",
    "->> We can say, inputs are multiplied by weights, and then taken summation of them by sum function, then activation function processes these summation result and gives output.\n",
    "<br>\n",
    "->> This process represents the process of an artifical neural network, so when this process is done, it transfers result to other cell and it continues if there is a network.\n",
    "<img src=\"./used_images/anns.png\"  width=\"300\" height=\"300\">\n",
    "->> Artifical Neural Networks consist of neural network cells which are related to each other, cells are named as \"neurons\".\n",
    "<br>\n",
    "->> This is consisting of 3 layers, <font color=\"red\">Input, Hidden and Output layer.</font>\n",
    "<br>\n",
    "->> Hidden layer can consist of multiple layers. Hidden layer processes the data and the end of the process, it sends to processed data to the other layers, which are inside the hidden layer, or if there is not another layer, it sends to the output layer.\n",
    "<br>\n",
    "->> The all cells inside one layer are connected to all other cells which are inside the another layer.\n",
    "<br>\n",
    "->> In muliple layered structures, the most used network is Backpropagation network.\n",
    "<br>\n",
    "<br>\n",
    "->> In general, backpropagation has to do with recalculating input weights for artificial neurons using a gradient method. Delta learning does this using the difference between a target activation and an actual obtained activation. Using a linear activation function, network connections are adjusted.\n",
    "### <font color=\"red\">Steps of Ann</font>\n",
    "->> Data set is gathered.\n",
    "<br>\n",
    "->> Network's topological structure is determined.\n",
    "<br>\n",
    "->> The values are assigned to the weights, sometimes done randomly sometimes done by methods.\n",
    "<br>\n",
    "->> The dataset sends to the decided neural network.\n",
    "<br>\n",
    "->> Advanced calculation processes are done.\n",
    "<br>\n",
    "->> Actual and Predicted outputs are compared, and according to comparing result, the weight updates or completion of learning is done.\n",
    "<img src=\"./used_images/mathematical_form.png\"  width=\"500\" height=\"500\">\n",
    "### <font color=\"red\">Model and Prediction</font>\n",
    "->> We do standardization process on our dataset because almost all machine learning algorithms likes the standardization process, but while some algorithms works well with heterogeneous datasets, some algorithms works well with homogenous datasets.\n",
    "<br>\n",
    "->> Artifical Neural Networks algorithm works well on the homogenous datasets because there are some values that the difference between actual and predictions can cause an outlier. Therefore, generally the artifical neural networks are used after standardization process."
   ]
  },
  {
   "cell_type": "code",
   "execution_count": 26,
   "id": "9c05c307",
   "metadata": {},
   "outputs": [],
   "source": [
    "from sklearn.model_selection import train_test_split\n",
    "from sklearn.preprocessing import scale,StandardScaler\n",
    "from sklearn.neural_network import MLPRegressor\n",
    "from sklearn.metrics import mean_squared_error\n",
    "df=pd.read_csv(\"./csv_files/Hitters.csv\")\n",
    "df.dropna(inplace=True)\n",
    "dms=pd.get_dummies(df[[\"League\",\"Division\",\"NewLeague\"]])\n",
    "y=df[[\"Salary\"]]\n",
    "X_=df.drop(columns=[\"Salary\",\"League\",\"Division\",\"NewLeague\"],axis=1).astype(\"float64\")\n",
    "X=pd.concat([X_,dms[[\"League_N\",\"Division_W\",\"NewLeague_N\"]]],axis=1)\n",
    "X_train, X_test, y_train, y_test= train_test_split(X,y,test_size=0.25,random_state=42)"
   ]
  },
  {
   "cell_type": "code",
   "execution_count": 27,
   "id": "0b88c3a8",
   "metadata": {},
   "outputs": [],
   "source": [
    "scaler= StandardScaler() # Creating a scaler object to standardization"
   ]
  },
  {
   "cell_type": "code",
   "execution_count": 28,
   "id": "ee8b4213",
   "metadata": {},
   "outputs": [],
   "source": [
    "scaler.fit(X_train) # fitting the train datasets\n",
    "X_train_scaled=scaler.transform(X_train)  # transorming the trained dataset "
   ]
  },
  {
   "cell_type": "code",
   "execution_count": 29,
   "id": "ed718b2b",
   "metadata": {},
   "outputs": [],
   "source": [
    "scaler.fit(X_test)\n",
    "X_test_scaled=scaler.transform(X_test) # Similar process needs to be done for test dataset"
   ]
  },
  {
   "cell_type": "code",
   "execution_count": 30,
   "id": "27774435",
   "metadata": {},
   "outputs": [],
   "source": [
    "mlp_model=MLPRegressor().fit(X_train_scaled,y_train) # Creating a model"
   ]
  },
  {
   "cell_type": "code",
   "execution_count": 31,
   "id": "03911936",
   "metadata": {},
   "outputs": [
    {
     "data": {
      "text/plain": [
       "array([ 21.11842253,  31.90551057,  68.02407758,   7.99849986,\n",
       "        21.54459642,   2.86866031,   9.8572241 ,   7.86229315,\n",
       "        71.13562611,  34.96010131,  19.29147522,  73.21939073,\n",
       "        17.56987173,  21.87392921,   1.72781424,  41.94529803,\n",
       "        46.05728789,   3.43596293,  49.69909685,   6.45030763,\n",
       "         3.37748186,  36.94102326,  14.34407427,   6.66578204,\n",
       "        37.41679413,   3.65589706,  66.81935771,   2.47154468,\n",
       "        29.75785948,   3.15135674,   3.61994858,   4.62982474,\n",
       "         1.3457402 ,  14.84412572,   2.67901693,  41.62760131,\n",
       "       119.7835638 ,   3.2208412 ,   4.08625025,   2.66900349,\n",
       "         3.3412649 ,   5.37288457,   5.72262136,   4.16209383,\n",
       "        75.44416968,  27.99429046,   7.51557388,   3.62395578,\n",
       "         5.90152136,  25.00447145,  34.72869152,   1.61153764,\n",
       "        27.57690485,   5.28026825,   3.44670767,  21.48880042,\n",
       "         5.9177755 ,  39.84691745,   3.36135065, 115.30474152,\n",
       "       123.47406741,   9.95946547,  32.98340806,   3.47815112,\n",
       "        24.44901051,   3.93092399])"
      ]
     },
     "execution_count": 31,
     "metadata": {},
     "output_type": "execute_result"
    }
   ],
   "source": [
    "y_pred=mlp_model.predict(X_test_scaled) # Prediction\n",
    "y_pred"
   ]
  },
  {
   "cell_type": "code",
   "execution_count": 32,
   "id": "9ce258ba",
   "metadata": {},
   "outputs": [
    {
     "data": {
      "text/plain": [
       "662.9371096576372"
      ]
     },
     "execution_count": 32,
     "metadata": {},
     "output_type": "execute_result"
    }
   ],
   "source": [
    "np.sqrt(mean_squared_error(y_test,y_pred)) # Test Error "
   ]
  },
  {
   "cell_type": "markdown",
   "id": "54804abe",
   "metadata": {},
   "source": [
    "### <font color=\"red\">Model Tuning</font>"
   ]
  },
  {
   "cell_type": "code",
   "execution_count": 33,
   "id": "c7909660",
   "metadata": {},
   "outputs": [],
   "source": [
    "from sklearn.model_selection import GridSearchCV #For tuning we need to imprt gridsearchcv func"
   ]
  },
  {
   "cell_type": "code",
   "execution_count": 34,
   "id": "8e136c6e",
   "metadata": {},
   "outputs": [],
   "source": [
    "from warnings import filterwarnings # ignores warnings\n",
    "filterwarnings(\"ignore\")"
   ]
  },
  {
   "cell_type": "code",
   "execution_count": 35,
   "id": "d34ca69a",
   "metadata": {},
   "outputs": [],
   "source": [
    "mlp_params={\"alpha\":[0.1,0.01,0.02,0.001,0.0001],\"hidden_layer_sizes\":[(10,20),(5,5),(100,100)]} \n",
    "# alpha -> Lambda variables (penalty)\n",
    "# (10,20) -> this created 2 hidden layer, first one consists of 10 neurons, second one 20"
   ]
  },
  {
   "cell_type": "code",
   "execution_count": 36,
   "id": "12a93a53",
   "metadata": {},
   "outputs": [],
   "source": [
    "#First thing is we need to finish scaling process\n",
    "scaler=StandardScaler() # object\n",
    "scaler.fit(X_train) # fit\n",
    "x_train_scaled=scaler.transform(X_train) # transform\n",
    "\n",
    "##########\n",
    "\n",
    "scaler.fit(X_test)\n",
    "x_test_scaled=scaler.transform(X_test)\n",
    "\n",
    "mlp_model=MLPRegressor().fit(X_train_scaled,y_train)"
   ]
  },
  {
   "cell_type": "code",
   "execution_count": 37,
   "id": "d682893c",
   "metadata": {},
   "outputs": [
    {
     "name": "stdout",
     "output_type": "stream",
     "text": [
      "Fitting 10 folds for each of 15 candidates, totalling 150 fits\n"
     ]
    }
   ],
   "source": [
    "mlp_cv_model=GridSearchCV(mlp_model,param_grid=mlp_params,cv=10,verbose=2,n_jobs=-1).fit(X_train_scaled,y_train)"
   ]
  },
  {
   "cell_type": "code",
   "execution_count": 38,
   "id": "8f94d931",
   "metadata": {},
   "outputs": [
    {
     "data": {
      "text/plain": [
       "{'alpha': 0.0001, 'hidden_layer_sizes': (100, 100)}"
      ]
     },
     "execution_count": 38,
     "metadata": {},
     "output_type": "execute_result"
    }
   ],
   "source": [
    "best_params=mlp_cv_model.best_params_\n",
    "best_params           # we got best params for model"
   ]
  },
  {
   "cell_type": "code",
   "execution_count": 39,
   "id": "c83f09a4",
   "metadata": {},
   "outputs": [],
   "source": [
    "tuned_mlp_model=MLPRegressor(alpha=best_params[\"alpha\"],hidden_layer_sizes=best_params[\"hidden_layer_sizes\"]).fit(X_train_scaled,y_train)"
   ]
  },
  {
   "cell_type": "code",
   "execution_count": 40,
   "id": "07f28759",
   "metadata": {},
   "outputs": [
    {
     "data": {
      "text/plain": [
       "354.74438490444294"
      ]
     },
     "execution_count": 40,
     "metadata": {},
     "output_type": "execute_result"
    }
   ],
   "source": [
    "final_predicted=tuned_mlp_model.predict(X_test_scaled)\n",
    "np.sqrt(mean_squared_error(y_test,final_predicted)) # RMSE TEST FINAL ERROR"
   ]
  },
  {
   "cell_type": "markdown",
   "id": "abfce570",
   "metadata": {},
   "source": [
    "# <font color=\"orange\">Classification and Regression Trees (CART)</font>\n",
    "->> The aim is transforming complex structures into simple decision structures inside the dataset.\n",
    "<br>\n",
    "->> Heterogenous datasets splits into homogenous groups to an determined aimed variable, It is used to predict outcomes based on certain predictor variables.\n",
    "<br>\n",
    "->>They are excellent for data mining tasks because they require very little data pre-processing. Decision tree models are easy to understand and implement which gives them a strong advantage when compared to other analytical models.\n",
    "<br> \n",
    "->> Decision Trees are interested to transormation of complex structures into simple decision structures. \n",
    "##### <font color=\"red\">How can we do this?</font>\n",
    "( Dependent variable also called as target variable)\n",
    "<br>\n",
    "->> Heterogenous dataset means the first form of our dataset, the target variable is splitted into homogenous form, and then the prediction is done.\n",
    "<br>\n",
    "->> This algorithm is tend to overfitting, and the prediction success is lower than other algorithms in more complex problems and huge datasets. Also this algorithm is the base of other tree algorithms.\n",
    "<img src=\"./used_images/example.png\">\n",
    "### <font color=\"red\">Classification and Regression Trees (CART) Model and Prediction</font>"
   ]
  },
  {
   "cell_type": "code",
   "execution_count": 110,
   "id": "7e57afad",
   "metadata": {},
   "outputs": [],
   "source": [
    "import pandas as pd\n",
    "import numpy as np \n",
    "import matplotlib.pyplot as plt\n",
    "from sklearn.model_selection import train_test_split,GridSearchCV\n",
    "from sklearn.metrics import r2_score,mean_squared_error\n",
    "from sklearn.tree import DecisionTreeRegressor\n"
   ]
  },
  {
   "cell_type": "code",
   "execution_count": 111,
   "id": "45c7149e",
   "metadata": {},
   "outputs": [],
   "source": [
    "df=pd.read_csv(\"./csv_files/Hitters.csv\")\n",
    "df.dropna(inplace=True)\n",
    "dms=pd.get_dummies(df[[\"League\",\"Division\",\"NewLeague\"]])\n",
    "y=df[[\"Salary\"]]\n",
    "X_=df.drop(columns=[\"Salary\",\"League\",\"Division\",\"NewLeague\"],axis=1).astype(\"float64\")\n",
    "X=pd.concat([X_,dms[[\"League_N\",\"Division_W\",\"NewLeague_N\"]]],axis=1)\n",
    "X_train, X_test, y_train, y_test= train_test_split(X,y,test_size=0.25,random_state=42)"
   ]
  },
  {
   "cell_type": "code",
   "execution_count": 112,
   "id": "db13c504",
   "metadata": {},
   "outputs": [],
   "source": [
    "X_train=pd.DataFrame(X_train[\"Hits\"])\n",
    "X_test=pd.DataFrame(X_test[\"Hits\"])"
   ]
  },
  {
   "cell_type": "code",
   "execution_count": 113,
   "id": "cce883b4",
   "metadata": {},
   "outputs": [],
   "source": [
    "cart_model=DecisionTreeRegressor().fit(X_train,y_train)"
   ]
  },
  {
   "cell_type": "code",
   "execution_count": 114,
   "id": "403baca9",
   "metadata": {},
   "outputs": [
    {
     "data": {
      "image/png": "[encoded data removed]",
      "text/plain": [
       "<Figure size 432x288 with 1 Axes>"
      ]
     },
     "metadata": {
      "needs_background": "light"
     },
     "output_type": "display_data"
    }
   ],
   "source": [
    "X_grid=np.arange(min(np.array(X_train)),max(np.array(X_train)),0.01)\n",
    "X_grid=X_grid.reshape((len(X_grid),1))\n",
    "\n",
    "plt.scatter(X_train,y_train,color=\"red\")\n",
    "plt.plot(X_grid,cart_model.predict(X_grid),color=\"blue\")\n",
    "plt.title(\"CART\")\n",
    "plt.xlabel(\"Hits\")\n",
    "plt.ylabel(\"Salary\");"
   ]
  },
  {
   "cell_type": "code",
   "execution_count": 115,
   "id": "2071d5eb",
   "metadata": {},
   "outputs": [
    {
     "data": {
      "text/plain": [
       "468.49579052913884"
      ]
     },
     "execution_count": 115,
     "metadata": {},
     "output_type": "execute_result"
    }
   ],
   "source": [
    "# one variable prediction\n",
    "predicted=cart_model.predict(X_test)\n",
    "np.sqrt(mean_squared_error(y_test,predicted)) # RMSE TEST ERROR"
   ]
  },
  {
   "cell_type": "code",
   "execution_count": 116,
   "id": "d2816d05",
   "metadata": {},
   "outputs": [],
   "source": [
    "# prediction for all varaibles"
   ]
  },
  {
   "cell_type": "code",
   "execution_count": 117,
   "id": "c90e1737",
   "metadata": {},
   "outputs": [],
   "source": [
    "df=pd.read_csv(\"./csv_files/Hitters.csv\")\n",
    "df.dropna(inplace=True)\n",
    "dms=pd.get_dummies(df[[\"League\",\"Division\",\"NewLeague\"]])\n",
    "y=df[[\"Salary\"]]\n",
    "X_=df.drop(columns=[\"Salary\",\"League\",\"Division\",\"NewLeague\"],axis=1).astype(\"float64\")\n",
    "X=pd.concat([X_,dms[[\"League_N\",\"Division_W\",\"NewLeague_N\"]]],axis=1)\n",
    "X_train, X_test, y_train, y_test= train_test_split(X,y,test_size=0.25,random_state=42)"
   ]
  },
  {
   "cell_type": "code",
   "execution_count": 118,
   "id": "2df9f62f",
   "metadata": {},
   "outputs": [
    {
     "data": {
      "text/plain": [
       "455.1304099242193"
      ]
     },
     "execution_count": 118,
     "metadata": {},
     "output_type": "execute_result"
    }
   ],
   "source": [
    "cart_model=DecisionTreeRegressor().fit(X_train,y_train)\n",
    "predicted=cart_model.predict(X_test)\n",
    "np.sqrt(mean_squared_error(y_test,predicted)) #RMSE TEST ERROR FOR ALL VARIABLES"
   ]
  },
  {
   "cell_type": "markdown",
   "id": "1220fd4f",
   "metadata": {},
   "source": [
    "### <font color=\"red\">Classification and Regression Trees (CART) Model Tuning</font>"
   ]
  },
  {
   "cell_type": "code",
   "execution_count": 119,
   "id": "e562a69d",
   "metadata": {},
   "outputs": [],
   "source": [
    "# max_leaf_nodes, max_depth, min_samples_split,splitter generally these parameters are changing, critial ones."
   ]
  },
  {
   "cell_type": "code",
   "execution_count": 124,
   "id": "14b11148",
   "metadata": {},
   "outputs": [
    {
     "data": {
      "text/plain": [
       "452.3421786787781"
      ]
     },
     "execution_count": 124,
     "metadata": {},
     "output_type": "execute_result"
    }
   ],
   "source": [
    "cart_model=DecisionTreeRegressor().fit(X_train,y_train)\n",
    "predicted=cart_model.predict(X_test)\n",
    "np.sqrt(mean_squared_error(y_test,predicted)) #RMSE TEST ERROR FOR ALL VARIABLES"
   ]
  },
  {
   "cell_type": "code",
   "execution_count": 121,
   "id": "902570ef",
   "metadata": {},
   "outputs": [],
   "source": [
    "cart_params={\"min_samples_split\":[2,10,5,30,50,10],\"max_depth\":[2,3,4,5,10,20]}\n",
    "cart_gridcv_model=GridSearchCV(cart_model,param_grid=cart_params,cv=10).fit(X_train,y_train)"
   ]
  },
  {
   "cell_type": "code",
   "execution_count": 122,
   "id": "6c219f6e",
   "metadata": {},
   "outputs": [
    {
     "data": {
      "text/plain": [
       "{'max_depth': 10, 'min_samples_split': 50}"
      ]
     },
     "execution_count": 122,
     "metadata": {},
     "output_type": "execute_result"
    }
   ],
   "source": [
    "cart_gridcv_model.best_params_"
   ]
  },
  {
   "cell_type": "code",
   "execution_count": 123,
   "id": "fab9fe8d",
   "metadata": {},
   "outputs": [
    {
     "data": {
      "text/plain": [
       "361.0876906511434"
      ]
     },
     "execution_count": 123,
     "metadata": {},
     "output_type": "execute_result"
    }
   ],
   "source": [
    "# final model\n",
    "\n",
    "final_model=DecisionTreeRegressor(max_depth=4,min_samples_split=50).fit(X_train,y_train)\n",
    "predicted=final_model.predict(X_test)\n",
    "np.sqrt(mean_squared_error(y_test,predicted)) # RMSE TEST ERROR"
   ]
  },
  {
   "cell_type": "code",
   "execution_count": null,
   "id": "a28d5478",
   "metadata": {},
   "outputs": [],
   "source": []
  }
 ],
 "metadata": {
  "kernelspec": {
   "display_name": "Python 3 (ipykernel)",
   "language": "python",
   "name": "python3"
  },
  "language_info": {
   "codemirror_mode": {
    "name": "ipython",
    "version": 3
   },
   "file_extension": ".py",
   "mimetype": "text/x-python",
   "name": "python",
   "nbconvert_exporter": "python",
   "pygments_lexer": "ipython3",
   "version": "3.9.12"
  }
 },
 "nbformat": 4,
 "nbformat_minor": 5
}
