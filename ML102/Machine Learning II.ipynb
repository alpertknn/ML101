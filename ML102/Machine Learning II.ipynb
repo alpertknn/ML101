{
 "cells": [
  {
   "cell_type": "markdown",
   "id": "e00f2e75",
   "metadata": {},
   "source": [
    "# <font color=\"orange\">In this course we will follow these topics;</font>\n",
    "<b>\n",
    "->> K-Nearest Neighbors Algorithm\n",
    "<br>\n",
    "->> Support Vector Regression - SVR\n",
    "<br>\n",
    "->> Artificial neural network\n",
    "<br>\n",
    "->> Classification and Regression Trees\n",
    "<br>\n",
    "->> Random Forests\n",
    "<br>\n",
    "->> Gradient Boosting Machines\n",
    "<br>\n",
    "->> XGBoost\n",
    "<br>\n",
    "->> LightGBM\n",
    "<br>\n",
    "->> CatBoost\n",
    "</b>"
   ]
  },
  {
   "cell_type": "markdown",
   "id": "2deab022",
   "metadata": {},
   "source": [
    "# <font color=\"orange\">K-Nearest Neighbors Algorithm</font>\n",
    "->> The k-nearest neighbors algorithm, also known as KNN or k-NN, is a non-parametric, supervised learning classifier, which uses proximity to make classifications or predictions about the grouping of an individual data point.\n",
    "<br>\n",
    "->> Can be used for both regression and classification problems\n",
    "<img src=\"./used_images/knn.png\" width=\"300\" height=\"300\">\n",
    "<br>\n",
    "->> Let's assume that we have a new observation like above, and we want to predict it, we have its independent values. By knn, these x1,x2 values are compared with other observation units, the similarity is calculated. Then which one is close to our observation units (x1,x2), the y is predicted.\n",
    "<br>\n",
    "#### <font color=\"red\">How can we calculate the similarty of observations?</font>\n",
    "<br>\n",
    "<b>->> By Euclid or similar kind of calculations, we can calculate the distance to each observation.</b>\n",
    "<img src=\"./used_images/euclid.png\" width=\"200\" height=\"200\">\n",
    "<b>->> Lets assume that we take nearest 5 observation to prediction</b>\n",
    "<img src=\"./used_images/graph.png\" width=\"200\" height=\"200\">\n",
    "<b>->> We take the nearest k number of observation's y values' mean</b>\n",
    "<br>\n",
    "\n",
    "#### <font color=\"red\">Steps of KNN</font>\n",
    "<b>\n",
    "->> Determine the number of neighbors (K).\n",
    "<br>\n",
    "->> Calculate the distance between unknown point and other points.\n",
    "<br>\n",
    "->> Sort the distances and select the appropriate number of neighbors (K).\n",
    "<br>\n",
    "->> If problem is classification problem, select the most repeated class, if it is regression, give the mean value as prediction value.\n",
    "<br>\n"
   ]
  },
  {
   "cell_type": "markdown",
   "id": "081348d8",
   "metadata": {},
   "source": [
    "### <font color=\"red\">KNN Model and Prediction</font>"
   ]
  },
  {
   "cell_type": "code",
   "execution_count": 3,
   "id": "9f5a56f8",
   "metadata": {},
   "outputs": [],
   "source": [
    "import pandas as pd\n",
    "import numpy as np\n",
    "import seaborn as sns\n",
    "import matplotlib.pyplot as plt\n",
    "from sklearn import model_selection , neighbors\n",
    "from sklearn.model_selection import train_test_split , GridSearchCV\n",
    "from sklearn.metrics import r2_score , mean_squared_error\n",
    "from sklearn.preprocessing import scale , StandardScaler\n",
    "from sklearn.linear_model import LinearRegression\n",
    "from sklearn.tree import DecisionTreeClassifier\n",
    "from sklearn.neighbors import KNeighborsRegressor\n",
    "from sklearn.neural_network import MLPRegressor\n",
    "from sklearn.ensemble import RandomForestRegressor , GradientBoostingRegressor\n",
    "from sklearn.svm import SVR"
   ]
  },
  {
   "cell_type": "code",
   "execution_count": 4,
   "id": "73c77645",
   "metadata": {},
   "outputs": [],
   "source": [
    "from warnings import filterwarnings # ignores warnings\n",
    "filterwarnings(\"ignore\")"
   ]
  },
  {
   "cell_type": "code",
   "execution_count": 5,
   "id": "a61a6fb9",
   "metadata": {},
   "outputs": [],
   "source": [
    "df=pd.read_csv(\"./csv_files/Hitters.csv\")\n",
    "df.dropna(inplace=True)\n",
    "dms=pd.get_dummies(df[[\"League\",\"Division\",\"NewLeague\"]])\n",
    "y=df[[\"Salary\"]]\n",
    "X_=df.drop(columns=[\"Salary\",\"League\",\"Division\",\"NewLeague\"],axis=1).astype(\"float64\")\n",
    "X=pd.concat([X_,dms[[\"League_N\",\"Division_W\",\"NewLeague_N\"]]],axis=1)\n",
    "X_train, X_test, y_train, y_test=train_test_split(X,y,test_size=0.25,random_state=42)"
   ]
  },
  {
   "cell_type": "code",
   "execution_count": 6,
   "id": "c3bfeb9f",
   "metadata": {},
   "outputs": [],
   "source": [
    "knn_model=KNeighborsRegressor().fit(X_train,y_train)"
   ]
  },
  {
   "cell_type": "code",
   "execution_count": 7,
   "id": "cf30a709",
   "metadata": {},
   "outputs": [
    {
     "name": "stdout",
     "output_type": "stream",
     "text": [
      "5\n",
      "minkowski\n"
     ]
    }
   ],
   "source": [
    "print(knn_model.n_neighbors) # number of default neigh\n",
    "print(knn_model.metric) # default metric"
   ]
  },
  {
   "cell_type": "code",
   "execution_count": 8,
   "id": "f84b71c6",
   "metadata": {
    "scrolled": true
   },
   "outputs": [],
   "source": [
    "predicted=knn_model.predict(X_test)"
   ]
  },
  {
   "cell_type": "code",
   "execution_count": 9,
   "id": "918ed76c",
   "metadata": {},
   "outputs": [
    {
     "data": {
      "text/plain": [
       "426.6570764525201"
      ]
     },
     "execution_count": 9,
     "metadata": {},
     "output_type": "execute_result"
    }
   ],
   "source": [
    "np.sqrt(mean_squared_error(y_test,predicted)) # Error Rate of Test set"
   ]
  },
  {
   "cell_type": "markdown",
   "id": "2e99d286",
   "metadata": {},
   "source": [
    "### <font color=\"red\">KNN Model Tuning</font>"
   ]
  },
  {
   "cell_type": "code",
   "execution_count": 10,
   "id": "d47b6a16",
   "metadata": {},
   "outputs": [],
   "source": [
    "knn=KNeighborsRegressor()\n",
    "knn_param={\"n_neighbors\":np.arange(1,30,1)}\n",
    "gridcv_model=GridSearchCV(knn,knn_param,cv=10).fit(X_train,y_train)"
   ]
  },
  {
   "cell_type": "code",
   "execution_count": 11,
   "id": "4e272950",
   "metadata": {},
   "outputs": [
    {
     "data": {
      "text/plain": [
       "{'n_neighbors': 8}"
      ]
     },
     "execution_count": 11,
     "metadata": {},
     "output_type": "execute_result"
    }
   ],
   "source": [
    "yeni_param=gridcv_model.best_params_\n",
    "yeni_param"
   ]
  },
  {
   "cell_type": "code",
   "execution_count": 12,
   "id": "fad4d82a",
   "metadata": {
    "scrolled": true
   },
   "outputs": [
    {
     "data": {
      "text/plain": [
       "413.7094731463598"
      ]
     },
     "execution_count": 12,
     "metadata": {},
     "output_type": "execute_result"
    }
   ],
   "source": [
    "tunedmodel=KNeighborsRegressor(n_neighbors=yeni_param['n_neighbors']).fit(X_train,y_train)\n",
    "tuned_predictions=tunedmodel.predict(X_test)\n",
    "np.sqrt(mean_squared_error(y_test,tuned_predictions))"
   ]
  },
  {
   "cell_type": "code",
   "execution_count": 13,
   "id": "715bd8dd",
   "metadata": {},
   "outputs": [
    {
     "name": "stdout",
     "output_type": "stream",
     "text": [
      "k: 1 rmse 455.03925390751965\n",
      "k: 2 rmse 415.99629571490965\n",
      "k: 3 rmse 420.6765370082348\n",
      "k: 4 rmse 428.8564674588792\n",
      "k: 5 rmse 426.6570764525201\n",
      "k: 6 rmse 423.5071669008732\n",
      "k: 7 rmse 414.9361222421057\n",
      "k: 8 rmse 413.7094731463598\n",
      "k: 9 rmse 417.84419990871265\n",
      "k: 10 rmse 421.6252180741266\n"
     ]
    }
   ],
   "source": [
    "arr=[]\n",
    "for k in range(10):\n",
    "    k=k+1\n",
    "    knn_model=KNeighborsRegressor(n_neighbors=k).fit(X_train,y_train)\n",
    "    newpred=knn_model.predict(X_test)\n",
    "    rmse=np.sqrt(mean_squared_error(y_test,newpred))\n",
    "    arr.append(rmse)\n",
    "    print(\"k:\",k,\"rmse\",rmse)"
   ]
  },
  {
   "cell_type": "code",
   "execution_count": 14,
   "id": "5ed26075",
   "metadata": {},
   "outputs": [
    {
     "name": "stdout",
     "output_type": "stream",
     "text": [
      "k: 1 r squared 0.043492714162465695\n",
      "k: 2 r squared 0.2005901704919013\n",
      "k: 3 r squared 0.1825011742466076\n",
      "k: 4 r squared 0.15040003657031897\n",
      "k: 5 r squared 0.1590920400477076\n",
      "k: 6 r squared 0.17146266031335877\n",
      "k: 7 r squared 0.20465959684621493\n",
      "k: 8 r squared 0.2093550739421146\n",
      "k: 9 r squared 0.1934722523174407\n",
      "k: 10 r squared 0.17880988144588528\n"
     ]
    }
   ],
   "source": [
    "for k in range(10):\n",
    "    k=k+1\n",
    "    knn_model=KNeighborsRegressor(n_neighbors=k).fit(X_train,y_train)\n",
    "    newpred=knn_model.predict(X_test)\n",
    "    rmse=np.sqrt(mean_squared_error(y_test,newpred))\n",
    "    arr.append(rmse)\n",
    "    print(\"k:\",k,\"r squared\",r2_score(y_test,newpred))"
   ]
  },
  {
   "cell_type": "markdown",
   "id": "2cc934a2",
   "metadata": {},
   "source": [
    "# <font color=\"orange\">Support Vector Regression (SVR)</font>\n",
    "->> SVR is strong and flexible modelization technique, can be used  for classification and regression, and also it is a robust regression modeling technique.\n",
    "<br>\n",
    "->> SVR gives us the flexibility to define how much error is acceptable in our model and will find an appropriate line (or hyperplane in higher dimensions) to fit the data.\n",
    "<img src=\"./used_images/svr.png\" width=\"800\" height=\"800\">\n",
    "<b>\n",
    "->> Helps you find a regression equation, the differences between the actual values and the predicted values will be no further than a certain value of epsilon and ksi from the two sides of the regression curve. Kinda pressing process.\n",
    "<br>\n",
    "->>Thus, we can think that we dont deal with outliers which are less than epsilon values, moreover we deal with greater ones. \n",
    "</b>\n",
    "### <font color=\"red\">Support Vector Regression (SVR) Model and Prediction</font>"
   ]
  },
  {
   "cell_type": "code",
   "execution_count": 15,
   "id": "fc9cbc7f",
   "metadata": {},
   "outputs": [],
   "source": [
    "df=pd.read_csv(\"./csv_files/Hitters.csv\")\n",
    "df.dropna(inplace=True)\n",
    "dms=pd.get_dummies(df[[\"League\",\"Division\",\"NewLeague\"]])\n",
    "y=df[[\"Salary\"]]\n",
    "X_=df.drop(columns=[\"Salary\",\"League\",\"Division\",\"NewLeague\"],axis=1).astype(\"float64\")\n",
    "X=pd.concat([X_,dms[[\"League_N\",\"Division_W\",\"NewLeague_N\"]]],axis=1)\n",
    "X_train, X_test, y_train, y_test=train_test_split(X,y,test_size=0.25,random_state=42)"
   ]
  },
  {
   "cell_type": "code",
   "execution_count": 16,
   "id": "8402ac94",
   "metadata": {},
   "outputs": [],
   "source": [
    "svr_model=SVR(kernel=\"linear\").fit(X_train,y_train) # kernel can be linear or rbf"
   ]
  },
  {
   "cell_type": "code",
   "execution_count": 17,
   "id": "e5e50372",
   "metadata": {},
   "outputs": [
    {
     "name": "stdout",
     "output_type": "stream",
     "text": [
      "[-80.15196063]\n",
      "[[ -1.2183904    6.09602978  -3.67574533   0.14217072   0.51435925\n",
      "    1.28388992  12.55922527  -0.08693754   0.46597185   2.98259931\n",
      "    0.52944513  -0.79820793  -0.16015531   0.30872795   0.28842348\n",
      "   -1.79560066   6.41868986 -10.74313785   1.33374319]]\n"
     ]
    }
   ],
   "source": [
    "print(svr_model.intercept_) # B0 value\n",
    "print(svr_model.coef_) # w (B) values"
   ]
  },
  {
   "cell_type": "code",
   "execution_count": 18,
   "id": "98464c27",
   "metadata": {},
   "outputs": [
    {
     "name": "stdout",
     "output_type": "stream",
     "text": [
      "370.0408415795005\n"
     ]
    }
   ],
   "source": [
    "predicted=svr_model.predict(X_test)\n",
    "print(np.sqrt(mean_squared_error(y_test,predicted))) # RMSE TEST ERROR\n"
   ]
  },
  {
   "cell_type": "markdown",
   "id": "e37c24d5",
   "metadata": {},
   "source": [
    "### <font color=\"red\">Support Vector Regression (SVR) Model Tuning</font>"
   ]
  },
  {
   "cell_type": "code",
   "execution_count": 19,
   "id": "4719d0ac",
   "metadata": {},
   "outputs": [],
   "source": [
    "# we can change c values for model tuning by using GridSearchCV and k fold cross validation"
   ]
  },
  {
   "cell_type": "code",
   "execution_count": 20,
   "id": "f7132a10",
   "metadata": {},
   "outputs": [],
   "source": [
    "svr_model=SVR(kernel=\"linear\")"
   ]
  },
  {
   "cell_type": "code",
   "execution_count": 21,
   "id": "9a354f63",
   "metadata": {},
   "outputs": [],
   "source": [
    "svr_params={\"C\":[0.1,0.5,1,3]}"
   ]
  },
  {
   "cell_type": "code",
   "execution_count": 22,
   "id": "a4720615",
   "metadata": {
    "scrolled": true
   },
   "outputs": [
    {
     "name": "stdout",
     "output_type": "stream",
     "text": [
      "Fitting 5 folds for each of 4 candidates, totalling 20 fits\n"
     ]
    }
   ],
   "source": [
    "# we are fitting the model to find best param, in addition verbose=2 shows report of process, n_jobs for using all cpu\n",
    "svr_grid_model=GridSearchCV(svr_model,cv=5,param_grid=svr_params,verbose=2,n_jobs=-1).fit(X_train,y_train) "
   ]
  },
  {
   "cell_type": "code",
   "execution_count": 23,
   "id": "a043d567",
   "metadata": {},
   "outputs": [
    {
     "data": {
      "text/plain": [
       "{'C': 0.5}"
      ]
     },
     "execution_count": 23,
     "metadata": {},
     "output_type": "execute_result"
    }
   ],
   "source": [
    "bestparam=svr_grid_model.best_params_\n",
    "bestparam"
   ]
  },
  {
   "cell_type": "code",
   "execution_count": 24,
   "id": "1492067f",
   "metadata": {},
   "outputs": [],
   "source": [
    "# final model\n",
    "tuned_model=svr_model.set_params(kernel=\"linear\",C=bestparam[\"C\"]).fit(X_train,y_train)"
   ]
  },
  {
   "cell_type": "code",
   "execution_count": 25,
   "id": "36a285e5",
   "metadata": {},
   "outputs": [
    {
     "name": "stdout",
     "output_type": "stream",
     "text": [
      "367.98747616655294\n"
     ]
    }
   ],
   "source": [
    "tuned_predicted=tuned_model.predict(X_test)\n",
    "print(np.sqrt(mean_squared_error(y_test,tuned_predicted)))"
   ]
  },
  {
   "cell_type": "markdown",
   "id": "898aea93",
   "metadata": {},
   "source": [
    "# <font color=\"orange\">Artifical Neural Networks</font>\n",
    "->> Kinda strong algorithm that is used for regression and classification problems which based on human brain's data processing.\n",
    "<br>\n",
    "->> The aim is finding coefficients which can predict with minimum error.\n",
    "<img src=\"./used_images/ann.png\"  width=\"700\" height=\"600\">\n",
    "->> We can say, inputs are multiplied by weights, and then taken summation of them by sum function, then activation function processes these summation result and gives output.\n",
    "<br>\n",
    "->> This process represents the process of an artifical neural network, so when this process is done, it transfers result to other cell and it continues if there is a network.\n",
    "<img src=\"./used_images/anns.png\"  width=\"300\" height=\"300\">\n",
    "->> Artifical Neural Networks consist of neural network cells which are related to each other, cells are named as \"neurons\".\n",
    "<br>\n",
    "->> This is consisting of 3 layers, <font color=\"red\">Input, Hidden and Output layer.</font>\n",
    "<br>\n",
    "->> Hidden layer can consist of multiple layers. Hidden layer processes the data and the end of the process, it sends to processed data to the other layers, which are inside the hidden layer, or if there is not another layer, it sends to the output layer.\n",
    "<br>\n",
    "->> The all cells inside one layer are connected to all other cells which are inside the another layer.\n",
    "<br>\n",
    "->> In muliple layered structures, the most used network is Backpropagation network.\n",
    "<br>\n",
    "<br>\n",
    "->> In general, backpropagation has to do with recalculating input weights for artificial neurons using a gradient method. Delta learning does this using the difference between a target activation and an actual obtained activation. Using a linear activation function, network connections are adjusted.\n",
    "### <font color=\"red\">Steps of Ann</font>\n",
    "->> Data set is gathered.\n",
    "<br>\n",
    "->> Network's topological structure is determined.\n",
    "<br>\n",
    "->> The values are assigned to the weights, sometimes done randomly sometimes done by methods.\n",
    "<br>\n",
    "->> The dataset sends to the decided neural network.\n",
    "<br>\n",
    "->> Advanced calculation processes are done.\n",
    "<br>\n",
    "->> Actual and Predicted outputs are compared, and according to comparing result, the weight updates or completion of learning is done.\n",
    "<img src=\"./used_images/mathematical_form.png\"  width=\"500\" height=\"500\">\n",
    "### <font color=\"red\">Model and Prediction</font>\n",
    "->> We do standardization process on our dataset because almost all machine learning algorithms likes the standardization process, but while some algorithms works well with heterogeneous datasets, some algorithms works well with homogenous datasets.\n",
    "<br>\n",
    "->> Artifical Neural Networks algorithm works well on the homogenous datasets because there are some values that the difference between actual and predictions can cause an outlier. Therefore, generally the artifical neural networks are used after standardization process."
   ]
  },
  {
   "cell_type": "code",
   "execution_count": 26,
   "id": "9c05c307",
   "metadata": {},
   "outputs": [],
   "source": [
    "from sklearn.model_selection import train_test_split\n",
    "from sklearn.preprocessing import scale,StandardScaler\n",
    "from sklearn.neural_network import MLPRegressor\n",
    "from sklearn.metrics import mean_squared_error\n",
    "df=pd.read_csv(\"./csv_files/Hitters.csv\")\n",
    "df.dropna(inplace=True)\n",
    "dms=pd.get_dummies(df[[\"League\",\"Division\",\"NewLeague\"]])\n",
    "y=df[[\"Salary\"]]\n",
    "X_=df.drop(columns=[\"Salary\",\"League\",\"Division\",\"NewLeague\"],axis=1).astype(\"float64\")\n",
    "X=pd.concat([X_,dms[[\"League_N\",\"Division_W\",\"NewLeague_N\"]]],axis=1)\n",
    "X_train, X_test, y_train, y_test= train_test_split(X,y,test_size=0.25,random_state=42)"
   ]
  },
  {
   "cell_type": "code",
   "execution_count": 27,
   "id": "0b88c3a8",
   "metadata": {},
   "outputs": [],
   "source": [
    "scaler= StandardScaler() # Creating a scaler object to standardization"
   ]
  },
  {
   "cell_type": "code",
   "execution_count": 28,
   "id": "ee8b4213",
   "metadata": {},
   "outputs": [],
   "source": [
    "scaler.fit(X_train) # fitting the train datasets\n",
    "X_train_scaled=scaler.transform(X_train)  # transorming the trained dataset "
   ]
  },
  {
   "cell_type": "code",
   "execution_count": 29,
   "id": "ed718b2b",
   "metadata": {},
   "outputs": [],
   "source": [
    "scaler.fit(X_test)\n",
    "X_test_scaled=scaler.transform(X_test) # Similar process needs to be done for test dataset"
   ]
  },
  {
   "cell_type": "code",
   "execution_count": 30,
   "id": "27774435",
   "metadata": {},
   "outputs": [],
   "source": [
    "mlp_model=MLPRegressor().fit(X_train_scaled,y_train) # Creating a model"
   ]
  },
  {
   "cell_type": "code",
   "execution_count": 31,
   "id": "03911936",
   "metadata": {},
   "outputs": [
    {
     "data": {
      "text/plain": [
       "array([ 21.11842253,  31.90551057,  68.02407758,   7.99849986,\n",
       "        21.54459642,   2.86866031,   9.8572241 ,   7.86229315,\n",
       "        71.13562611,  34.96010131,  19.29147522,  73.21939073,\n",
       "        17.56987173,  21.87392921,   1.72781424,  41.94529803,\n",
       "        46.05728789,   3.43596293,  49.69909685,   6.45030763,\n",
       "         3.37748186,  36.94102326,  14.34407427,   6.66578204,\n",
       "        37.41679413,   3.65589706,  66.81935771,   2.47154468,\n",
       "        29.75785948,   3.15135674,   3.61994858,   4.62982474,\n",
       "         1.3457402 ,  14.84412572,   2.67901693,  41.62760131,\n",
       "       119.7835638 ,   3.2208412 ,   4.08625025,   2.66900349,\n",
       "         3.3412649 ,   5.37288457,   5.72262136,   4.16209383,\n",
       "        75.44416968,  27.99429046,   7.51557388,   3.62395578,\n",
       "         5.90152136,  25.00447145,  34.72869152,   1.61153764,\n",
       "        27.57690485,   5.28026825,   3.44670767,  21.48880042,\n",
       "         5.9177755 ,  39.84691745,   3.36135065, 115.30474152,\n",
       "       123.47406741,   9.95946547,  32.98340806,   3.47815112,\n",
       "        24.44901051,   3.93092399])"
      ]
     },
     "execution_count": 31,
     "metadata": {},
     "output_type": "execute_result"
    }
   ],
   "source": [
    "y_pred=mlp_model.predict(X_test_scaled) # Prediction\n",
    "y_pred"
   ]
  },
  {
   "cell_type": "code",
   "execution_count": 32,
   "id": "9ce258ba",
   "metadata": {},
   "outputs": [
    {
     "data": {
      "text/plain": [
       "662.9371096576372"
      ]
     },
     "execution_count": 32,
     "metadata": {},
     "output_type": "execute_result"
    }
   ],
   "source": [
    "np.sqrt(mean_squared_error(y_test,y_pred)) # Test Error "
   ]
  },
  {
   "cell_type": "markdown",
   "id": "54804abe",
   "metadata": {},
   "source": [
    "### <font color=\"red\">Model Tuning</font>"
   ]
  },
  {
   "cell_type": "code",
   "execution_count": 33,
   "id": "c7909660",
   "metadata": {},
   "outputs": [],
   "source": [
    "from sklearn.model_selection import GridSearchCV #For tuning we need to imprt gridsearchcv func"
   ]
  },
  {
   "cell_type": "code",
   "execution_count": 34,
   "id": "8e136c6e",
   "metadata": {},
   "outputs": [],
   "source": [
    "from warnings import filterwarnings # ignores warnings\n",
    "filterwarnings(\"ignore\")"
   ]
  },
  {
   "cell_type": "code",
   "execution_count": 35,
   "id": "d34ca69a",
   "metadata": {},
   "outputs": [],
   "source": [
    "mlp_params={\"alpha\":[0.1,0.01,0.02,0.001,0.0001],\"hidden_layer_sizes\":[(10,20),(5,5),(100,100)]} \n",
    "# alpha -> Lambda variables (penalty)\n",
    "# (10,20) -> this created 2 hidden layer, first one consists of 10 neurons, second one 20"
   ]
  },
  {
   "cell_type": "code",
   "execution_count": 36,
   "id": "12a93a53",
   "metadata": {},
   "outputs": [],
   "source": [
    "#First thing is we need to finish scaling process\n",
    "scaler=StandardScaler() # object\n",
    "scaler.fit(X_train) # fit\n",
    "x_train_scaled=scaler.transform(X_train) # transform\n",
    "\n",
    "##########\n",
    "\n",
    "scaler.fit(X_test)\n",
    "x_test_scaled=scaler.transform(X_test)\n",
    "\n",
    "mlp_model=MLPRegressor().fit(X_train_scaled,y_train)"
   ]
  },
  {
   "cell_type": "code",
   "execution_count": 37,
   "id": "d682893c",
   "metadata": {},
   "outputs": [
    {
     "name": "stdout",
     "output_type": "stream",
     "text": [
      "Fitting 10 folds for each of 15 candidates, totalling 150 fits\n"
     ]
    }
   ],
   "source": [
    "mlp_cv_model=GridSearchCV(mlp_model,param_grid=mlp_params,cv=10,verbose=2,n_jobs=-1).fit(X_train_scaled,y_train)"
   ]
  },
  {
   "cell_type": "code",
   "execution_count": 38,
   "id": "8f94d931",
   "metadata": {},
   "outputs": [
    {
     "data": {
      "text/plain": [
       "{'alpha': 0.0001, 'hidden_layer_sizes': (100, 100)}"
      ]
     },
     "execution_count": 38,
     "metadata": {},
     "output_type": "execute_result"
    }
   ],
   "source": [
    "best_params=mlp_cv_model.best_params_\n",
    "best_params           # we got best params for model"
   ]
  },
  {
   "cell_type": "code",
   "execution_count": 39,
   "id": "c83f09a4",
   "metadata": {},
   "outputs": [],
   "source": [
    "tuned_mlp_model=MLPRegressor(alpha=best_params[\"alpha\"],hidden_layer_sizes=best_params[\"hidden_layer_sizes\"]).fit(X_train_scaled,y_train)"
   ]
  },
  {
   "cell_type": "code",
   "execution_count": 40,
   "id": "07f28759",
   "metadata": {},
   "outputs": [
    {
     "data": {
      "text/plain": [
       "354.74438490444294"
      ]
     },
     "execution_count": 40,
     "metadata": {},
     "output_type": "execute_result"
    }
   ],
   "source": [
    "final_predicted=tuned_mlp_model.predict(X_test_scaled)\n",
    "np.sqrt(mean_squared_error(y_test,final_predicted)) # RMSE TEST FINAL ERROR"
   ]
  },
  {
   "cell_type": "markdown",
   "id": "abfce570",
   "metadata": {},
   "source": [
    "# <font color=\"orange\">Classification and Regression Trees (CART)</font>\n",
    "->> The aim is transforming complex structures into simple decision structures inside the dataset.\n",
    "<br>\n",
    "->> Heterogenous datasets splits into homogenous groups to an determined aimed variable, It is used to predict outcomes based on certain predictor variables.\n",
    "<br>\n",
    "->>They are excellent for data mining tasks because they require very little data pre-processing. Decision tree models are easy to understand and implement which gives them a strong advantage when compared to other analytical models.\n",
    "<br> \n",
    "->> Decision Trees are interested to transormation of complex structures into simple decision structures. \n",
    "##### <font color=\"red\">How can we do this?</font>\n",
    "( Dependent variable also called as target variable)\n",
    "<br>\n",
    "->> Heterogenous dataset means the first form of our dataset, the target variable is splitted into homogenous form, and then the prediction is done.\n",
    "<br>\n",
    "->> This algorithm is tend to overfitting, and the prediction success is lower than other algorithms in more complex problems and huge datasets. Also this algorithm is the base of other tree algorithms.\n",
    "<img src=\"./used_images/example.png\">\n",
    "### <font color=\"red\">Classification and Regression Trees (CART) Model and Prediction</font>"
   ]
  },
  {
   "cell_type": "code",
   "execution_count": 110,
   "id": "7e57afad",
   "metadata": {},
   "outputs": [],
   "source": [
    "import pandas as pd\n",
    "import numpy as np \n",
    "import matplotlib.pyplot as plt\n",
    "from sklearn.model_selection import train_test_split,GridSearchCV\n",
    "from sklearn.metrics import r2_score,mean_squared_error\n",
    "from sklearn.tree import DecisionTreeRegressor\n"
   ]
  },
  {
   "cell_type": "code",
   "execution_count": 111,
   "id": "45c7149e",
   "metadata": {},
   "outputs": [],
   "source": [
    "df=pd.read_csv(\"./csv_files/Hitters.csv\")\n",
    "df.dropna(inplace=True)\n",
    "dms=pd.get_dummies(df[[\"League\",\"Division\",\"NewLeague\"]])\n",
    "y=df[[\"Salary\"]]\n",
    "X_=df.drop(columns=[\"Salary\",\"League\",\"Division\",\"NewLeague\"],axis=1).astype(\"float64\")\n",
    "X=pd.concat([X_,dms[[\"League_N\",\"Division_W\",\"NewLeague_N\"]]],axis=1)\n",
    "X_train, X_test, y_train, y_test= train_test_split(X,y,test_size=0.25,random_state=42)"
   ]
  },
  {
   "cell_type": "code",
   "execution_count": 112,
   "id": "db13c504",
   "metadata": {},
   "outputs": [],
   "source": [
    "X_train=pd.DataFrame(X_train[\"Hits\"])\n",
    "X_test=pd.DataFrame(X_test[\"Hits\"])"
   ]
  },
  {
   "cell_type": "code",
   "execution_count": 113,
   "id": "cce883b4",
   "metadata": {},
   "outputs": [],
   "source": [
    "cart_model=DecisionTreeRegressor().fit(X_train,y_train)"
   ]
  },
  {
   "cell_type": "code",
   "execution_count": 114,
   "id": "403baca9",
   "metadata": {},
   "outputs": [
    {
     "data": {
      "image/png": "[encoded data removed]",
      "text/plain": [
       "<Figure size 432x288 with 1 Axes>"
      ]
     },
     "metadata": {
      "needs_background": "light"
     },
     "output_type": "display_data"
    }
   ],
   "source": [
    "X_grid=np.arange(min(np.array(X_train)),max(np.array(X_train)),0.01)\n",
    "X_grid=X_grid.reshape((len(X_grid),1))\n",
    "\n",
    "plt.scatter(X_train,y_train,color=\"red\")\n",
    "plt.plot(X_grid,cart_model.predict(X_grid),color=\"blue\")\n",
    "plt.title(\"CART\")\n",
    "plt.xlabel(\"Hits\")\n",
    "plt.ylabel(\"Salary\");"
   ]
  },
  {
   "cell_type": "code",
   "execution_count": 115,
   "id": "2071d5eb",
   "metadata": {},
   "outputs": [
    {
     "data": {
      "text/plain": [
       "468.49579052913884"
      ]
     },
     "execution_count": 115,
     "metadata": {},
     "output_type": "execute_result"
    }
   ],
   "source": [
    "# one variable prediction\n",
    "predicted=cart_model.predict(X_test)\n",
    "np.sqrt(mean_squared_error(y_test,predicted)) # RMSE TEST ERROR"
   ]
  },
  {
   "cell_type": "code",
   "execution_count": 116,
   "id": "d2816d05",
   "metadata": {},
   "outputs": [],
   "source": [
    "# prediction for all varaibles"
   ]
  },
  {
   "cell_type": "code",
   "execution_count": 117,
   "id": "c90e1737",
   "metadata": {},
   "outputs": [],
   "source": [
    "df=pd.read_csv(\"./csv_files/Hitters.csv\")\n",
    "df.dropna(inplace=True)\n",
    "dms=pd.get_dummies(df[[\"League\",\"Division\",\"NewLeague\"]])\n",
    "y=df[[\"Salary\"]]\n",
    "X_=df.drop(columns=[\"Salary\",\"League\",\"Division\",\"NewLeague\"],axis=1).astype(\"float64\")\n",
    "X=pd.concat([X_,dms[[\"League_N\",\"Division_W\",\"NewLeague_N\"]]],axis=1)\n",
    "X_train, X_test, y_train, y_test= train_test_split(X,y,test_size=0.25,random_state=42)"
   ]
  },
  {
   "cell_type": "code",
   "execution_count": 118,
   "id": "2df9f62f",
   "metadata": {},
   "outputs": [
    {
     "data": {
      "text/plain": [
       "455.1304099242193"
      ]
     },
     "execution_count": 118,
     "metadata": {},
     "output_type": "execute_result"
    }
   ],
   "source": [
    "cart_model=DecisionTreeRegressor().fit(X_train,y_train)\n",
    "predicted=cart_model.predict(X_test)\n",
    "np.sqrt(mean_squared_error(y_test,predicted)) #RMSE TEST ERROR FOR ALL VARIABLES"
   ]
  },
  {
   "cell_type": "markdown",
   "id": "1220fd4f",
   "metadata": {},
   "source": [
    "### <font color=\"red\">Classification and Regression Trees (CART) Model Tuning</font>"
   ]
  },
  {
   "cell_type": "code",
   "execution_count": 119,
   "id": "e562a69d",
   "metadata": {},
   "outputs": [],
   "source": [
    "# max_leaf_nodes, max_depth, min_samples_split,splitter generally these parameters are changing, critial ones."
   ]
  },
  {
   "cell_type": "code",
   "execution_count": 124,
   "id": "14b11148",
   "metadata": {},
   "outputs": [
    {
     "data": {
      "text/plain": [
       "452.3421786787781"
      ]
     },
     "execution_count": 124,
     "metadata": {},
     "output_type": "execute_result"
    }
   ],
   "source": [
    "cart_model=DecisionTreeRegressor().fit(X_train,y_train)\n",
    "predicted=cart_model.predict(X_test)\n",
    "np.sqrt(mean_squared_error(y_test,predicted)) #RMSE TEST ERROR FOR ALL VARIABLES"
   ]
  },
  {
   "cell_type": "code",
   "execution_count": 121,
   "id": "902570ef",
   "metadata": {},
   "outputs": [],
   "source": [
    "cart_params={\"min_samples_split\":[2,10,5,30,50,10],\"max_depth\":[2,3,4,5,10,20]}\n",
    "cart_gridcv_model=GridSearchCV(cart_model,param_grid=cart_params,cv=10).fit(X_train,y_train)"
   ]
  },
  {
   "cell_type": "code",
   "execution_count": 122,
   "id": "6c219f6e",
   "metadata": {},
   "outputs": [
    {
     "data": {
      "text/plain": [
       "{'max_depth': 10, 'min_samples_split': 50}"
      ]
     },
     "execution_count": 122,
     "metadata": {},
     "output_type": "execute_result"
    }
   ],
   "source": [
    "cart_gridcv_model.best_params_"
   ]
  },
  {
   "cell_type": "code",
   "execution_count": 123,
   "id": "fab9fe8d",
   "metadata": {},
   "outputs": [
    {
     "data": {
      "text/plain": [
       "361.0876906511434"
      ]
     },
     "execution_count": 123,
     "metadata": {},
     "output_type": "execute_result"
    }
   ],
   "source": [
    "# final model\n",
    "\n",
    "final_model=DecisionTreeRegressor(max_depth=4,min_samples_split=50).fit(X_train,y_train)\n",
    "predicted=final_model.predict(X_test)\n",
    "np.sqrt(mean_squared_error(y_test,predicted)) # RMSE TEST ERROR"
   ]
  },
  {
   "cell_type": "markdown",
   "id": "4f579893",
   "metadata": {},
   "source": [
    "# <font color=\"orange\">Random Forests</font>\n",
    "->> It is the ensemble learning of more than one algorithm or more than one tree by coming together and trying to predict.\n",
    "<br>\n",
    "->> <b><font color=\"red\">Bagging</font></b>,also known as Bootstrap aggregating, is an ensemble learning technique that helps to improve the performance and accuracy of machine learning algorithms.\n",
    "<br>\n",
    "->> It is used to deal with bias-variance trade-offs and reduces the variance of a prediction model.\n",
    "<br>\n",
    "->>  Bagging avoids overfitting of data and is used for both regression and classification models, specifically for decision tree algorithms.\n",
    "<img src=\"./used_images/bagging_1.png\" width=\"600\" height=\"600\">\n",
    "### <font color=\"red\">What Is Bootstrapping?</font>\n",
    "->> Bootstrapping is the method of randomly creating samples of data out of a population with replacement to estimate a population parameter. \n",
    "<img src=\"./used_images/bootstrap_1.png\" width=\"600\" height=\"600\">\n",
    "### <font color=\"red\">Steps to Perform Bagging</font>\n",
    "\n",
    "<ul>\n",
    "    <li> Imagine that we have total m number of observations, T number of Trees, and selecting n number of observation.(n&#60;m)Imagine that our m value, the total observation count is 1000, and lets imagine 750 . \n",
    "    </li>   \n",
    "    <li>\n",
    "        With selected n observations (in this example its 750), we create a tree model and we hold this tree. Then we put what we  took (750) sample inside to m, shuffle it, then randomly we select 750 again, we create another tree. \n",
    "    </li>\n",
    "    <li>\n",
    "        This process continues until certain T (Tree) value. After creating number of T trees, we ask their opinion like what is you best value and etc.. After this process, we get T number of different prediction, and we do a prediction for  an ensemble.\n",
    "    </li>\n",
    "</ul>\n",
    "\n",
    "### <font color=\"red\">Advantages of Bagging in Machine Learning</font>\n",
    "<ul>\n",
    "    <li>\n",
    "        Bagging minimizes the overfitting of data\n",
    "    </li>\n",
    "    <li>\n",
    "        It reduces the varaince and rmse value.\n",
    "    </li>\n",
    "    <li>\n",
    "        It improves the model’s accuracy\n",
    "    </li>\n",
    "    <li>\n",
    "        It deals with higher dimensional data efficiently\n",
    "    </li>\n",
    "  \n",
    "</ul>\n",
    "->> Random Forest Uses Bagging  Method, adds additional feature. As we know, random observation selection is increased randomness and decreased errors.\n",
    "<br>\n",
    "->> The random observation selection was successfull, so Breiman decided to do same logic to <b>variable selection. </b>\n",
    "<br>\n",
    "->> Random Forest uses Bagging (Randomly observation selection) and Random Subspace ( Randomly variable selection).\n",
    "<br>\n",
    "->> Observations is selected by bagging for trees, and variables is selectd by random subspace.\n",
    "<br>\n",
    "->> As we remember, in bootstrap we have m observation and n selected observation from m. Here same logic, we have number of p variable, and k number of selected variable from p.\n",
    "<br>\n",
    "->> To creating tree, dataset's 2/3 is used. The data which are outside, is used to evaluate performance of trees, and variable significancy.\n",
    "<br>\n",
    "->> Imagine at the end of the day, we have 10 different tree, they gives us diffrent results. Since we have actual results, we can evaluate their performance, and determine which tree's prediction is better.\n",
    "<br>\n",
    "->> In every node point, the variable selection is done randomly. (In regression problems p/3, classification sqrt(p) ). Before, it has been done to best varible splitter order. Here it is done randomly.\n",
    "\n",
    "### <font color=\"red\">Random Forest Model and Prediction</font>"
   ]
  },
  {
   "cell_type": "code",
   "execution_count": 32,
   "id": "11380074",
   "metadata": {},
   "outputs": [],
   "source": [
    "import pandas as pd\n",
    "import numpy as np\n",
    "import seaborn as sns\n",
    "import matplotlib.pyplot as plt\n",
    "from sklearn.model_selection import train_test_split,GridSearchCV\n",
    "from sklearn.metrics import r2_score,mean_squared_error\n",
    "from sklearn.tree import DecisionTreeRegressor\n",
    "from sklearn.ensemble import RandomForestRegressor\n",
    "from warnings import filterwarnings\n",
    "filterwarnings(\"ignore\")\n"
   ]
  },
  {
   "cell_type": "code",
   "execution_count": 33,
   "id": "a7a42b0b",
   "metadata": {},
   "outputs": [],
   "source": [
    "df=pd.read_csv(\"./csv_files/Hitters.csv\")\n",
    "df.dropna(inplace=True)\n",
    "dms=pd.get_dummies(df[[\"League\",\"Division\",\"NewLeague\"]])\n",
    "y=df[[\"Salary\"]]\n",
    "X_=df.drop(columns=[\"Salary\",\"League\",\"Division\",\"NewLeague\"],axis=1).astype(\"float64\")\n",
    "X=pd.concat([X_,dms[[\"League_N\",\"Division_W\",\"NewLeague_N\"]]],axis=1)\n",
    "X_train, X_test, y_train, y_test= train_test_split(X,y,test_size=0.25,random_state=42)"
   ]
  },
  {
   "cell_type": "code",
   "execution_count": 49,
   "id": "86b68532",
   "metadata": {},
   "outputs": [
    {
     "data": {
      "text/plain": [
       "336.69818323198"
      ]
     },
     "execution_count": 49,
     "metadata": {},
     "output_type": "execute_result"
    }
   ],
   "source": [
    "rf_model=RandomForestRegressor().fit(X_train,y_train)\n",
    "predicted=rf_model.predict(X_test)\n",
    "np.sqrt(mean_squared_error(y_test,predicted))"
   ]
  },
  {
   "cell_type": "markdown",
   "id": "caf5055d",
   "metadata": {},
   "source": [
    "### <font color=\"red\">Random Forest Model Tuning</font>"
   ]
  },
  {
   "cell_type": "code",
   "execution_count": 39,
   "id": "d73151a3",
   "metadata": {},
   "outputs": [],
   "source": [
    "# n_estimators, min_sample_split ,max_depth,max_features are important\n",
    "\n",
    "rf_param={\"n_estimators\":[200,500,1000,2000],\"min_samples_split\":[2,10,80,100],\"max_depth\":[5,8,10],\"max_features\":[2,5,10]}"
   ]
  },
  {
   "cell_type": "code",
   "execution_count": 40,
   "id": "1bb51480",
   "metadata": {},
   "outputs": [
    {
     "name": "stdout",
     "output_type": "stream",
     "text": [
      "Fitting 10 folds for each of 144 candidates, totalling 1440 fits\n"
     ]
    }
   ],
   "source": [
    "rfcv_model=GridSearchCV(rf_model,param_grid=rf_param,cv=10,n_jobs=-1,verbose=2).fit(X_train,y_train)"
   ]
  },
  {
   "cell_type": "code",
   "execution_count": 43,
   "id": "2539e5cf",
   "metadata": {},
   "outputs": [
    {
     "data": {
      "text/plain": [
       "{'max_depth': 10,\n",
       " 'max_features': 2,\n",
       " 'min_samples_split': 10,\n",
       " 'n_estimators': 500}"
      ]
     },
     "execution_count": 43,
     "metadata": {},
     "output_type": "execute_result"
    }
   ],
   "source": [
    "rfcv_model.best_params_"
   ]
  },
  {
   "cell_type": "code",
   "execution_count": 44,
   "id": "8ddc9054",
   "metadata": {},
   "outputs": [],
   "source": [
    "# final model\n",
    "\n",
    "final_model= RandomForestRegressor(n_estimators=500,max_depth=10,max_features=2,min_samples_split=10).fit(X_train,y_train)"
   ]
  },
  {
   "cell_type": "code",
   "execution_count": 45,
   "id": "5332ab3f",
   "metadata": {},
   "outputs": [
    {
     "data": {
      "text/plain": [
       "346.31085120691586"
      ]
     },
     "execution_count": 45,
     "metadata": {},
     "output_type": "execute_result"
    }
   ],
   "source": [
    "final_predicted=final_model.predict(X_test)\n",
    "np.sqrt(mean_squared_error(y_test,final_predicted))"
   ]
  },
  {
   "cell_type": "code",
   "execution_count": 51,
   "id": "c72f34cc",
   "metadata": {},
   "outputs": [
    {
     "data": {
      "text/plain": [
       "array([ 5.50979939,  5.30465188,  3.54148999,  4.01174647,  6.15690631,\n",
       "        5.77310465,  5.30988373, 10.99796535, 10.56565362,  7.22601294,\n",
       "       10.21060861,  9.62344625,  7.97763571,  4.23840835,  1.50990843,\n",
       "        1.21746375,  0.19821907,  0.35939255,  0.26770296])"
      ]
     },
     "execution_count": 51,
     "metadata": {},
     "output_type": "execute_result"
    }
   ],
   "source": [
    "## Variable significancy level,random forest allows us to see varibles importance, gives a score, then we can compare\n",
    "final_model.feature_importances_*100"
   ]
  },
  {
   "cell_type": "code",
   "execution_count": 61,
   "id": "84cb9b22",
   "metadata": {},
   "outputs": [
    {
     "data": {
      "image/png": "[encoded data removed]",
      "text/plain": [
       "<Figure size 432x288 with 1 Axes>"
      ]
     },
     "metadata": {
      "needs_background": "light"
     },
     "output_type": "display_data"
    }
   ],
   "source": [
    "importance= pd.DataFrame({\"Importance\":final_model.feature_importances_*100},index=X_test.columns)\n",
    "importance.sort_values(by=\"Importance\",axis=0,ascending=True).plot(kind=\"barh\",color=\"r\")\n",
    "plt.xlabel(\"Variable Importance\")\n",
    "plt.gca().legend_=None"
   ]
  },
  {
   "cell_type": "markdown",
   "id": "abf86187",
   "metadata": {},
   "source": [
    "Breiman, and Friedman\n",
    "<br> \n",
    "Kearns, and Valiant\n",
    "<br>\n",
    "Schapires, and Freund"
   ]
  },
  {
   "cell_type": "markdown",
   "id": "c293a568",
   "metadata": {},
   "source": [
    "# <font color=\"orange\">Gradient Boosting Machines - GBM</font>\n",
    "->> The generalized version of AdaBoost.\n",
    "<br>\n",
    "->> Boosting method/s is an idea based on gathering weak learners together, revealing strong learners. \n",
    "<br>\n",
    "->> Bad prediction is a high  result of mean squared error of real and predicted values . The trees, which are predicting bad, are weak predictors.\n",
    "<br>\n",
    "->> This idea is suggested on 1990 but nobody actualized this idea.\n",
    "<br>\n",
    "->> Adaptive Boosting (AdaBoost) is an algorithm that aims to gather weak classifiers together, and create a strong classifier.\n",
    "<img src=\"./used_images/adaboost.jpg\" width=\"500\" height=\"500\">\n",
    "<br>\n",
    "->> Gradient boosting creates a series of models in the form of a single predictive model.\n",
    "<br>\n",
    "->> The model, inside of the series, is generated on (fit)  previous model's prediction outliers/errors (residuals).\n",
    "<br>\n",
    "->> Gradient Boosting Machines (GBM) uses Gradient Descent Algorithm.\n",
    "<br>\n",
    "->> Gradient Boosting can use base learner types like (Trees, linear terms, splines, etc..).\n",
    "<br>\n",
    "->> Cost and Link functions can be modified.\n",
    "<br>\n",
    "->> GBM consists of Boosting + Gradient Descent.\n",
    "\n",
    "### <font color=\"red\">Gradient Boosting Machines (GBM) Model and Prediction</font>"
   ]
  },
  {
   "cell_type": "code",
   "execution_count": 1,
   "id": "03b4dbab",
   "metadata": {},
   "outputs": [],
   "source": [
    "import pandas as pd\n",
    "import numpy as np\n",
    "import seaborn as sns\n",
    "import matplotlib.pyplot as plt\n",
    "from sklearn.metrics import r2_score, mean_squared_error\n",
    "from sklearn.model_selection import train_test_split,GridSearchCV\n",
    "from sklearn.tree import DecisionTreeRegressor\n",
    "from sklearn.ensemble import RandomForestRegressor\n",
    "from sklearn.ensemble import GradientBoostingRegressor\n",
    "#from warnings import filterwarnings\n",
    "#filterwarnings(\"ignore\")"
   ]
  },
  {
   "cell_type": "code",
   "execution_count": 2,
   "id": "a7916ce0",
   "metadata": {},
   "outputs": [],
   "source": [
    "df=pd.read_csv(\"./csv_files/Hitters.csv\")\n",
    "df.dropna(inplace=True)\n",
    "dms=pd.get_dummies(df[[\"League\",\"Division\",\"NewLeague\"]])\n",
    "y=df[[\"Salary\"]]\n",
    "X_=df.drop(columns=[\"Salary\",\"League\",\"Division\",\"NewLeague\"],axis=1).astype(\"float64\")\n",
    "X=pd.concat([X_,dms[[\"League_N\",\"Division_W\",\"NewLeague_N\"]]],axis=1)\n",
    "X_train, X_test, y_train, y_test= train_test_split(X,y,test_size=0.25,random_state=42)"
   ]
  },
  {
   "cell_type": "code",
   "execution_count": 3,
   "id": "c9c3d727",
   "metadata": {},
   "outputs": [
    {
     "name": "stderr",
     "output_type": "stream",
     "text": [
      "C:\\ProgramData\\Anaconda3\\lib\\site-packages\\sklearn\\ensemble\\_gb.py:494: DataConversionWarning: A column-vector y was passed when a 1d array was expected. Please change the shape of y to (n_samples, ), for example using ravel().\n",
      "  y = column_or_1d(y, warn=True)\n"
     ]
    },
    {
     "data": {
      "text/plain": [
       "GradientBoostingRegressor()"
      ]
     },
     "execution_count": 3,
     "metadata": {},
     "output_type": "execute_result"
    }
   ],
   "source": [
    "gbm_model=GradientBoostingRegressor().fit(X_train,y_train)\n",
    "gbm_model"
   ]
  },
  {
   "cell_type": "code",
   "execution_count": null,
   "id": "b689022d",
   "metadata": {},
   "outputs": [],
   "source": []
  },
  {
   "cell_type": "code",
   "execution_count": 4,
   "id": "fff6cd28",
   "metadata": {},
   "outputs": [
    {
     "data": {
      "text/plain": [
       "351.94846665396204"
      ]
     },
     "execution_count": 4,
     "metadata": {},
     "output_type": "execute_result"
    }
   ],
   "source": [
    "predicted=gbm_model.predict(X_test)\n",
    "np.sqrt(mean_squared_error(y_test,predicted)) # FIRST RMSE TEST ERROR"
   ]
  },
  {
   "cell_type": "markdown",
   "id": "780bb71e",
   "metadata": {},
   "source": [
    "### <font color=\"red\">Gradient Boosting Machines (GBM) Model Tuning</font>"
   ]
  },
  {
   "cell_type": "code",
   "execution_count": 5,
   "id": "48b14dd8",
   "metadata": {},
   "outputs": [
    {
     "name": "stdout",
     "output_type": "stream",
     "text": [
      "Fitting 10 folds for each of 243 candidates, totalling 2430 fits\n"
     ]
    },
    {
     "name": "stderr",
     "output_type": "stream",
     "text": [
      "C:\\ProgramData\\Anaconda3\\lib\\site-packages\\sklearn\\ensemble\\_gb.py:494: DataConversionWarning: A column-vector y was passed when a 1d array was expected. Please change the shape of y to (n_samples, ), for example using ravel().\n",
      "  y = column_or_1d(y, warn=True)\n",
      "C:\\ProgramData\\Anaconda3\\lib\\site-packages\\sklearn\\ensemble\\_gb.py:293: FutureWarning: The loss 'lad' was deprecated in v1.0 and will be removed in version 1.2. Use 'absolute_error' which is equivalent.\n",
      "  warnings.warn(\n"
     ]
    }
   ],
   "source": [
    "# criterion, learning_rate, loss, max_features, max_depth, n_estimators, subsample, \n",
    "gbm_params={\"n_estimators\": [100,200,500],\n",
    "            \"learning_rate\": [0.001,0.1,0.01],\n",
    "            \"max_depth\": [3,5,8],\n",
    "            \"subsample\": [1,0.5,0.8],\n",
    "            \"loss\": [\"ls\",\"lad\",\"quantile\"]} \n",
    "gbmcv_model=GridSearchCV(gbm_model,param_grid=gbm_params,cv=10,n_jobs=-1,verbose=2).fit(X_train,y_train)"
   ]
  },
  {
   "cell_type": "code",
   "execution_count": 7,
   "id": "d1438915",
   "metadata": {},
   "outputs": [
    {
     "name": "stdout",
     "output_type": "stream",
     "text": [
      "{'learning_rate': 0.01, 'loss': 'lad', 'max_depth': 3, 'n_estimators': 500, 'subsample': 0.8}\n"
     ]
    }
   ],
   "source": [
    "print(gbmcv_model.best_params_)"
   ]
  },
  {
   "cell_type": "code",
   "execution_count": 11,
   "id": "ea0d821e",
   "metadata": {},
   "outputs": [
    {
     "name": "stderr",
     "output_type": "stream",
     "text": [
      "C:\\ProgramData\\Anaconda3\\lib\\site-packages\\sklearn\\ensemble\\_gb.py:494: DataConversionWarning: A column-vector y was passed when a 1d array was expected. Please change the shape of y to (n_samples, ), for example using ravel().\n",
      "  y = column_or_1d(y, warn=True)\n",
      "C:\\ProgramData\\Anaconda3\\lib\\site-packages\\sklearn\\ensemble\\_gb.py:293: FutureWarning: The loss 'lad' was deprecated in v1.0 and will be removed in version 1.2. Use 'absolute_error' which is equivalent.\n",
      "  warnings.warn(\n"
     ]
    },
    {
     "name": "stdout",
     "output_type": "stream",
     "text": [
      "320.79979280703145\n"
     ]
    }
   ],
   "source": [
    "# final model\n",
    "final_model=GradientBoostingRegressor(n_estimators=500,learning_rate=0.01,loss=\"lad\",max_depth=3,subsample=0.8).fit(X_train,y_train)\n",
    "predicted=final_model.predict(X_test)\n",
    "print(np.sqrt(mean_squared_error(y_test,predicted)))"
   ]
  },
  {
   "cell_type": "code",
   "execution_count": 14,
   "id": "5dabfcab",
   "metadata": {},
   "outputs": [
    {
     "data": {
      "image/png": "[encoded data removed]",
      "text/plain": [
       "<Figure size 432x288 with 1 Axes>"
      ]
     },
     "metadata": {
      "needs_background": "light"
     },
     "output_type": "display_data"
    }
   ],
   "source": [
    "importance = pd.DataFrame({\"importance\":final_model.feature_importances_*100},index=X_train.columns)\n",
    "\n",
    "importance.sort_values(by=\"importance\",ascending=True).plot(kind=\"barh\",color=\"r\")\n",
    "\n",
    "plt.xlabel(\"Variable Importance\")\n",
    "plt.gca().legend_=None"
   ]
  },
  {
   "cell_type": "markdown",
   "id": "e5338d7a",
   "metadata": {},
   "source": [
    "# <font color=\"orange\">Extreme Gradient Boosting (XGBoost) </font>\n",
    "->> XGBoost is an another optimized case of GBM, that can be integrated to other platforms, scaled, and it is used to increase the speed and performance of GBM.\n",
    "<br>\n",
    "->> Can be used in pyton, R , Hadoop, Scala and Julia.\n",
    "<br>\n",
    "->> Can be Scaled\n",
    "<br>\n",
    "->> Fast\n",
    "<br>\n",
    "->> High Prediction Rate\n",
    "<br>\n",
    "->> It has proved its success in many kaggle competetions.\n",
    "\n",
    "### <font color=\"red\">Extreme Gradient Boosting (XGBoost) Model and Prediction </font>"
   ]
  },
  {
   "cell_type": "code",
   "execution_count": 23,
   "id": "fa0e90d6",
   "metadata": {},
   "outputs": [
    {
     "name": "stdout",
     "output_type": "stream",
     "text": [
      "Defaulting to user installation because normal site-packages is not writeable\n",
      "Requirement already satisfied: xgboost in c:\\users\\a12gs\\appdata\\roaming\\python\\python39\\site-packages (1.6.2)\n",
      "Requirement already satisfied: scipy in c:\\programdata\\anaconda3\\lib\\site-packages (from xgboost) (1.7.3)\n",
      "Requirement already satisfied: numpy in c:\\programdata\\anaconda3\\lib\\site-packages (from xgboost) (1.21.5)\n"
     ]
    }
   ],
   "source": [
    "import numpy as np\n",
    "import pandas as pd\n",
    "import matplotlib.pyplot as plt\n",
    "import seaborn as sns\n",
    "import xgboost\n",
    "from xgboost import XGBRegressor\n",
    "from sklearn.metrics import r2_score,mean_squared_error\n",
    "from sklearn.tree import DecisionTreeRegressor\n",
    "from sklearn.model_selection import GridSearchCV,train_test_split\n",
    "!pip install xgboost"
   ]
  },
  {
   "cell_type": "code",
   "execution_count": 24,
   "id": "8cc2d6b2",
   "metadata": {},
   "outputs": [],
   "source": [
    "df=pd.read_csv(\"./csv_files/Hitters.csv\")\n",
    "df.dropna(inplace=True)\n",
    "dms=pd.get_dummies(df[[\"League\",\"Division\",\"NewLeague\"]])\n",
    "y=df[[\"Salary\"]]\n",
    "X_=df.drop(columns=[\"Salary\",\"League\",\"Division\",\"NewLeague\"],axis=1).astype(\"float64\")\n",
    "X=pd.concat([X_,dms[[\"League_N\",\"Division_W\",\"NewLeague_N\"]]],axis=1)\n",
    "X_train, X_test, y_train, y_test= train_test_split(X,y,test_size=0.25,random_state=42)"
   ]
  },
  {
   "cell_type": "code",
   "execution_count": 25,
   "id": "8ed77a1d",
   "metadata": {},
   "outputs": [
    {
     "data": {
      "text/plain": [
       "355.46515176059927"
      ]
     },
     "execution_count": 25,
     "metadata": {},
     "output_type": "execute_result"
    }
   ],
   "source": [
    "xgb_model=XGBRegressor().fit(X_train,y_train)\n",
    "predicted=xgb_model.predict(X_test)\n",
    "np.sqrt(mean_squared_error(y_test,predicted))"
   ]
  },
  {
   "cell_type": "markdown",
   "id": "fd90aa53",
   "metadata": {},
   "source": [
    "### <font color=\"red\">Extreme Gradient Boosting (XGBoost) Model Tuning </font>"
   ]
  },
  {
   "cell_type": "code",
   "execution_count": 20,
   "id": "6f9fd7c6",
   "metadata": {},
   "outputs": [
    {
     "name": "stdout",
     "output_type": "stream",
     "text": [
      "Fitting 10 folds for each of 180 candidates, totalling 1800 fits\n"
     ]
    }
   ],
   "source": [
    "# laerning_rate is used to avoid overfitting\n",
    "# n_estimators -> how many trees will be used\n",
    "# colsample_bytree -> it states the rate of subsamples which are gotten from trees\n",
    "xgb_params={\"learning_rate\":[0.1,0.01,0.5],\n",
    "           \"max_depth\":[2,3,4,5,8],\n",
    "           \"n_estimators\":[100,200,500,1000],\n",
    "           \"colsample_bytree\":[0.4,0.7,1]}\n",
    "xgbcv_model=GridSearchCV(xgb_model,param_grid=xgb_params,cv=10,n_jobs=-1,verbose=2).fit(X_train,y_train)"
   ]
  },
  {
   "cell_type": "code",
   "execution_count": 21,
   "id": "58f87ad3",
   "metadata": {},
   "outputs": [
    {
     "data": {
      "text/plain": [
       "{'colsample_bytree': 0.4,\n",
       " 'learning_rate': 0.1,\n",
       " 'max_depth': 2,\n",
       " 'n_estimators': 1000}"
      ]
     },
     "execution_count": 21,
     "metadata": {},
     "output_type": "execute_result"
    }
   ],
   "source": [
    "xgbcv_model.best_params_"
   ]
  },
  {
   "cell_type": "code",
   "execution_count": 22,
   "id": "2535c905",
   "metadata": {},
   "outputs": [
    {
     "data": {
      "text/plain": [
       "367.8515299923177"
      ]
     },
     "execution_count": 22,
     "metadata": {},
     "output_type": "execute_result"
    }
   ],
   "source": [
    "# final model\n",
    "\n",
    "final_model=XGBRegressor(n_estimators=1000,learning_rate=0.1,colsample_bytree=0.4,max_depth=2).fit(X_train,y_train)\n",
    "predicted=final_model.predict(X_test)\n",
    "np.sqrt(mean_squared_error(y_test,predicted))"
   ]
  },
  {
   "cell_type": "code",
   "execution_count": 27,
   "id": "83a9d170",
   "metadata": {},
   "outputs": [
    {
     "data": {
      "image/png": "[encoded data removed]",
      "text/plain": [
       "<Figure size 432x288 with 1 Axes>"
      ]
     },
     "metadata": {
      "needs_background": "light"
     },
     "output_type": "display_data"
    }
   ],
   "source": [
    "importance = pd.DataFrame({\"importance\":final_model.feature_importances_*100},index=X_train.columns)\n",
    "\n",
    "importance.sort_values(by=\"importance\",ascending=True).plot(kind=\"barh\",color=\"r\")\n",
    "\n",
    "plt.xlabel(\"Variable Importance\")\n",
    "plt.gca().legend_=None"
   ]
  },
  {
   "cell_type": "markdown",
   "id": "34b03563",
   "metadata": {},
   "source": [
    "# <font color=\"orange\">Light GBM </font>\n",
    "->> Light GBM is another developed type of GBM, that aimed to increase to performance of XGBoost's train time. <b>(Microsoft's Algorithm)</b>\n",
    "<br>\n",
    "->> When dataset and parameter number is increased, thje XGBoost's train time can be longer, so as a solution, LightGBM is developed for this problem \n",
    "<br>\n",
    "->> <b><font color=\"purple\"> Why LightGBM has more performance ? </font></b>\n",
    "<br>\n",
    "->> Light GBM is used Leaf-wise growth strategy, Depth First instead of Level Wise and Breadth-first.\n",
    "<br>\n",
    "->> The difference appears on the splitting processes, to splitting variables,and to discover different points of them, XGBoost is used Level-wise tree growth strategy also we can call like using Decision Trees. \n",
    "<br>\n",
    "->> On the other hand, LightGBM is focused on splitting process to better fitting and creating a better model, this process is called as Leaf_wise growth strategy.\n",
    "\n",
    "### <font color=\"red\">Light GBM Model and Prediction</font>"
   ]
  },
  {
   "cell_type": "code",
   "execution_count": 2,
   "id": "cd596002",
   "metadata": {},
   "outputs": [
    {
     "name": "stdout",
     "output_type": "stream",
     "text": [
      "Defaulting to user installation because normal site-packages is not writeable\n",
      "Requirement already satisfied: lightgbm in c:\\users\\a12gs\\appdata\\roaming\\python\\python39\\site-packages (3.3.2)\n",
      "Requirement already satisfied: numpy in c:\\programdata\\anaconda3\\lib\\site-packages (from lightgbm) (1.21.5)\n",
      "Requirement already satisfied: scipy in c:\\programdata\\anaconda3\\lib\\site-packages (from lightgbm) (1.7.3)\n",
      "Requirement already satisfied: wheel in c:\\programdata\\anaconda3\\lib\\site-packages (from lightgbm) (0.37.1)\n",
      "Requirement already satisfied: scikit-learn!=0.22.0 in c:\\programdata\\anaconda3\\lib\\site-packages (from lightgbm) (1.0.2)\n",
      "Requirement already satisfied: joblib>=0.11 in c:\\programdata\\anaconda3\\lib\\site-packages (from scikit-learn!=0.22.0->lightgbm) (1.1.0)\n",
      "Requirement already satisfied: threadpoolctl>=2.0.0 in c:\\programdata\\anaconda3\\lib\\site-packages (from scikit-learn!=0.22.0->lightgbm) (2.2.0)\n"
     ]
    }
   ],
   "source": [
    "from lightgbm import LGBMRegressor\n",
    "!pip install lightgbm "
   ]
  },
  {
   "cell_type": "code",
   "execution_count": 28,
   "id": "18bc291d",
   "metadata": {},
   "outputs": [],
   "source": [
    "df=pd.read_csv(\"./csv_files/Hitters.csv\")\n",
    "df.dropna(inplace=True)\n",
    "dms=pd.get_dummies(df[[\"League\",\"Division\",\"NewLeague\"]])\n",
    "y=df[[\"Salary\"]]\n",
    "X_=df.drop(columns=[\"Salary\",\"League\",\"Division\",\"NewLeague\"],axis=1).astype(\"float64\")\n",
    "X=pd.concat([X_,dms[[\"League_N\",\"Division_W\",\"NewLeague_N\"]]],axis=1)\n",
    "X_train, X_test, y_train, y_test= train_test_split(X,y,test_size=0.25,random_state=42)"
   ]
  },
  {
   "cell_type": "code",
   "execution_count": 31,
   "id": "453673be",
   "metadata": {},
   "outputs": [
    {
     "data": {
      "text/plain": [
       "363.8712087611089"
      ]
     },
     "execution_count": 31,
     "metadata": {},
     "output_type": "execute_result"
    }
   ],
   "source": [
    "lgbm_model=LGBMRegressor().fit(X_train,y_train)\n",
    "predicted=lgbm_model.predict(X_test)\n",
    "np.sqrt(mean_squared_error(y_test,predicted))"
   ]
  },
  {
   "cell_type": "markdown",
   "id": "979b8fc3",
   "metadata": {},
   "source": [
    "### <font color=\"red\">Light GBM Model Tuning</font>"
   ]
  },
  {
   "cell_type": "code",
   "execution_count": 37,
   "id": "b29d1248",
   "metadata": {},
   "outputs": [
    {
     "name": "stdout",
     "output_type": "stream",
     "text": [
      "Fitting 10 folds for each of 240 candidates, totalling 2400 fits\n"
     ]
    },
    {
     "data": {
      "text/plain": [
       "{'learning_rate': 0.1, 'max_depth': 6, 'n_estimators': 20}"
      ]
     },
     "execution_count": 37,
     "metadata": {},
     "output_type": "execute_result"
    }
   ],
   "source": [
    "# learning_rate, n_estimators, max_depth, colsample_bytree\n",
    "\n",
    "lgbm_params={\"learning_rate\":[0.01,0.1,0.5,1],\n",
    "             \"n_estimators\":[20,40,100,200,500,1000],\n",
    "             \"max_depth\":[1,2,3,4,5,6,7,8,9,10],\n",
    "            }\n",
    "lgbm_cv_model=GridSearchCV(lgbm_model,param_grid=lgbm_params,cv=10,n_jobs=-1,verbose=2).fit(X_train,y_train)\n",
    "lgbm_cv_model.best_params_"
   ]
  },
  {
   "cell_type": "code",
   "execution_count": 41,
   "id": "317aa7da",
   "metadata": {},
   "outputs": [
    {
     "data": {
      "text/plain": [
       "371.5044868943621"
      ]
     },
     "execution_count": 41,
     "metadata": {},
     "output_type": "execute_result"
    }
   ],
   "source": [
    "# final model\n",
    "final_model=LGBMRegressor(learning_rate=0.1,max_depth=6,n_estimators=20).fit(X_train,y_train)\n",
    "predicted=final_model.predict(X_test)\n",
    "np.sqrt(mean_squared_error(y_test,predicted))"
   ]
  },
  {
   "cell_type": "code",
   "execution_count": 44,
   "id": "356df761",
   "metadata": {},
   "outputs": [
    {
     "data": {
      "image/png": "[encoded data removed]",
      "text/plain": [
       "<Figure size 432x288 with 1 Axes>"
      ]
     },
     "metadata": {
      "needs_background": "light"
     },
     "output_type": "display_data"
    }
   ],
   "source": [
    "importance = pd.DataFrame({\"importance\":final_model.feature_importances_*100},index=X_train.columns)\n",
    "\n",
    "importance.sort_values(by=\"importance\",ascending=True).plot(kind=\"barh\",color=\"r\")\n",
    "\n",
    "plt.xlabel(\"Varaible Importance\")\n",
    "plt.gca().legend_=None"
   ]
  },
  {
   "cell_type": "markdown",
   "id": "4c48382b",
   "metadata": {},
   "source": [
    "# <font color=\"orange\">Category Boosting (CatBoost) </font>\n",
    "->> CatBoost is an another form of GBM that can handle categorical variables as automatically, fast and successful. <b>(Yandex)</b>\n",
    "<br>\n",
    "->> This is one of the good algorithm that can handle when we have important or more categorical variables.\n",
    "<br>\n",
    "->> In the methods, which are based on Tree methods, the data analysts can transform numerical values to categorical variables to make branching easier, and increasing tree performance.\n",
    "<br>\n",
    "->> Categorical Variable Support.\n",
    "<br>\n",
    "->> Fast and Scalable GPU Support.\n",
    "<br>\n",
    "->> More Successful Predictions.\n",
    "<br>\n",
    "->> Fast Train and Prediction.\n",
    "<br>\n",
    "->> The First open-source and successful Machine Learning work of Russia.\n",
    "\n",
    "### <font color=\"red\">Category Boosting (CatBoost) Model and Prediction </font>"
   ]
  },
  {
   "cell_type": "code",
   "execution_count": 47,
   "id": "112ca385",
   "metadata": {},
   "outputs": [],
   "source": [
    "from catboost import CatBoostRegressor\n",
    "!pip install catboost"
   ]
  },
  {
   "cell_type": "code",
   "execution_count": 49,
   "id": "e7997056",
   "metadata": {
    "scrolled": true
   },
   "outputs": [
    {
     "name": "stdout",
     "output_type": "stream",
     "text": [
      "Learning rate set to 0.031674\n",
      "0:\tlearn: 437.6430699\ttotal: 7.92ms\tremaining: 7.91s\n",
      "1:\tlearn: 431.3923642\ttotal: 9.47ms\tremaining: 4.73s\n",
      "2:\tlearn: 424.8820360\ttotal: 10.9ms\tremaining: 3.61s\n",
      "3:\tlearn: 418.2514904\ttotal: 12.4ms\tremaining: 3.08s\n",
      "4:\tlearn: 412.6394021\ttotal: 13.8ms\tremaining: 2.75s\n",
      "5:\tlearn: 406.6247020\ttotal: 15.3ms\tremaining: 2.53s\n",
      "6:\tlearn: 400.5321206\ttotal: 16.8ms\tremaining: 2.38s\n",
      "7:\tlearn: 394.6683437\ttotal: 18.2ms\tremaining: 2.26s\n",
      "8:\tlearn: 388.2496484\ttotal: 19.6ms\tremaining: 2.16s\n",
      "9:\tlearn: 382.9448842\ttotal: 21.1ms\tremaining: 2.09s\n",
      "10:\tlearn: 377.2600080\ttotal: 22.6ms\tremaining: 2.03s\n",
      "11:\tlearn: 372.4829606\ttotal: 24ms\tremaining: 1.97s\n",
      "12:\tlearn: 366.6823437\ttotal: 25.1ms\tremaining: 1.91s\n",
      "13:\tlearn: 362.6076230\ttotal: 26.3ms\tremaining: 1.85s\n",
      "14:\tlearn: 358.0107745\ttotal: 27.8ms\tremaining: 1.83s\n",
      "15:\tlearn: 353.2802665\ttotal: 29.1ms\tremaining: 1.79s\n",
      "16:\tlearn: 348.5646265\ttotal: 31.1ms\tremaining: 1.79s\n",
      "17:\tlearn: 343.6407912\ttotal: 32.6ms\tremaining: 1.78s\n",
      "18:\tlearn: 339.2363847\ttotal: 34ms\tremaining: 1.75s\n",
      "19:\tlearn: 334.3431252\ttotal: 35.3ms\tremaining: 1.73s\n",
      "20:\tlearn: 330.3247028\ttotal: 36.6ms\tremaining: 1.71s\n",
      "21:\tlearn: 326.6118334\ttotal: 38.4ms\tremaining: 1.71s\n",
      "22:\tlearn: 322.7759981\ttotal: 39.9ms\tremaining: 1.7s\n",
      "23:\tlearn: 318.9511822\ttotal: 41.5ms\tremaining: 1.69s\n",
      "24:\tlearn: 315.4216253\ttotal: 42.9ms\tremaining: 1.67s\n",
      "25:\tlearn: 311.3551377\ttotal: 44.6ms\tremaining: 1.67s\n",
      "26:\tlearn: 308.1492371\ttotal: 46.5ms\tremaining: 1.68s\n",
      "27:\tlearn: 304.7284729\ttotal: 48ms\tremaining: 1.67s\n",
      "28:\tlearn: 301.3893204\ttotal: 49.1ms\tremaining: 1.65s\n",
      "29:\tlearn: 298.2080758\ttotal: 50.3ms\tremaining: 1.63s\n",
      "30:\tlearn: 295.6878398\ttotal: 51.4ms\tremaining: 1.6s\n",
      "31:\tlearn: 292.3912243\ttotal: 52.9ms\tremaining: 1.6s\n",
      "32:\tlearn: 289.6345744\ttotal: 54.2ms\tremaining: 1.59s\n",
      "33:\tlearn: 287.2158711\ttotal: 55.4ms\tremaining: 1.57s\n",
      "34:\tlearn: 284.3879081\ttotal: 56.5ms\tremaining: 1.56s\n",
      "35:\tlearn: 281.7994818\ttotal: 57.7ms\tremaining: 1.54s\n",
      "36:\tlearn: 279.2028261\ttotal: 59.1ms\tremaining: 1.54s\n",
      "37:\tlearn: 276.5821160\ttotal: 60.4ms\tremaining: 1.53s\n",
      "38:\tlearn: 273.8890894\ttotal: 61.7ms\tremaining: 1.52s\n",
      "39:\tlearn: 271.1681677\ttotal: 62.9ms\tremaining: 1.51s\n",
      "40:\tlearn: 269.0159531\ttotal: 64ms\tremaining: 1.5s\n",
      "41:\tlearn: 266.3601804\ttotal: 65.1ms\tremaining: 1.48s\n",
      "42:\tlearn: 263.8608958\ttotal: 66.3ms\tremaining: 1.48s\n",
      "43:\tlearn: 261.1405566\ttotal: 67.6ms\tremaining: 1.47s\n",
      "44:\tlearn: 258.9314736\ttotal: 68.8ms\tremaining: 1.46s\n",
      "45:\tlearn: 256.3885577\ttotal: 70ms\tremaining: 1.45s\n",
      "46:\tlearn: 254.2857349\ttotal: 71.2ms\tremaining: 1.44s\n",
      "47:\tlearn: 252.2347121\ttotal: 72.6ms\tremaining: 1.44s\n",
      "48:\tlearn: 250.1779367\ttotal: 73.9ms\tremaining: 1.43s\n",
      "49:\tlearn: 248.2687430\ttotal: 75.2ms\tremaining: 1.43s\n",
      "50:\tlearn: 246.3685582\ttotal: 76.4ms\tremaining: 1.42s\n",
      "51:\tlearn: 244.8719988\ttotal: 77.6ms\tremaining: 1.41s\n",
      "52:\tlearn: 242.7348892\ttotal: 78.8ms\tremaining: 1.41s\n",
      "53:\tlearn: 241.1611112\ttotal: 80.2ms\tremaining: 1.4s\n",
      "54:\tlearn: 239.4819462\ttotal: 81.3ms\tremaining: 1.4s\n",
      "55:\tlearn: 237.3877895\ttotal: 82.5ms\tremaining: 1.39s\n",
      "56:\tlearn: 235.7619262\ttotal: 83.7ms\tremaining: 1.38s\n",
      "57:\tlearn: 233.9604804\ttotal: 84.8ms\tremaining: 1.38s\n",
      "58:\tlearn: 232.4948011\ttotal: 86ms\tremaining: 1.37s\n",
      "59:\tlearn: 230.6283304\ttotal: 87.1ms\tremaining: 1.36s\n",
      "60:\tlearn: 228.9920307\ttotal: 88.2ms\tremaining: 1.36s\n",
      "61:\tlearn: 227.5197637\ttotal: 89.3ms\tremaining: 1.35s\n",
      "62:\tlearn: 226.0561213\ttotal: 90.5ms\tremaining: 1.35s\n",
      "63:\tlearn: 224.3484762\ttotal: 91.7ms\tremaining: 1.34s\n",
      "64:\tlearn: 223.0652023\ttotal: 92.9ms\tremaining: 1.33s\n",
      "65:\tlearn: 221.6608069\ttotal: 94ms\tremaining: 1.33s\n",
      "66:\tlearn: 220.2445284\ttotal: 95.1ms\tremaining: 1.32s\n",
      "67:\tlearn: 219.0044262\ttotal: 96.3ms\tremaining: 1.32s\n",
      "68:\tlearn: 217.4624313\ttotal: 97.3ms\tremaining: 1.31s\n",
      "69:\tlearn: 216.0502248\ttotal: 98.4ms\tremaining: 1.31s\n",
      "70:\tlearn: 214.5361705\ttotal: 99.6ms\tremaining: 1.3s\n",
      "71:\tlearn: 213.1812509\ttotal: 101ms\tremaining: 1.3s\n",
      "72:\tlearn: 211.7399390\ttotal: 102ms\tremaining: 1.29s\n",
      "73:\tlearn: 210.5557639\ttotal: 103ms\tremaining: 1.29s\n",
      "74:\tlearn: 209.4242283\ttotal: 104ms\tremaining: 1.28s\n",
      "75:\tlearn: 208.4366109\ttotal: 105ms\tremaining: 1.28s\n",
      "76:\tlearn: 207.4514860\ttotal: 106ms\tremaining: 1.27s\n",
      "77:\tlearn: 206.1912213\ttotal: 107ms\tremaining: 1.27s\n",
      "78:\tlearn: 205.2585316\ttotal: 108ms\tremaining: 1.26s\n",
      "79:\tlearn: 203.8747879\ttotal: 110ms\tremaining: 1.26s\n",
      "80:\tlearn: 202.5993031\ttotal: 111ms\tremaining: 1.26s\n",
      "81:\tlearn: 201.4719061\ttotal: 112ms\tremaining: 1.25s\n",
      "82:\tlearn: 200.2871874\ttotal: 113ms\tremaining: 1.25s\n",
      "83:\tlearn: 199.1074683\ttotal: 114ms\tremaining: 1.25s\n",
      "84:\tlearn: 197.8511342\ttotal: 115ms\tremaining: 1.24s\n",
      "85:\tlearn: 196.8788042\ttotal: 116ms\tremaining: 1.24s\n",
      "86:\tlearn: 195.9815130\ttotal: 117ms\tremaining: 1.23s\n",
      "87:\tlearn: 195.0807956\ttotal: 118ms\tremaining: 1.23s\n",
      "88:\tlearn: 193.9775466\ttotal: 120ms\tremaining: 1.22s\n",
      "89:\tlearn: 192.8810426\ttotal: 121ms\tremaining: 1.22s\n",
      "90:\tlearn: 192.5363626\ttotal: 122ms\tremaining: 1.22s\n",
      "91:\tlearn: 191.3259849\ttotal: 123ms\tremaining: 1.22s\n",
      "92:\tlearn: 190.3650025\ttotal: 124ms\tremaining: 1.21s\n",
      "93:\tlearn: 189.3255643\ttotal: 125ms\tremaining: 1.21s\n",
      "94:\tlearn: 188.2433480\ttotal: 126ms\tremaining: 1.2s\n",
      "95:\tlearn: 187.2786096\ttotal: 128ms\tremaining: 1.2s\n",
      "96:\tlearn: 186.1284681\ttotal: 129ms\tremaining: 1.2s\n",
      "97:\tlearn: 185.0190872\ttotal: 130ms\tremaining: 1.2s\n",
      "98:\tlearn: 184.2888024\ttotal: 131ms\tremaining: 1.19s\n",
      "99:\tlearn: 183.3111217\ttotal: 132ms\tremaining: 1.19s\n",
      "100:\tlearn: 182.2519940\ttotal: 133ms\tremaining: 1.19s\n",
      "101:\tlearn: 181.0186200\ttotal: 134ms\tremaining: 1.18s\n",
      "102:\tlearn: 179.9672344\ttotal: 135ms\tremaining: 1.18s\n",
      "103:\tlearn: 178.9776753\ttotal: 136ms\tremaining: 1.18s\n",
      "104:\tlearn: 178.2445101\ttotal: 138ms\tremaining: 1.17s\n",
      "105:\tlearn: 177.4055906\ttotal: 139ms\tremaining: 1.17s\n",
      "106:\tlearn: 176.2405445\ttotal: 140ms\tremaining: 1.17s\n",
      "107:\tlearn: 175.1813091\ttotal: 141ms\tremaining: 1.17s\n",
      "108:\tlearn: 174.5537682\ttotal: 143ms\tremaining: 1.17s\n",
      "109:\tlearn: 173.8231890\ttotal: 144ms\tremaining: 1.17s\n",
      "110:\tlearn: 172.9324461\ttotal: 145ms\tremaining: 1.16s\n",
      "111:\tlearn: 172.0019421\ttotal: 146ms\tremaining: 1.16s\n",
      "112:\tlearn: 171.2945678\ttotal: 148ms\tremaining: 1.16s\n",
      "113:\tlearn: 170.4815313\ttotal: 149ms\tremaining: 1.16s\n",
      "114:\tlearn: 169.9491294\ttotal: 150ms\tremaining: 1.15s\n",
      "115:\tlearn: 169.2483859\ttotal: 151ms\tremaining: 1.15s\n",
      "116:\tlearn: 168.7342383\ttotal: 152ms\tremaining: 1.15s\n",
      "117:\tlearn: 168.1837140\ttotal: 154ms\tremaining: 1.15s\n",
      "118:\tlearn: 167.1222358\ttotal: 155ms\tremaining: 1.14s\n",
      "119:\tlearn: 166.3472734\ttotal: 156ms\tremaining: 1.14s\n",
      "120:\tlearn: 165.5330342\ttotal: 157ms\tremaining: 1.14s\n",
      "121:\tlearn: 164.8476246\ttotal: 158ms\tremaining: 1.14s\n",
      "122:\tlearn: 164.2399797\ttotal: 159ms\tremaining: 1.13s\n",
      "123:\tlearn: 164.0121571\ttotal: 160ms\tremaining: 1.13s\n",
      "124:\tlearn: 162.9794212\ttotal: 161ms\tremaining: 1.13s\n",
      "125:\tlearn: 162.2095741\ttotal: 162ms\tremaining: 1.13s\n",
      "126:\tlearn: 161.1695920\ttotal: 163ms\tremaining: 1.12s\n",
      "127:\tlearn: 160.3516612\ttotal: 165ms\tremaining: 1.12s\n",
      "128:\tlearn: 159.1596356\ttotal: 166ms\tremaining: 1.12s\n",
      "129:\tlearn: 158.5354394\ttotal: 168ms\tremaining: 1.12s\n",
      "130:\tlearn: 157.5922383\ttotal: 169ms\tremaining: 1.12s\n",
      "131:\tlearn: 156.9689796\ttotal: 171ms\tremaining: 1.12s\n",
      "132:\tlearn: 156.4170623\ttotal: 172ms\tremaining: 1.12s\n",
      "133:\tlearn: 156.1222595\ttotal: 173ms\tremaining: 1.12s\n",
      "134:\tlearn: 155.5996569\ttotal: 174ms\tremaining: 1.12s\n",
      "135:\tlearn: 154.8990155\ttotal: 176ms\tremaining: 1.12s\n",
      "136:\tlearn: 154.3704896\ttotal: 177ms\tremaining: 1.12s\n",
      "137:\tlearn: 153.8560012\ttotal: 179ms\tremaining: 1.12s\n",
      "138:\tlearn: 153.2399938\ttotal: 180ms\tremaining: 1.12s\n",
      "139:\tlearn: 152.2142414\ttotal: 182ms\tremaining: 1.12s\n",
      "140:\tlearn: 151.5976950\ttotal: 183ms\tremaining: 1.11s\n",
      "141:\tlearn: 151.4426506\ttotal: 185ms\tremaining: 1.12s\n",
      "142:\tlearn: 150.8467135\ttotal: 186ms\tremaining: 1.11s\n",
      "143:\tlearn: 150.0175883\ttotal: 188ms\tremaining: 1.12s\n",
      "144:\tlearn: 149.6327647\ttotal: 189ms\tremaining: 1.11s\n",
      "145:\tlearn: 148.9265718\ttotal: 191ms\tremaining: 1.11s\n",
      "146:\tlearn: 148.4460764\ttotal: 192ms\tremaining: 1.11s\n",
      "147:\tlearn: 147.8108318\ttotal: 193ms\tremaining: 1.11s\n",
      "148:\tlearn: 147.2766525\ttotal: 195ms\tremaining: 1.11s\n",
      "149:\tlearn: 146.8537279\ttotal: 196ms\tremaining: 1.11s\n",
      "150:\tlearn: 146.0227438\ttotal: 197ms\tremaining: 1.11s\n",
      "151:\tlearn: 145.5603059\ttotal: 198ms\tremaining: 1.11s\n",
      "152:\tlearn: 145.0318400\ttotal: 199ms\tremaining: 1.1s\n",
      "153:\tlearn: 144.6082188\ttotal: 201ms\tremaining: 1.1s\n",
      "154:\tlearn: 144.2070501\ttotal: 202ms\tremaining: 1.1s\n",
      "155:\tlearn: 143.8060676\ttotal: 203ms\tremaining: 1.1s\n",
      "156:\tlearn: 143.3819707\ttotal: 205ms\tremaining: 1.1s\n",
      "157:\tlearn: 143.0764402\ttotal: 206ms\tremaining: 1.1s\n",
      "158:\tlearn: 142.4609449\ttotal: 207ms\tremaining: 1.09s\n",
      "159:\tlearn: 142.3321970\ttotal: 208ms\tremaining: 1.09s\n",
      "160:\tlearn: 141.9044208\ttotal: 209ms\tremaining: 1.09s\n",
      "161:\tlearn: 141.4544471\ttotal: 210ms\tremaining: 1.09s\n",
      "162:\tlearn: 140.9391569\ttotal: 211ms\tremaining: 1.08s\n",
      "163:\tlearn: 140.3413557\ttotal: 213ms\tremaining: 1.08s\n",
      "164:\tlearn: 139.7992277\ttotal: 214ms\tremaining: 1.08s\n",
      "165:\tlearn: 139.3139418\ttotal: 215ms\tremaining: 1.08s\n",
      "166:\tlearn: 139.1617594\ttotal: 216ms\tremaining: 1.08s\n",
      "167:\tlearn: 138.8837397\ttotal: 217ms\tremaining: 1.08s\n",
      "168:\tlearn: 138.6951410\ttotal: 219ms\tremaining: 1.07s\n",
      "169:\tlearn: 138.0167618\ttotal: 220ms\tremaining: 1.07s\n",
      "170:\tlearn: 137.7020324\ttotal: 221ms\tremaining: 1.07s\n",
      "171:\tlearn: 137.1976478\ttotal: 222ms\tremaining: 1.07s\n",
      "172:\tlearn: 136.6670434\ttotal: 223ms\tremaining: 1.06s\n",
      "173:\tlearn: 136.4670074\ttotal: 224ms\tremaining: 1.06s\n",
      "174:\tlearn: 136.0663779\ttotal: 226ms\tremaining: 1.06s\n",
      "175:\tlearn: 135.9542221\ttotal: 227ms\tremaining: 1.06s\n",
      "176:\tlearn: 135.6178437\ttotal: 228ms\tremaining: 1.06s\n",
      "177:\tlearn: 134.6062854\ttotal: 230ms\tremaining: 1.06s\n",
      "178:\tlearn: 134.5063344\ttotal: 230ms\tremaining: 1.05s\n",
      "179:\tlearn: 133.9371247\ttotal: 232ms\tremaining: 1.05s\n",
      "180:\tlearn: 133.8431589\ttotal: 232ms\tremaining: 1.05s\n",
      "181:\tlearn: 133.4293648\ttotal: 234ms\tremaining: 1.05s\n",
      "182:\tlearn: 133.2065999\ttotal: 236ms\tremaining: 1.05s\n",
      "183:\tlearn: 132.9235113\ttotal: 237ms\tremaining: 1.05s\n",
      "184:\tlearn: 132.6695944\ttotal: 239ms\tremaining: 1.05s\n",
      "185:\tlearn: 132.3135234\ttotal: 241ms\tremaining: 1.05s\n",
      "186:\tlearn: 132.2233433\ttotal: 242ms\tremaining: 1.05s\n",
      "187:\tlearn: 132.0628764\ttotal: 243ms\tremaining: 1.05s\n",
      "188:\tlearn: 131.8624217\ttotal: 245ms\tremaining: 1.05s\n",
      "189:\tlearn: 131.3846390\ttotal: 246ms\tremaining: 1.05s\n",
      "190:\tlearn: 131.0638781\ttotal: 248ms\tremaining: 1.05s\n",
      "191:\tlearn: 130.4721276\ttotal: 249ms\tremaining: 1.05s\n",
      "192:\tlearn: 129.9910319\ttotal: 251ms\tremaining: 1.05s\n",
      "193:\tlearn: 129.7074214\ttotal: 252ms\tremaining: 1.05s\n",
      "194:\tlearn: 129.0491404\ttotal: 253ms\tremaining: 1.04s\n",
      "195:\tlearn: 128.6928621\ttotal: 255ms\tremaining: 1.04s\n",
      "196:\tlearn: 128.5117514\ttotal: 256ms\tremaining: 1.04s\n",
      "197:\tlearn: 128.4035709\ttotal: 258ms\tremaining: 1.04s\n",
      "198:\tlearn: 127.9924182\ttotal: 259ms\tremaining: 1.04s\n",
      "199:\tlearn: 127.7690317\ttotal: 261ms\tremaining: 1.04s\n",
      "200:\tlearn: 127.6252249\ttotal: 264ms\tremaining: 1.05s\n",
      "201:\tlearn: 127.4951417\ttotal: 266ms\tremaining: 1.05s\n",
      "202:\tlearn: 127.0315349\ttotal: 268ms\tremaining: 1.05s\n",
      "203:\tlearn: 126.7791475\ttotal: 270ms\tremaining: 1.05s\n",
      "204:\tlearn: 126.4903107\ttotal: 272ms\tremaining: 1.05s\n",
      "205:\tlearn: 126.0664803\ttotal: 274ms\tremaining: 1.05s\n",
      "206:\tlearn: 125.3934071\ttotal: 275ms\tremaining: 1.05s\n",
      "207:\tlearn: 125.0899622\ttotal: 277ms\tremaining: 1.05s\n",
      "208:\tlearn: 124.7757310\ttotal: 279ms\tremaining: 1.06s\n",
      "209:\tlearn: 124.5475960\ttotal: 281ms\tremaining: 1.06s\n",
      "210:\tlearn: 124.1962887\ttotal: 282ms\tremaining: 1.05s\n",
      "211:\tlearn: 123.9686937\ttotal: 283ms\tremaining: 1.05s\n",
      "212:\tlearn: 123.0280048\ttotal: 285ms\tremaining: 1.05s\n",
      "213:\tlearn: 122.5447141\ttotal: 287ms\tremaining: 1.05s\n",
      "214:\tlearn: 122.1785305\ttotal: 288ms\tremaining: 1.05s\n",
      "215:\tlearn: 121.4403560\ttotal: 289ms\tremaining: 1.05s\n",
      "216:\tlearn: 120.8269584\ttotal: 291ms\tremaining: 1.05s\n",
      "217:\tlearn: 120.2399329\ttotal: 292ms\tremaining: 1.05s\n",
      "218:\tlearn: 119.4852557\ttotal: 294ms\tremaining: 1.05s\n",
      "219:\tlearn: 119.2094151\ttotal: 296ms\tremaining: 1.05s\n",
      "220:\tlearn: 119.0417229\ttotal: 297ms\tremaining: 1.05s\n",
      "221:\tlearn: 118.9557915\ttotal: 299ms\tremaining: 1.05s\n",
      "222:\tlearn: 118.3082421\ttotal: 300ms\tremaining: 1.05s\n",
      "223:\tlearn: 117.7364211\ttotal: 302ms\tremaining: 1.04s\n",
      "224:\tlearn: 117.6324235\ttotal: 303ms\tremaining: 1.04s\n",
      "225:\tlearn: 117.2879743\ttotal: 305ms\tremaining: 1.04s\n",
      "226:\tlearn: 117.0422612\ttotal: 307ms\tremaining: 1.05s\n",
      "227:\tlearn: 116.8001379\ttotal: 309ms\tremaining: 1.05s\n",
      "228:\tlearn: 116.4854978\ttotal: 311ms\tremaining: 1.04s\n",
      "229:\tlearn: 115.7559740\ttotal: 312ms\tremaining: 1.04s\n",
      "230:\tlearn: 115.1896271\ttotal: 313ms\tremaining: 1.04s\n",
      "231:\tlearn: 114.9666291\ttotal: 315ms\tremaining: 1.04s\n",
      "232:\tlearn: 114.1239318\ttotal: 316ms\tremaining: 1.04s\n",
      "233:\tlearn: 113.9964466\ttotal: 317ms\tremaining: 1.04s\n",
      "234:\tlearn: 113.8912592\ttotal: 318ms\tremaining: 1.04s\n",
      "235:\tlearn: 113.4606970\ttotal: 319ms\tremaining: 1.03s\n",
      "236:\tlearn: 113.0958922\ttotal: 321ms\tremaining: 1.03s\n",
      "237:\tlearn: 113.0091361\ttotal: 322ms\tremaining: 1.03s\n",
      "238:\tlearn: 112.7657197\ttotal: 324ms\tremaining: 1.03s\n",
      "239:\tlearn: 112.2315070\ttotal: 325ms\tremaining: 1.03s\n",
      "240:\tlearn: 111.9507125\ttotal: 326ms\tremaining: 1.03s\n",
      "241:\tlearn: 111.7384492\ttotal: 328ms\tremaining: 1.03s\n",
      "242:\tlearn: 111.0693763\ttotal: 329ms\tremaining: 1.02s\n",
      "243:\tlearn: 110.3499926\ttotal: 330ms\tremaining: 1.02s\n",
      "244:\tlearn: 110.2316231\ttotal: 332ms\tremaining: 1.02s\n"
     ]
    },
    {
     "name": "stdout",
     "output_type": "stream",
     "text": [
      "245:\tlearn: 109.6985998\ttotal: 334ms\tremaining: 1.02s\n",
      "246:\tlearn: 109.4279824\ttotal: 335ms\tremaining: 1.02s\n",
      "247:\tlearn: 109.1466762\ttotal: 337ms\tremaining: 1.02s\n",
      "248:\tlearn: 108.9628542\ttotal: 338ms\tremaining: 1.02s\n",
      "249:\tlearn: 108.7268676\ttotal: 340ms\tremaining: 1.02s\n",
      "250:\tlearn: 108.0921190\ttotal: 341ms\tremaining: 1.02s\n",
      "251:\tlearn: 107.6167844\ttotal: 342ms\tremaining: 1.02s\n",
      "252:\tlearn: 106.9716563\ttotal: 344ms\tremaining: 1.01s\n",
      "253:\tlearn: 106.4272485\ttotal: 345ms\tremaining: 1.01s\n",
      "254:\tlearn: 106.2032614\ttotal: 347ms\tremaining: 1.01s\n",
      "255:\tlearn: 105.5756794\ttotal: 348ms\tremaining: 1.01s\n",
      "256:\tlearn: 105.4918649\ttotal: 349ms\tremaining: 1.01s\n",
      "257:\tlearn: 105.2466976\ttotal: 351ms\tremaining: 1.01s\n",
      "258:\tlearn: 105.0461428\ttotal: 352ms\tremaining: 1.01s\n",
      "259:\tlearn: 104.5887628\ttotal: 354ms\tremaining: 1.01s\n",
      "260:\tlearn: 104.1305873\ttotal: 356ms\tremaining: 1.01s\n",
      "261:\tlearn: 103.5527158\ttotal: 358ms\tremaining: 1.01s\n",
      "262:\tlearn: 103.0334823\ttotal: 359ms\tremaining: 1.01s\n",
      "263:\tlearn: 102.6732388\ttotal: 361ms\tremaining: 1s\n",
      "264:\tlearn: 102.4678728\ttotal: 362ms\tremaining: 1s\n",
      "265:\tlearn: 101.9608852\ttotal: 363ms\tremaining: 1s\n",
      "266:\tlearn: 101.4449668\ttotal: 365ms\tremaining: 1s\n",
      "267:\tlearn: 100.9647899\ttotal: 367ms\tremaining: 1s\n",
      "268:\tlearn: 100.4376357\ttotal: 369ms\tremaining: 1s\n",
      "269:\tlearn: 100.1038322\ttotal: 370ms\tremaining: 1s\n",
      "270:\tlearn: 99.8991183\ttotal: 371ms\tremaining: 998ms\n",
      "271:\tlearn: 99.4016031\ttotal: 372ms\tremaining: 996ms\n",
      "272:\tlearn: 98.9231252\ttotal: 374ms\tremaining: 995ms\n",
      "273:\tlearn: 98.5734863\ttotal: 375ms\tremaining: 994ms\n",
      "274:\tlearn: 98.3333355\ttotal: 376ms\tremaining: 992ms\n",
      "275:\tlearn: 97.9164082\ttotal: 377ms\tremaining: 990ms\n",
      "276:\tlearn: 97.3911203\ttotal: 379ms\tremaining: 989ms\n",
      "277:\tlearn: 96.9317789\ttotal: 380ms\tremaining: 987ms\n",
      "278:\tlearn: 96.6243997\ttotal: 381ms\tremaining: 986ms\n",
      "279:\tlearn: 96.3288821\ttotal: 383ms\tremaining: 984ms\n",
      "280:\tlearn: 95.8579534\ttotal: 384ms\tremaining: 982ms\n",
      "281:\tlearn: 95.4136026\ttotal: 385ms\tremaining: 981ms\n",
      "282:\tlearn: 95.3442077\ttotal: 387ms\tremaining: 979ms\n",
      "283:\tlearn: 95.1166584\ttotal: 388ms\tremaining: 978ms\n",
      "284:\tlearn: 94.8017360\ttotal: 390ms\tremaining: 977ms\n",
      "285:\tlearn: 94.5863908\ttotal: 391ms\tremaining: 976ms\n",
      "286:\tlearn: 94.4111694\ttotal: 392ms\tremaining: 974ms\n",
      "287:\tlearn: 94.2678024\ttotal: 393ms\tremaining: 973ms\n",
      "288:\tlearn: 93.7753419\ttotal: 395ms\tremaining: 971ms\n",
      "289:\tlearn: 93.3772710\ttotal: 396ms\tremaining: 970ms\n",
      "290:\tlearn: 92.8750904\ttotal: 398ms\tremaining: 969ms\n",
      "291:\tlearn: 92.6654794\ttotal: 399ms\tremaining: 968ms\n",
      "292:\tlearn: 92.2659876\ttotal: 400ms\tremaining: 966ms\n",
      "293:\tlearn: 92.0282495\ttotal: 402ms\tremaining: 965ms\n",
      "294:\tlearn: 91.8288855\ttotal: 403ms\tremaining: 963ms\n",
      "295:\tlearn: 91.6752612\ttotal: 405ms\tremaining: 962ms\n",
      "296:\tlearn: 91.2561883\ttotal: 406ms\tremaining: 961ms\n",
      "297:\tlearn: 91.0227123\ttotal: 407ms\tremaining: 959ms\n",
      "298:\tlearn: 90.8392142\ttotal: 409ms\tremaining: 958ms\n",
      "299:\tlearn: 90.6853014\ttotal: 410ms\tremaining: 956ms\n",
      "300:\tlearn: 90.5986761\ttotal: 411ms\tremaining: 955ms\n",
      "301:\tlearn: 90.2180036\ttotal: 412ms\tremaining: 953ms\n",
      "302:\tlearn: 89.8313622\ttotal: 413ms\tremaining: 951ms\n",
      "303:\tlearn: 89.6872837\ttotal: 415ms\tremaining: 950ms\n",
      "304:\tlearn: 89.3853276\ttotal: 416ms\tremaining: 949ms\n",
      "305:\tlearn: 88.9459206\ttotal: 418ms\tremaining: 947ms\n",
      "306:\tlearn: 88.7258770\ttotal: 419ms\tremaining: 946ms\n",
      "307:\tlearn: 88.5374358\ttotal: 420ms\tremaining: 944ms\n",
      "308:\tlearn: 88.0624447\ttotal: 422ms\tremaining: 943ms\n",
      "309:\tlearn: 87.7942692\ttotal: 423ms\tremaining: 941ms\n",
      "310:\tlearn: 87.6354184\ttotal: 424ms\tremaining: 940ms\n",
      "311:\tlearn: 87.4879486\ttotal: 426ms\tremaining: 939ms\n",
      "312:\tlearn: 87.0294739\ttotal: 427ms\tremaining: 938ms\n",
      "313:\tlearn: 86.6746221\ttotal: 428ms\tremaining: 936ms\n",
      "314:\tlearn: 86.2792146\ttotal: 430ms\tremaining: 934ms\n",
      "315:\tlearn: 86.2127070\ttotal: 431ms\tremaining: 932ms\n",
      "316:\tlearn: 86.1507368\ttotal: 432ms\tremaining: 930ms\n",
      "317:\tlearn: 85.7089141\ttotal: 433ms\tremaining: 929ms\n",
      "318:\tlearn: 85.6035137\ttotal: 434ms\tremaining: 927ms\n",
      "319:\tlearn: 85.3587988\ttotal: 436ms\tremaining: 926ms\n",
      "320:\tlearn: 84.9660906\ttotal: 437ms\tremaining: 924ms\n",
      "321:\tlearn: 84.5474713\ttotal: 438ms\tremaining: 922ms\n",
      "322:\tlearn: 84.1996852\ttotal: 439ms\tremaining: 921ms\n",
      "323:\tlearn: 84.0654282\ttotal: 441ms\tremaining: 919ms\n",
      "324:\tlearn: 83.7937327\ttotal: 442ms\tremaining: 918ms\n",
      "325:\tlearn: 83.5064288\ttotal: 443ms\tremaining: 917ms\n",
      "326:\tlearn: 83.3997655\ttotal: 445ms\tremaining: 915ms\n",
      "327:\tlearn: 83.2958622\ttotal: 446ms\tremaining: 914ms\n",
      "328:\tlearn: 82.9877578\ttotal: 447ms\tremaining: 912ms\n",
      "329:\tlearn: 82.6286638\ttotal: 449ms\tremaining: 912ms\n",
      "330:\tlearn: 82.2827132\ttotal: 451ms\tremaining: 911ms\n",
      "331:\tlearn: 82.0895251\ttotal: 452ms\tremaining: 910ms\n",
      "332:\tlearn: 82.0130649\ttotal: 454ms\tremaining: 909ms\n",
      "333:\tlearn: 81.6771734\ttotal: 455ms\tremaining: 908ms\n",
      "334:\tlearn: 81.3519124\ttotal: 457ms\tremaining: 907ms\n",
      "335:\tlearn: 81.0170326\ttotal: 458ms\tremaining: 905ms\n",
      "336:\tlearn: 80.6917886\ttotal: 459ms\tremaining: 904ms\n",
      "337:\tlearn: 80.3455177\ttotal: 460ms\tremaining: 902ms\n",
      "338:\tlearn: 80.0260727\ttotal: 462ms\tremaining: 900ms\n",
      "339:\tlearn: 79.9154748\ttotal: 463ms\tremaining: 899ms\n",
      "340:\tlearn: 79.7813079\ttotal: 464ms\tremaining: 897ms\n",
      "341:\tlearn: 79.3513293\ttotal: 466ms\tremaining: 896ms\n",
      "342:\tlearn: 78.8666019\ttotal: 467ms\tremaining: 894ms\n",
      "343:\tlearn: 78.7959013\ttotal: 468ms\tremaining: 892ms\n",
      "344:\tlearn: 78.7081334\ttotal: 469ms\tremaining: 890ms\n",
      "345:\tlearn: 78.3354931\ttotal: 470ms\tremaining: 888ms\n",
      "346:\tlearn: 77.9475067\ttotal: 471ms\tremaining: 887ms\n",
      "347:\tlearn: 77.8910420\ttotal: 472ms\tremaining: 885ms\n",
      "348:\tlearn: 77.5461672\ttotal: 473ms\tremaining: 883ms\n",
      "349:\tlearn: 77.3717101\ttotal: 474ms\tremaining: 881ms\n",
      "350:\tlearn: 77.0729657\ttotal: 475ms\tremaining: 879ms\n",
      "351:\tlearn: 76.7699287\ttotal: 476ms\tremaining: 877ms\n",
      "352:\tlearn: 76.6029759\ttotal: 478ms\tremaining: 876ms\n",
      "353:\tlearn: 76.1642615\ttotal: 479ms\tremaining: 874ms\n",
      "354:\tlearn: 76.1202523\ttotal: 480ms\tremaining: 873ms\n",
      "355:\tlearn: 75.9487132\ttotal: 481ms\tremaining: 871ms\n",
      "356:\tlearn: 75.6748479\ttotal: 483ms\tremaining: 869ms\n",
      "357:\tlearn: 75.4290864\ttotal: 484ms\tremaining: 868ms\n",
      "358:\tlearn: 75.0463849\ttotal: 485ms\tremaining: 866ms\n",
      "359:\tlearn: 74.9902381\ttotal: 486ms\tremaining: 864ms\n",
      "360:\tlearn: 74.5243875\ttotal: 487ms\tremaining: 863ms\n",
      "361:\tlearn: 74.1913065\ttotal: 489ms\tremaining: 861ms\n",
      "362:\tlearn: 73.8413359\ttotal: 490ms\tremaining: 860ms\n",
      "363:\tlearn: 73.7602119\ttotal: 491ms\tremaining: 858ms\n",
      "364:\tlearn: 73.3278135\ttotal: 492ms\tremaining: 856ms\n",
      "365:\tlearn: 72.9524336\ttotal: 493ms\tremaining: 854ms\n",
      "366:\tlearn: 72.6791856\ttotal: 494ms\tremaining: 853ms\n",
      "367:\tlearn: 72.4333577\ttotal: 496ms\tremaining: 851ms\n",
      "368:\tlearn: 72.1672937\ttotal: 497ms\tremaining: 849ms\n",
      "369:\tlearn: 71.9070276\ttotal: 498ms\tremaining: 848ms\n",
      "370:\tlearn: 71.5496196\ttotal: 499ms\tremaining: 846ms\n",
      "371:\tlearn: 71.3161902\ttotal: 500ms\tremaining: 845ms\n",
      "372:\tlearn: 71.1259191\ttotal: 502ms\tremaining: 844ms\n",
      "373:\tlearn: 70.9889962\ttotal: 503ms\tremaining: 842ms\n",
      "374:\tlearn: 70.7417966\ttotal: 504ms\tremaining: 841ms\n",
      "375:\tlearn: 70.4931174\ttotal: 506ms\tremaining: 839ms\n",
      "376:\tlearn: 70.3300576\ttotal: 507ms\tremaining: 838ms\n",
      "377:\tlearn: 69.9233248\ttotal: 508ms\tremaining: 837ms\n",
      "378:\tlearn: 69.6261005\ttotal: 510ms\tremaining: 836ms\n",
      "379:\tlearn: 69.3989708\ttotal: 511ms\tremaining: 834ms\n",
      "380:\tlearn: 69.0085387\ttotal: 513ms\tremaining: 833ms\n",
      "381:\tlearn: 68.7604153\ttotal: 514ms\tremaining: 831ms\n",
      "382:\tlearn: 68.4602767\ttotal: 515ms\tremaining: 830ms\n",
      "383:\tlearn: 68.1005452\ttotal: 516ms\tremaining: 828ms\n",
      "384:\tlearn: 68.0540467\ttotal: 518ms\tremaining: 827ms\n",
      "385:\tlearn: 67.8972753\ttotal: 519ms\tremaining: 825ms\n",
      "386:\tlearn: 67.5389629\ttotal: 520ms\tremaining: 824ms\n",
      "387:\tlearn: 67.2390178\ttotal: 521ms\tremaining: 822ms\n",
      "388:\tlearn: 67.0279888\ttotal: 522ms\tremaining: 821ms\n",
      "389:\tlearn: 66.8375919\ttotal: 524ms\tremaining: 819ms\n",
      "390:\tlearn: 66.4118315\ttotal: 525ms\tremaining: 817ms\n",
      "391:\tlearn: 66.3642690\ttotal: 526ms\tremaining: 816ms\n",
      "392:\tlearn: 66.1673138\ttotal: 527ms\tremaining: 814ms\n",
      "393:\tlearn: 66.0177482\ttotal: 528ms\tremaining: 812ms\n",
      "394:\tlearn: 65.8018038\ttotal: 529ms\tremaining: 810ms\n",
      "395:\tlearn: 65.6886505\ttotal: 530ms\tremaining: 809ms\n",
      "396:\tlearn: 65.6120185\ttotal: 531ms\tremaining: 807ms\n",
      "397:\tlearn: 65.5746662\ttotal: 532ms\tremaining: 805ms\n",
      "398:\tlearn: 65.2974851\ttotal: 534ms\tremaining: 804ms\n",
      "399:\tlearn: 65.2464764\ttotal: 535ms\tremaining: 802ms\n",
      "400:\tlearn: 65.1241314\ttotal: 536ms\tremaining: 801ms\n",
      "401:\tlearn: 65.0515740\ttotal: 538ms\tremaining: 800ms\n",
      "402:\tlearn: 64.8089636\ttotal: 539ms\tremaining: 799ms\n",
      "403:\tlearn: 64.5992230\ttotal: 540ms\tremaining: 797ms\n",
      "404:\tlearn: 64.2907010\ttotal: 541ms\tremaining: 795ms\n",
      "405:\tlearn: 64.1568642\ttotal: 543ms\tremaining: 794ms\n",
      "406:\tlearn: 63.8279106\ttotal: 544ms\tremaining: 792ms\n",
      "407:\tlearn: 63.5558565\ttotal: 545ms\tremaining: 790ms\n",
      "408:\tlearn: 63.3865445\ttotal: 546ms\tremaining: 789ms\n",
      "409:\tlearn: 63.2752408\ttotal: 547ms\tremaining: 787ms\n",
      "410:\tlearn: 63.1070190\ttotal: 549ms\tremaining: 786ms\n",
      "411:\tlearn: 62.7868376\ttotal: 551ms\tremaining: 786ms\n",
      "412:\tlearn: 62.5345803\ttotal: 552ms\tremaining: 785ms\n",
      "413:\tlearn: 62.2729058\ttotal: 554ms\tremaining: 784ms\n",
      "414:\tlearn: 61.9850985\ttotal: 555ms\tremaining: 783ms\n",
      "415:\tlearn: 61.7784164\ttotal: 557ms\tremaining: 781ms\n",
      "416:\tlearn: 61.7431976\ttotal: 558ms\tremaining: 780ms\n",
      "417:\tlearn: 61.4309964\ttotal: 559ms\tremaining: 778ms\n",
      "418:\tlearn: 61.3513660\ttotal: 560ms\tremaining: 777ms\n",
      "419:\tlearn: 61.1253739\ttotal: 562ms\tremaining: 776ms\n",
      "420:\tlearn: 61.0742571\ttotal: 563ms\tremaining: 774ms\n",
      "421:\tlearn: 61.0390980\ttotal: 565ms\tremaining: 773ms\n",
      "422:\tlearn: 61.0095757\ttotal: 566ms\tremaining: 772ms\n",
      "423:\tlearn: 60.6843255\ttotal: 567ms\tremaining: 770ms\n",
      "424:\tlearn: 60.4045551\ttotal: 568ms\tremaining: 769ms\n",
      "425:\tlearn: 60.3649587\ttotal: 570ms\tremaining: 768ms\n",
      "426:\tlearn: 60.3315828\ttotal: 571ms\tremaining: 766ms\n",
      "427:\tlearn: 60.1047027\ttotal: 573ms\tremaining: 765ms\n",
      "428:\tlearn: 59.9170736\ttotal: 574ms\tremaining: 764ms\n",
      "429:\tlearn: 59.6875648\ttotal: 576ms\tremaining: 763ms\n",
      "430:\tlearn: 59.6662150\ttotal: 577ms\tremaining: 762ms\n",
      "431:\tlearn: 59.4208112\ttotal: 579ms\tremaining: 761ms\n",
      "432:\tlearn: 59.2358034\ttotal: 580ms\tremaining: 760ms\n",
      "433:\tlearn: 58.9818868\ttotal: 581ms\tremaining: 758ms\n",
      "434:\tlearn: 58.7089433\ttotal: 583ms\tremaining: 757ms\n",
      "435:\tlearn: 58.5898817\ttotal: 584ms\tremaining: 756ms\n",
      "436:\tlearn: 58.5425342\ttotal: 586ms\tremaining: 755ms\n",
      "437:\tlearn: 58.2884605\ttotal: 587ms\tremaining: 754ms\n",
      "438:\tlearn: 58.2643873\ttotal: 589ms\tremaining: 752ms\n",
      "439:\tlearn: 58.2330868\ttotal: 590ms\tremaining: 751ms\n",
      "440:\tlearn: 57.9676592\ttotal: 592ms\tremaining: 750ms\n",
      "441:\tlearn: 57.7670212\ttotal: 593ms\tremaining: 749ms\n",
      "442:\tlearn: 57.5322464\ttotal: 594ms\tremaining: 747ms\n",
      "443:\tlearn: 57.2771620\ttotal: 596ms\tremaining: 746ms\n",
      "444:\tlearn: 57.0227885\ttotal: 597ms\tremaining: 744ms\n",
      "445:\tlearn: 56.7616770\ttotal: 599ms\tremaining: 744ms\n",
      "446:\tlearn: 56.7367450\ttotal: 600ms\tremaining: 743ms\n",
      "447:\tlearn: 56.6715001\ttotal: 602ms\tremaining: 741ms\n",
      "448:\tlearn: 56.4881346\ttotal: 603ms\tremaining: 740ms\n",
      "449:\tlearn: 56.3749776\ttotal: 604ms\tremaining: 739ms\n",
      "450:\tlearn: 56.2172319\ttotal: 606ms\tremaining: 737ms\n",
      "451:\tlearn: 55.9461925\ttotal: 607ms\tremaining: 736ms\n",
      "452:\tlearn: 55.8884270\ttotal: 609ms\tremaining: 735ms\n",
      "453:\tlearn: 55.7987432\ttotal: 610ms\tremaining: 734ms\n",
      "454:\tlearn: 55.7376337\ttotal: 611ms\tremaining: 732ms\n",
      "455:\tlearn: 55.5150595\ttotal: 613ms\tremaining: 731ms\n",
      "456:\tlearn: 55.4819680\ttotal: 614ms\tremaining: 730ms\n",
      "457:\tlearn: 55.1719919\ttotal: 615ms\tremaining: 728ms\n",
      "458:\tlearn: 55.1295759\ttotal: 617ms\tremaining: 727ms\n",
      "459:\tlearn: 55.0856302\ttotal: 618ms\tremaining: 725ms\n",
      "460:\tlearn: 54.8056235\ttotal: 619ms\tremaining: 724ms\n",
      "461:\tlearn: 54.4030407\ttotal: 621ms\tremaining: 723ms\n",
      "462:\tlearn: 54.3308204\ttotal: 622ms\tremaining: 722ms\n",
      "463:\tlearn: 54.0283724\ttotal: 624ms\tremaining: 720ms\n",
      "464:\tlearn: 53.9962714\ttotal: 625ms\tremaining: 719ms\n",
      "465:\tlearn: 53.8149476\ttotal: 626ms\tremaining: 717ms\n",
      "466:\tlearn: 53.7806209\ttotal: 628ms\tremaining: 716ms\n",
      "467:\tlearn: 53.7585727\ttotal: 629ms\tremaining: 715ms\n",
      "468:\tlearn: 53.5042777\ttotal: 630ms\tremaining: 714ms\n",
      "469:\tlearn: 53.3257034\ttotal: 632ms\tremaining: 712ms\n",
      "470:\tlearn: 53.0801119\ttotal: 633ms\tremaining: 711ms\n",
      "471:\tlearn: 53.0136550\ttotal: 634ms\tremaining: 710ms\n",
      "472:\tlearn: 52.9408930\ttotal: 636ms\tremaining: 708ms\n",
      "473:\tlearn: 52.7089062\ttotal: 637ms\tremaining: 707ms\n",
      "474:\tlearn: 52.6819781\ttotal: 638ms\tremaining: 706ms\n",
      "475:\tlearn: 52.5065568\ttotal: 640ms\tremaining: 704ms\n",
      "476:\tlearn: 52.3688770\ttotal: 641ms\tremaining: 703ms\n",
      "477:\tlearn: 52.2402473\ttotal: 642ms\tremaining: 702ms\n",
      "478:\tlearn: 52.1406517\ttotal: 644ms\tremaining: 700ms\n",
      "479:\tlearn: 52.1107144\ttotal: 644ms\tremaining: 698ms\n",
      "480:\tlearn: 51.9239449\ttotal: 646ms\tremaining: 697ms\n",
      "481:\tlearn: 51.7096820\ttotal: 648ms\tremaining: 696ms\n",
      "482:\tlearn: 51.6266918\ttotal: 649ms\tremaining: 695ms\n",
      "483:\tlearn: 51.5969797\ttotal: 650ms\tremaining: 693ms\n",
      "484:\tlearn: 51.4480162\ttotal: 651ms\tremaining: 692ms\n",
      "485:\tlearn: 51.2269261\ttotal: 653ms\tremaining: 690ms\n",
      "486:\tlearn: 50.9904632\ttotal: 654ms\tremaining: 689ms\n",
      "487:\tlearn: 50.9342043\ttotal: 655ms\tremaining: 688ms\n",
      "488:\tlearn: 50.8423680\ttotal: 656ms\tremaining: 686ms\n",
      "489:\tlearn: 50.7269788\ttotal: 658ms\tremaining: 685ms\n",
      "490:\tlearn: 50.5384699\ttotal: 659ms\tremaining: 683ms\n",
      "491:\tlearn: 50.5047793\ttotal: 660ms\tremaining: 682ms\n",
      "492:\tlearn: 50.3234448\ttotal: 662ms\tremaining: 680ms\n",
      "493:\tlearn: 50.1653421\ttotal: 663ms\tremaining: 679ms\n",
      "494:\tlearn: 49.9835558\ttotal: 664ms\tremaining: 678ms\n",
      "495:\tlearn: 49.8884283\ttotal: 666ms\tremaining: 676ms\n",
      "496:\tlearn: 49.6217364\ttotal: 667ms\tremaining: 675ms\n"
     ]
    },
    {
     "name": "stdout",
     "output_type": "stream",
     "text": [
      "497:\tlearn: 49.5268562\ttotal: 669ms\tremaining: 674ms\n",
      "498:\tlearn: 49.3078402\ttotal: 670ms\tremaining: 673ms\n",
      "499:\tlearn: 49.2571676\ttotal: 671ms\tremaining: 671ms\n",
      "500:\tlearn: 49.2173141\ttotal: 673ms\tremaining: 670ms\n",
      "501:\tlearn: 48.9813103\ttotal: 674ms\tremaining: 669ms\n",
      "502:\tlearn: 48.8304542\ttotal: 675ms\tremaining: 667ms\n",
      "503:\tlearn: 48.7430936\ttotal: 677ms\tremaining: 666ms\n",
      "504:\tlearn: 48.5493989\ttotal: 678ms\tremaining: 664ms\n",
      "505:\tlearn: 48.5134839\ttotal: 679ms\tremaining: 663ms\n",
      "506:\tlearn: 48.3516141\ttotal: 680ms\tremaining: 661ms\n",
      "507:\tlearn: 48.0631542\ttotal: 681ms\tremaining: 660ms\n",
      "508:\tlearn: 47.8591880\ttotal: 683ms\tremaining: 658ms\n",
      "509:\tlearn: 47.7182444\ttotal: 684ms\tremaining: 657ms\n",
      "510:\tlearn: 47.6301870\ttotal: 685ms\tremaining: 656ms\n",
      "511:\tlearn: 47.4767324\ttotal: 686ms\tremaining: 654ms\n",
      "512:\tlearn: 47.2822625\ttotal: 688ms\tremaining: 653ms\n",
      "513:\tlearn: 47.1022658\ttotal: 689ms\tremaining: 652ms\n",
      "514:\tlearn: 47.0536181\ttotal: 691ms\tremaining: 651ms\n",
      "515:\tlearn: 47.0249559\ttotal: 692ms\tremaining: 649ms\n",
      "516:\tlearn: 46.8789720\ttotal: 694ms\tremaining: 648ms\n",
      "517:\tlearn: 46.7133769\ttotal: 695ms\tremaining: 647ms\n",
      "518:\tlearn: 46.5157986\ttotal: 696ms\tremaining: 645ms\n",
      "519:\tlearn: 46.3630405\ttotal: 698ms\tremaining: 644ms\n",
      "520:\tlearn: 46.1730188\ttotal: 699ms\tremaining: 643ms\n",
      "521:\tlearn: 46.1360908\ttotal: 701ms\tremaining: 642ms\n",
      "522:\tlearn: 45.9652487\ttotal: 702ms\tremaining: 641ms\n",
      "523:\tlearn: 45.8122703\ttotal: 704ms\tremaining: 639ms\n",
      "524:\tlearn: 45.4984451\ttotal: 705ms\tremaining: 638ms\n",
      "525:\tlearn: 45.3161076\ttotal: 707ms\tremaining: 637ms\n",
      "526:\tlearn: 45.2802854\ttotal: 708ms\tremaining: 635ms\n",
      "527:\tlearn: 45.2448275\ttotal: 709ms\tremaining: 634ms\n",
      "528:\tlearn: 45.0816321\ttotal: 711ms\tremaining: 633ms\n",
      "529:\tlearn: 44.9794319\ttotal: 712ms\tremaining: 632ms\n",
      "530:\tlearn: 44.6832140\ttotal: 713ms\tremaining: 630ms\n",
      "531:\tlearn: 44.4460046\ttotal: 715ms\tremaining: 629ms\n",
      "532:\tlearn: 44.2118287\ttotal: 716ms\tremaining: 628ms\n",
      "533:\tlearn: 44.0693524\ttotal: 718ms\tremaining: 626ms\n",
      "534:\tlearn: 43.7781614\ttotal: 719ms\tremaining: 625ms\n",
      "535:\tlearn: 43.5541731\ttotal: 721ms\tremaining: 624ms\n",
      "536:\tlearn: 43.5134866\ttotal: 722ms\tremaining: 622ms\n",
      "537:\tlearn: 43.3609810\ttotal: 723ms\tremaining: 621ms\n",
      "538:\tlearn: 43.1828364\ttotal: 724ms\tremaining: 619ms\n",
      "539:\tlearn: 43.1681810\ttotal: 725ms\tremaining: 618ms\n",
      "540:\tlearn: 43.0597548\ttotal: 726ms\tremaining: 616ms\n",
      "541:\tlearn: 43.0399237\ttotal: 727ms\tremaining: 615ms\n",
      "542:\tlearn: 42.7955247\ttotal: 728ms\tremaining: 613ms\n",
      "543:\tlearn: 42.5339065\ttotal: 730ms\tremaining: 612ms\n",
      "544:\tlearn: 42.4295635\ttotal: 731ms\tremaining: 610ms\n",
      "545:\tlearn: 42.2338376\ttotal: 732ms\tremaining: 609ms\n",
      "546:\tlearn: 42.0124060\ttotal: 733ms\tremaining: 607ms\n",
      "547:\tlearn: 41.8255183\ttotal: 735ms\tremaining: 606ms\n",
      "548:\tlearn: 41.6388681\ttotal: 736ms\tremaining: 604ms\n",
      "549:\tlearn: 41.4001270\ttotal: 737ms\tremaining: 603ms\n",
      "550:\tlearn: 41.1013528\ttotal: 738ms\tremaining: 601ms\n",
      "551:\tlearn: 41.0100295\ttotal: 739ms\tremaining: 600ms\n",
      "552:\tlearn: 40.9906076\ttotal: 740ms\tremaining: 598ms\n",
      "553:\tlearn: 40.8809109\ttotal: 741ms\tremaining: 597ms\n",
      "554:\tlearn: 40.7831302\ttotal: 742ms\tremaining: 595ms\n",
      "555:\tlearn: 40.7317763\ttotal: 743ms\tremaining: 594ms\n",
      "556:\tlearn: 40.6321710\ttotal: 745ms\tremaining: 592ms\n",
      "557:\tlearn: 40.4475073\ttotal: 746ms\tremaining: 591ms\n",
      "558:\tlearn: 40.2859957\ttotal: 748ms\tremaining: 590ms\n",
      "559:\tlearn: 40.0262057\ttotal: 749ms\tremaining: 588ms\n",
      "560:\tlearn: 39.9326350\ttotal: 750ms\tremaining: 587ms\n",
      "561:\tlearn: 39.8735956\ttotal: 751ms\tremaining: 586ms\n",
      "562:\tlearn: 39.7083019\ttotal: 753ms\tremaining: 584ms\n",
      "563:\tlearn: 39.5379855\ttotal: 754ms\tremaining: 583ms\n",
      "564:\tlearn: 39.3451301\ttotal: 755ms\tremaining: 581ms\n",
      "565:\tlearn: 39.2041273\ttotal: 756ms\tremaining: 580ms\n",
      "566:\tlearn: 38.9870162\ttotal: 758ms\tremaining: 578ms\n",
      "567:\tlearn: 38.8638040\ttotal: 775ms\tremaining: 590ms\n",
      "568:\tlearn: 38.7752116\ttotal: 778ms\tremaining: 589ms\n",
      "569:\tlearn: 38.6530297\ttotal: 780ms\tremaining: 588ms\n",
      "570:\tlearn: 38.5505372\ttotal: 782ms\tremaining: 588ms\n",
      "571:\tlearn: 38.5134486\ttotal: 784ms\tremaining: 587ms\n",
      "572:\tlearn: 38.3680902\ttotal: 787ms\tremaining: 586ms\n",
      "573:\tlearn: 38.1897295\ttotal: 789ms\tremaining: 585ms\n",
      "574:\tlearn: 38.1083536\ttotal: 791ms\tremaining: 585ms\n",
      "575:\tlearn: 37.9229216\ttotal: 793ms\tremaining: 584ms\n",
      "576:\tlearn: 37.8377087\ttotal: 795ms\tremaining: 583ms\n",
      "577:\tlearn: 37.7966900\ttotal: 796ms\tremaining: 581ms\n",
      "578:\tlearn: 37.6700761\ttotal: 798ms\tremaining: 580ms\n",
      "579:\tlearn: 37.6355177\ttotal: 799ms\tremaining: 579ms\n",
      "580:\tlearn: 37.4648199\ttotal: 801ms\tremaining: 578ms\n",
      "581:\tlearn: 37.2959505\ttotal: 803ms\tremaining: 576ms\n",
      "582:\tlearn: 37.1423961\ttotal: 805ms\tremaining: 576ms\n",
      "583:\tlearn: 36.9297315\ttotal: 806ms\tremaining: 574ms\n",
      "584:\tlearn: 36.8850382\ttotal: 809ms\tremaining: 574ms\n",
      "585:\tlearn: 36.7546519\ttotal: 810ms\tremaining: 573ms\n",
      "586:\tlearn: 36.7377554\ttotal: 812ms\tremaining: 571ms\n",
      "587:\tlearn: 36.6899102\ttotal: 814ms\tremaining: 570ms\n",
      "588:\tlearn: 36.5617094\ttotal: 816ms\tremaining: 569ms\n",
      "589:\tlearn: 36.4272921\ttotal: 817ms\tremaining: 568ms\n",
      "590:\tlearn: 36.2657889\ttotal: 819ms\tremaining: 567ms\n",
      "591:\tlearn: 36.2539345\ttotal: 820ms\tremaining: 565ms\n",
      "592:\tlearn: 36.2314399\ttotal: 821ms\tremaining: 564ms\n",
      "593:\tlearn: 36.0683824\ttotal: 823ms\tremaining: 563ms\n",
      "594:\tlearn: 35.9283095\ttotal: 825ms\tremaining: 561ms\n",
      "595:\tlearn: 35.7968288\ttotal: 826ms\tremaining: 560ms\n",
      "596:\tlearn: 35.7223423\ttotal: 828ms\tremaining: 559ms\n",
      "597:\tlearn: 35.5848854\ttotal: 830ms\tremaining: 558ms\n",
      "598:\tlearn: 35.4754344\ttotal: 832ms\tremaining: 557ms\n",
      "599:\tlearn: 35.3533890\ttotal: 833ms\tremaining: 556ms\n",
      "600:\tlearn: 35.2201505\ttotal: 835ms\tremaining: 554ms\n",
      "601:\tlearn: 35.0873272\ttotal: 838ms\tremaining: 554ms\n",
      "602:\tlearn: 35.0461873\ttotal: 840ms\tremaining: 553ms\n",
      "603:\tlearn: 34.9273071\ttotal: 841ms\tremaining: 552ms\n",
      "604:\tlearn: 34.8162855\ttotal: 843ms\tremaining: 551ms\n",
      "605:\tlearn: 34.7130059\ttotal: 845ms\tremaining: 549ms\n",
      "606:\tlearn: 34.5585617\ttotal: 847ms\tremaining: 548ms\n",
      "607:\tlearn: 34.4611907\ttotal: 849ms\tremaining: 547ms\n",
      "608:\tlearn: 34.4326546\ttotal: 851ms\tremaining: 546ms\n",
      "609:\tlearn: 34.2846979\ttotal: 853ms\tremaining: 545ms\n",
      "610:\tlearn: 34.1734501\ttotal: 855ms\tremaining: 544ms\n",
      "611:\tlearn: 34.0230965\ttotal: 858ms\tremaining: 544ms\n",
      "612:\tlearn: 33.8282501\ttotal: 873ms\tremaining: 551ms\n",
      "613:\tlearn: 33.7746747\ttotal: 875ms\tremaining: 550ms\n",
      "614:\tlearn: 33.7068386\ttotal: 876ms\tremaining: 549ms\n",
      "615:\tlearn: 33.5780800\ttotal: 878ms\tremaining: 548ms\n",
      "616:\tlearn: 33.4695325\ttotal: 880ms\tremaining: 546ms\n",
      "617:\tlearn: 33.3463443\ttotal: 882ms\tremaining: 545ms\n",
      "618:\tlearn: 33.2877395\ttotal: 884ms\tremaining: 544ms\n",
      "619:\tlearn: 33.2418826\ttotal: 886ms\tremaining: 543ms\n",
      "620:\tlearn: 33.1045465\ttotal: 888ms\tremaining: 542ms\n",
      "621:\tlearn: 32.9400639\ttotal: 890ms\tremaining: 541ms\n",
      "622:\tlearn: 32.8996970\ttotal: 892ms\tremaining: 540ms\n",
      "623:\tlearn: 32.7429487\ttotal: 894ms\tremaining: 539ms\n",
      "624:\tlearn: 32.6132355\ttotal: 896ms\tremaining: 537ms\n",
      "625:\tlearn: 32.4714976\ttotal: 897ms\tremaining: 536ms\n",
      "626:\tlearn: 32.4320448\ttotal: 899ms\tremaining: 535ms\n",
      "627:\tlearn: 32.2628258\ttotal: 901ms\tremaining: 534ms\n",
      "628:\tlearn: 32.2038569\ttotal: 903ms\tremaining: 533ms\n",
      "629:\tlearn: 32.0940738\ttotal: 905ms\tremaining: 532ms\n",
      "630:\tlearn: 32.0068495\ttotal: 907ms\tremaining: 530ms\n",
      "631:\tlearn: 31.9053748\ttotal: 909ms\tremaining: 529ms\n",
      "632:\tlearn: 31.7715772\ttotal: 910ms\tremaining: 528ms\n",
      "633:\tlearn: 31.6687835\ttotal: 912ms\tremaining: 527ms\n",
      "634:\tlearn: 31.6368050\ttotal: 914ms\tremaining: 525ms\n",
      "635:\tlearn: 31.5709628\ttotal: 916ms\tremaining: 524ms\n",
      "636:\tlearn: 31.4052213\ttotal: 918ms\tremaining: 523ms\n",
      "637:\tlearn: 31.2452229\ttotal: 920ms\tremaining: 522ms\n",
      "638:\tlearn: 31.1221828\ttotal: 921ms\tremaining: 520ms\n",
      "639:\tlearn: 31.0853500\ttotal: 923ms\tremaining: 519ms\n",
      "640:\tlearn: 30.9167355\ttotal: 924ms\tremaining: 518ms\n",
      "641:\tlearn: 30.8667253\ttotal: 926ms\tremaining: 516ms\n",
      "642:\tlearn: 30.7427129\ttotal: 943ms\tremaining: 523ms\n",
      "643:\tlearn: 30.5748228\ttotal: 946ms\tremaining: 523ms\n",
      "644:\tlearn: 30.5080592\ttotal: 950ms\tremaining: 523ms\n",
      "645:\tlearn: 30.3444228\ttotal: 953ms\tremaining: 522ms\n",
      "646:\tlearn: 30.1858385\ttotal: 955ms\tremaining: 521ms\n",
      "647:\tlearn: 30.1481951\ttotal: 958ms\tremaining: 520ms\n",
      "648:\tlearn: 30.1139150\ttotal: 960ms\tremaining: 519ms\n",
      "649:\tlearn: 30.0147177\ttotal: 962ms\tremaining: 518ms\n",
      "650:\tlearn: 29.8610501\ttotal: 965ms\tremaining: 517ms\n",
      "651:\tlearn: 29.7793561\ttotal: 967ms\tremaining: 516ms\n",
      "652:\tlearn: 29.6870188\ttotal: 969ms\tremaining: 515ms\n",
      "653:\tlearn: 29.6229921\ttotal: 971ms\tremaining: 514ms\n",
      "654:\tlearn: 29.5806823\ttotal: 974ms\tremaining: 513ms\n",
      "655:\tlearn: 29.4903496\ttotal: 977ms\tremaining: 512ms\n",
      "656:\tlearn: 29.4011642\ttotal: 978ms\tremaining: 511ms\n",
      "657:\tlearn: 29.3880977\ttotal: 980ms\tremaining: 510ms\n",
      "658:\tlearn: 29.2615919\ttotal: 983ms\tremaining: 509ms\n",
      "659:\tlearn: 29.1004727\ttotal: 985ms\tremaining: 507ms\n",
      "660:\tlearn: 29.0530692\ttotal: 988ms\tremaining: 506ms\n",
      "661:\tlearn: 28.9863628\ttotal: 990ms\tremaining: 505ms\n",
      "662:\tlearn: 28.8714304\ttotal: 992ms\tremaining: 504ms\n",
      "663:\tlearn: 28.7331979\ttotal: 994ms\tremaining: 503ms\n",
      "664:\tlearn: 28.6366801\ttotal: 996ms\tremaining: 502ms\n",
      "665:\tlearn: 28.5716341\ttotal: 1s\tremaining: 502ms\n",
      "666:\tlearn: 28.4974876\ttotal: 1s\tremaining: 502ms\n",
      "667:\tlearn: 28.4112710\ttotal: 1.01s\tremaining: 501ms\n"
     ]
    },
    {
     "name": "stdout",
     "output_type": "stream",
     "text": [
      "668:\tlearn: 28.2984651\ttotal: 1.01s\tremaining: 500ms\n",
      "669:\tlearn: 28.1339510\ttotal: 1.01s\tremaining: 500ms\n",
      "670:\tlearn: 28.1075789\ttotal: 1.02s\tremaining: 498ms\n",
      "671:\tlearn: 28.0922293\ttotal: 1.02s\tremaining: 497ms\n",
      "672:\tlearn: 27.9723760\ttotal: 1.02s\tremaining: 496ms\n",
      "673:\tlearn: 27.9055283\ttotal: 1.02s\tremaining: 495ms\n",
      "674:\tlearn: 27.8205243\ttotal: 1.03s\tremaining: 495ms\n",
      "675:\tlearn: 27.8084834\ttotal: 1.03s\tremaining: 494ms\n",
      "676:\tlearn: 27.7891840\ttotal: 1.03s\tremaining: 493ms\n",
      "677:\tlearn: 27.6730952\ttotal: 1.04s\tremaining: 493ms\n",
      "678:\tlearn: 27.6094279\ttotal: 1.04s\tremaining: 491ms\n",
      "679:\tlearn: 27.5709406\ttotal: 1.04s\tremaining: 491ms\n",
      "680:\tlearn: 27.5062932\ttotal: 1.04s\tremaining: 490ms\n",
      "681:\tlearn: 27.4149358\ttotal: 1.05s\tremaining: 488ms\n",
      "682:\tlearn: 27.3480578\ttotal: 1.05s\tremaining: 487ms\n",
      "683:\tlearn: 27.2546632\ttotal: 1.05s\tremaining: 485ms\n",
      "684:\tlearn: 27.1581242\ttotal: 1.05s\tremaining: 484ms\n",
      "685:\tlearn: 27.1291330\ttotal: 1.05s\tremaining: 482ms\n",
      "686:\tlearn: 27.0589760\ttotal: 1.05s\tremaining: 480ms\n",
      "687:\tlearn: 26.9207571\ttotal: 1.06s\tremaining: 479ms\n",
      "688:\tlearn: 26.8046340\ttotal: 1.06s\tremaining: 477ms\n",
      "689:\tlearn: 26.7346039\ttotal: 1.06s\tremaining: 476ms\n",
      "690:\tlearn: 26.6359238\ttotal: 1.06s\tremaining: 474ms\n",
      "691:\tlearn: 26.5458163\ttotal: 1.06s\tremaining: 473ms\n",
      "692:\tlearn: 26.5287024\ttotal: 1.06s\tremaining: 471ms\n",
      "693:\tlearn: 26.4436127\ttotal: 1.06s\tremaining: 470ms\n",
      "694:\tlearn: 26.3860996\ttotal: 1.07s\tremaining: 468ms\n",
      "695:\tlearn: 26.3271824\ttotal: 1.07s\tremaining: 466ms\n",
      "696:\tlearn: 26.1929180\ttotal: 1.07s\tremaining: 465ms\n",
      "697:\tlearn: 26.0989501\ttotal: 1.07s\tremaining: 463ms\n",
      "698:\tlearn: 26.0348052\ttotal: 1.07s\tremaining: 462ms\n",
      "699:\tlearn: 25.9715846\ttotal: 1.07s\tremaining: 460ms\n",
      "700:\tlearn: 25.8624783\ttotal: 1.07s\tremaining: 459ms\n",
      "701:\tlearn: 25.8020332\ttotal: 1.08s\tremaining: 457ms\n",
      "702:\tlearn: 25.7940141\ttotal: 1.08s\tremaining: 455ms\n",
      "703:\tlearn: 25.6937173\ttotal: 1.08s\tremaining: 454ms\n",
      "704:\tlearn: 25.6133995\ttotal: 1.08s\tremaining: 452ms\n",
      "705:\tlearn: 25.5272559\ttotal: 1.08s\tremaining: 451ms\n",
      "706:\tlearn: 25.5087600\ttotal: 1.08s\tremaining: 449ms\n",
      "707:\tlearn: 25.3506858\ttotal: 1.08s\tremaining: 448ms\n",
      "708:\tlearn: 25.3314352\ttotal: 1.09s\tremaining: 446ms\n",
      "709:\tlearn: 25.3263712\ttotal: 1.09s\tremaining: 444ms\n",
      "710:\tlearn: 25.2377772\ttotal: 1.09s\tremaining: 443ms\n",
      "711:\tlearn: 25.1296003\ttotal: 1.09s\tremaining: 441ms\n",
      "712:\tlearn: 25.1138661\ttotal: 1.09s\tremaining: 439ms\n",
      "713:\tlearn: 25.0606164\ttotal: 1.09s\tremaining: 438ms\n",
      "714:\tlearn: 24.9701122\ttotal: 1.09s\tremaining: 436ms\n",
      "715:\tlearn: 24.9266980\ttotal: 1.09s\tremaining: 435ms\n",
      "716:\tlearn: 24.8355245\ttotal: 1.1s\tremaining: 433ms\n",
      "717:\tlearn: 24.7892595\ttotal: 1.1s\tremaining: 431ms\n",
      "718:\tlearn: 24.7784156\ttotal: 1.1s\tremaining: 430ms\n",
      "719:\tlearn: 24.7204068\ttotal: 1.1s\tremaining: 428ms\n",
      "720:\tlearn: 24.6868946\ttotal: 1.1s\tremaining: 427ms\n",
      "721:\tlearn: 24.5835248\ttotal: 1.1s\tremaining: 425ms\n",
      "722:\tlearn: 24.4605667\ttotal: 1.1s\tremaining: 423ms\n",
      "723:\tlearn: 24.3780491\ttotal: 1.11s\tremaining: 422ms\n",
      "724:\tlearn: 24.3695387\ttotal: 1.11s\tremaining: 420ms\n",
      "725:\tlearn: 24.2713928\ttotal: 1.11s\tremaining: 419ms\n",
      "726:\tlearn: 24.2564573\ttotal: 1.11s\tremaining: 417ms\n",
      "727:\tlearn: 24.1259045\ttotal: 1.11s\tremaining: 415ms\n",
      "728:\tlearn: 24.0410925\ttotal: 1.11s\tremaining: 414ms\n",
      "729:\tlearn: 23.9454740\ttotal: 1.11s\tremaining: 412ms\n",
      "730:\tlearn: 23.9293944\ttotal: 1.12s\tremaining: 411ms\n",
      "731:\tlearn: 23.8408373\ttotal: 1.12s\tremaining: 409ms\n",
      "732:\tlearn: 23.7301307\ttotal: 1.12s\tremaining: 408ms\n",
      "733:\tlearn: 23.6751178\ttotal: 1.12s\tremaining: 406ms\n",
      "734:\tlearn: 23.5518474\ttotal: 1.12s\tremaining: 404ms\n",
      "735:\tlearn: 23.5054838\ttotal: 1.12s\tremaining: 403ms\n",
      "736:\tlearn: 23.4781040\ttotal: 1.12s\tremaining: 401ms\n",
      "737:\tlearn: 23.3774725\ttotal: 1.13s\tremaining: 400ms\n",
      "738:\tlearn: 23.3081022\ttotal: 1.13s\tremaining: 398ms\n",
      "739:\tlearn: 23.2915892\ttotal: 1.13s\tremaining: 397ms\n",
      "740:\tlearn: 23.2095735\ttotal: 1.13s\tremaining: 395ms\n",
      "741:\tlearn: 23.1588315\ttotal: 1.13s\tremaining: 394ms\n",
      "742:\tlearn: 23.1197993\ttotal: 1.13s\tremaining: 392ms\n",
      "743:\tlearn: 23.0327780\ttotal: 1.13s\tremaining: 390ms\n",
      "744:\tlearn: 22.9759480\ttotal: 1.14s\tremaining: 389ms\n",
      "745:\tlearn: 22.8751423\ttotal: 1.14s\tremaining: 387ms\n",
      "746:\tlearn: 22.7768127\ttotal: 1.14s\tremaining: 386ms\n",
      "747:\tlearn: 22.6474970\ttotal: 1.14s\tremaining: 384ms\n",
      "748:\tlearn: 22.5780525\ttotal: 1.14s\tremaining: 383ms\n",
      "749:\tlearn: 22.5338308\ttotal: 1.14s\tremaining: 381ms\n",
      "750:\tlearn: 22.4330276\ttotal: 1.15s\tremaining: 380ms\n",
      "751:\tlearn: 22.4193891\ttotal: 1.15s\tremaining: 378ms\n",
      "752:\tlearn: 22.4093040\ttotal: 1.15s\tremaining: 377ms\n",
      "753:\tlearn: 22.3758979\ttotal: 1.15s\tremaining: 375ms\n",
      "754:\tlearn: 22.3560173\ttotal: 1.15s\tremaining: 374ms\n",
      "755:\tlearn: 22.3264261\ttotal: 1.15s\tremaining: 372ms\n",
      "756:\tlearn: 22.2796605\ttotal: 1.15s\tremaining: 371ms\n",
      "757:\tlearn: 22.2253439\ttotal: 1.16s\tremaining: 369ms\n",
      "758:\tlearn: 22.1636409\ttotal: 1.16s\tremaining: 368ms\n",
      "759:\tlearn: 22.1078491\ttotal: 1.16s\tremaining: 366ms\n",
      "760:\tlearn: 22.0275756\ttotal: 1.16s\tremaining: 365ms\n",
      "761:\tlearn: 22.0174143\ttotal: 1.16s\tremaining: 363ms\n",
      "762:\tlearn: 21.9887391\ttotal: 1.17s\tremaining: 362ms\n",
      "763:\tlearn: 21.9746733\ttotal: 1.17s\tremaining: 361ms\n",
      "764:\tlearn: 21.9529216\ttotal: 1.17s\tremaining: 359ms\n",
      "765:\tlearn: 21.8767644\ttotal: 1.17s\tremaining: 358ms\n",
      "766:\tlearn: 21.8668039\ttotal: 1.17s\tremaining: 357ms\n",
      "767:\tlearn: 21.8008688\ttotal: 1.18s\tremaining: 355ms\n",
      "768:\tlearn: 21.7612208\ttotal: 1.18s\tremaining: 354ms\n",
      "769:\tlearn: 21.6977978\ttotal: 1.18s\tremaining: 352ms\n",
      "770:\tlearn: 21.6870461\ttotal: 1.18s\tremaining: 351ms\n",
      "771:\tlearn: 21.6599780\ttotal: 1.18s\tremaining: 349ms\n",
      "772:\tlearn: 21.5522064\ttotal: 1.19s\tremaining: 348ms\n",
      "773:\tlearn: 21.5426327\ttotal: 1.19s\tremaining: 347ms\n",
      "774:\tlearn: 21.4391089\ttotal: 1.2s\tremaining: 349ms\n",
      "775:\tlearn: 21.4042993\ttotal: 1.21s\tremaining: 348ms\n",
      "776:\tlearn: 21.3284836\ttotal: 1.21s\tremaining: 346ms\n",
      "777:\tlearn: 21.3163774\ttotal: 1.21s\tremaining: 345ms\n",
      "778:\tlearn: 21.2708416\ttotal: 1.21s\tremaining: 343ms\n",
      "779:\tlearn: 21.2056943\ttotal: 1.21s\tremaining: 342ms\n",
      "780:\tlearn: 21.1434774\ttotal: 1.21s\tremaining: 340ms\n",
      "781:\tlearn: 21.0672473\ttotal: 1.22s\tremaining: 339ms\n",
      "782:\tlearn: 20.9629645\ttotal: 1.22s\tremaining: 338ms\n",
      "783:\tlearn: 20.9522537\ttotal: 1.22s\tremaining: 336ms\n",
      "784:\tlearn: 20.9252425\ttotal: 1.22s\tremaining: 334ms\n",
      "785:\tlearn: 20.8576799\ttotal: 1.22s\tremaining: 333ms\n",
      "786:\tlearn: 20.7922970\ttotal: 1.22s\tremaining: 331ms\n",
      "787:\tlearn: 20.7802134\ttotal: 1.23s\tremaining: 330ms\n",
      "788:\tlearn: 20.7125213\ttotal: 1.23s\tremaining: 328ms\n",
      "789:\tlearn: 20.7000005\ttotal: 1.23s\tremaining: 326ms\n",
      "790:\tlearn: 20.6366378\ttotal: 1.23s\tremaining: 325ms\n",
      "791:\tlearn: 20.6170923\ttotal: 1.23s\tremaining: 323ms\n",
      "792:\tlearn: 20.5485950\ttotal: 1.23s\tremaining: 321ms\n",
      "793:\tlearn: 20.5212323\ttotal: 1.23s\tremaining: 320ms\n",
      "794:\tlearn: 20.5004347\ttotal: 1.23s\tremaining: 318ms\n",
      "795:\tlearn: 20.4884649\ttotal: 1.23s\tremaining: 316ms\n",
      "796:\tlearn: 20.3727007\ttotal: 1.24s\tremaining: 315ms\n",
      "797:\tlearn: 20.2776166\ttotal: 1.24s\tremaining: 313ms\n",
      "798:\tlearn: 20.2690965\ttotal: 1.24s\tremaining: 312ms\n",
      "799:\tlearn: 20.2166634\ttotal: 1.24s\tremaining: 310ms\n",
      "800:\tlearn: 20.1160179\ttotal: 1.24s\tremaining: 308ms\n",
      "801:\tlearn: 20.0642268\ttotal: 1.24s\tremaining: 307ms\n",
      "802:\tlearn: 20.0323601\ttotal: 1.24s\tremaining: 305ms\n",
      "803:\tlearn: 19.9485334\ttotal: 1.24s\tremaining: 303ms\n",
      "804:\tlearn: 19.9071725\ttotal: 1.25s\tremaining: 302ms\n",
      "805:\tlearn: 19.8943564\ttotal: 1.25s\tremaining: 300ms\n",
      "806:\tlearn: 19.7804687\ttotal: 1.25s\tremaining: 299ms\n",
      "807:\tlearn: 19.7343406\ttotal: 1.25s\tremaining: 297ms\n",
      "808:\tlearn: 19.6963930\ttotal: 1.25s\tremaining: 295ms\n",
      "809:\tlearn: 19.6705675\ttotal: 1.25s\tremaining: 294ms\n",
      "810:\tlearn: 19.6382933\ttotal: 1.25s\tremaining: 292ms\n",
      "811:\tlearn: 19.5889191\ttotal: 1.25s\tremaining: 291ms\n",
      "812:\tlearn: 19.5638487\ttotal: 1.26s\tremaining: 289ms\n",
      "813:\tlearn: 19.4926424\ttotal: 1.26s\tremaining: 287ms\n",
      "814:\tlearn: 19.3961396\ttotal: 1.26s\tremaining: 286ms\n",
      "815:\tlearn: 19.3880242\ttotal: 1.26s\tremaining: 284ms\n",
      "816:\tlearn: 19.2808372\ttotal: 1.26s\tremaining: 282ms\n",
      "817:\tlearn: 19.1712815\ttotal: 1.26s\tremaining: 281ms\n",
      "818:\tlearn: 19.0909823\ttotal: 1.26s\tremaining: 279ms\n",
      "819:\tlearn: 18.9993504\ttotal: 1.26s\tremaining: 278ms\n",
      "820:\tlearn: 18.9773399\ttotal: 1.27s\tremaining: 276ms\n",
      "821:\tlearn: 18.8989735\ttotal: 1.27s\tremaining: 274ms\n",
      "822:\tlearn: 18.8275176\ttotal: 1.27s\tremaining: 273ms\n",
      "823:\tlearn: 18.8092278\ttotal: 1.27s\tremaining: 271ms\n",
      "824:\tlearn: 18.7938447\ttotal: 1.27s\tremaining: 270ms\n",
      "825:\tlearn: 18.7871267\ttotal: 1.27s\tremaining: 268ms\n",
      "826:\tlearn: 18.7299674\ttotal: 1.27s\tremaining: 266ms\n",
      "827:\tlearn: 18.6808264\ttotal: 1.27s\tremaining: 265ms\n",
      "828:\tlearn: 18.5984875\ttotal: 1.27s\tremaining: 263ms\n",
      "829:\tlearn: 18.5170088\ttotal: 1.28s\tremaining: 262ms\n",
      "830:\tlearn: 18.4707382\ttotal: 1.28s\tremaining: 260ms\n",
      "831:\tlearn: 18.4368619\ttotal: 1.28s\tremaining: 258ms\n",
      "832:\tlearn: 18.3683191\ttotal: 1.28s\tremaining: 257ms\n",
      "833:\tlearn: 18.3295058\ttotal: 1.28s\tremaining: 255ms\n",
      "834:\tlearn: 18.2587263\ttotal: 1.28s\tremaining: 254ms\n",
      "835:\tlearn: 18.2103679\ttotal: 1.28s\tremaining: 252ms\n",
      "836:\tlearn: 18.1781032\ttotal: 1.28s\tremaining: 250ms\n",
      "837:\tlearn: 18.0746921\ttotal: 1.29s\tremaining: 249ms\n",
      "838:\tlearn: 18.0131984\ttotal: 1.29s\tremaining: 247ms\n",
      "839:\tlearn: 17.9510877\ttotal: 1.29s\tremaining: 246ms\n",
      "840:\tlearn: 17.8893536\ttotal: 1.29s\tremaining: 244ms\n",
      "841:\tlearn: 17.8813583\ttotal: 1.29s\tremaining: 242ms\n",
      "842:\tlearn: 17.8129857\ttotal: 1.29s\tremaining: 241ms\n",
      "843:\tlearn: 17.7981202\ttotal: 1.29s\tremaining: 239ms\n",
      "844:\tlearn: 17.7414627\ttotal: 1.29s\tremaining: 238ms\n",
      "845:\tlearn: 17.7255534\ttotal: 1.3s\tremaining: 236ms\n",
      "846:\tlearn: 17.6965545\ttotal: 1.3s\tremaining: 235ms\n",
      "847:\tlearn: 17.6499397\ttotal: 1.3s\tremaining: 233ms\n",
      "848:\tlearn: 17.6133852\ttotal: 1.3s\tremaining: 231ms\n",
      "849:\tlearn: 17.5621620\ttotal: 1.3s\tremaining: 230ms\n",
      "850:\tlearn: 17.5064049\ttotal: 1.3s\tremaining: 228ms\n",
      "851:\tlearn: 17.4643467\ttotal: 1.3s\tremaining: 227ms\n",
      "852:\tlearn: 17.4569544\ttotal: 1.3s\tremaining: 225ms\n",
      "853:\tlearn: 17.3731897\ttotal: 1.31s\tremaining: 223ms\n",
      "854:\tlearn: 17.3313609\ttotal: 1.31s\tremaining: 222ms\n",
      "855:\tlearn: 17.2781582\ttotal: 1.31s\tremaining: 220ms\n",
      "856:\tlearn: 17.2283433\ttotal: 1.31s\tremaining: 219ms\n",
      "857:\tlearn: 17.1944614\ttotal: 1.31s\tremaining: 217ms\n",
      "858:\tlearn: 17.1573393\ttotal: 1.31s\tremaining: 215ms\n",
      "859:\tlearn: 17.0975067\ttotal: 1.31s\tremaining: 214ms\n",
      "860:\tlearn: 17.0462043\ttotal: 1.31s\tremaining: 212ms\n",
      "861:\tlearn: 17.0118805\ttotal: 1.31s\tremaining: 211ms\n",
      "862:\tlearn: 17.0045195\ttotal: 1.32s\tremaining: 209ms\n",
      "863:\tlearn: 16.9528999\ttotal: 1.32s\tremaining: 208ms\n",
      "864:\tlearn: 16.9270632\ttotal: 1.32s\tremaining: 206ms\n",
      "865:\tlearn: 16.8915252\ttotal: 1.32s\tremaining: 204ms\n",
      "866:\tlearn: 16.7946576\ttotal: 1.32s\tremaining: 203ms\n",
      "867:\tlearn: 16.7737222\ttotal: 1.32s\tremaining: 201ms\n",
      "868:\tlearn: 16.7192509\ttotal: 1.32s\tremaining: 200ms\n",
      "869:\tlearn: 16.7138388\ttotal: 1.33s\tremaining: 198ms\n",
      "870:\tlearn: 16.6877768\ttotal: 1.33s\tremaining: 197ms\n",
      "871:\tlearn: 16.6265748\ttotal: 1.33s\tremaining: 195ms\n",
      "872:\tlearn: 16.5641199\ttotal: 1.33s\tremaining: 193ms\n",
      "873:\tlearn: 16.4935111\ttotal: 1.33s\tremaining: 192ms\n",
      "874:\tlearn: 16.4250863\ttotal: 1.33s\tremaining: 190ms\n",
      "875:\tlearn: 16.3566947\ttotal: 1.33s\tremaining: 189ms\n",
      "876:\tlearn: 16.2731185\ttotal: 1.33s\tremaining: 187ms\n",
      "877:\tlearn: 16.2207923\ttotal: 1.33s\tremaining: 186ms\n",
      "878:\tlearn: 16.2073108\ttotal: 1.34s\tremaining: 184ms\n",
      "879:\tlearn: 16.1336576\ttotal: 1.34s\tremaining: 182ms\n",
      "880:\tlearn: 16.0994139\ttotal: 1.34s\tremaining: 181ms\n",
      "881:\tlearn: 16.0720217\ttotal: 1.34s\tremaining: 179ms\n"
     ]
    },
    {
     "name": "stdout",
     "output_type": "stream",
     "text": [
      "882:\tlearn: 16.0192163\ttotal: 1.34s\tremaining: 178ms\n",
      "883:\tlearn: 16.0021989\ttotal: 1.34s\tremaining: 176ms\n",
      "884:\tlearn: 15.9003005\ttotal: 1.34s\tremaining: 175ms\n",
      "885:\tlearn: 15.8685768\ttotal: 1.34s\tremaining: 173ms\n",
      "886:\tlearn: 15.7757199\ttotal: 1.35s\tremaining: 172ms\n",
      "887:\tlearn: 15.7280015\ttotal: 1.35s\tremaining: 170ms\n",
      "888:\tlearn: 15.7037867\ttotal: 1.35s\tremaining: 169ms\n",
      "889:\tlearn: 15.6876254\ttotal: 1.35s\tremaining: 167ms\n",
      "890:\tlearn: 15.6002589\ttotal: 1.35s\tremaining: 165ms\n",
      "891:\tlearn: 15.5663914\ttotal: 1.35s\tremaining: 164ms\n",
      "892:\tlearn: 15.4827503\ttotal: 1.35s\tremaining: 162ms\n",
      "893:\tlearn: 15.4422647\ttotal: 1.35s\tremaining: 161ms\n",
      "894:\tlearn: 15.4230904\ttotal: 1.36s\tremaining: 159ms\n",
      "895:\tlearn: 15.3907978\ttotal: 1.36s\tremaining: 158ms\n",
      "896:\tlearn: 15.3022423\ttotal: 1.36s\tremaining: 156ms\n",
      "897:\tlearn: 15.2770800\ttotal: 1.36s\tremaining: 155ms\n",
      "898:\tlearn: 15.2708396\ttotal: 1.36s\tremaining: 153ms\n",
      "899:\tlearn: 15.2217814\ttotal: 1.36s\tremaining: 152ms\n",
      "900:\tlearn: 15.2150872\ttotal: 1.36s\tremaining: 150ms\n",
      "901:\tlearn: 15.1938758\ttotal: 1.37s\tremaining: 148ms\n",
      "902:\tlearn: 15.1087389\ttotal: 1.37s\tremaining: 147ms\n",
      "903:\tlearn: 15.0270836\ttotal: 1.37s\tremaining: 145ms\n",
      "904:\tlearn: 14.9579009\ttotal: 1.37s\tremaining: 144ms\n",
      "905:\tlearn: 14.9321713\ttotal: 1.37s\tremaining: 142ms\n",
      "906:\tlearn: 14.9254894\ttotal: 1.37s\tremaining: 141ms\n",
      "907:\tlearn: 14.8662999\ttotal: 1.37s\tremaining: 139ms\n",
      "908:\tlearn: 14.7969088\ttotal: 1.37s\tremaining: 138ms\n",
      "909:\tlearn: 14.7187437\ttotal: 1.38s\tremaining: 136ms\n",
      "910:\tlearn: 14.6594229\ttotal: 1.38s\tremaining: 134ms\n",
      "911:\tlearn: 14.6109629\ttotal: 1.38s\tremaining: 133ms\n",
      "912:\tlearn: 14.5833869\ttotal: 1.38s\tremaining: 131ms\n",
      "913:\tlearn: 14.5677206\ttotal: 1.38s\tremaining: 130ms\n",
      "914:\tlearn: 14.5260964\ttotal: 1.38s\tremaining: 128ms\n",
      "915:\tlearn: 14.4838792\ttotal: 1.38s\tremaining: 127ms\n",
      "916:\tlearn: 14.4614097\ttotal: 1.38s\tremaining: 125ms\n",
      "917:\tlearn: 14.4432212\ttotal: 1.38s\tremaining: 124ms\n",
      "918:\tlearn: 14.4363977\ttotal: 1.39s\tremaining: 122ms\n",
      "919:\tlearn: 14.3740822\ttotal: 1.39s\tremaining: 121ms\n",
      "920:\tlearn: 14.3363459\ttotal: 1.39s\tremaining: 119ms\n",
      "921:\tlearn: 14.2862425\ttotal: 1.39s\tremaining: 117ms\n",
      "922:\tlearn: 14.2195191\ttotal: 1.39s\tremaining: 116ms\n",
      "923:\tlearn: 14.1752422\ttotal: 1.39s\tremaining: 114ms\n",
      "924:\tlearn: 14.1582897\ttotal: 1.39s\tremaining: 113ms\n",
      "925:\tlearn: 14.0892518\ttotal: 1.39s\tremaining: 111ms\n",
      "926:\tlearn: 14.0163904\ttotal: 1.39s\tremaining: 110ms\n",
      "927:\tlearn: 13.9674906\ttotal: 1.4s\tremaining: 108ms\n",
      "928:\tlearn: 13.9421041\ttotal: 1.4s\tremaining: 107ms\n",
      "929:\tlearn: 13.9264108\ttotal: 1.4s\tremaining: 105ms\n",
      "930:\tlearn: 13.8953443\ttotal: 1.4s\tremaining: 104ms\n",
      "931:\tlearn: 13.8514821\ttotal: 1.4s\tremaining: 102ms\n",
      "932:\tlearn: 13.8317730\ttotal: 1.4s\tremaining: 101ms\n",
      "933:\tlearn: 13.7980615\ttotal: 1.4s\tremaining: 99.1ms\n",
      "934:\tlearn: 13.7252551\ttotal: 1.4s\tremaining: 97.5ms\n",
      "935:\tlearn: 13.6867475\ttotal: 1.4s\tremaining: 96ms\n",
      "936:\tlearn: 13.6663164\ttotal: 1.41s\tremaining: 94.5ms\n",
      "937:\tlearn: 13.6108173\ttotal: 1.41s\tremaining: 93ms\n",
      "938:\tlearn: 13.5827380\ttotal: 1.41s\tremaining: 91.4ms\n",
      "939:\tlearn: 13.5211246\ttotal: 1.41s\tremaining: 89.9ms\n",
      "940:\tlearn: 13.4752089\ttotal: 1.41s\tremaining: 88.4ms\n",
      "941:\tlearn: 13.4283115\ttotal: 1.41s\tremaining: 86.9ms\n",
      "942:\tlearn: 13.3912327\ttotal: 1.41s\tremaining: 85.3ms\n",
      "943:\tlearn: 13.3593766\ttotal: 1.41s\tremaining: 83.8ms\n",
      "944:\tlearn: 13.3015250\ttotal: 1.41s\tremaining: 82.3ms\n",
      "945:\tlearn: 13.2587480\ttotal: 1.42s\tremaining: 80.8ms\n",
      "946:\tlearn: 13.1949436\ttotal: 1.42s\tremaining: 79.3ms\n",
      "947:\tlearn: 13.1552441\ttotal: 1.42s\tremaining: 77.8ms\n",
      "948:\tlearn: 13.0700947\ttotal: 1.42s\tremaining: 76.2ms\n",
      "949:\tlearn: 13.0460884\ttotal: 1.42s\tremaining: 74.7ms\n",
      "950:\tlearn: 13.0315972\ttotal: 1.42s\tremaining: 73.2ms\n",
      "951:\tlearn: 12.9964111\ttotal: 1.42s\tremaining: 71.7ms\n",
      "952:\tlearn: 12.9757139\ttotal: 1.42s\tremaining: 70.2ms\n",
      "953:\tlearn: 12.9120533\ttotal: 1.42s\tremaining: 68.7ms\n",
      "954:\tlearn: 12.8776679\ttotal: 1.43s\tremaining: 67.2ms\n",
      "955:\tlearn: 12.8703243\ttotal: 1.43s\tremaining: 65.6ms\n",
      "956:\tlearn: 12.8058615\ttotal: 1.43s\tremaining: 64.1ms\n",
      "957:\tlearn: 12.7637381\ttotal: 1.43s\tremaining: 62.6ms\n",
      "958:\tlearn: 12.7517063\ttotal: 1.43s\tremaining: 61.1ms\n",
      "959:\tlearn: 12.7382108\ttotal: 1.43s\tremaining: 59.6ms\n",
      "960:\tlearn: 12.6881713\ttotal: 1.43s\tremaining: 58.1ms\n",
      "961:\tlearn: 12.6728317\ttotal: 1.43s\tremaining: 56.6ms\n",
      "962:\tlearn: 12.6386609\ttotal: 1.43s\tremaining: 55.1ms\n",
      "963:\tlearn: 12.5837642\ttotal: 1.44s\tremaining: 53.6ms\n",
      "964:\tlearn: 12.5689789\ttotal: 1.44s\tremaining: 52.1ms\n",
      "965:\tlearn: 12.5362136\ttotal: 1.44s\tremaining: 50.6ms\n",
      "966:\tlearn: 12.5186020\ttotal: 1.44s\tremaining: 49.1ms\n",
      "967:\tlearn: 12.4787889\ttotal: 1.45s\tremaining: 47.8ms\n",
      "968:\tlearn: 12.4463866\ttotal: 1.45s\tremaining: 46.3ms\n",
      "969:\tlearn: 12.3919484\ttotal: 1.45s\tremaining: 44.8ms\n",
      "970:\tlearn: 12.3583173\ttotal: 1.45s\tremaining: 43.3ms\n",
      "971:\tlearn: 12.3430204\ttotal: 1.45s\tremaining: 41.8ms\n",
      "972:\tlearn: 12.3036135\ttotal: 1.45s\tremaining: 40.3ms\n",
      "973:\tlearn: 12.2785886\ttotal: 1.45s\tremaining: 38.8ms\n",
      "974:\tlearn: 12.2424148\ttotal: 1.45s\tremaining: 37.3ms\n",
      "975:\tlearn: 12.2287225\ttotal: 1.46s\tremaining: 35.8ms\n",
      "976:\tlearn: 12.1894056\ttotal: 1.46s\tremaining: 34.3ms\n",
      "977:\tlearn: 12.1399699\ttotal: 1.46s\tremaining: 32.8ms\n",
      "978:\tlearn: 12.1165698\ttotal: 1.46s\tremaining: 31.3ms\n",
      "979:\tlearn: 12.1084930\ttotal: 1.46s\tremaining: 29.8ms\n",
      "980:\tlearn: 12.1041455\ttotal: 1.46s\tremaining: 28.3ms\n",
      "981:\tlearn: 12.0749440\ttotal: 1.46s\tremaining: 26.8ms\n",
      "982:\tlearn: 12.0676323\ttotal: 1.47s\tremaining: 25.3ms\n",
      "983:\tlearn: 12.0253491\ttotal: 1.47s\tremaining: 23.8ms\n",
      "984:\tlearn: 11.9725269\ttotal: 1.47s\tremaining: 22.3ms\n",
      "985:\tlearn: 11.9344239\ttotal: 1.47s\tremaining: 20.9ms\n",
      "986:\tlearn: 11.8870660\ttotal: 1.47s\tremaining: 19.4ms\n",
      "987:\tlearn: 11.8411099\ttotal: 1.47s\tremaining: 17.9ms\n",
      "988:\tlearn: 11.7973602\ttotal: 1.47s\tremaining: 16.4ms\n",
      "989:\tlearn: 11.7514376\ttotal: 1.47s\tremaining: 14.9ms\n",
      "990:\tlearn: 11.7232746\ttotal: 1.48s\tremaining: 13.4ms\n",
      "991:\tlearn: 11.6852796\ttotal: 1.48s\tremaining: 11.9ms\n",
      "992:\tlearn: 11.6463794\ttotal: 1.48s\tremaining: 10.4ms\n",
      "993:\tlearn: 11.6106308\ttotal: 1.48s\tremaining: 8.93ms\n",
      "994:\tlearn: 11.5731961\ttotal: 1.48s\tremaining: 7.44ms\n",
      "995:\tlearn: 11.5417359\ttotal: 1.48s\tremaining: 5.95ms\n",
      "996:\tlearn: 11.5167117\ttotal: 1.48s\tremaining: 4.46ms\n",
      "997:\tlearn: 11.4745232\ttotal: 1.48s\tremaining: 2.97ms\n",
      "998:\tlearn: 11.4604481\ttotal: 1.49s\tremaining: 1.49ms\n",
      "999:\tlearn: 11.4510502\ttotal: 1.49s\tremaining: 0us\n"
     ]
    }
   ],
   "source": [
    "catb_model=CatBoostRegressor().fit(X_train,y_train)\n"
   ]
  },
  {
   "cell_type": "code",
   "execution_count": 50,
   "id": "c27a7479",
   "metadata": {},
   "outputs": [
    {
     "data": {
      "text/plain": [
       "351.194631344607"
      ]
     },
     "execution_count": 50,
     "metadata": {},
     "output_type": "execute_result"
    }
   ],
   "source": [
    "predictions=catb_model.predict(X_test)\n",
    "np.sqrt(mean_squared_error(y_test,predictions)) # FIRST RMSE ERROR\n"
   ]
  },
  {
   "cell_type": "markdown",
   "id": "81effd64",
   "metadata": {},
   "source": [
    "### <font color=\"red\">Category Boosting (CatBoost) Model Tuning </font>"
   ]
  },
  {
   "cell_type": "code",
   "execution_count": 53,
   "id": "2093855a",
   "metadata": {
    "scrolled": true
   },
   "outputs": [
    {
     "name": "stdout",
     "output_type": "stream",
     "text": [
      "Fitting 5 folds for each of 18 candidates, totalling 90 fits\n",
      "0:\tlearn: 442.4903140\ttotal: 4.16ms\tremaining: 412ms\n",
      "1:\tlearn: 440.4621805\ttotal: 7.88ms\tremaining: 386ms\n",
      "2:\tlearn: 438.5132091\ttotal: 11.2ms\tremaining: 363ms\n",
      "3:\tlearn: 436.2180377\ttotal: 14.8ms\tremaining: 354ms\n",
      "4:\tlearn: 434.0461579\ttotal: 18.5ms\tremaining: 351ms\n",
      "5:\tlearn: 431.8437770\ttotal: 21.9ms\tremaining: 343ms\n",
      "6:\tlearn: 430.1594587\ttotal: 25.4ms\tremaining: 338ms\n",
      "7:\tlearn: 428.0941830\ttotal: 29.9ms\tremaining: 344ms\n",
      "8:\tlearn: 426.0998774\ttotal: 33.5ms\tremaining: 339ms\n",
      "9:\tlearn: 424.0249067\ttotal: 34.5ms\tremaining: 311ms\n",
      "10:\tlearn: 422.1921868\ttotal: 38.3ms\tremaining: 310ms\n",
      "11:\tlearn: 420.2506764\ttotal: 41.8ms\tremaining: 306ms\n",
      "12:\tlearn: 418.3116383\ttotal: 45.6ms\tremaining: 305ms\n",
      "13:\tlearn: 416.2966847\ttotal: 49.2ms\tremaining: 302ms\n",
      "14:\tlearn: 414.5776175\ttotal: 52.8ms\tremaining: 299ms\n",
      "15:\tlearn: 412.8009394\ttotal: 56.3ms\tremaining: 296ms\n",
      "16:\tlearn: 410.9774146\ttotal: 60.5ms\tremaining: 296ms\n",
      "17:\tlearn: 409.1047417\ttotal: 64.1ms\tremaining: 292ms\n",
      "18:\tlearn: 407.6243957\ttotal: 68.3ms\tremaining: 291ms\n",
      "19:\tlearn: 405.9072209\ttotal: 71.6ms\tremaining: 286ms\n",
      "20:\tlearn: 404.2566200\ttotal: 75.2ms\tremaining: 283ms\n",
      "21:\tlearn: 402.5329859\ttotal: 78.7ms\tremaining: 279ms\n",
      "22:\tlearn: 400.6495607\ttotal: 82ms\tremaining: 274ms\n",
      "23:\tlearn: 398.8468643\ttotal: 85.7ms\tremaining: 271ms\n",
      "24:\tlearn: 397.0329195\ttotal: 89.6ms\tremaining: 269ms\n",
      "25:\tlearn: 395.4747968\ttotal: 93.7ms\tremaining: 267ms\n",
      "26:\tlearn: 393.7206925\ttotal: 97.2ms\tremaining: 263ms\n",
      "27:\tlearn: 392.2904125\ttotal: 102ms\tremaining: 262ms\n",
      "28:\tlearn: 390.5630617\ttotal: 106ms\tremaining: 259ms\n",
      "29:\tlearn: 389.1479370\ttotal: 110ms\tremaining: 257ms\n",
      "30:\tlearn: 387.6030700\ttotal: 114ms\tremaining: 253ms\n",
      "31:\tlearn: 386.0164157\ttotal: 118ms\tremaining: 252ms\n",
      "32:\tlearn: 384.1076046\ttotal: 122ms\tremaining: 248ms\n",
      "33:\tlearn: 382.3830744\ttotal: 127ms\tremaining: 246ms\n",
      "34:\tlearn: 380.5987560\ttotal: 131ms\tremaining: 243ms\n",
      "35:\tlearn: 379.0931667\ttotal: 135ms\tremaining: 241ms\n",
      "36:\tlearn: 377.6455643\ttotal: 139ms\tremaining: 237ms\n",
      "37:\tlearn: 376.0951499\ttotal: 143ms\tremaining: 233ms\n",
      "38:\tlearn: 374.6596684\ttotal: 147ms\tremaining: 229ms\n",
      "39:\tlearn: 372.8982744\ttotal: 151ms\tremaining: 226ms\n",
      "40:\tlearn: 371.4430906\ttotal: 155ms\tremaining: 222ms\n",
      "41:\tlearn: 370.1346896\ttotal: 158ms\tremaining: 218ms\n",
      "42:\tlearn: 368.3409801\ttotal: 162ms\tremaining: 214ms\n",
      "43:\tlearn: 366.9161522\ttotal: 166ms\tremaining: 211ms\n",
      "44:\tlearn: 365.5390053\ttotal: 169ms\tremaining: 207ms\n",
      "45:\tlearn: 364.0156710\ttotal: 173ms\tremaining: 203ms\n",
      "46:\tlearn: 362.5688240\ttotal: 177ms\tremaining: 200ms\n",
      "47:\tlearn: 361.0766459\ttotal: 197ms\tremaining: 213ms\n",
      "48:\tlearn: 359.4068914\ttotal: 200ms\tremaining: 208ms\n",
      "49:\tlearn: 358.0264840\ttotal: 204ms\tremaining: 204ms\n",
      "50:\tlearn: 356.6569261\ttotal: 208ms\tremaining: 200ms\n",
      "51:\tlearn: 355.3295581\ttotal: 211ms\tremaining: 195ms\n",
      "52:\tlearn: 353.7981543\ttotal: 215ms\tremaining: 190ms\n",
      "53:\tlearn: 352.3857927\ttotal: 219ms\tremaining: 186ms\n",
      "54:\tlearn: 351.0170630\ttotal: 222ms\tremaining: 182ms\n",
      "55:\tlearn: 349.5583299\ttotal: 227ms\tremaining: 178ms\n",
      "56:\tlearn: 348.3551914\ttotal: 231ms\tremaining: 174ms\n",
      "57:\tlearn: 347.0770426\ttotal: 234ms\tremaining: 170ms\n",
      "58:\tlearn: 345.9005401\ttotal: 238ms\tremaining: 166ms\n",
      "59:\tlearn: 344.5492739\ttotal: 242ms\tremaining: 161ms\n",
      "60:\tlearn: 343.4861303\ttotal: 245ms\tremaining: 157ms\n",
      "61:\tlearn: 342.1246162\ttotal: 249ms\tremaining: 153ms\n",
      "62:\tlearn: 340.6842766\ttotal: 253ms\tremaining: 148ms\n",
      "63:\tlearn: 339.3315019\ttotal: 256ms\tremaining: 144ms\n",
      "64:\tlearn: 337.8521507\ttotal: 261ms\tremaining: 140ms\n",
      "65:\tlearn: 336.5759989\ttotal: 264ms\tremaining: 136ms\n",
      "66:\tlearn: 335.2858902\ttotal: 268ms\tremaining: 132ms\n",
      "67:\tlearn: 334.0030235\ttotal: 271ms\tremaining: 128ms\n",
      "68:\tlearn: 332.7313763\ttotal: 275ms\tremaining: 124ms\n",
      "69:\tlearn: 331.5974885\ttotal: 278ms\tremaining: 119ms\n",
      "70:\tlearn: 330.5354149\ttotal: 282ms\tremaining: 115ms\n",
      "71:\tlearn: 329.3024752\ttotal: 286ms\tremaining: 111ms\n",
      "72:\tlearn: 328.0534820\ttotal: 290ms\tremaining: 107ms\n",
      "73:\tlearn: 326.9395455\ttotal: 294ms\tremaining: 103ms\n",
      "74:\tlearn: 325.5288974\ttotal: 298ms\tremaining: 99.3ms\n",
      "75:\tlearn: 324.3277188\ttotal: 302ms\tremaining: 95.2ms\n",
      "76:\tlearn: 323.0868571\ttotal: 305ms\tremaining: 91.1ms\n",
      "77:\tlearn: 321.8690017\ttotal: 309ms\tremaining: 87.2ms\n",
      "78:\tlearn: 320.9509169\ttotal: 313ms\tremaining: 83.1ms\n",
      "79:\tlearn: 319.8700363\ttotal: 317ms\tremaining: 79.2ms\n",
      "80:\tlearn: 318.4920699\ttotal: 320ms\tremaining: 75.1ms\n",
      "81:\tlearn: 317.4778062\ttotal: 325ms\tremaining: 71.2ms\n",
      "82:\tlearn: 316.3636635\ttotal: 328ms\tremaining: 67.2ms\n",
      "83:\tlearn: 315.1041604\ttotal: 332ms\tremaining: 63.2ms\n",
      "84:\tlearn: 314.0018701\ttotal: 336ms\tremaining: 59.3ms\n",
      "85:\tlearn: 312.8242118\ttotal: 339ms\tremaining: 55.3ms\n",
      "86:\tlearn: 311.7133822\ttotal: 343ms\tremaining: 51.3ms\n",
      "87:\tlearn: 310.6125773\ttotal: 348ms\tremaining: 47.4ms\n",
      "88:\tlearn: 309.5934070\ttotal: 351ms\tremaining: 43.4ms\n",
      "89:\tlearn: 308.6035314\ttotal: 357ms\tremaining: 39.7ms\n",
      "90:\tlearn: 307.4645756\ttotal: 361ms\tremaining: 35.7ms\n",
      "91:\tlearn: 306.3359620\ttotal: 365ms\tremaining: 31.8ms\n",
      "92:\tlearn: 305.3546576\ttotal: 388ms\tremaining: 29.2ms\n",
      "93:\tlearn: 304.3497567\ttotal: 392ms\tremaining: 25ms\n",
      "94:\tlearn: 303.3926155\ttotal: 400ms\tremaining: 21ms\n",
      "95:\tlearn: 302.1234778\ttotal: 405ms\tremaining: 16.9ms\n",
      "96:\tlearn: 300.8748060\ttotal: 409ms\tremaining: 12.6ms\n",
      "97:\tlearn: 299.8192745\ttotal: 413ms\tremaining: 8.43ms\n",
      "98:\tlearn: 298.8369756\ttotal: 417ms\tremaining: 4.21ms\n",
      "99:\tlearn: 297.8913508\ttotal: 421ms\tremaining: 0us\n"
     ]
    }
   ],
   "source": [
    "# iterations -> means tree counter, the number of fitted models\n",
    "catb_params={\"iterations\":[200,500,100],\n",
    "             \"learning_rate\":[0.01,0.1],\n",
    "             \"depth\":[3,6,8]}\n",
    "catb_cv_model=GridSearchCV(catb_model,\n",
    "                           catb_params,\n",
    "                           cv=5,\n",
    "                           n_jobs=-1,\n",
    "                           verbose=2).fit(X_train,y_train)"
   ]
  },
  {
   "cell_type": "code",
   "execution_count": 54,
   "id": "18687a6b",
   "metadata": {},
   "outputs": [
    {
     "data": {
      "text/plain": [
       "{'depth': 8, 'iterations': 100, 'learning_rate': 0.01}"
      ]
     },
     "execution_count": 54,
     "metadata": {},
     "output_type": "execute_result"
    }
   ],
   "source": [
    "catb_cv_model.best_params_"
   ]
  },
  {
   "cell_type": "code",
   "execution_count": 56,
   "id": "5b204e20",
   "metadata": {
    "scrolled": true
   },
   "outputs": [
    {
     "name": "stdout",
     "output_type": "stream",
     "text": [
      "0:\tlearn: 442.4903140\ttotal: 3.89ms\tremaining: 385ms\n",
      "1:\tlearn: 440.4621805\ttotal: 7.41ms\tremaining: 363ms\n",
      "2:\tlearn: 438.5132091\ttotal: 11.3ms\tremaining: 366ms\n",
      "3:\tlearn: 436.2180377\ttotal: 14.7ms\tremaining: 353ms\n",
      "4:\tlearn: 434.0461579\ttotal: 18.3ms\tremaining: 347ms\n",
      "5:\tlearn: 431.8437770\ttotal: 21.8ms\tremaining: 341ms\n",
      "6:\tlearn: 430.1594587\ttotal: 25.1ms\tremaining: 334ms\n",
      "7:\tlearn: 428.0941830\ttotal: 28.4ms\tremaining: 327ms\n",
      "8:\tlearn: 426.0998774\ttotal: 31.8ms\tremaining: 322ms\n",
      "9:\tlearn: 424.0249067\ttotal: 32.8ms\tremaining: 295ms\n",
      "10:\tlearn: 422.1921868\ttotal: 36.2ms\tremaining: 293ms\n",
      "11:\tlearn: 420.2506764\ttotal: 39.5ms\tremaining: 290ms\n",
      "12:\tlearn: 418.3116383\ttotal: 43.8ms\tremaining: 293ms\n",
      "13:\tlearn: 416.2966847\ttotal: 47.7ms\tremaining: 293ms\n",
      "14:\tlearn: 414.5776175\ttotal: 53.3ms\tremaining: 302ms\n",
      "15:\tlearn: 412.8009394\ttotal: 57ms\tremaining: 299ms\n",
      "16:\tlearn: 410.9774146\ttotal: 60ms\tremaining: 293ms\n",
      "17:\tlearn: 409.1047417\ttotal: 63.6ms\tremaining: 290ms\n",
      "18:\tlearn: 407.6243957\ttotal: 66.8ms\tremaining: 285ms\n",
      "19:\tlearn: 405.9072209\ttotal: 69.9ms\tremaining: 279ms\n",
      "20:\tlearn: 404.2566200\ttotal: 73ms\tremaining: 275ms\n",
      "21:\tlearn: 402.5329859\ttotal: 76.2ms\tremaining: 270ms\n",
      "22:\tlearn: 400.6495607\ttotal: 79.3ms\tremaining: 265ms\n",
      "23:\tlearn: 398.8468643\ttotal: 82.3ms\tremaining: 261ms\n",
      "24:\tlearn: 397.0329195\ttotal: 85.6ms\tremaining: 257ms\n",
      "25:\tlearn: 395.4747968\ttotal: 88.6ms\tremaining: 252ms\n",
      "26:\tlearn: 393.7206925\ttotal: 91.7ms\tremaining: 248ms\n",
      "27:\tlearn: 392.2904125\ttotal: 94.7ms\tremaining: 244ms\n",
      "28:\tlearn: 390.5630617\ttotal: 98.4ms\tremaining: 241ms\n",
      "29:\tlearn: 389.1479370\ttotal: 102ms\tremaining: 238ms\n",
      "30:\tlearn: 387.6030700\ttotal: 105ms\tremaining: 234ms\n",
      "31:\tlearn: 386.0164157\ttotal: 109ms\tremaining: 231ms\n",
      "32:\tlearn: 384.1076046\ttotal: 112ms\tremaining: 228ms\n",
      "33:\tlearn: 382.3830744\ttotal: 115ms\tremaining: 224ms\n",
      "34:\tlearn: 380.5987560\ttotal: 118ms\tremaining: 219ms\n",
      "35:\tlearn: 379.0931667\ttotal: 122ms\tremaining: 217ms\n",
      "36:\tlearn: 377.6455643\ttotal: 125ms\tremaining: 213ms\n",
      "37:\tlearn: 376.0951499\ttotal: 129ms\tremaining: 210ms\n",
      "38:\tlearn: 374.6596684\ttotal: 132ms\tremaining: 206ms\n",
      "39:\tlearn: 372.8982744\ttotal: 135ms\tremaining: 203ms\n",
      "40:\tlearn: 371.4430906\ttotal: 139ms\tremaining: 200ms\n",
      "41:\tlearn: 370.1346896\ttotal: 142ms\tremaining: 196ms\n",
      "42:\tlearn: 368.3409801\ttotal: 146ms\tremaining: 193ms\n",
      "43:\tlearn: 366.9161522\ttotal: 149ms\tremaining: 189ms\n",
      "44:\tlearn: 365.5390053\ttotal: 152ms\tremaining: 186ms\n",
      "45:\tlearn: 364.0156710\ttotal: 155ms\tremaining: 182ms\n",
      "46:\tlearn: 362.5688240\ttotal: 158ms\tremaining: 179ms\n",
      "47:\tlearn: 361.0766459\ttotal: 162ms\tremaining: 175ms\n",
      "48:\tlearn: 359.4068914\ttotal: 165ms\tremaining: 172ms\n",
      "49:\tlearn: 358.0264840\ttotal: 168ms\tremaining: 168ms\n",
      "50:\tlearn: 356.6569261\ttotal: 171ms\tremaining: 165ms\n",
      "51:\tlearn: 355.3295581\ttotal: 176ms\tremaining: 162ms\n",
      "52:\tlearn: 353.7981543\ttotal: 179ms\tremaining: 159ms\n",
      "53:\tlearn: 352.3857927\ttotal: 183ms\tremaining: 156ms\n",
      "54:\tlearn: 351.0170630\ttotal: 187ms\tremaining: 153ms\n",
      "55:\tlearn: 349.5583299\ttotal: 190ms\tremaining: 150ms\n",
      "56:\tlearn: 348.3551914\ttotal: 194ms\tremaining: 146ms\n",
      "57:\tlearn: 347.0770426\ttotal: 197ms\tremaining: 143ms\n",
      "58:\tlearn: 345.9005401\ttotal: 200ms\tremaining: 139ms\n",
      "59:\tlearn: 344.5492739\ttotal: 204ms\tremaining: 136ms\n",
      "60:\tlearn: 343.4861303\ttotal: 207ms\tremaining: 132ms\n",
      "61:\tlearn: 342.1246162\ttotal: 210ms\tremaining: 129ms\n",
      "62:\tlearn: 340.6842766\ttotal: 214ms\tremaining: 126ms\n",
      "63:\tlearn: 339.3315019\ttotal: 217ms\tremaining: 122ms\n",
      "64:\tlearn: 337.8521507\ttotal: 221ms\tremaining: 119ms\n",
      "65:\tlearn: 336.5759989\ttotal: 224ms\tremaining: 115ms\n",
      "66:\tlearn: 335.2858902\ttotal: 227ms\tremaining: 112ms\n",
      "67:\tlearn: 334.0030235\ttotal: 231ms\tremaining: 109ms\n",
      "68:\tlearn: 332.7313763\ttotal: 234ms\tremaining: 105ms\n",
      "69:\tlearn: 331.5974885\ttotal: 238ms\tremaining: 102ms\n",
      "70:\tlearn: 330.5354149\ttotal: 242ms\tremaining: 98.8ms\n",
      "71:\tlearn: 329.3024752\ttotal: 246ms\tremaining: 95.5ms\n",
      "72:\tlearn: 328.0534820\ttotal: 249ms\tremaining: 92ms\n",
      "73:\tlearn: 326.9395455\ttotal: 252ms\tremaining: 88.6ms\n",
      "74:\tlearn: 325.5288974\ttotal: 256ms\tremaining: 85.3ms\n",
      "75:\tlearn: 324.3277188\ttotal: 260ms\tremaining: 82.1ms\n",
      "76:\tlearn: 323.0868571\ttotal: 264ms\tremaining: 78.8ms\n",
      "77:\tlearn: 321.8690017\ttotal: 268ms\tremaining: 75.5ms\n",
      "78:\tlearn: 320.9509169\ttotal: 271ms\tremaining: 72.2ms\n",
      "79:\tlearn: 319.8700363\ttotal: 275ms\tremaining: 68.7ms\n",
      "80:\tlearn: 318.4920699\ttotal: 278ms\tremaining: 65.3ms\n",
      "81:\tlearn: 317.4778062\ttotal: 282ms\tremaining: 61.9ms\n",
      "82:\tlearn: 316.3636635\ttotal: 285ms\tremaining: 58.5ms\n",
      "83:\tlearn: 315.1041604\ttotal: 289ms\tremaining: 55ms\n",
      "84:\tlearn: 314.0018701\ttotal: 292ms\tremaining: 51.6ms\n",
      "85:\tlearn: 312.8242118\ttotal: 296ms\tremaining: 48.1ms\n",
      "86:\tlearn: 311.7133822\ttotal: 299ms\tremaining: 44.7ms\n",
      "87:\tlearn: 310.6125773\ttotal: 303ms\tremaining: 41.3ms\n",
      "88:\tlearn: 309.5934070\ttotal: 306ms\tremaining: 37.8ms\n",
      "89:\tlearn: 308.6035314\ttotal: 310ms\tremaining: 34.4ms\n",
      "90:\tlearn: 307.4645756\ttotal: 313ms\tremaining: 31ms\n",
      "91:\tlearn: 306.3359620\ttotal: 317ms\tremaining: 27.6ms\n",
      "92:\tlearn: 305.3546576\ttotal: 320ms\tremaining: 24.1ms\n",
      "93:\tlearn: 304.3497567\ttotal: 324ms\tremaining: 20.6ms\n",
      "94:\tlearn: 303.3926155\ttotal: 327ms\tremaining: 17.2ms\n",
      "95:\tlearn: 302.1234778\ttotal: 330ms\tremaining: 13.8ms\n",
      "96:\tlearn: 300.8748060\ttotal: 334ms\tremaining: 10.3ms\n",
      "97:\tlearn: 299.8192745\ttotal: 337ms\tremaining: 6.88ms\n",
      "98:\tlearn: 298.8369756\ttotal: 341ms\tremaining: 3.44ms\n",
      "99:\tlearn: 297.8913508\ttotal: 344ms\tremaining: 0us\n"
     ]
    }
   ],
   "source": [
    "# final model\n",
    "final_model=CatBoostRegressor(iterations=100,depth=8,learning_rate=0.01).fit(X_train,y_train)\n"
   ]
  },
  {
   "cell_type": "code",
   "execution_count": 58,
   "id": "be4a1015",
   "metadata": {},
   "outputs": [
    {
     "data": {
      "text/plain": [
       "390.4243220331881"
      ]
     },
     "execution_count": 58,
     "metadata": {},
     "output_type": "execute_result"
    }
   ],
   "source": [
    "predicted=final_model.predict(X_test)\n",
    "np.sqrt(mean_squared_error(y_test,predicted))\n"
   ]
  },
  {
   "cell_type": "markdown",
   "id": "bfb62826",
   "metadata": {},
   "source": [
    "# <font color=\"orange\">Automatization of Machine Learning Tasks </font>"
   ]
  },
  {
   "cell_type": "code",
   "execution_count": 63,
   "id": "44313b5c",
   "metadata": {},
   "outputs": [],
   "source": [
    "# ALL FUNCTIONS THAT WE USED IN THIS PAPER\n",
    "\n",
    "import pandas as pd\n",
    "import numpy as np\n",
    "import seaborn as sns\n",
    "import matplotlib.pyplot as plt\n",
    "\n",
    "from sklearn import model_selection,neighbors\n",
    "from sklearn.preprocessing import scale, StandardScaler\n",
    "from sklearn.linear_model import LinearRegression\n",
    "from sklearn.metrics import r2_score,mean_squared_error\n",
    "from sklearn.model_selection import GridSearchCV,train_test_split\n",
    "from sklearn.tree import DecisionTreeRegressor\n",
    "from sklearn.neighbors import KNeighborsRegressor\n",
    "from sklearn.neural_network import MLPRegressor\n",
    "from sklearn.svm import SVR\n",
    "from xgboost import XGBRegressor\n",
    "from lightgbm import LGBMRegressor\n",
    "from catboost import CatBoostRegressor\n",
    "from sklearn.ensemble import GradientBoostingRegressor,AdaBoostRegressor,RandomForestRegressor"
   ]
  },
  {
   "cell_type": "code",
   "execution_count": 64,
   "id": "7f7abc79",
   "metadata": {
    "scrolled": true
   },
   "outputs": [],
   "source": [
    "df=pd.read_csv(\"./csv_files/Hitters.csv\")\n",
    "df.dropna(inplace=True)\n",
    "dms=pd.get_dummies(df[[\"League\",\"Division\",\"NewLeague\"]])\n",
    "models=[LGBMRegressor,\n",
    "        XGBRegressor,\n",
    "        GradientBoostingRegressor,\n",
    "        RandomForestRegressor,\n",
    "        DecisionTreeRegressor,\n",
    "        MLPRegressor,\n",
    "        KNeighborsRegressor,\n",
    "        SVR]"
   ]
  },
  {
   "cell_type": "code",
   "execution_count": 70,
   "id": "d8b75251",
   "metadata": {},
   "outputs": [],
   "source": [
    "def compML(df,y,models): \n",
    "    \n",
    "    \n",
    "    # Train, Test Processes\n",
    "    y=df[y]\n",
    "    X_=df.drop(columns=[\"Salary\",\"League\",\"Division\",\"NewLeague\"],axis=1).astype(\"float64\")\n",
    "    X=pd.concat([X_,dms[[\"League_N\",\"Division_W\",\"NewLeague_N\"]]],axis=1)\n",
    "    X_train, X_test, y_train, y_test= train_test_split(X,y,test_size=0.25,random_state=42)\n",
    "    \n",
    "    # Modeling\n",
    "    for alg in models:\n",
    "        model=alg().fit(X_train,y_train)\n",
    "        predicted=model.predict(X_test)\n",
    "        RMSE=np.sqrt(mean_squared_error(y_test,predicted))\n",
    "        mode_name=alg.__name__\n",
    "        print(mode_name,\"Test Error:{:2f}\".format(RMSE))\n",
    "    \n",
    "    "
   ]
  },
  {
   "cell_type": "code",
   "execution_count": 71,
   "id": "caf9bdf1",
   "metadata": {},
   "outputs": [
    {
     "name": "stdout",
     "output_type": "stream",
     "text": [
      "LGBMRegressor Test Error:363.871209\n",
      "XGBRegressor Test Error:355.465152\n",
      "GradientBoostingRegressor Test Error:348.773613\n",
      "RandomForestRegressor Test Error:344.107058\n",
      "DecisionTreeRegressor Test Error:436.290672\n",
      "MLPRegressor Test Error:452.120135\n",
      "KNeighborsRegressor Test Error:426.657076\n",
      "SVR Test Error:460.003266\n"
     ]
    }
   ],
   "source": [
    "compML(df,\"Salary\",models)"
   ]
  },
  {
   "cell_type": "code",
   "execution_count": null,
   "id": "5750341e",
   "metadata": {},
   "outputs": [],
   "source": []
  }
 ],
 "metadata": {
  "kernelspec": {
   "display_name": "Python 3 (ipykernel)",
   "language": "python",
   "name": "python3"
  },
  "language_info": {
   "codemirror_mode": {
    "name": "ipython",
    "version": 3
   },
   "file_extension": ".py",
   "mimetype": "text/x-python",
   "name": "python",
   "nbconvert_exporter": "python",
   "pygments_lexer": "ipython3",
   "version": "3.9.12"
  }
 },
 "nbformat": 4,
 "nbformat_minor": 5
}
