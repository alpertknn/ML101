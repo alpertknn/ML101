{
 "cells": [
  {
   "cell_type": "markdown",
   "id": "993967c1",
   "metadata": {},
   "source": [
    "# <font color=\"orange\"> Unsupervised Learning </font>\n",
    "->> The most common approaches to machine learning training are supervised and unsupervised learning \n",
    "<br>\n",
    "->> Machine learning is a type of artificial intelligence that allows software applications to become more accurate at predicting outcomes over time, without being explicitly programmed to do so.\n",
    "<br>\n",
    "->> Supervised machine learning requires the data scientists to provide input and output data, with the goal of the algorithm eventually predicting the correct outputs based on the given input. This type of system is ideal for binary classification, multi-class identification, regression modeling, and ensembling.\n",
    "<br>\n",
    "->> Unsupervised machine learning, on the other hand, does not require labels and corresponding outputs to be provided. The algorithm instead uses unlabeled input data and identifies patterns in order to group data.  Unsupervised learning is typically used for clustering, anomaly detection, association mining, and dimensionality reduction. \n",
    "<br>\n",
    "## <font color=\"purple\"> Unsupervised Learning </font>\n",
    "->> K-Means\n",
    "<br>\n",
    "->> Hierarchical  Cluster Analysis\n",
    "<br>\n",
    "->> Principal Component Analysis\n",
    "# <font color=\"orange\">K-Means</font>\n",
    "->> The aim is splitting observations to subsets to their similarities, K-Means is a clustering method.\n",
    "<br>\n",
    "->> The aim of clustering methods is try to group observations or variables by using similarity matrixes. The generated subsets are expected homogenous to inside of them, and heterogenous to each other. \n",
    "\n",
    "<img src=\"./used_images/kmeans.png\" width=\"600\" height=\"600\">\n",
    "<br> \n",
    "\n",
    "### <font color=\"purple\">Steps of K-Means</font>\n",
    "->> Number of Clusters are determined\n",
    "<br>\n",
    "->> K number of center is selected randomly\n",
    "<br>\n",
    "->> The distances to k-centers are calculated for every observation.\n",
    "<br>\n",
    "->> Every observation is assigned the closest center, it means cluster.\n",
    "<br>\n",
    "->> After assigning process, the center calculations are repeats for clusters.\n",
    "<br>\n",
    "->> This process continues to decided number of iteration, and the clusters are selected final cluster that summation of sum of mean squared errors minimum.\n",
    "<br>\n",
    "->> The aim is that making the similarity inside a cluster  maximum, the similarity between clusters  minimum.\n",
    "\n",
    "### <font color=\"red\">K-Means Implementation</font>"
   ]
  },
  {
   "cell_type": "code",
   "execution_count": 1,
   "id": "2d3221d6",
   "metadata": {},
   "outputs": [],
   "source": [
    "import pandas as pd\n",
    "import numpy as np\n",
    "import matplotlib.pyplot as plt\n",
    "import seaborn as sns\n",
    "from sklearn.cluster import KMeans\n",
    "import warnings \n",
    "warnings.filterwarnings(\"ignore\",category=FutureWarning)\n",
    "warnings.filterwarnings(\"ignore\",category=DeprecationWarning)"
   ]
  },
  {
   "cell_type": "code",
   "execution_count": 2,
   "id": "981fda15",
   "metadata": {},
   "outputs": [],
   "source": [
    "df=pd.read_csv(\"./csv_files/USArrests.csv\",index_col=0)\n",
    "\n",
    "# Our aim is that splitting states to cluster to their criminal rates"
   ]
  },
  {
   "cell_type": "code",
   "execution_count": 3,
   "id": "16ef97e1",
   "metadata": {},
   "outputs": [
    {
     "data": {
      "text/html": [
       "<div>\n",
       "<style scoped>\n",
       "    .dataframe tbody tr th:only-of-type {\n",
       "        vertical-align: middle;\n",
       "    }\n",
       "\n",
       "    .dataframe tbody tr th {\n",
       "        vertical-align: top;\n",
       "    }\n",
       "\n",
       "    .dataframe thead th {\n",
       "        text-align: right;\n",
       "    }\n",
       "</style>\n",
       "<table border=\"1\" class=\"dataframe\">\n",
       "  <thead>\n",
       "    <tr style=\"text-align: right;\">\n",
       "      <th></th>\n",
       "      <th>Murder</th>\n",
       "      <th>Assault</th>\n",
       "      <th>UrbanPop</th>\n",
       "      <th>Rape</th>\n",
       "    </tr>\n",
       "  </thead>\n",
       "  <tbody>\n",
       "    <tr>\n",
       "      <th>Alabama</th>\n",
       "      <td>13.2</td>\n",
       "      <td>236</td>\n",
       "      <td>58</td>\n",
       "      <td>21.2</td>\n",
       "    </tr>\n",
       "    <tr>\n",
       "      <th>Alaska</th>\n",
       "      <td>10.0</td>\n",
       "      <td>263</td>\n",
       "      <td>48</td>\n",
       "      <td>44.5</td>\n",
       "    </tr>\n",
       "    <tr>\n",
       "      <th>Arizona</th>\n",
       "      <td>8.1</td>\n",
       "      <td>294</td>\n",
       "      <td>80</td>\n",
       "      <td>31.0</td>\n",
       "    </tr>\n",
       "    <tr>\n",
       "      <th>Arkansas</th>\n",
       "      <td>8.8</td>\n",
       "      <td>190</td>\n",
       "      <td>50</td>\n",
       "      <td>19.5</td>\n",
       "    </tr>\n",
       "    <tr>\n",
       "      <th>California</th>\n",
       "      <td>9.0</td>\n",
       "      <td>276</td>\n",
       "      <td>91</td>\n",
       "      <td>40.6</td>\n",
       "    </tr>\n",
       "  </tbody>\n",
       "</table>\n",
       "</div>"
      ],
      "text/plain": [
       "            Murder  Assault  UrbanPop  Rape\n",
       "Alabama       13.2      236        58  21.2\n",
       "Alaska        10.0      263        48  44.5\n",
       "Arizona        8.1      294        80  31.0\n",
       "Arkansas       8.8      190        50  19.5\n",
       "California     9.0      276        91  40.6"
      ]
     },
     "execution_count": 3,
     "metadata": {},
     "output_type": "execute_result"
    }
   ],
   "source": [
    "df.head()"
   ]
  },
  {
   "cell_type": "code",
   "execution_count": 4,
   "id": "01dd9ace",
   "metadata": {},
   "outputs": [
    {
     "data": {
      "text/plain": [
       "Murder      0\n",
       "Assault     0\n",
       "UrbanPop    0\n",
       "Rape        0\n",
       "dtype: int64"
      ]
     },
     "execution_count": 4,
     "metadata": {},
     "output_type": "execute_result"
    }
   ],
   "source": [
    "df.isnull().sum()"
   ]
  },
  {
   "cell_type": "code",
   "execution_count": 5,
   "id": "01449f94",
   "metadata": {},
   "outputs": [
    {
     "name": "stdout",
     "output_type": "stream",
     "text": [
      "<class 'pandas.core.frame.DataFrame'>\n",
      "Index: 50 entries, Alabama to Wyoming\n",
      "Data columns (total 4 columns):\n",
      " #   Column    Non-Null Count  Dtype  \n",
      "---  ------    --------------  -----  \n",
      " 0   Murder    50 non-null     float64\n",
      " 1   Assault   50 non-null     int64  \n",
      " 2   UrbanPop  50 non-null     int64  \n",
      " 3   Rape      50 non-null     float64\n",
      "dtypes: float64(2), int64(2)\n",
      "memory usage: 2.0+ KB\n"
     ]
    }
   ],
   "source": [
    "df.info()"
   ]
  },
  {
   "cell_type": "code",
   "execution_count": 6,
   "id": "1076f6b9",
   "metadata": {},
   "outputs": [
    {
     "data": {
      "text/html": [
       "<div>\n",
       "<style scoped>\n",
       "    .dataframe tbody tr th:only-of-type {\n",
       "        vertical-align: middle;\n",
       "    }\n",
       "\n",
       "    .dataframe tbody tr th {\n",
       "        vertical-align: top;\n",
       "    }\n",
       "\n",
       "    .dataframe thead th {\n",
       "        text-align: right;\n",
       "    }\n",
       "</style>\n",
       "<table border=\"1\" class=\"dataframe\">\n",
       "  <thead>\n",
       "    <tr style=\"text-align: right;\">\n",
       "      <th></th>\n",
       "      <th>count</th>\n",
       "      <th>mean</th>\n",
       "      <th>std</th>\n",
       "      <th>min</th>\n",
       "      <th>25%</th>\n",
       "      <th>50%</th>\n",
       "      <th>75%</th>\n",
       "      <th>max</th>\n",
       "    </tr>\n",
       "  </thead>\n",
       "  <tbody>\n",
       "    <tr>\n",
       "      <th>Murder</th>\n",
       "      <td>50.0</td>\n",
       "      <td>7.788</td>\n",
       "      <td>4.355510</td>\n",
       "      <td>0.8</td>\n",
       "      <td>4.075</td>\n",
       "      <td>7.25</td>\n",
       "      <td>11.250</td>\n",
       "      <td>17.4</td>\n",
       "    </tr>\n",
       "    <tr>\n",
       "      <th>Assault</th>\n",
       "      <td>50.0</td>\n",
       "      <td>170.760</td>\n",
       "      <td>83.337661</td>\n",
       "      <td>45.0</td>\n",
       "      <td>109.000</td>\n",
       "      <td>159.00</td>\n",
       "      <td>249.000</td>\n",
       "      <td>337.0</td>\n",
       "    </tr>\n",
       "    <tr>\n",
       "      <th>UrbanPop</th>\n",
       "      <td>50.0</td>\n",
       "      <td>65.540</td>\n",
       "      <td>14.474763</td>\n",
       "      <td>32.0</td>\n",
       "      <td>54.500</td>\n",
       "      <td>66.00</td>\n",
       "      <td>77.750</td>\n",
       "      <td>91.0</td>\n",
       "    </tr>\n",
       "    <tr>\n",
       "      <th>Rape</th>\n",
       "      <td>50.0</td>\n",
       "      <td>21.232</td>\n",
       "      <td>9.366385</td>\n",
       "      <td>7.3</td>\n",
       "      <td>15.075</td>\n",
       "      <td>20.10</td>\n",
       "      <td>26.175</td>\n",
       "      <td>46.0</td>\n",
       "    </tr>\n",
       "  </tbody>\n",
       "</table>\n",
       "</div>"
      ],
      "text/plain": [
       "          count     mean        std   min      25%     50%      75%    max\n",
       "Murder     50.0    7.788   4.355510   0.8    4.075    7.25   11.250   17.4\n",
       "Assault    50.0  170.760  83.337661  45.0  109.000  159.00  249.000  337.0\n",
       "UrbanPop   50.0   65.540  14.474763  32.0   54.500   66.00   77.750   91.0\n",
       "Rape       50.0   21.232   9.366385   7.3   15.075   20.10   26.175   46.0"
      ]
     },
     "execution_count": 6,
     "metadata": {},
     "output_type": "execute_result"
    }
   ],
   "source": [
    "df.describe().T"
   ]
  },
  {
   "cell_type": "code",
   "execution_count": 7,
   "id": "09a91f0a",
   "metadata": {},
   "outputs": [
    {
     "data": {
      "image/png": "[encoded data removed]",
      "text/plain": [
       "<Figure size 720x720 with 4 Axes>"
      ]
     },
     "metadata": {
      "needs_background": "light"
     },
     "output_type": "display_data"
    }
   ],
   "source": [
    "df.hist(figsize=(10,10));"
   ]
  },
  {
   "cell_type": "code",
   "execution_count": 8,
   "id": "f2631e95",
   "metadata": {},
   "outputs": [],
   "source": [
    "kmeans=KMeans(n_clusters=4).fit(df)"
   ]
  },
  {
   "cell_type": "code",
   "execution_count": 9,
   "id": "c38a26ff",
   "metadata": {},
   "outputs": [
    {
     "data": {
      "text/plain": [
       "4"
      ]
     },
     "execution_count": 9,
     "metadata": {},
     "output_type": "execute_result"
    }
   ],
   "source": [
    "kmeans.n_clusters"
   ]
  },
  {
   "cell_type": "code",
   "execution_count": 10,
   "id": "502d0128",
   "metadata": {},
   "outputs": [
    {
     "data": {
      "text/plain": [
       "array([[  5.59      , 112.4       ,  65.6       ,  17.27      ],\n",
       "       [ 11.8125    , 272.5625    ,  68.3125    ,  28.375     ],\n",
       "       [  8.21428571, 173.28571429,  70.64285714,  22.84285714],\n",
       "       [  2.95      ,  62.7       ,  53.9       ,  11.51      ]])"
      ]
     },
     "execution_count": 10,
     "metadata": {},
     "output_type": "execute_result"
    }
   ],
   "source": [
    "kmeans.cluster_centers_ # centers of clusters "
   ]
  },
  {
   "cell_type": "code",
   "execution_count": 11,
   "id": "90cde635",
   "metadata": {},
   "outputs": [
    {
     "data": {
      "text/plain": [
       "array([1, 1, 1, 2, 1, 2, 0, 1, 1, 2, 3, 0, 1, 0, 3, 0, 0, 1, 3, 1, 2, 1,\n",
       "       3, 1, 2, 0, 0, 1, 3, 2, 1, 1, 1, 3, 0, 2, 2, 0, 2, 1, 3, 2, 2, 0,\n",
       "       3, 2, 2, 3, 3, 2])"
      ]
     },
     "execution_count": 11,
     "metadata": {},
     "output_type": "execute_result"
    }
   ],
   "source": [
    "kmeans.labels_  # Labels of clusters "
   ]
  },
  {
   "cell_type": "markdown",
   "id": "29675781",
   "metadata": {},
   "source": [
    "### <font color=\"purple\">Visualisation of Clusters</font>\n",
    "->> We select two variables, why ? because our aim is showing the clustering on two axis, but we have 4 variable.\n",
    "<br>\n",
    "->> If we have more than 2 variable, but we want to visualize them on two axis, we should degrade the dataset into two variable by using Principal Component Analysis (PCA). \n"
   ]
  },
  {
   "cell_type": "code",
   "execution_count": 12,
   "id": "75f614fc",
   "metadata": {},
   "outputs": [],
   "source": [
    "kmeans=KMeans(n_clusters=2).fit(df)"
   ]
  },
  {
   "cell_type": "code",
   "execution_count": 13,
   "id": "faedbb63",
   "metadata": {},
   "outputs": [],
   "source": [
    "clusters=kmeans.labels_"
   ]
  },
  {
   "cell_type": "code",
   "execution_count": 14,
   "id": "57ecfe8b",
   "metadata": {},
   "outputs": [
    {
     "data": {
      "image/png": "[encoded data removed]",
      "text/plain": [
       "<Figure size 432x288 with 1 Axes>"
      ]
     },
     "metadata": {
      "needs_background": "light"
     },
     "output_type": "display_data"
    }
   ],
   "source": [
    "plt.scatter(df.iloc[:,0],df.iloc[:,1],c=clusters,s=50,cmap=\"viridis\");"
   ]
  },
  {
   "cell_type": "code",
   "execution_count": 15,
   "id": "633155d0",
   "metadata": {},
   "outputs": [],
   "source": [
    "centers=kmeans.cluster_centers_"
   ]
  },
  {
   "cell_type": "code",
   "execution_count": 16,
   "id": "f8a1d736",
   "metadata": {},
   "outputs": [
    {
     "data": {
      "text/plain": [
       "array([[  4.84137931, 109.75862069,  64.03448276,  16.24827586],\n",
       "       [ 11.85714286, 255.        ,  67.61904762,  28.11428571]])"
      ]
     },
     "execution_count": 16,
     "metadata": {},
     "output_type": "execute_result"
    }
   ],
   "source": [
    "centers"
   ]
  },
  {
   "cell_type": "code",
   "execution_count": 17,
   "id": "c963e955",
   "metadata": {
    "scrolled": true
   },
   "outputs": [
    {
     "data": {
      "image/png": "[encoded data removed]",
      "text/plain": [
       "<Figure size 432x288 with 1 Axes>"
      ]
     },
     "metadata": {
      "needs_background": "light"
     },
     "output_type": "display_data"
    }
   ],
   "source": [
    "plt.scatter(df.iloc[:,0],df.iloc[:,1],c=clusters,s=50,cmap=\"viridis\")\n",
    "plt.scatter(centers[:,0],centers[:,1],c=\"red\",s=200,alpha=0.5);"
   ]
  },
  {
   "cell_type": "markdown",
   "id": "f0af9b7c",
   "metadata": {},
   "source": [
    "### <font color=\"purple\">Determining Optimum Cluster Value</font>\n",
    "\n",
    "### <font color=\"red\">Elbow Method</font>"
   ]
  },
  {
   "cell_type": "code",
   "execution_count": 18,
   "id": "81f55daa",
   "metadata": {},
   "outputs": [
    {
     "name": "stderr",
     "output_type": "stream",
     "text": [
      "C:\\ProgramData\\Anaconda3\\lib\\site-packages\\sklearn\\cluster\\_kmeans.py:1036: UserWarning: KMeans is known to have a memory leak on Windows with MKL, when there are less chunks than available threads. You can avoid it by setting the environment variable OMP_NUM_THREADS=1.\n",
      "  warnings.warn(\n"
     ]
    }
   ],
   "source": [
    "df=pd.read_csv(\"./csv_files/USArrests.csv\",index_col=0)\n",
    "\n",
    "# Our aim is that splitting states to cluster to their criminal rates\n",
    "\n",
    "\n",
    "ssd=[]\n",
    "\n",
    "K=range(1,30)\n",
    "for i in K:\n",
    "    kmeans=KMeans(n_clusters=i).fit(df)\n",
    "    ssd.append(kmeans.inertia_) # Distances of ever k"
   ]
  },
  {
   "cell_type": "code",
   "execution_count": 19,
   "id": "49009975",
   "metadata": {},
   "outputs": [
    {
     "data": {
      "image/png": "[encoded data removed]",
      "text/plain": [
       "<Figure size 432x288 with 1 Axes>"
      ]
     },
     "metadata": {
      "needs_background": "light"
     },
     "output_type": "display_data"
    }
   ],
   "source": [
    "plt.plot(K,ssd,\"bx-\")\n",
    "plt.xlabel(\"K Values\")\n",
    "plt.title(\"Elbow Method for Optimal Cluster Size\");"
   ]
  },
  {
   "cell_type": "code",
   "execution_count": 20,
   "id": "611ccd77",
   "metadata": {},
   "outputs": [
    {
     "name": "stdout",
     "output_type": "stream",
     "text": [
      "Defaulting to user installation because normal site-packages is not writeable\n"
     ]
    },
    {
     "name": "stderr",
     "output_type": "stream",
     "text": [
      "ERROR: Invalid requirement: '#'\n"
     ]
    }
   ],
   "source": [
    "!pip install yellowbrick # for alternative solution\n"
   ]
  },
  {
   "cell_type": "code",
   "execution_count": 21,
   "id": "f848e7d3",
   "metadata": {},
   "outputs": [],
   "source": [
    "from yellowbrick.cluster import KElbowVisualizer"
   ]
  },
  {
   "cell_type": "code",
   "execution_count": 22,
   "id": "4b269bc1",
   "metadata": {},
   "outputs": [
    {
     "data": {
      "image/png": "[encoded data removed]",
      "text/plain": [
       "<Figure size 576x396 with 2 Axes>"
      ]
     },
     "metadata": {},
     "output_type": "display_data"
    }
   ],
   "source": [
    "kmeans=KMeans()\n",
    "visu=KElbowVisualizer(kmeans,k=(2,20)).fit(df)\n",
    "visu.poof();"
   ]
  },
  {
   "cell_type": "code",
   "execution_count": 23,
   "id": "62ef1243",
   "metadata": {},
   "outputs": [],
   "source": [
    "# final model\n",
    "final_model=KMeans(n_clusters=4).fit(df)"
   ]
  },
  {
   "cell_type": "code",
   "execution_count": null,
   "id": "f7915c64",
   "metadata": {},
   "outputs": [],
   "source": []
  },
  {
   "cell_type": "code",
   "execution_count": 24,
   "id": "36a83ee9",
   "metadata": {},
   "outputs": [],
   "source": [
    "clusters=final_model.labels_\n",
    "centers=final_model.cluster_centers_"
   ]
  },
  {
   "cell_type": "code",
   "execution_count": 25,
   "id": "e085c58a",
   "metadata": {},
   "outputs": [
    {
     "data": {
      "image/png": "[encoded data removed]",
      "text/plain": [
       "<Figure size 576x396 with 1 Axes>"
      ]
     },
     "metadata": {},
     "output_type": "display_data"
    }
   ],
   "source": [
    "plt.scatter(df.iloc[:,0],df.iloc[:,1],c=clusters,s=50,cmap=\"viridis\")\n",
    "plt.scatter(centers[:,0],centers[:,1],c=\"red\",s=200,alpha=0.5);"
   ]
  },
  {
   "cell_type": "code",
   "execution_count": 26,
   "id": "a113eda8",
   "metadata": {},
   "outputs": [
    {
     "data": {
      "text/plain": [
       "array([[  5.59      , 112.4       ,  65.6       ,  17.27      ],\n",
       "       [ 11.8125    , 272.5625    ,  68.3125    ,  28.375     ],\n",
       "       [  8.21428571, 173.28571429,  70.64285714,  22.84285714],\n",
       "       [  2.95      ,  62.7       ,  53.9       ,  11.51      ]])"
      ]
     },
     "execution_count": 26,
     "metadata": {},
     "output_type": "execute_result"
    }
   ],
   "source": [
    "centers"
   ]
  },
  {
   "cell_type": "code",
   "execution_count": 27,
   "id": "59bd586a",
   "metadata": {},
   "outputs": [],
   "source": [
    "df[\"cluster_no\"]=clusters"
   ]
  },
  {
   "cell_type": "code",
   "execution_count": 28,
   "id": "8d151e7e",
   "metadata": {},
   "outputs": [
    {
     "data": {
      "text/html": [
       "<div>\n",
       "<style scoped>\n",
       "    .dataframe tbody tr th:only-of-type {\n",
       "        vertical-align: middle;\n",
       "    }\n",
       "\n",
       "    .dataframe tbody tr th {\n",
       "        vertical-align: top;\n",
       "    }\n",
       "\n",
       "    .dataframe thead th {\n",
       "        text-align: right;\n",
       "    }\n",
       "</style>\n",
       "<table border=\"1\" class=\"dataframe\">\n",
       "  <thead>\n",
       "    <tr style=\"text-align: right;\">\n",
       "      <th></th>\n",
       "      <th>Murder</th>\n",
       "      <th>Assault</th>\n",
       "      <th>UrbanPop</th>\n",
       "      <th>Rape</th>\n",
       "      <th>cluster_no</th>\n",
       "    </tr>\n",
       "  </thead>\n",
       "  <tbody>\n",
       "    <tr>\n",
       "      <th>Alabama</th>\n",
       "      <td>13.2</td>\n",
       "      <td>236</td>\n",
       "      <td>58</td>\n",
       "      <td>21.2</td>\n",
       "      <td>1</td>\n",
       "    </tr>\n",
       "    <tr>\n",
       "      <th>Alaska</th>\n",
       "      <td>10.0</td>\n",
       "      <td>263</td>\n",
       "      <td>48</td>\n",
       "      <td>44.5</td>\n",
       "      <td>1</td>\n",
       "    </tr>\n",
       "    <tr>\n",
       "      <th>Arizona</th>\n",
       "      <td>8.1</td>\n",
       "      <td>294</td>\n",
       "      <td>80</td>\n",
       "      <td>31.0</td>\n",
       "      <td>1</td>\n",
       "    </tr>\n",
       "    <tr>\n",
       "      <th>Arkansas</th>\n",
       "      <td>8.8</td>\n",
       "      <td>190</td>\n",
       "      <td>50</td>\n",
       "      <td>19.5</td>\n",
       "      <td>2</td>\n",
       "    </tr>\n",
       "    <tr>\n",
       "      <th>California</th>\n",
       "      <td>9.0</td>\n",
       "      <td>276</td>\n",
       "      <td>91</td>\n",
       "      <td>40.6</td>\n",
       "      <td>1</td>\n",
       "    </tr>\n",
       "  </tbody>\n",
       "</table>\n",
       "</div>"
      ],
      "text/plain": [
       "            Murder  Assault  UrbanPop  Rape  cluster_no\n",
       "Alabama       13.2      236        58  21.2           1\n",
       "Alaska        10.0      263        48  44.5           1\n",
       "Arizona        8.1      294        80  31.0           1\n",
       "Arkansas       8.8      190        50  19.5           2\n",
       "California     9.0      276        91  40.6           1"
      ]
     },
     "execution_count": 28,
     "metadata": {},
     "output_type": "execute_result"
    }
   ],
   "source": [
    "df.head()"
   ]
  },
  {
   "cell_type": "markdown",
   "id": "4afd7436",
   "metadata": {},
   "source": [
    "### <font color=\"red\">When using Unsupervised algorithms, we should't directly accept the algorithm results, it cant be always true, it is absolutely the a human factor is needed to interfered to efformation</font>"
   ]
  },
  {
   "cell_type": "markdown",
   "id": "55453cc1",
   "metadata": {},
   "source": [
    "# <font color=\"orange\"> Hierarchical Cluster Analysis </font>\n",
    "->> The aim is splitting obersvations to subsets to their similarities like K-means\n",
    "<br> \n",
    "->> The difference is when observations is wanted to split more, in this situation we can use Hierarchical Cluster Methods.\n",
    "<br> \n",
    "->> In K-Means , we could split 3 or 4 subsets, in this method except 3 or 4 subsets, we can split this 3 or 4 subsets into subsets, too.\n",
    "<br>\n",
    "<img src=\"./used_images/hie.png\" width=\"600\" height=\"800\">\n",
    "<br>\n",
    "->> <b>Divisive Splitter</b>, first of all it splits 2 sub cluster, then this generated clusters are splitted into clusters which are not similar, this process continues until getting number of observartion's of clusters. It means, if we have 1000 observations, it is splitted until getting 1000 clusters.\n",
    "<br>\n",
    "->> <b>Agglomerative Process</b> is reverse of Divisive Process, it merges seperated clusters.\n",
    "<br>\n",
    "### <font color=\"blue\">Steps of Agglomerative Process</font>\n",
    "->> At the beginning, we have clusters as much as observations.\n",
    "<br>\n",
    "->> The two similar observation is found in dataset\n",
    "<br>\n",
    "->> This two point are gathered, and generated a new one. It means, the residual dataset is consisted of on the first merged point/s\n",
    "<br>\n",
    "->> This process continues until getting the observations is gathered on one cluster. These are merged to their similarities.\n",
    "<br>\n",
    "->> The closest point are determine by using distance measurements like euclid distance, manhattan distance and correlation, etc..\n",
    "### <font color=\"green\">Steps of Divisive Process</font>\n",
    "->> At the beginning, we have 1 cluster, and this is our dataset.\n",
    "<br>\n",
    "->> The dataset splits 2 subsets.\n",
    "<br>\n",
    "->> Then 2 subsets are splitted into non-similar subsets.\n",
    "<br>\n",
    "->> This process continues until getting subsets as much as observations.\n",
    "<br>\n",
    "## <font color=\"purple\">Difference between Clustering Methods and Decision Trees</font>\n",
    "<br> \n",
    "->> In hierarchical methods, the number of clusters is determined by looking at the dendrogram results, in non-hierarchical methods, the number of clusters is determined before applying. (K-Means)\n",
    "<br>\n",
    "->> In hierarchical methods, we can do cluster process on both observations and variables, in non-hierarchical methods, only observations  can be clustered.\n",
    "<br>\n",
    "->> The difference from Decision Trees, while decision trees do their splitting process to target variable, since clustering methods dont have dependent variable/s, the observations are clustered that  the distance calculations are done above independent variables.\n",
    "<br>\n",
    "\n",
    "### <font color=\"red\"> Hierarchical Cluster Analysis Implementation</font>"
   ]
  },
  {
   "cell_type": "code",
   "execution_count": 29,
   "id": "79941b3f",
   "metadata": {},
   "outputs": [],
   "source": [
    "from scipy.cluster.hierarchy import linkage\n",
    "from scipy.cluster.hierarchy import dendrogram"
   ]
  },
  {
   "cell_type": "code",
   "execution_count": 30,
   "id": "59842183",
   "metadata": {},
   "outputs": [],
   "source": [
    "df=pd.read_csv(\"./csv_files/USArrests.csv\",index_col=0)\n"
   ]
  },
  {
   "cell_type": "code",
   "execution_count": 31,
   "id": "17285a9f",
   "metadata": {},
   "outputs": [],
   "source": [
    "hc_complete=linkage(df,method=\"complete\") # these objects are used for creating dendrograms\n",
    "hc_average=linkage(df,method=\"average\") \n",
    "# hierarchical clustering is done"
   ]
  },
  {
   "cell_type": "code",
   "execution_count": 32,
   "id": "5c0a5ec8",
   "metadata": {},
   "outputs": [
    {
     "data": {
      "image/png": "[encoded data removed]",
      "text/plain": [
       "<Figure size 720x360 with 1 Axes>"
      ]
     },
     "metadata": {},
     "output_type": "display_data"
    }
   ],
   "source": [
    "plt.figure(figsize=(10,5))\n",
    "plt.title(\"Dendrogram\")\n",
    "plt.xlabel(\"Observartions\")\n",
    "plt.ylabel(\"Calculated Distances\")\n",
    "dendrogram(hc_complete,leaf_font_size=10);"
   ]
  },
  {
   "cell_type": "code",
   "execution_count": 33,
   "id": "12080a6f",
   "metadata": {},
   "outputs": [
    {
     "data": {
      "image/png": "[encoded data removed]",
      "text/plain": [
       "<Figure size 720x360 with 1 Axes>"
      ]
     },
     "metadata": {},
     "output_type": "display_data"
    }
   ],
   "source": [
    "plt.figure(figsize=(10,5))\n",
    "plt.title(\"Dendrogram\")\n",
    "plt.xlabel(\"Observartions\")\n",
    "plt.ylabel(\"Calculated Distances\")\n",
    "dendrogram(hc_complete,leaf_font_size=10,truncate_mode=\"lastp\",p=10,show_contracted=True); # p= number of determined clusters "
   ]
  },
  {
   "cell_type": "code",
   "execution_count": 34,
   "id": "3d3b6647",
   "metadata": {},
   "outputs": [
    {
     "data": {
      "image/png": "[encoded data removed]",
      "text/plain": [
       "<Figure size 720x360 with 1 Axes>"
      ]
     },
     "metadata": {},
     "output_type": "display_data"
    }
   ],
   "source": [
    "plt.figure(figsize=(10,5))\n",
    "plt.title(\"Dendrogram\")\n",
    "plt.xlabel(\"Observartions\")\n",
    "plt.ylabel(\"Calculated Distances\")\n",
    "dendrogram(hc_average,leaf_font_size=10);"
   ]
  },
  {
   "cell_type": "markdown",
   "id": "63277af4",
   "metadata": {},
   "source": []
  },
  {
   "cell_type": "markdown",
   "id": "a135d7cb",
   "metadata": {},
   "source": [
    "# <font color=\"orange\"> Principal Component Analysis (PCA)</font> \n",
    "->> The main idea is, the multiple variable data's specification can be represented with less variable/s.\n",
    "<br>\n",
    "->> On the other hand, it means decreasing the size of variables by taking a risk of losing less information.\n",
    "<br>\n",
    "->> Lets assume that we have 100 variables, and here we want to represent the dataset by using 2 varibles or degrading to 2 variables.\n",
    "<img src=\"./used_images/pca.png\" width=\"600\" height=\"700\">\n",
    "<br>\n",
    "->> If we want to visualise our dataset after clustering, we cant do this by having 100 variables, we should degrade it to 2.\n",
    "<br>\n",
    "->> <b> The Principal Componen Analysis generally used some problems in image processing and regression model.</b> Especially, when regression model has more variables, and if some variables are related to each other, there can raise a multiple linear regression problem.\n",
    "<br>\n",
    "->> If we use PCA on these problems, we can remove multiple linear regression problem between related variables. After degrading process, there wont be correlation between variables.\n",
    "<br>\n",
    "->> By finding \teigenvector of covariance and correlation matrices, this problem is solved.\n",
    "\n",
    "### <font color=\"red\"> Principal Component Analysis (PCA) Implementation</font> "
   ]
  },
  {
   "cell_type": "code",
   "execution_count": 42,
   "id": "3a83db8e",
   "metadata": {},
   "outputs": [],
   "source": [
    "from sklearn.preprocessing import StandardScaler"
   ]
  },
  {
   "cell_type": "code",
   "execution_count": 39,
   "id": "6b838748",
   "metadata": {},
   "outputs": [
    {
     "data": {
      "text/html": [
       "<div>\n",
       "<style scoped>\n",
       "    .dataframe tbody tr th:only-of-type {\n",
       "        vertical-align: middle;\n",
       "    }\n",
       "\n",
       "    .dataframe tbody tr th {\n",
       "        vertical-align: top;\n",
       "    }\n",
       "\n",
       "    .dataframe thead th {\n",
       "        text-align: right;\n",
       "    }\n",
       "</style>\n",
       "<table border=\"1\" class=\"dataframe\">\n",
       "  <thead>\n",
       "    <tr style=\"text-align: right;\">\n",
       "      <th></th>\n",
       "      <th>AtBat</th>\n",
       "      <th>Hits</th>\n",
       "      <th>HmRun</th>\n",
       "      <th>Runs</th>\n",
       "      <th>RBI</th>\n",
       "      <th>Walks</th>\n",
       "      <th>Years</th>\n",
       "      <th>CAtBat</th>\n",
       "      <th>CHits</th>\n",
       "      <th>CHmRun</th>\n",
       "      <th>CRuns</th>\n",
       "      <th>CRBI</th>\n",
       "      <th>CWalks</th>\n",
       "      <th>PutOuts</th>\n",
       "      <th>Assists</th>\n",
       "      <th>Errors</th>\n",
       "      <th>Salary</th>\n",
       "    </tr>\n",
       "  </thead>\n",
       "  <tbody>\n",
       "    <tr>\n",
       "      <th>1</th>\n",
       "      <td>315</td>\n",
       "      <td>81</td>\n",
       "      <td>7</td>\n",
       "      <td>24</td>\n",
       "      <td>38</td>\n",
       "      <td>39</td>\n",
       "      <td>14</td>\n",
       "      <td>3449</td>\n",
       "      <td>835</td>\n",
       "      <td>69</td>\n",
       "      <td>321</td>\n",
       "      <td>414</td>\n",
       "      <td>375</td>\n",
       "      <td>632</td>\n",
       "      <td>43</td>\n",
       "      <td>10</td>\n",
       "      <td>475.0</td>\n",
       "    </tr>\n",
       "    <tr>\n",
       "      <th>2</th>\n",
       "      <td>479</td>\n",
       "      <td>130</td>\n",
       "      <td>18</td>\n",
       "      <td>66</td>\n",
       "      <td>72</td>\n",
       "      <td>76</td>\n",
       "      <td>3</td>\n",
       "      <td>1624</td>\n",
       "      <td>457</td>\n",
       "      <td>63</td>\n",
       "      <td>224</td>\n",
       "      <td>266</td>\n",
       "      <td>263</td>\n",
       "      <td>880</td>\n",
       "      <td>82</td>\n",
       "      <td>14</td>\n",
       "      <td>480.0</td>\n",
       "    </tr>\n",
       "    <tr>\n",
       "      <th>3</th>\n",
       "      <td>496</td>\n",
       "      <td>141</td>\n",
       "      <td>20</td>\n",
       "      <td>65</td>\n",
       "      <td>78</td>\n",
       "      <td>37</td>\n",
       "      <td>11</td>\n",
       "      <td>5628</td>\n",
       "      <td>1575</td>\n",
       "      <td>225</td>\n",
       "      <td>828</td>\n",
       "      <td>838</td>\n",
       "      <td>354</td>\n",
       "      <td>200</td>\n",
       "      <td>11</td>\n",
       "      <td>3</td>\n",
       "      <td>500.0</td>\n",
       "    </tr>\n",
       "    <tr>\n",
       "      <th>4</th>\n",
       "      <td>321</td>\n",
       "      <td>87</td>\n",
       "      <td>10</td>\n",
       "      <td>39</td>\n",
       "      <td>42</td>\n",
       "      <td>30</td>\n",
       "      <td>2</td>\n",
       "      <td>396</td>\n",
       "      <td>101</td>\n",
       "      <td>12</td>\n",
       "      <td>48</td>\n",
       "      <td>46</td>\n",
       "      <td>33</td>\n",
       "      <td>805</td>\n",
       "      <td>40</td>\n",
       "      <td>4</td>\n",
       "      <td>91.5</td>\n",
       "    </tr>\n",
       "    <tr>\n",
       "      <th>5</th>\n",
       "      <td>594</td>\n",
       "      <td>169</td>\n",
       "      <td>4</td>\n",
       "      <td>74</td>\n",
       "      <td>51</td>\n",
       "      <td>35</td>\n",
       "      <td>11</td>\n",
       "      <td>4408</td>\n",
       "      <td>1133</td>\n",
       "      <td>19</td>\n",
       "      <td>501</td>\n",
       "      <td>336</td>\n",
       "      <td>194</td>\n",
       "      <td>282</td>\n",
       "      <td>421</td>\n",
       "      <td>25</td>\n",
       "      <td>750.0</td>\n",
       "    </tr>\n",
       "  </tbody>\n",
       "</table>\n",
       "</div>"
      ],
      "text/plain": [
       "   AtBat  Hits  HmRun  Runs  RBI  Walks  Years  CAtBat  CHits  CHmRun  CRuns  \\\n",
       "1    315    81      7    24   38     39     14    3449    835      69    321   \n",
       "2    479   130     18    66   72     76      3    1624    457      63    224   \n",
       "3    496   141     20    65   78     37     11    5628   1575     225    828   \n",
       "4    321    87     10    39   42     30      2     396    101      12     48   \n",
       "5    594   169      4    74   51     35     11    4408   1133      19    501   \n",
       "\n",
       "   CRBI  CWalks  PutOuts  Assists  Errors  Salary  \n",
       "1   414     375      632       43      10   475.0  \n",
       "2   266     263      880       82      14   480.0  \n",
       "3   838     354      200       11       3   500.0  \n",
       "4    46      33      805       40       4    91.5  \n",
       "5   336     194      282      421      25   750.0  "
      ]
     },
     "execution_count": 39,
     "metadata": {},
     "output_type": "execute_result"
    }
   ],
   "source": [
    "# Our aim is representing this dataset by using less variables\n",
    "df=pd.read_csv(\"./csv_files/Hitters.csv\")._get_numeric_data()\n",
    "df.dropna(inplace=True)\n",
    "df.head()"
   ]
  },
  {
   "cell_type": "code",
   "execution_count": 43,
   "id": "68b04017",
   "metadata": {},
   "outputs": [],
   "source": [
    "# Before pca process we should do standardization process\n",
    "df=StandardScaler().fit_transform(df)"
   ]
  },
  {
   "cell_type": "code",
   "execution_count": 47,
   "id": "2d9d10f6",
   "metadata": {},
   "outputs": [
    {
     "data": {
      "text/plain": [
       "array([[-0.6029005 , -0.59567545, -0.5285512 , -1.2061115 , -0.52206292,\n",
       "        -0.0975271 ,  1.3978935 ,  0.3467905 ,  0.1743734 , -0.0029198 ,\n",
       "        -0.12167086,  0.25896561,  0.43533435,  1.22149851, -0.52319133,\n",
       "         0.21335208, -0.1353126 ]])"
      ]
     },
     "execution_count": 47,
     "metadata": {},
     "output_type": "execute_result"
    }
   ],
   "source": [
    "df[:1]"
   ]
  },
  {
   "cell_type": "code",
   "execution_count": 48,
   "id": "61810061",
   "metadata": {},
   "outputs": [],
   "source": [
    "# After this process we can use pca process to degrading 2 varibles\n",
    "from sklearn.decomposition import PCA"
   ]
  },
  {
   "cell_type": "code",
   "execution_count": 55,
   "id": "eb81a479",
   "metadata": {},
   "outputs": [],
   "source": [
    "pca=PCA(n_components=2)\n",
    "pca_fit=pca.fit_transform(df)"
   ]
  },
  {
   "cell_type": "code",
   "execution_count": 56,
   "id": "6559929e",
   "metadata": {},
   "outputs": [],
   "source": [
    "component_df=pd.DataFrame(data=pca_fit,columns=[\"first_component\",\"second_component\"])"
   ]
  },
  {
   "cell_type": "code",
   "execution_count": 57,
   "id": "b68d3419",
   "metadata": {},
   "outputs": [
    {
     "data": {
      "text/html": [
       "<div>\n",
       "<style scoped>\n",
       "    .dataframe tbody tr th:only-of-type {\n",
       "        vertical-align: middle;\n",
       "    }\n",
       "\n",
       "    .dataframe tbody tr th {\n",
       "        vertical-align: top;\n",
       "    }\n",
       "\n",
       "    .dataframe thead th {\n",
       "        text-align: right;\n",
       "    }\n",
       "</style>\n",
       "<table border=\"1\" class=\"dataframe\">\n",
       "  <thead>\n",
       "    <tr style=\"text-align: right;\">\n",
       "      <th></th>\n",
       "      <th>first_component</th>\n",
       "      <th>second_component</th>\n",
       "    </tr>\n",
       "  </thead>\n",
       "  <tbody>\n",
       "    <tr>\n",
       "      <th>0</th>\n",
       "      <td>0.076848</td>\n",
       "      <td>1.653525</td>\n",
       "    </tr>\n",
       "    <tr>\n",
       "      <th>1</th>\n",
       "      <td>0.337127</td>\n",
       "      <td>-2.320560</td>\n",
       "    </tr>\n",
       "    <tr>\n",
       "      <th>2</th>\n",
       "      <td>3.408362</td>\n",
       "      <td>0.755757</td>\n",
       "    </tr>\n",
       "    <tr>\n",
       "      <th>3</th>\n",
       "      <td>-2.642221</td>\n",
       "      <td>-0.361486</td>\n",
       "    </tr>\n",
       "    <tr>\n",
       "      <th>4</th>\n",
       "      <td>1.071681</td>\n",
       "      <td>-1.511674</td>\n",
       "    </tr>\n",
       "  </tbody>\n",
       "</table>\n",
       "</div>"
      ],
      "text/plain": [
       "   first_component  second_component\n",
       "0         0.076848          1.653525\n",
       "1         0.337127         -2.320560\n",
       "2         3.408362          0.755757\n",
       "3        -2.642221         -0.361486\n",
       "4         1.071681         -1.511674"
      ]
     },
     "execution_count": 57,
     "metadata": {},
     "output_type": "execute_result"
    }
   ],
   "source": [
    "component_df.head() # We have represented the variance of our dataset by degrading 2 variables of the same dataset."
   ]
  },
  {
   "cell_type": "code",
   "execution_count": 58,
   "id": "85d78007",
   "metadata": {},
   "outputs": [
    {
     "data": {
      "text/plain": [
       "array([0.45245466, 0.24246801])"
      ]
     },
     "execution_count": 58,
     "metadata": {},
     "output_type": "execute_result"
    }
   ],
   "source": [
    "pca.explained_variance_ratio_ # This shows variability of dataset as % for each component"
   ]
  },
  {
   "cell_type": "code",
   "execution_count": 59,
   "id": "7f49f5c6",
   "metadata": {},
   "outputs": [
    {
     "data": {
      "text/plain": [
       "array([[ 0.19506377,  0.19410007,  0.19690453,  0.19491272,  0.22956638,\n",
       "         0.20673717,  0.271085  ,  0.31970454,  0.32077315,  0.30810145,\n",
       "         0.32761493,  0.32977446,  0.30573146,  0.08303783,  0.00159189,\n",
       "        -0.00529271,  0.24914187],\n",
       "       [-0.38407792, -0.37764493, -0.22866298, -0.37459128, -0.31026531,\n",
       "        -0.23115759,  0.26820405,  0.19641268,  0.18589726,  0.13386448,\n",
       "         0.17692929,  0.17283361,  0.19698297, -0.16295204, -0.17624626,\n",
       "        -0.20978299, -0.05452611]])"
      ]
     },
     "execution_count": 59,
     "metadata": {},
     "output_type": "execute_result"
    }
   ],
   "source": [
    "pca.components_  # all components, here we defined (2)"
   ]
  },
  {
   "cell_type": "code",
   "execution_count": 78,
   "id": "fd706614",
   "metadata": {},
   "outputs": [
    {
     "data": {
      "image/png": "[encoded data removed]",
      "text/plain": [
       "<Figure size 576x396 with 1 Axes>"
      ]
     },
     "metadata": {},
     "output_type": "display_data"
    }
   ],
   "source": [
    "# to find optimum component number\n",
    "pca=PCA().fit(df) #it creates components as much as observations\n",
    "plt.plot(np.cumsum(pca.explained_variance_ratio_))\n",
    "plt.xlabel(\"Number of Components\")\n",
    "plt.ylabel(\"Cumulative Variance Ratio\")\n",
    "plt.xlim((0,16));"
   ]
  },
  {
   "cell_type": "code",
   "execution_count": 67,
   "id": "8f1c49e6",
   "metadata": {},
   "outputs": [
    {
     "data": {
      "text/plain": [
       "array([0.45245466, 0.69492267, 0.79661947, 0.85055387, 0.89216822,\n",
       "       0.92298014, 0.95167354, 0.96643244, 0.97707042, 0.9848601 ,\n",
       "       0.99058665, 0.99407848, 0.99724583, 0.99881851, 0.99964648,\n",
       "       0.9999293 , 1.        ])"
      ]
     },
     "execution_count": 67,
     "metadata": {},
     "output_type": "execute_result"
    }
   ],
   "source": [
    "pca.explained_variance_ratio_.cumsum()"
   ]
  },
  {
   "cell_type": "code",
   "execution_count": 68,
   "id": "196b7c47",
   "metadata": {},
   "outputs": [],
   "source": [
    "# final model\n",
    "pca=PCA(n_components=3)\n",
    "pca_fit=pca.fit_transform(df)"
   ]
  },
  {
   "cell_type": "code",
   "execution_count": 69,
   "id": "f7e188a2",
   "metadata": {},
   "outputs": [
    {
     "data": {
      "text/plain": [
       "array([0.45245466, 0.24246801, 0.1016968 ])"
      ]
     },
     "execution_count": 69,
     "metadata": {},
     "output_type": "execute_result"
    }
   ],
   "source": [
    "pca.explained_variance_ratio_"
   ]
  },
  {
   "cell_type": "code",
   "execution_count": null,
   "id": "20521e05",
   "metadata": {},
   "outputs": [],
   "source": []
  }
 ],
 "metadata": {
  "kernelspec": {
   "display_name": "Python 3 (ipykernel)",
   "language": "python",
   "name": "python3"
  },
  "language_info": {
   "codemirror_mode": {
    "name": "ipython",
    "version": 3
   },
   "file_extension": ".py",
   "mimetype": "text/x-python",
   "name": "python",
   "nbconvert_exporter": "python",
   "pygments_lexer": "ipython3",
   "version": "3.9.12"
  }
 },
 "nbformat": 4,
 "nbformat_minor": 5
}
