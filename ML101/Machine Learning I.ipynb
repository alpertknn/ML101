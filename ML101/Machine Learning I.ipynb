{
 "cells": [
  {
   "cell_type": "markdown",
   "id": "b6d743c7",
   "metadata": {},
   "source": [
    "# <font color=\"red\">Machine Learning</font>\n",
    "####  <font color=\"black\">->> Machine Learning is a scientific area that develops vary algorithms and techniques to provide computers learning like humans.</font>\n",
    "### <font color=\"orange\">Lets assume that a user wants to know his car's price. By machine learning, we need to set a model for finding a value. So we can say;</font>\n",
    "\n",
    "  <ul>\n",
    "      <li>For finding or predicting the car's price, we can think as setting a relation or we can state a model or linear\n",
    "        relationship\n",
    "      </li>\n",
    "      <li>Theoritically relationship;\n",
    "        Yi= &beta;0 + &beta;1Xi1 + &beta;2Xi2 +....+ &beta;jXij+&epsilon;i\n",
    "      </li>\n",
    "      <li>\n",
    "          Yi => Price\n",
    "      </li>\n",
    "      <li>\n",
    "          &beta; => Car Specs\n",
    "      </li>\n",
    "      <li>\n",
    "          X => kilometer, model, gear type, etc..\n",
    "      </li>\n",
    "  </ul>\n",
    "<font color=\"black\">By this therotical func. we can predict a value for a user who wants to find his car's price or value</font>  \n",
    "<ul>\n",
    "    <li>\n",
    "        <font color=\"black\">Our main aim is that creating a model like above with datas which are gathered from related dataset</font>\n",
    "    </li>\n",
    "</ul>\n",
    "\n",
    "\n",
    "      "
   ]
  },
  {
   "cell_type": "markdown",
   "id": "243daf71",
   "metadata": {},
   "source": [
    " # <font color=\"red\">Machine Learning Concepts</font>\n",
    " \n",
    "#### <font color=\"Orange\">->> Dependent & Independent Variables</font>\n",
    "  <ul>\n",
    "    <li>\n",
    "      <b>Dependent Variable</b> is an aimed main variable for predicting on a machine learning problem\n",
    "    </li>\n",
    "    <li>\n",
    "      The variables which generated Dependent Variables are <b>Independent Variables</b>\n",
    "    </li>\n",
    "    <li>\n",
    "     <b>Example</b> --> Car price is dependent, gear type model and year independent\n",
    "     </li>\n",
    "     <li>\n",
    "      Our main aim is that predicting the y dependent value by using x independent values\n",
    "      </li>\n",
    "   </ul>\n",
    "   \n",
    "####   <font color=\"Orange\">->> Learning Types </font>\n",
    "   <ul>\n",
    "      <li>\n",
    "       <b>Supervised</b> -> Independent and Dependent Variables are together\n",
    "      </li>\n",
    "      <li>\n",
    "       <b>Unsupervised</b> -> Only Independent Variables are exist, The main aim is that gathering observations together by their common specs\n",
    "      </li>\n",
    "      <li>\n",
    "       <b>Reinforcement</b>   \n",
    "      </li>\n",
    "      <li>\n",
    "       <b>Semi-Supervised</b>    \n",
    "      </li>\n",
    "   </ul>\n",
    "   \n",
    "#### <font color=\"Orange\">->> Types of Problems </font>\n",
    "   <ul>\n",
    "      <li>\n",
    "       <b>Regression</b>\n",
    "        <ul>\n",
    "            <li>\n",
    "                If our dependent variable is categorical, this is a classification problem. Sometimes it can be transormed to 0-1 form\n",
    "            </li>\n",
    "            <li>\n",
    "                If our dependent variable is numeric or continuous, we can say it's a regression problem.\n",
    "            </li>\n",
    "          </ul>\n",
    "      </li>\n",
    "   </ul>\n",
    "   \n",
    "##### <font color=\"Orange\">->> Test-Train </font>\n",
    "   <ul>\n",
    "    <li>\n",
    "        We split dataset into two separate sets as <b>Train (%80) and Test (%20).</b>\n",
    "    </li>\n",
    "    <li>\n",
    "     <b>Variable Selection</b> -> For modelling we can select few independent values to predicting dependent value.\n",
    "        <ul>\n",
    "            <li>\n",
    "                The main aim is that using less resource and maximum performance.\n",
    "            </li>\n",
    "        </ul>\n",
    "    </li>\n",
    "    <li>\n",
    "        <b>Model Selection</b>:\n",
    "        <ul>\n",
    "            <li>\n",
    "                Selection of best model inside of created models which are created potential by different variable combinations \n",
    "            </li>\n",
    "            <li>\n",
    "                Model selection among the different models created\n",
    "            </li>\n",
    "        </ul>\n",
    "    </li>\n",
    "    <li>\n",
    "        <b>How can we select model?</b>\n",
    "        <ul>\n",
    "            <li>\n",
    "                <b>Explainability rate or RMSE (Root Mean Square Error) value for Regression</b>\n",
    "            </li>\n",
    "            <li>\n",
    "                True Classification rate value for <b>Classification</b>\n",
    "            </li>\n",
    "        </ul>\n",
    "    </li>\n",
    "   </ul>\n",
    "   \n",
    " ##### <font color=\"Orange\">->> Test-Train </font>\n",
    "   <ul>\n",
    "    <li>\n",
    "        <b>Overfitting</b>\n",
    "        <ul>\n",
    "            <li>\n",
    "             Overfitting refers to a model that models the training data too well. Overfitting happens when a model learns the detail and noise in the training data to the extent that it negatively impacts the performance of the model on new data. \n",
    "            </li>\n",
    "        </ul>\n",
    "    </li>\n",
    "    <li>\n",
    "        <b>Deterministic and Stochastic Models</b>\n",
    "        <ul>\n",
    "            <li>\n",
    "                <b>Deterministic models</b> has certain relationship between variables. An example, y=2.5x. If we know x, we can find y, this and similar processes which has certain results are called as deterministic models.\n",
    "            </li>\n",
    "            <li>\n",
    "                <b>Stochastic models</b> also called as probabilistic models, they dont have a certain result, there can be always random error, so the model can be thought like -> y=2.5x + random error\n",
    "            </li>\n",
    "        </ul>\n",
    "    </li>\n",
    "    <li>\n",
    "       <b>Linear and Non-Linear Models</b>\n",
    "    <ul>\n",
    "        <li>\n",
    "            Mathematical Linearity and Non-Linearity\n",
    "        </li>\n",
    "    </ul>\n",
    "    </li>\n",
    "   </ul>\n",
    "   \n",
    "  ##### <font color=\"Orange\">->> Model Validation Methods </font>\n",
    "  <ul>\n",
    "    <li>\n",
    "        <b>Model Creating</b> -> Modelization of relations between dependent and independent variables \n",
    "    </li>\n",
    "    <li>\n",
    "        Evaluation of Categorical and Numerical Variables\n",
    "    </li>\n",
    "    <li>\n",
    "        Model validation determines whether the trained model is trustworthy.\n",
    "    </li>\n",
    "    <li> <b>Holdout Method</b>\n",
    "        <ul>\n",
    "            <li>\n",
    "                Splitting data set into Train and Test, Train takes %80 of data, Test takes %20.Then we train the data by using train dataset and then we evaluate by using test set\n",
    "            </li>\n",
    "        </ul>\n",
    "    </li>\n",
    "    <li> <b>K Fold Cross Validation (Most Used Method) </b>\n",
    "        <ul>\n",
    "            <li>\n",
    "                We split data as <b>%80 Train and %20 Test</b>, then we do this method <b>(validation)</b> onto <b>Train Dataset</b>. For validation we take some parts from dataset like amount of k, 10 or 5 depends on dataset. For example, lets assume we take 5, we take one of 5 and the selected one keeps out. After that, the model is created by using remaining values, which is 4 in this example, then model is tested by using taken value. This process implements for other values,too. It continues until k amount of selected values are finished. \n",
    "            </li>\n",
    "            <li>\n",
    "                After this process, the average of errors are taken <b>(Validation or Training Error)</b>. Then we test our datset by using our actual test dataset for a last time. \n",
    "            </li>\n",
    "        </ul>\n",
    "    </li>\n",
    "    <li>\n",
    "        <b>Leave One Out</b>\n",
    "        <ul>\n",
    "            <li>\n",
    "                Leave One Out is a special case of K Cross Validation Method where number of folds equals to number of instances in dataset, we leave one of them as a test side. Thus, if we have 1000 sample, 999 for training, 1 one testing.\n",
    "            </li>\n",
    "            <li>\n",
    "                As a disadvantege, If we have larger dataset, it can become an unreasonable situation to implementing this validation method because it can take too much energy and time.\n",
    "            </li>\n",
    "        </ul>\n",
    "    </li>\n",
    "    <li><b>Bootstrap</b>\n",
    "        <ul>\n",
    "            <li>\n",
    "                In this validation method, bootstrap instances are created. Created instances are less than actual dataset's size. Then model is created above this method, taken average of Train and Test evaluates.\n",
    "            </li>\n",
    "        </ul>\n",
    "    </li>\n",
    "  </ul>\n",
    " \n",
    "##### <font color=\"Orange\">->> Evaluation of Prediction Success of Models </font>\n",
    "\n",
    "<li><b>Success Evaluation of Regression Models</b>\n",
    "    <ul>\n",
    "        <li>\n",
    "            <b>Mean Squared Error</b> ->  (MSE) measures the average of the squares of the errors—that is, the average squared difference between the estimated values and the actual value. <img src=\"./used_images/1.jpg\" width=\"350\" height=\"450\">\n",
    "        </li>\n",
    "        <li>\n",
    "            <b>Root Mean Squared Error</b> -> (RMSE) is a frequently used measure of the differences between values (sample or population values) predicted by a model or an estimator and the values observed. <img src=\"./used_images/2.png\" width=\"350\" height=\"350\">\n",
    "        </li>\n",
    "        <li>\n",
    "            <b>Mean Absolute Error</b> -> (MAE) is a measure of errors between paired observations expressing the same phenomenon.<img src=\"./used_images/3.png\" width=\"350\" height=\"350\">\n",
    "        </li>\n",
    "    </ul>\n",
    "</li>\n",
    "\n",
    "  ##### <font color=\"Orange\">->> Success Evaluation for Classification Models </font>\n",
    "  <li>Classification is a supervised learning approach in which a target variable is discrete (or categorical).\n",
    "      <ul>\n",
    "        <li> <b>Classification Accuracy</b> -> Classification accuracy shows how many of the predictions are correct. <img src=\"./used_images/4.png\" width=\"350\" height=\"350\">\n",
    "        </li>\n",
    "          <li>\n",
    "              <b>Confusion matrix</b> -> A confusion matrix is not a metric to evaluate a model, but it provides insight into the predictions. <img src=\"./used_images/5.png\" width=\"350\" height=\"350\">\n",
    "              <img src=\"./used_images/6.png\" width=\"550\" height=\"550\">\n",
    "              <img src=\"./used_images/7.png\" width=\"550\" height=\"550\">\n",
    "          </li>\n",
    "           <li>\n",
    "               <b>ROC Curve</b>\n",
    "               <ul>\n",
    "                   <li>\n",
    "                       ROC Graphic shows us the <b> the rate of True Positive Rate and False Positive Rate</b>, shows us the performance of a classification model. \n",
    "                   </li>\n",
    "                   <li>\n",
    "                       <b>If Area Under Curve (AUC)</b> is big, it means, the model has high prediction success rate, if it is not big, it means the model has low prediction success rate. Consequently, If the curve close to dashed line, it means lower success rate, if not, high success rate.\n",
    "                   </li>\n",
    "                   <li>\n",
    "                       The dashed line shows the success rate when we dont use model. Can be thought as, if we give 0 and 1 to all values, it means there will be %50 success and %50 fail rate.\n",
    "                   </li>\n",
    "                   <li>\n",
    "                       Our main aim is that creating a model which has greater area in this ROC Graph\n",
    "                   </li>\n",
    "                   <img src=\"./used_images/9.png\" width=\"300\" height=\"300\">\n",
    "               </ul>\n",
    "          </li>\n",
    "       </ul>\n",
    "   </li>\n",
    "   \n",
    "   ##### <font color=\"Orange\">->> Bias-Variance Tradeoff </font>\n",
    "   <li>\n",
    "    Our aim is evaluating more accurately of model predictions.\n",
    "    <ul>\n",
    "        <li>\n",
    "            <b>Training Error is an error acquired over dataset  that used for creating models </b>\n",
    "        </li>\n",
    "        <li>\n",
    "            <b>Test Error is an consisted error for used dataset which is used for testing of created model.</b>\n",
    "        </li>\n",
    "        <li>\n",
    "            <b>Training and Test Errors are dependent to each other. </b>\n",
    "        </li>\n",
    "        <img src=\"./used_images/10.png\" width=\"600\" height=\"600\">\n",
    "        <li>\n",
    "            <b>The flexibility of a model can be described as how much is model's behavior influenced by characteristics of the data.</b>\n",
    "        </li>\n",
    "        <li>\n",
    "            Bias states the difference between real and predicted values.\n",
    "        </li>\n",
    "        <li>\n",
    "            <b>Variance means variability. It refers to the changes in the model when using different portions of the training data set</b>, Flexibility means variance, high variance means high flexibility, high variance represents dataset very-well. If variance is too high, there could be overfitting situation. <b>Overfitting means the model has learned the structure of dataset very well.If we try that model with another dataset, which is overtrained, it wouldn't give good results because there is high variance and memorization situation</b>.If variance is too low, it means the model is weak, it could learn the dataset very well.\n",
    "        </li>\n",
    "        <li>\n",
    "            The true model generally has lower bias and variance. Yes, highver variance sometimes could be good because if variance is high, it means there is low bias, but there is another thing, generalizability. When variance increases, \tgeneralizability is decreasing, generalizability means how model can work with another datasets ?. \n",
    "        </li>\n",
    "        <li>\n",
    "            Therefore, the best way is keeping the balance between bias and variance, we should prefer lower variance and bias for ideal situation.\n",
    "        </li>\n",
    "        <img src=\"./used_images/11.png\" width=\"600\" height=\"600\">\n",
    "        <li>\n",
    "            <b> So, how can we select best model or flexibility for a True model? </b>\n",
    "            <ul>\n",
    "                <li>\n",
    "                    <b>The Flexibility (variance)</b> is selected to average test error.If average test error is high, we prefer more flexible model. When model flexes, variance gets high.     \n",
    "                </li>\n",
    "                <li>\n",
    "                    So, if we have high bias situation, we should make model more flexible, but we should be careful about that, because as we said before, flexibility means variance. When variance gets high, there can be a situation like overfitting. Therefore, if we enconter a situation like this, we should forget to create a stop point to avoiding overfitting situation.\n",
    "                </li>\n",
    "            </ul>\n",
    "        </li>\n",
    "    </ul>\n",
    "   </li>\n",
    "   \n",
    "  ##### <font color=\"Orange\">->> Parameter, Hyper-Parameter, Parameter Tuning and Model Tuning Concepts </font>\n",
    "  <li>Our aim is that increasing model prediction performance\n",
    "    <ul>\n",
    "        <li>\n",
    "            <b>Model Parameters -></b> Parameters are learned from data\n",
    "        </li>\n",
    "        <li>\n",
    "            <b>Model Hyper-parameters -></b> Parameters are defined by user and optimized by data.\n",
    "        </li>\n",
    "        <li>\n",
    "            <b>Paramater and Model Tuning -></b> Our aim is optimizing the model parameters and hyper-parameters, and trying to reach or predict minimum error.\n",
    "        </li>\n",
    "    </ul>\n",
    "  </li>\n",
    "    \n",
    "  ##### <font color=\"Orange\">->> Linear Regression Models </font> \n",
    "  <li>A linear regression model describes the relationship between a dependent variable, y, and one or more independent variables, X. The dependent variable is also called the response variable. Independent variables are also called explanatory or predictor variables.\n",
    "    <ul>\n",
    "         <li>\n",
    "             <b>Simple Linear Regression</b>\n",
    "        </li>\n",
    "        <li>\n",
    "            <b>Multiple Linear Regression</b>\n",
    "        </li>\n",
    "        <li>\n",
    "            <b>Ridge Regression</b>\n",
    "        </li>\n",
    "        <li>\n",
    "            <b>Lasso Regression</b>\n",
    "        </li>\n",
    "        <li>\n",
    "            <b>Elastic Net Regression</b>\n",
    "        </li>\n",
    "    </ul>\n",
    "  </li>\n",
    "  \n",
    "  ##### <font color=\"Orange\">->> Simple Linear Regression </font> \n",
    "  <li> Simple Linear Regression contains one dependent,one independent variable, Main aim is finding a linear function that states a relationship between dependent and independent variable. <b>Simple and Multiple Linear Regression subjects is needed to understand very well because these can be thought basics of Machine Learning</b>\n",
    "    <ul>\n",
    "        <li>\n",
    "            Our aim is modelization of relationship between variables. Modelization means, stating mathematical forms of relations between vary concepts.\n",
    "        </li>\n",
    "         <li>\n",
    "         Lets assume that we are trying to model the relation between house and square meter of that house, as we know this relation has direct proportion, if the square meter of house increases, the house price increases, too.\n",
    "        </li>\n",
    "        <br>\n",
    "        <li> <b>Population function can have represented as:</b>\n",
    "            <img src=\"./used_images/population.png\" width=\"300\" height=\"300\">\n",
    "        </li>\n",
    "        <li> <b>Sample function can have represented as:</b>\n",
    "            <img src=\"./used_images/sample.png\" width=\"300\" height=\"300\">\n",
    "        </li>\n",
    "        <li> <b>Error and Residuals can have represented as:</b>\n",
    "            <img src=\"./used_images/errors or residuals.png\" width=\"300\" height=\"300\">\n",
    "            <br>\n",
    "            <center><b>OR</b></center>\n",
    "            <br>\n",
    "            <img src=\"./used_images/error.png\" width=\"300\" height=\"300\">\n",
    "        </li>\n",
    "        <li>\n",
    "            Finding optimum &beta; values which has low error rate.\n",
    "        </li>\n",
    "        <li>\n",
    "            We need to find a value such that it minimizes the value of &epsilon;.\n",
    "        </li>\n",
    "        <br>\n",
    "        <li><b>The Sum of Squared Estimate of Errors (SSE):</b>\n",
    "            <img src=\"./used_images/sse.png\" width=\"300\" height=\"300\">\n",
    "            <br>\n",
    "            <img src=\"./used_images/last.png\" width=\"300\" height=\"300\">\n",
    "        </li>\n",
    "        <li> <b>Model Prediction can have represented as:</b>\n",
    "            <img src=\"./used_images/prediction model.png\" width=\"300\" height=\"300\">\n",
    "        </li>\n",
    "        <li>\n",
    "            We can find these values (&beta;0, &beta;1)by using data, as you can see, by this formulas.\n",
    "        </li>\n",
    "        <li>\n",
    "            <b> &beta;0 -></b> The point where line intercepts y axis or the height \n",
    "            <br><b> &beta;1 -></b> Slope of Line\n",
    "            <br><b> &epsilon; -></b> Error Term\n",
    "            <br><b>x̄ -></b> Mean of Independent Values\n",
    "            <br><b>ȳ -></b> Mean of Dependent Values\n",
    "            <br><b>𝑦̂i -></b> Predicted Values \n",
    "            <br><b>Xi -></b> Independent Variable Values \n",
    "            <br><b>Yi -></b> Dependent Variable Values\n",
    "        </li>\n",
    "        <br>\n",
    "        <br>\n",
    "        <li>  \n",
    "            <b>Graphichal Representation:</b>\n",
    "        </li>\n",
    "        <img src=\"./used_images/graph.png\" width=\"600\" height=\"600\">\n",
    "        <br>\n",
    "        <li>\n",
    "            Blue Dots are actual values\n",
    "        </li>\n",
    "        <li>\n",
    "            Red Line is representing predicted values\n",
    "        </li>\n",
    "        <li>\n",
    "            Consequently, when we have 2 variable and we want to show their relationship , we can use <b>Sample Linear Regression.</b>\n",
    "        </li>\n",
    "    </ul>\n",
    "    \n",
    "  </li>\n",
    "    "
   ]
  },
  {
   "cell_type": "markdown",
   "id": "d4fa9656",
   "metadata": {},
   "source": [
    "##### <font color=\"Orange\">->> Simple Linear Regression Model Section </font> "
   ]
  },
  {
   "cell_type": "code",
   "execution_count": 1,
   "id": "aadb40ee",
   "metadata": {},
   "outputs": [],
   "source": [
    "import pandas as pd\n",
    "import numpy as np\n",
    "import seaborn as sns\n",
    "import matplotlib.pyplot as plt\n",
    "from sklearn.linear_model import LinearRegression"
   ]
  },
  {
   "cell_type": "code",
   "execution_count": 2,
   "id": "db90851b",
   "metadata": {
    "scrolled": true
   },
   "outputs": [],
   "source": [
    "df=pd.read_csv(r\".\\csv_files\\Advertising.csv\")"
   ]
  },
  {
   "cell_type": "code",
   "execution_count": 3,
   "id": "804065ea",
   "metadata": {},
   "outputs": [
    {
     "data": {
      "text/html": [
       "<div>\n",
       "<style scoped>\n",
       "    .dataframe tbody tr th:only-of-type {\n",
       "        vertical-align: middle;\n",
       "    }\n",
       "\n",
       "    .dataframe tbody tr th {\n",
       "        vertical-align: top;\n",
       "    }\n",
       "\n",
       "    .dataframe thead th {\n",
       "        text-align: right;\n",
       "    }\n",
       "</style>\n",
       "<table border=\"1\" class=\"dataframe\">\n",
       "  <thead>\n",
       "    <tr style=\"text-align: right;\">\n",
       "      <th></th>\n",
       "      <th>TV</th>\n",
       "      <th>radio</th>\n",
       "      <th>newspaper</th>\n",
       "      <th>sales</th>\n",
       "    </tr>\n",
       "  </thead>\n",
       "  <tbody>\n",
       "    <tr>\n",
       "      <th>0</th>\n",
       "      <td>230.1</td>\n",
       "      <td>37.8</td>\n",
       "      <td>69.2</td>\n",
       "      <td>22.1</td>\n",
       "    </tr>\n",
       "    <tr>\n",
       "      <th>1</th>\n",
       "      <td>44.5</td>\n",
       "      <td>39.3</td>\n",
       "      <td>45.1</td>\n",
       "      <td>10.4</td>\n",
       "    </tr>\n",
       "    <tr>\n",
       "      <th>2</th>\n",
       "      <td>17.2</td>\n",
       "      <td>45.9</td>\n",
       "      <td>69.3</td>\n",
       "      <td>9.3</td>\n",
       "    </tr>\n",
       "    <tr>\n",
       "      <th>3</th>\n",
       "      <td>151.5</td>\n",
       "      <td>41.3</td>\n",
       "      <td>58.5</td>\n",
       "      <td>18.5</td>\n",
       "    </tr>\n",
       "    <tr>\n",
       "      <th>4</th>\n",
       "      <td>180.8</td>\n",
       "      <td>10.8</td>\n",
       "      <td>58.4</td>\n",
       "      <td>12.9</td>\n",
       "    </tr>\n",
       "  </tbody>\n",
       "</table>\n",
       "</div>"
      ],
      "text/plain": [
       "      TV  radio  newspaper  sales\n",
       "0  230.1   37.8       69.2   22.1\n",
       "1   44.5   39.3       45.1   10.4\n",
       "2   17.2   45.9       69.3    9.3\n",
       "3  151.5   41.3       58.5   18.5\n",
       "4  180.8   10.8       58.4   12.9"
      ]
     },
     "execution_count": 3,
     "metadata": {},
     "output_type": "execute_result"
    }
   ],
   "source": [
    "df=df.iloc[:,1:len(df)]\n",
    "df.head()"
   ]
  },
  {
   "cell_type": "code",
   "execution_count": 4,
   "id": "4fd92fd2",
   "metadata": {},
   "outputs": [
    {
     "name": "stdout",
     "output_type": "stream",
     "text": [
      "<class 'pandas.core.frame.DataFrame'>\n",
      "RangeIndex: 200 entries, 0 to 199\n",
      "Data columns (total 4 columns):\n",
      " #   Column     Non-Null Count  Dtype  \n",
      "---  ------     --------------  -----  \n",
      " 0   TV         200 non-null    float64\n",
      " 1   radio      200 non-null    float64\n",
      " 2   newspaper  200 non-null    float64\n",
      " 3   sales      200 non-null    float64\n",
      "dtypes: float64(4)\n",
      "memory usage: 6.4 KB\n"
     ]
    }
   ],
   "source": [
    " df.info()"
   ]
  },
  {
   "cell_type": "code",
   "execution_count": 5,
   "id": "bece0b13",
   "metadata": {
    "scrolled": false
   },
   "outputs": [
    {
     "data": {
      "image/png": "[encoded data removed]",
      "text/plain": [
       "<Figure size 432x432 with 3 Axes>"
      ]
     },
     "metadata": {
      "needs_background": "light"
     },
     "output_type": "display_data"
    }
   ],
   "source": [
    "# Showing relationship between TV and Sales\n",
    "sns.jointplot(x=df[\"TV\"],y=df[\"sales\"],data=df,kind=\"reg\");\n",
    "#This graph shows that there is a linear relationship between tv and sales, when tv increases, the sales increases,too\n"
   ]
  },
  {
   "cell_type": "code",
   "execution_count": 6,
   "id": "4167383a",
   "metadata": {},
   "outputs": [],
   "source": [
    "# X axis independent, Y axis is dependent\n",
    "X=df[[\"TV\"]]\n",
    "y=df[[\"sales\"]]"
   ]
  },
  {
   "cell_type": "code",
   "execution_count": 7,
   "id": "796da223",
   "metadata": {},
   "outputs": [],
   "source": [
    "reg=LinearRegression() # Creating a Linear Regression model object "
   ]
  },
  {
   "cell_type": "code",
   "execution_count": 8,
   "id": "615e939f",
   "metadata": {},
   "outputs": [],
   "source": [
    "model=reg.fit(X,y) # Fit func. means create the model"
   ]
  },
  {
   "cell_type": "code",
   "execution_count": null,
   "id": "e104b98f",
   "metadata": {
    "scrolled": true
   },
   "outputs": [],
   "source": [
    "dir(model) # dir func shows the possible funcs. that can be used "
   ]
  },
  {
   "cell_type": "code",
   "execution_count": 10,
   "id": "7221ab9a",
   "metadata": {},
   "outputs": [
    {
     "name": "stdout",
     "output_type": "stream",
     "text": [
      "[7.03259355]\n",
      "[[0.04753664]]\n",
      "0.611875050850071\n"
     ]
    }
   ],
   "source": [
    "# intercept_ method gives us the B0 value , as we know that B0 value means the interception on the y axis\n",
    "print(model.intercept_)\n",
    "# coef_ method gives us B1 value, as we know in the formula it was a coefficient value of x\n",
    "print(model.coef_)\n",
    "# In addition we can also take the r square value, which describes the score of the model, it means \n",
    "# What percentage of dependent variables can we explain with independent variables? \n",
    "print(model.score(X,y))"
   ]
  },
  {
   "cell_type": "code",
   "execution_count": 11,
   "id": "180a3577",
   "metadata": {},
   "outputs": [
    {
     "name": "stderr",
     "output_type": "stream",
     "text": [
      "C:\\ProgramData\\Anaconda3\\lib\\site-packages\\seaborn\\_decorators.py:36: FutureWarning: Pass the following variables as keyword args: x, y. From version 0.12, the only valid positional argument will be `data`, and passing other arguments without an explicit keyword will result in an error or misinterpretation.\n",
      "  warnings.warn(\n"
     ]
    },
    {
     "data": {
      "image/png": "[encoded data removed]",
      "text/plain": [
       "<Figure size 432x288 with 1 Axes>"
      ]
     },
     "metadata": {
      "needs_background": "light"
     },
     "output_type": "display_data"
    }
   ],
   "source": [
    "g=sns.regplot(df[\"TV\"],df[\"sales\"],ci=95,scatter_kws={\"color\":\"r\",\"s\":9})\n",
    "g.set_title(\"Model Equation is: Sales= 7.03 + TV* 0.05\")\n",
    "g.set_ylabel(\"Sales\")\n",
    "g.set_xlabel(\"TV Sales\")\n",
    "plt.xlim(-10,310)\n",
    "plt.ylim(bottom=0);\n"
   ]
  },
  {
   "cell_type": "code",
   "execution_count": 12,
   "id": "25b68bfd",
   "metadata": {},
   "outputs": [
    {
     "name": "stderr",
     "output_type": "stream",
     "text": [
      "C:\\ProgramData\\Anaconda3\\lib\\site-packages\\seaborn\\_decorators.py:36: FutureWarning: Pass the following variables as keyword args: x, y. From version 0.12, the only valid positional argument will be `data`, and passing other arguments without an explicit keyword will result in an error or misinterpretation.\n",
      "  warnings.warn(\n"
     ]
    },
    {
     "data": {
      "image/png": "[encoded data removed]",
      "text/plain": [
       "<Figure size 432x288 with 1 Axes>"
      ]
     },
     "metadata": {
      "needs_background": "light"
     },
     "output_type": "display_data"
    }
   ],
   "source": [
    "g=sns.regplot(df[\"TV\"],df[\"sales\"],ci=None,scatter_kws={\"color\":\"r\",\"s\":9})\n",
    "g.set_title(\"Model Equation is: Sales= 7.03 + TV* 0.05\")\n",
    "g.set_ylabel(\"Sales\")\n",
    "g.set_xlabel(\"TV Sales\")\n",
    "plt.xlim(-10,310)\n",
    "plt.ylim(bottom=0);\n"
   ]
  },
  {
   "cell_type": "code",
   "execution_count": 13,
   "id": "5aa2b87a",
   "metadata": {},
   "outputs": [
    {
     "name": "stdout",
     "output_type": "stream",
     "text": [
      "[[19.39212006]]\n"
     ]
    },
    {
     "name": "stderr",
     "output_type": "stream",
     "text": [
      "C:\\ProgramData\\Anaconda3\\lib\\site-packages\\sklearn\\base.py:450: UserWarning: X does not have valid feature names, but LinearRegression was fitted with feature names\n",
      "  warnings.warn(\n",
      "C:\\ProgramData\\Anaconda3\\lib\\site-packages\\sklearn\\base.py:450: UserWarning: X does not have valid feature names, but LinearRegression was fitted with feature names\n",
      "  warnings.warn(\n"
     ]
    },
    {
     "data": {
      "text/plain": [
       "array([[26.04724972]])"
      ]
     },
     "execution_count": 13,
     "metadata": {},
     "output_type": "execute_result"
    }
   ],
   "source": [
    "# How can we us ethis structure ? \n",
    "# Lets assume that we are asked to do a prediction asked,if we have 260 tv sales, what could be our sales  ?\n",
    "# Basically, we can show like this y= b0+b1*x;\n",
    "\n",
    "print(model.intercept_+model.coef_*260)\n",
    "\n",
    "# We did this calculation process by hand, but how can we do by using code side (sklearn) ?\n",
    "\n",
    "model.predict([[260]])\n",
    "# Lets assume for 400 value, as we can see above, there is no 400 value, since we have a model or pattern, which is trained,\n",
    "# We can do our prediction\n",
    "\n",
    "model.predict([[400]])"
   ]
  },
  {
   "cell_type": "code",
   "execution_count": 14,
   "id": "f29666c8",
   "metadata": {},
   "outputs": [
    {
     "name": "stderr",
     "output_type": "stream",
     "text": [
      "C:\\ProgramData\\Anaconda3\\lib\\site-packages\\sklearn\\base.py:450: UserWarning: X does not have valid feature names, but LinearRegression was fitted with feature names\n",
      "  warnings.warn(\n"
     ]
    },
    {
     "data": {
      "text/plain": [
       "array([[11.78625759],\n",
       "       [14.16308961],\n",
       "       [14.63845602]])"
      ]
     },
     "execution_count": 14,
     "metadata": {},
     "output_type": "execute_result"
    }
   ],
   "source": [
    "# We can calculate multiple values\n",
    "new_value=[[100],[150],[160]]\n",
    "model.predict(new_value)"
   ]
  },
  {
   "cell_type": "markdown",
   "id": "b2fac577",
   "metadata": {},
   "source": [
    "##### <font color=\"Orange\">->> Residuals and Importance on Machine Learning Side </font> \n",
    "\n",
    "<b>MSE --> Mean Square Error</b>\n",
    "<br>\n",
    "<b>RMSE --> Root Mean Square Error</b>\n",
    "<br>\n",
    "-> Our aim is that minimizing the error rate between Predicted and Real Values,<b> MSE and RMSE</b> is used metrics for this."
   ]
  },
  {
   "cell_type": "code",
   "execution_count": 15,
   "id": "4f1cf425",
   "metadata": {},
   "outputs": [
    {
     "data": {
      "text/html": [
       "<div>\n",
       "<style scoped>\n",
       "    .dataframe tbody tr th:only-of-type {\n",
       "        vertical-align: middle;\n",
       "    }\n",
       "\n",
       "    .dataframe tbody tr th {\n",
       "        vertical-align: top;\n",
       "    }\n",
       "\n",
       "    .dataframe thead th {\n",
       "        text-align: right;\n",
       "    }\n",
       "</style>\n",
       "<table border=\"1\" class=\"dataframe\">\n",
       "  <thead>\n",
       "    <tr style=\"text-align: right;\">\n",
       "      <th></th>\n",
       "      <th>Real Values</th>\n",
       "      <th>Predicted Values</th>\n",
       "    </tr>\n",
       "  </thead>\n",
       "  <tbody>\n",
       "    <tr>\n",
       "      <th>0</th>\n",
       "      <td>22.1</td>\n",
       "      <td>17.970775</td>\n",
       "    </tr>\n",
       "    <tr>\n",
       "      <th>1</th>\n",
       "      <td>10.4</td>\n",
       "      <td>9.147974</td>\n",
       "    </tr>\n",
       "    <tr>\n",
       "      <th>2</th>\n",
       "      <td>9.3</td>\n",
       "      <td>7.850224</td>\n",
       "    </tr>\n",
       "    <tr>\n",
       "      <th>3</th>\n",
       "      <td>18.5</td>\n",
       "      <td>14.234395</td>\n",
       "    </tr>\n",
       "    <tr>\n",
       "      <th>4</th>\n",
       "      <td>12.9</td>\n",
       "      <td>15.627218</td>\n",
       "    </tr>\n",
       "    <tr>\n",
       "      <th>5</th>\n",
       "      <td>7.2</td>\n",
       "      <td>7.446162</td>\n",
       "    </tr>\n",
       "    <tr>\n",
       "      <th>6</th>\n",
       "      <td>11.8</td>\n",
       "      <td>9.765950</td>\n",
       "    </tr>\n",
       "    <tr>\n",
       "      <th>7</th>\n",
       "      <td>13.2</td>\n",
       "      <td>12.746498</td>\n",
       "    </tr>\n",
       "    <tr>\n",
       "      <th>8</th>\n",
       "      <td>4.8</td>\n",
       "      <td>7.441409</td>\n",
       "    </tr>\n",
       "    <tr>\n",
       "      <th>9</th>\n",
       "      <td>10.6</td>\n",
       "      <td>16.530414</td>\n",
       "    </tr>\n",
       "  </tbody>\n",
       "</table>\n",
       "</div>"
      ],
      "text/plain": [
       "   Real Values  Predicted Values\n",
       "0         22.1         17.970775\n",
       "1         10.4          9.147974\n",
       "2          9.3          7.850224\n",
       "3         18.5         14.234395\n",
       "4         12.9         15.627218\n",
       "5          7.2          7.446162\n",
       "6         11.8          9.765950\n",
       "7         13.2         12.746498\n",
       "8          4.8          7.441409\n",
       "9         10.6         16.530414"
      ]
     },
     "execution_count": 15,
     "metadata": {},
     "output_type": "execute_result"
    }
   ],
   "source": [
    "real_y=y[:10]\n",
    "predicted=pd.DataFrame(model.predict(X)[0:10])\n",
    "newdf=pd.concat([real_y,predicted],ignore_index=True,axis=1)\n",
    "newdf.columns=[\"Real Values\",\"Predicted Values\"]\n",
    "newdf"
   ]
  },
  {
   "cell_type": "code",
   "execution_count": 16,
   "id": "4411567b",
   "metadata": {},
   "outputs": [
    {
     "data": {
      "text/html": [
       "<div>\n",
       "<style scoped>\n",
       "    .dataframe tbody tr th:only-of-type {\n",
       "        vertical-align: middle;\n",
       "    }\n",
       "\n",
       "    .dataframe tbody tr th {\n",
       "        vertical-align: top;\n",
       "    }\n",
       "\n",
       "    .dataframe thead th {\n",
       "        text-align: right;\n",
       "    }\n",
       "</style>\n",
       "<table border=\"1\" class=\"dataframe\">\n",
       "  <thead>\n",
       "    <tr style=\"text-align: right;\">\n",
       "      <th></th>\n",
       "      <th>Real Values</th>\n",
       "      <th>Predicted Values</th>\n",
       "      <th>errors</th>\n",
       "    </tr>\n",
       "  </thead>\n",
       "  <tbody>\n",
       "    <tr>\n",
       "      <th>0</th>\n",
       "      <td>22.1</td>\n",
       "      <td>17.970775</td>\n",
       "      <td>4.129225</td>\n",
       "    </tr>\n",
       "    <tr>\n",
       "      <th>1</th>\n",
       "      <td>10.4</td>\n",
       "      <td>9.147974</td>\n",
       "      <td>1.252026</td>\n",
       "    </tr>\n",
       "    <tr>\n",
       "      <th>2</th>\n",
       "      <td>9.3</td>\n",
       "      <td>7.850224</td>\n",
       "      <td>1.449776</td>\n",
       "    </tr>\n",
       "    <tr>\n",
       "      <th>3</th>\n",
       "      <td>18.5</td>\n",
       "      <td>14.234395</td>\n",
       "      <td>4.265605</td>\n",
       "    </tr>\n",
       "    <tr>\n",
       "      <th>4</th>\n",
       "      <td>12.9</td>\n",
       "      <td>15.627218</td>\n",
       "      <td>-2.727218</td>\n",
       "    </tr>\n",
       "    <tr>\n",
       "      <th>5</th>\n",
       "      <td>7.2</td>\n",
       "      <td>7.446162</td>\n",
       "      <td>-0.246162</td>\n",
       "    </tr>\n",
       "    <tr>\n",
       "      <th>6</th>\n",
       "      <td>11.8</td>\n",
       "      <td>9.765950</td>\n",
       "      <td>2.034050</td>\n",
       "    </tr>\n",
       "    <tr>\n",
       "      <th>7</th>\n",
       "      <td>13.2</td>\n",
       "      <td>12.746498</td>\n",
       "      <td>0.453502</td>\n",
       "    </tr>\n",
       "    <tr>\n",
       "      <th>8</th>\n",
       "      <td>4.8</td>\n",
       "      <td>7.441409</td>\n",
       "      <td>-2.641409</td>\n",
       "    </tr>\n",
       "    <tr>\n",
       "      <th>9</th>\n",
       "      <td>10.6</td>\n",
       "      <td>16.530414</td>\n",
       "      <td>-5.930414</td>\n",
       "    </tr>\n",
       "  </tbody>\n",
       "</table>\n",
       "</div>"
      ],
      "text/plain": [
       "   Real Values  Predicted Values    errors\n",
       "0         22.1         17.970775  4.129225\n",
       "1         10.4          9.147974  1.252026\n",
       "2          9.3          7.850224  1.449776\n",
       "3         18.5         14.234395  4.265605\n",
       "4         12.9         15.627218 -2.727218\n",
       "5          7.2          7.446162 -0.246162\n",
       "6         11.8          9.765950  2.034050\n",
       "7         13.2         12.746498  0.453502\n",
       "8          4.8          7.441409 -2.641409\n",
       "9         10.6         16.530414 -5.930414"
      ]
     },
     "execution_count": 16,
     "metadata": {},
     "output_type": "execute_result"
    }
   ],
   "source": [
    "newdf[\"errors\"]=newdf[\"Real Values\"]-newdf[\"Predicted Values\"]\n",
    "newdf"
   ]
  },
  {
   "cell_type": "code",
   "execution_count": 17,
   "id": "b5ec63af",
   "metadata": {},
   "outputs": [
    {
     "data": {
      "text/plain": [
       "9.290350329638105"
      ]
     },
     "execution_count": 17,
     "metadata": {},
     "output_type": "execute_result"
    }
   ],
   "source": [
    "newdf[\"square of errors\"]=newdf[\"errors\"]**2\n",
    "newdf[\"square of errors\"].mean() # Mean square of error (MSE)"
   ]
  },
  {
   "cell_type": "code",
   "execution_count": 18,
   "id": "903fef81",
   "metadata": {
    "scrolled": true
   },
   "outputs": [
    {
     "data": {
      "text/html": [
       "<div>\n",
       "<style scoped>\n",
       "    .dataframe tbody tr th:only-of-type {\n",
       "        vertical-align: middle;\n",
       "    }\n",
       "\n",
       "    .dataframe tbody tr th {\n",
       "        vertical-align: top;\n",
       "    }\n",
       "\n",
       "    .dataframe thead th {\n",
       "        text-align: right;\n",
       "    }\n",
       "</style>\n",
       "<table border=\"1\" class=\"dataframe\">\n",
       "  <thead>\n",
       "    <tr style=\"text-align: right;\">\n",
       "      <th></th>\n",
       "      <th>Real Values</th>\n",
       "      <th>Predicted Values</th>\n",
       "      <th>errors</th>\n",
       "      <th>square of errors</th>\n",
       "    </tr>\n",
       "  </thead>\n",
       "  <tbody>\n",
       "    <tr>\n",
       "      <th>0</th>\n",
       "      <td>22.1</td>\n",
       "      <td>17.970775</td>\n",
       "      <td>4.129225</td>\n",
       "      <td>17.050503</td>\n",
       "    </tr>\n",
       "    <tr>\n",
       "      <th>1</th>\n",
       "      <td>10.4</td>\n",
       "      <td>9.147974</td>\n",
       "      <td>1.252026</td>\n",
       "      <td>1.567569</td>\n",
       "    </tr>\n",
       "    <tr>\n",
       "      <th>2</th>\n",
       "      <td>9.3</td>\n",
       "      <td>7.850224</td>\n",
       "      <td>1.449776</td>\n",
       "      <td>2.101851</td>\n",
       "    </tr>\n",
       "    <tr>\n",
       "      <th>3</th>\n",
       "      <td>18.5</td>\n",
       "      <td>14.234395</td>\n",
       "      <td>4.265605</td>\n",
       "      <td>18.195390</td>\n",
       "    </tr>\n",
       "    <tr>\n",
       "      <th>4</th>\n",
       "      <td>12.9</td>\n",
       "      <td>15.627218</td>\n",
       "      <td>-2.727218</td>\n",
       "      <td>7.437719</td>\n",
       "    </tr>\n",
       "    <tr>\n",
       "      <th>5</th>\n",
       "      <td>7.2</td>\n",
       "      <td>7.446162</td>\n",
       "      <td>-0.246162</td>\n",
       "      <td>0.060596</td>\n",
       "    </tr>\n",
       "    <tr>\n",
       "      <th>6</th>\n",
       "      <td>11.8</td>\n",
       "      <td>9.765950</td>\n",
       "      <td>2.034050</td>\n",
       "      <td>4.137358</td>\n",
       "    </tr>\n",
       "    <tr>\n",
       "      <th>7</th>\n",
       "      <td>13.2</td>\n",
       "      <td>12.746498</td>\n",
       "      <td>0.453502</td>\n",
       "      <td>0.205664</td>\n",
       "    </tr>\n",
       "    <tr>\n",
       "      <th>8</th>\n",
       "      <td>4.8</td>\n",
       "      <td>7.441409</td>\n",
       "      <td>-2.641409</td>\n",
       "      <td>6.977040</td>\n",
       "    </tr>\n",
       "    <tr>\n",
       "      <th>9</th>\n",
       "      <td>10.6</td>\n",
       "      <td>16.530414</td>\n",
       "      <td>-5.930414</td>\n",
       "      <td>35.169814</td>\n",
       "    </tr>\n",
       "  </tbody>\n",
       "</table>\n",
       "</div>"
      ],
      "text/plain": [
       "   Real Values  Predicted Values    errors  square of errors\n",
       "0         22.1         17.970775  4.129225         17.050503\n",
       "1         10.4          9.147974  1.252026          1.567569\n",
       "2          9.3          7.850224  1.449776          2.101851\n",
       "3         18.5         14.234395  4.265605         18.195390\n",
       "4         12.9         15.627218 -2.727218          7.437719\n",
       "5          7.2          7.446162 -0.246162          0.060596\n",
       "6         11.8          9.765950  2.034050          4.137358\n",
       "7         13.2         12.746498  0.453502          0.205664\n",
       "8          4.8          7.441409 -2.641409          6.977040\n",
       "9         10.6         16.530414 -5.930414         35.169814"
      ]
     },
     "execution_count": 18,
     "metadata": {},
     "output_type": "execute_result"
    }
   ],
   "source": [
    "newdf"
   ]
  },
  {
   "cell_type": "code",
   "execution_count": 19,
   "id": "466c69d7",
   "metadata": {},
   "outputs": [],
   "source": [
    "import math\n",
    "import numpy as np"
   ]
  },
  {
   "cell_type": "code",
   "execution_count": 20,
   "id": "84c59568",
   "metadata": {
    "scrolled": true
   },
   "outputs": [
    {
     "data": {
      "text/html": [
       "<div>\n",
       "<style scoped>\n",
       "    .dataframe tbody tr th:only-of-type {\n",
       "        vertical-align: middle;\n",
       "    }\n",
       "\n",
       "    .dataframe tbody tr th {\n",
       "        vertical-align: top;\n",
       "    }\n",
       "\n",
       "    .dataframe thead th {\n",
       "        text-align: right;\n",
       "    }\n",
       "</style>\n",
       "<table border=\"1\" class=\"dataframe\">\n",
       "  <thead>\n",
       "    <tr style=\"text-align: right;\">\n",
       "      <th></th>\n",
       "      <th>Real Values</th>\n",
       "      <th>Predicted Values</th>\n",
       "      <th>errors</th>\n",
       "      <th>square of errors</th>\n",
       "    </tr>\n",
       "  </thead>\n",
       "  <tbody>\n",
       "    <tr>\n",
       "      <th>0</th>\n",
       "      <td>22.0</td>\n",
       "      <td>18.0</td>\n",
       "      <td>4.0</td>\n",
       "      <td>17.0</td>\n",
       "    </tr>\n",
       "    <tr>\n",
       "      <th>1</th>\n",
       "      <td>10.0</td>\n",
       "      <td>9.0</td>\n",
       "      <td>1.0</td>\n",
       "      <td>2.0</td>\n",
       "    </tr>\n",
       "    <tr>\n",
       "      <th>2</th>\n",
       "      <td>9.0</td>\n",
       "      <td>8.0</td>\n",
       "      <td>1.0</td>\n",
       "      <td>2.0</td>\n",
       "    </tr>\n",
       "    <tr>\n",
       "      <th>3</th>\n",
       "      <td>18.0</td>\n",
       "      <td>14.0</td>\n",
       "      <td>4.0</td>\n",
       "      <td>18.0</td>\n",
       "    </tr>\n",
       "    <tr>\n",
       "      <th>4</th>\n",
       "      <td>13.0</td>\n",
       "      <td>16.0</td>\n",
       "      <td>-3.0</td>\n",
       "      <td>7.0</td>\n",
       "    </tr>\n",
       "    <tr>\n",
       "      <th>5</th>\n",
       "      <td>7.0</td>\n",
       "      <td>7.0</td>\n",
       "      <td>-0.0</td>\n",
       "      <td>0.0</td>\n",
       "    </tr>\n",
       "    <tr>\n",
       "      <th>6</th>\n",
       "      <td>12.0</td>\n",
       "      <td>10.0</td>\n",
       "      <td>2.0</td>\n",
       "      <td>4.0</td>\n",
       "    </tr>\n",
       "    <tr>\n",
       "      <th>7</th>\n",
       "      <td>13.0</td>\n",
       "      <td>13.0</td>\n",
       "      <td>0.0</td>\n",
       "      <td>0.0</td>\n",
       "    </tr>\n",
       "    <tr>\n",
       "      <th>8</th>\n",
       "      <td>5.0</td>\n",
       "      <td>7.0</td>\n",
       "      <td>-3.0</td>\n",
       "      <td>7.0</td>\n",
       "    </tr>\n",
       "    <tr>\n",
       "      <th>9</th>\n",
       "      <td>11.0</td>\n",
       "      <td>17.0</td>\n",
       "      <td>-6.0</td>\n",
       "      <td>35.0</td>\n",
       "    </tr>\n",
       "  </tbody>\n",
       "</table>\n",
       "</div>"
      ],
      "text/plain": [
       "   Real Values  Predicted Values  errors  square of errors\n",
       "0         22.0              18.0     4.0              17.0\n",
       "1         10.0               9.0     1.0               2.0\n",
       "2          9.0               8.0     1.0               2.0\n",
       "3         18.0              14.0     4.0              18.0\n",
       "4         13.0              16.0    -3.0               7.0\n",
       "5          7.0               7.0    -0.0               0.0\n",
       "6         12.0              10.0     2.0               4.0\n",
       "7         13.0              13.0     0.0               0.0\n",
       "8          5.0               7.0    -3.0               7.0\n",
       "9         11.0              17.0    -6.0              35.0"
      ]
     },
     "execution_count": 20,
     "metadata": {},
     "output_type": "execute_result"
    }
   ],
   "source": [
    "newdf.apply(lambda x:np.round(x))"
   ]
  },
  {
   "cell_type": "markdown",
   "id": "3bcd6867",
   "metadata": {},
   "source": [
    "##### <font color=\"Orange\">->> Multiple Linear Regression </font> \n",
    "<br>\n",
    "->> The aim is that finding function which states the relationship between <b>dependent and independent  variables by making mean square error minimize.</b>\n",
    "<br>\n",
    "->> In Multiple Linear Regression, the researcher generally have 2 main aim; \n",
    "<br>->> Prediction of Dependent Variable by variables which affects dependent variables.\n",
    "<br>->> Which independent variable is most affecting the dependent variable.\n",
    "\n",
    "<br>->><b> The relationship in Multiple Linear Regression can be defined as; Yi= &beta;0 + &beta;1 Xi1 + &beta;2 Xi2 + ...&beta;n Xin + &epsilon;</b>\n",
    "<br> ->> Our aim is finding these &beta; coefficients\n",
    "<br> <img src=\"./used_images/multiple.png\" width=\"300\" height=\"300\">\n",
    "<br> ->> There are many approaches to finding &beta; values, like least squares or normal equation methods, we can find these coefficients\n",
    "<br> ->> If the data size is getting bigger or have a big data, this method cannot work properly, <b>for bigger datasets Gradient Descent can be used.</b>\n",
    "<br>\n",
    "<br>\n",
    "<br>\n",
    "->><b> Multiple Linear Regression has a Hypothesise, so we should be careful when we are applying this regression method.</b>\n",
    "<br>&nbsp;- Errors are distributed normally.\n",
    "<br>&nbsp;- There is no autocorrelation between errors ad they are independent.\n",
    "<br>&nbsp;- For each observation, error terms and variances are constant.\n",
    "<br>&nbsp;- There is no relationship between error term and variables\n",
    "<br>&nbsp;- There is no multiple linear relation problem between independent variables \n",
    "<br><b>These are can be ignored on prediction process, but if we are working on econometry or similar areas, we should be careful about these hypothesise.</b>\n",
    "##### <font color=\"Orange\">->> Pros and Cons of Regression Models </font> \n",
    "<br>&nbsp;+ If this subject is understood well, the other ML and DL subject can be learnt easily.\n",
    "<br>&nbsp;+ Varbiables' effect level and expressiveness can be evaluated\n",
    "<br>&nbsp;+ The score can be measure (r2 value)\n",
    "<br>&nbsp;+ Model expressivness can be evaluated\n",
    "<br>&nbsp;- It has hypothesises\n",
    "<br>&nbsp;- It is sensitive for outliers\n",
    "<br>\n",
    "##### <font color=\"Orange\">->> Multiple Linear Regression Model/s </font> "
   ]
  },
  {
   "cell_type": "code",
   "execution_count": 3,
   "id": "07e8518c",
   "metadata": {},
   "outputs": [],
   "source": [
    "import pandas as pd\n",
    "import numpy as np\n",
    "import seaborn as sns\n",
    "from matplotlib import pyplot as plt\n",
    "import statsmodels.api as sm"
   ]
  },
  {
   "cell_type": "code",
   "execution_count": 4,
   "id": "fbac64d1",
   "metadata": {},
   "outputs": [
    {
     "data": {
      "text/html": [
       "<div>\n",
       "<style scoped>\n",
       "    .dataframe tbody tr th:only-of-type {\n",
       "        vertical-align: middle;\n",
       "    }\n",
       "\n",
       "    .dataframe tbody tr th {\n",
       "        vertical-align: top;\n",
       "    }\n",
       "\n",
       "    .dataframe thead th {\n",
       "        text-align: right;\n",
       "    }\n",
       "</style>\n",
       "<table border=\"1\" class=\"dataframe\">\n",
       "  <thead>\n",
       "    <tr style=\"text-align: right;\">\n",
       "      <th></th>\n",
       "      <th>TV</th>\n",
       "      <th>radio</th>\n",
       "      <th>newspaper</th>\n",
       "      <th>sales</th>\n",
       "    </tr>\n",
       "  </thead>\n",
       "  <tbody>\n",
       "    <tr>\n",
       "      <th>0</th>\n",
       "      <td>230.1</td>\n",
       "      <td>37.8</td>\n",
       "      <td>69.2</td>\n",
       "      <td>22.1</td>\n",
       "    </tr>\n",
       "    <tr>\n",
       "      <th>1</th>\n",
       "      <td>44.5</td>\n",
       "      <td>39.3</td>\n",
       "      <td>45.1</td>\n",
       "      <td>10.4</td>\n",
       "    </tr>\n",
       "    <tr>\n",
       "      <th>2</th>\n",
       "      <td>17.2</td>\n",
       "      <td>45.9</td>\n",
       "      <td>69.3</td>\n",
       "      <td>9.3</td>\n",
       "    </tr>\n",
       "    <tr>\n",
       "      <th>3</th>\n",
       "      <td>151.5</td>\n",
       "      <td>41.3</td>\n",
       "      <td>58.5</td>\n",
       "      <td>18.5</td>\n",
       "    </tr>\n",
       "    <tr>\n",
       "      <th>4</th>\n",
       "      <td>180.8</td>\n",
       "      <td>10.8</td>\n",
       "      <td>58.4</td>\n",
       "      <td>12.9</td>\n",
       "    </tr>\n",
       "  </tbody>\n",
       "</table>\n",
       "</div>"
      ],
      "text/plain": [
       "      TV  radio  newspaper  sales\n",
       "0  230.1   37.8       69.2   22.1\n",
       "1   44.5   39.3       45.1   10.4\n",
       "2   17.2   45.9       69.3    9.3\n",
       "3  151.5   41.3       58.5   18.5\n",
       "4  180.8   10.8       58.4   12.9"
      ]
     },
     "execution_count": 4,
     "metadata": {},
     "output_type": "execute_result"
    }
   ],
   "source": [
    "df=pd.read_csv(\"./csv_files/Advertising.csv\")\n",
    "df=df.iloc[:,1:len(df)]\n",
    "df.head()"
   ]
  },
  {
   "cell_type": "code",
   "execution_count": 9,
   "id": "82bb42c1",
   "metadata": {},
   "outputs": [],
   "source": [
    "X=df.drop(\"sales\",axis=1) # All independent variables\n",
    "y=df[[\"sales\"]] #dependent variable"
   ]
  },
  {
   "cell_type": "code",
   "execution_count": 16,
   "id": "e976d53c",
   "metadata": {},
   "outputs": [],
   "source": [
    "model=sm.OLS(y,X).fit() # Finding B values least square method, and creating the model"
   ]
  },
  {
   "cell_type": "code",
   "execution_count": 19,
   "id": "86a68603",
   "metadata": {},
   "outputs": [
    {
     "data": {
      "text/html": [
       "<table class=\"simpletable\">\n",
       "<caption>OLS Regression Results</caption>\n",
       "<tr>\n",
       "  <th>Dep. Variable:</th>          <td>sales</td>      <th>  R-squared (uncentered):</th>      <td>   0.982</td> \n",
       "</tr>\n",
       "<tr>\n",
       "  <th>Model:</th>                   <td>OLS</td>       <th>  Adj. R-squared (uncentered):</th> <td>   0.982</td> \n",
       "</tr>\n",
       "<tr>\n",
       "  <th>Method:</th>             <td>Least Squares</td>  <th>  F-statistic:       </th>          <td>   3566.</td> \n",
       "</tr>\n",
       "<tr>\n",
       "  <th>Date:</th>             <td>Thu, 08 Sep 2022</td> <th>  Prob (F-statistic):</th>          <td>2.43e-171</td>\n",
       "</tr>\n",
       "<tr>\n",
       "  <th>Time:</th>                 <td>13:59:31</td>     <th>  Log-Likelihood:    </th>          <td> -423.54</td> \n",
       "</tr>\n",
       "<tr>\n",
       "  <th>No. Observations:</th>      <td>   200</td>      <th>  AIC:               </th>          <td>   853.1</td> \n",
       "</tr>\n",
       "<tr>\n",
       "  <th>Df Residuals:</th>          <td>   197</td>      <th>  BIC:               </th>          <td>   863.0</td> \n",
       "</tr>\n",
       "<tr>\n",
       "  <th>Df Model:</th>              <td>     3</td>      <th>                     </th>              <td> </td>    \n",
       "</tr>\n",
       "<tr>\n",
       "  <th>Covariance Type:</th>      <td>nonrobust</td>    <th>                     </th>              <td> </td>    \n",
       "</tr>\n",
       "</table>\n",
       "<table class=\"simpletable\">\n",
       "<tr>\n",
       "      <td></td>         <th>coef</th>     <th>std err</th>      <th>t</th>      <th>P>|t|</th>  <th>[0.025</th>    <th>0.975]</th>  \n",
       "</tr>\n",
       "<tr>\n",
       "  <th>TV</th>        <td>    0.0538</td> <td>    0.001</td> <td>   40.507</td> <td> 0.000</td> <td>    0.051</td> <td>    0.056</td>\n",
       "</tr>\n",
       "<tr>\n",
       "  <th>radio</th>     <td>    0.2222</td> <td>    0.009</td> <td>   23.595</td> <td> 0.000</td> <td>    0.204</td> <td>    0.241</td>\n",
       "</tr>\n",
       "<tr>\n",
       "  <th>newspaper</th> <td>    0.0168</td> <td>    0.007</td> <td>    2.517</td> <td> 0.013</td> <td>    0.004</td> <td>    0.030</td>\n",
       "</tr>\n",
       "</table>\n",
       "<table class=\"simpletable\">\n",
       "<tr>\n",
       "  <th>Omnibus:</th>       <td> 5.982</td> <th>  Durbin-Watson:     </th> <td>   2.038</td>\n",
       "</tr>\n",
       "<tr>\n",
       "  <th>Prob(Omnibus):</th> <td> 0.050</td> <th>  Jarque-Bera (JB):  </th> <td>   7.039</td>\n",
       "</tr>\n",
       "<tr>\n",
       "  <th>Skew:</th>          <td>-0.232</td> <th>  Prob(JB):          </th> <td>  0.0296</td>\n",
       "</tr>\n",
       "<tr>\n",
       "  <th>Kurtosis:</th>      <td> 3.794</td> <th>  Cond. No.          </th> <td>    12.6</td>\n",
       "</tr>\n",
       "</table><br/><br/>Notes:<br/>[1] R² is computed without centering (uncentered) since the model does not contain a constant.<br/>[2] Standard Errors assume that the covariance matrix of the errors is correctly specified."
      ],
      "text/plain": [
       "<class 'statsmodels.iolib.summary.Summary'>\n",
       "\"\"\"\n",
       "                                 OLS Regression Results                                \n",
       "=======================================================================================\n",
       "Dep. Variable:                  sales   R-squared (uncentered):                   0.982\n",
       "Model:                            OLS   Adj. R-squared (uncentered):              0.982\n",
       "Method:                 Least Squares   F-statistic:                              3566.\n",
       "Date:                Thu, 08 Sep 2022   Prob (F-statistic):                   2.43e-171\n",
       "Time:                        13:59:31   Log-Likelihood:                         -423.54\n",
       "No. Observations:                 200   AIC:                                      853.1\n",
       "Df Residuals:                     197   BIC:                                      863.0\n",
       "Df Model:                           3                                                  \n",
       "Covariance Type:            nonrobust                                                  \n",
       "==============================================================================\n",
       "                 coef    std err          t      P>|t|      [0.025      0.975]\n",
       "------------------------------------------------------------------------------\n",
       "TV             0.0538      0.001     40.507      0.000       0.051       0.056\n",
       "radio          0.2222      0.009     23.595      0.000       0.204       0.241\n",
       "newspaper      0.0168      0.007      2.517      0.013       0.004       0.030\n",
       "==============================================================================\n",
       "Omnibus:                        5.982   Durbin-Watson:                   2.038\n",
       "Prob(Omnibus):                  0.050   Jarque-Bera (JB):                7.039\n",
       "Skew:                          -0.232   Prob(JB):                       0.0296\n",
       "Kurtosis:                       3.794   Cond. No.                         12.6\n",
       "==============================================================================\n",
       "\n",
       "Notes:\n",
       "[1] R² is computed without centering (uncentered) since the model does not contain a constant.\n",
       "[2] Standard Errors assume that the covariance matrix of the errors is correctly specified.\n",
       "\"\"\""
      ]
     },
     "execution_count": 19,
     "metadata": {},
     "output_type": "execute_result"
    }
   ],
   "source": [
    "model.summary() # This method has many information about model, output of multiple regression"
   ]
  },
  {
   "cell_type": "markdown",
   "id": "003910e6",
   "metadata": {},
   "source": [
    "# <font color=\"Orange\"> For Statsmodel Table </font>\n",
    "<br>\n",
    "<br>\n",
    "->>  As we can see above, <b>R-squared value is around %98, it means our independent variables can state the dependent variables with %98 rate.</b>\n",
    "<br>\n",
    "\n",
    "->>  There is another R-squared variable, <b><font color=\"red\">The most vital difference between adjusted R-squared and R-squared is simply that adjusted R-squared considers and tests different independent variables against the model and R-squared does not.</font></b>\n",
    "<br>\n",
    "<br>\n",
    "->> <b>F statistic</b> states that the model is expressiveness or not\n",
    "<br>\n",
    "<br>\n",
    "->> <b>Prob (F-statistic) gives us the P value of F-statistic</b>, here this value is less than 0.05, so it means the model is significant (statistically).\n",
    "<br>\n",
    "<br>\n",
    "->> Coef values are <b>&beta; values of independent variables, to give an example, <font color=\"red\">if we spend 1 unit of TV, it means it will cause average 0.05 increase on sales (\"dependent\") variable.</font> </b>\n",
    "<br>\n",
    "<br>\n",
    "->> Std error values are <b>Standart errors of coefficients </b>\n",
    "<br>\n",
    "<br>\n",
    "->> T statistics value and P value can be used for that the model is significant or not.  <b><font color=\"red\">This hypothesise tells us that the variables are not significant, since p value is less than 0.05, it means we reject this hypothesise and that means variables are significant.</font> </b>\n",
    "<br>\n",
    "<br>\n",
    "# <font color=\"Orange\"> For Scikit Learn </font>"
   ]
  },
  {
   "cell_type": "code",
   "execution_count": 60,
   "id": "83a9c11f",
   "metadata": {},
   "outputs": [],
   "source": [
    "from sklearn.linear_model import LinearRegression\n",
    "from sklearn.metrics import mean_squared_error\n",
    "import math"
   ]
  },
  {
   "cell_type": "code",
   "execution_count": 22,
   "id": "446459d1",
   "metadata": {},
   "outputs": [],
   "source": [
    "model=LinearRegression().fit(X,y)"
   ]
  },
  {
   "cell_type": "code",
   "execution_count": 24,
   "id": "94bb058c",
   "metadata": {},
   "outputs": [
    {
     "name": "stdout",
     "output_type": "stream",
     "text": [
      "[2.93888937]\n",
      "[[ 0.04576465  0.18853002 -0.00103749]]\n"
     ]
    }
   ],
   "source": [
    "print(model.intercept_) # B0 value\n",
    "print(model.coef_)  # B1, B2 , B3 value of independent variables"
   ]
  },
  {
   "cell_type": "code",
   "execution_count": 38,
   "id": "84f000bd",
   "metadata": {},
   "outputs": [
    {
     "name": "stdout",
     "output_type": "stream",
     "text": [
      "6.180000000000001\n"
     ]
    }
   ],
   "source": [
    " # We can state the formula as;\n",
    "\n",
    "predicted_by_hand = 2.94 + 0.046*30 + 0.19*10 - 0.001*40\n",
    "print(predicted_by_hand)"
   ]
  },
  {
   "cell_type": "code",
   "execution_count": 49,
   "id": "8fe8db23",
   "metadata": {},
   "outputs": [
    {
     "name": "stderr",
     "output_type": "stream",
     "text": [
      "C:\\ProgramData\\Anaconda3\\lib\\site-packages\\sklearn\\base.py:450: UserWarning: X does not have valid feature names, but LinearRegression was fitted with feature names\n",
      "  warnings.warn(\n"
     ]
    },
    {
     "data": {
      "text/plain": [
       "array([[6.15562918]])"
      ]
     },
     "execution_count": 49,
     "metadata": {},
     "output_type": "execute_result"
    }
   ],
   "source": [
    "spend_units=[[30],[10],[40]]\n",
    "spend_units=pd.DataFrame(spend_units).T\n",
    "model.predict(spend_units) "
   ]
  },
  {
   "cell_type": "code",
   "execution_count": 50,
   "id": "adf3bc70",
   "metadata": {},
   "outputs": [
    {
     "data": {
      "text/plain": [
       "0.8972106381789522"
      ]
     },
     "execution_count": 50,
     "metadata": {},
     "output_type": "execute_result"
    }
   ],
   "source": [
    "model.score(X,y)"
   ]
  },
  {
   "cell_type": "code",
   "execution_count": 58,
   "id": "e55cab9d",
   "metadata": {},
   "outputs": [],
   "source": [
    "y_predicted=model.predict(X)"
   ]
  },
  {
   "cell_type": "code",
   "execution_count": 75,
   "id": "69a48a35",
   "metadata": {},
   "outputs": [
    {
     "name": "stdout",
     "output_type": "stream",
     "text": [
      "MSE IS 2.78\n",
      "RMSE IS 1.67\n"
     ]
    }
   ],
   "source": [
    "MSE=mean_squared_error(y,y_predicted) # MSE STATISTICS\n",
    "print(\"MSE IS {:.2f}\".format(MSE)) # Mean squared error\n",
    "print(\"RMSE IS {:.2f}\".format(np.sqrt(MSE))) # Root mean squared error"
   ]
  },
  {
   "cell_type": "markdown",
   "id": "a828acb8",
   "metadata": {},
   "source": [
    "# <font color=\"Orange\"> Multiple Linear Regression Model Tuning </font>"
   ]
  },
  {
   "cell_type": "code",
   "execution_count": 1,
   "id": "8bc2accc",
   "metadata": {},
   "outputs": [],
   "source": [
    "# since multiple linear regression doesnt have hyper parameters, we do model validation \n",
    "# What was model validation ? ->> we use k fold cross validation and Hold out for validation"
   ]
  },
  {
   "cell_type": "markdown",
   "id": "30321f8c",
   "metadata": {},
   "source": [
    "### <font color=\"red\"> Hold out method </font>"
   ]
  },
  {
   "cell_type": "code",
   "execution_count": 2,
   "id": "092e6f24",
   "metadata": {},
   "outputs": [],
   "source": [
    "# Hold out\n",
    "from sklearn.model_selection import train_test_split"
   ]
  },
  {
   "cell_type": "code",
   "execution_count": 5,
   "id": "4c6a1946",
   "metadata": {
    "scrolled": true
   },
   "outputs": [
    {
     "data": {
      "text/html": [
       "<div>\n",
       "<style scoped>\n",
       "    .dataframe tbody tr th:only-of-type {\n",
       "        vertical-align: middle;\n",
       "    }\n",
       "\n",
       "    .dataframe tbody tr th {\n",
       "        vertical-align: top;\n",
       "    }\n",
       "\n",
       "    .dataframe thead th {\n",
       "        text-align: right;\n",
       "    }\n",
       "</style>\n",
       "<table border=\"1\" class=\"dataframe\">\n",
       "  <thead>\n",
       "    <tr style=\"text-align: right;\">\n",
       "      <th></th>\n",
       "      <th>TV</th>\n",
       "      <th>radio</th>\n",
       "      <th>newspaper</th>\n",
       "      <th>sales</th>\n",
       "    </tr>\n",
       "  </thead>\n",
       "  <tbody>\n",
       "    <tr>\n",
       "      <th>0</th>\n",
       "      <td>230.1</td>\n",
       "      <td>37.8</td>\n",
       "      <td>69.2</td>\n",
       "      <td>22.1</td>\n",
       "    </tr>\n",
       "    <tr>\n",
       "      <th>1</th>\n",
       "      <td>44.5</td>\n",
       "      <td>39.3</td>\n",
       "      <td>45.1</td>\n",
       "      <td>10.4</td>\n",
       "    </tr>\n",
       "    <tr>\n",
       "      <th>2</th>\n",
       "      <td>17.2</td>\n",
       "      <td>45.9</td>\n",
       "      <td>69.3</td>\n",
       "      <td>9.3</td>\n",
       "    </tr>\n",
       "    <tr>\n",
       "      <th>3</th>\n",
       "      <td>151.5</td>\n",
       "      <td>41.3</td>\n",
       "      <td>58.5</td>\n",
       "      <td>18.5</td>\n",
       "    </tr>\n",
       "    <tr>\n",
       "      <th>4</th>\n",
       "      <td>180.8</td>\n",
       "      <td>10.8</td>\n",
       "      <td>58.4</td>\n",
       "      <td>12.9</td>\n",
       "    </tr>\n",
       "    <tr>\n",
       "      <th>...</th>\n",
       "      <td>...</td>\n",
       "      <td>...</td>\n",
       "      <td>...</td>\n",
       "      <td>...</td>\n",
       "    </tr>\n",
       "    <tr>\n",
       "      <th>195</th>\n",
       "      <td>38.2</td>\n",
       "      <td>3.7</td>\n",
       "      <td>13.8</td>\n",
       "      <td>7.6</td>\n",
       "    </tr>\n",
       "    <tr>\n",
       "      <th>196</th>\n",
       "      <td>94.2</td>\n",
       "      <td>4.9</td>\n",
       "      <td>8.1</td>\n",
       "      <td>9.7</td>\n",
       "    </tr>\n",
       "    <tr>\n",
       "      <th>197</th>\n",
       "      <td>177.0</td>\n",
       "      <td>9.3</td>\n",
       "      <td>6.4</td>\n",
       "      <td>12.8</td>\n",
       "    </tr>\n",
       "    <tr>\n",
       "      <th>198</th>\n",
       "      <td>283.6</td>\n",
       "      <td>42.0</td>\n",
       "      <td>66.2</td>\n",
       "      <td>25.5</td>\n",
       "    </tr>\n",
       "    <tr>\n",
       "      <th>199</th>\n",
       "      <td>232.1</td>\n",
       "      <td>8.6</td>\n",
       "      <td>8.7</td>\n",
       "      <td>13.4</td>\n",
       "    </tr>\n",
       "  </tbody>\n",
       "</table>\n",
       "<p>200 rows × 4 columns</p>\n",
       "</div>"
      ],
      "text/plain": [
       "        TV  radio  newspaper  sales\n",
       "0    230.1   37.8       69.2   22.1\n",
       "1     44.5   39.3       45.1   10.4\n",
       "2     17.2   45.9       69.3    9.3\n",
       "3    151.5   41.3       58.5   18.5\n",
       "4    180.8   10.8       58.4   12.9\n",
       "..     ...    ...        ...    ...\n",
       "195   38.2    3.7       13.8    7.6\n",
       "196   94.2    4.9        8.1    9.7\n",
       "197  177.0    9.3        6.4   12.8\n",
       "198  283.6   42.0       66.2   25.5\n",
       "199  232.1    8.6        8.7   13.4\n",
       "\n",
       "[200 rows x 4 columns]"
      ]
     },
     "execution_count": 5,
     "metadata": {},
     "output_type": "execute_result"
    }
   ],
   "source": [
    "df"
   ]
  },
  {
   "cell_type": "code",
   "execution_count": 10,
   "id": "17afcc24",
   "metadata": {},
   "outputs": [],
   "source": [
    "y=df[[\"sales\"]]\n",
    "X=df.drop(\"sales\",axis=1)"
   ]
  },
  {
   "cell_type": "code",
   "execution_count": 12,
   "id": "ce5ca302",
   "metadata": {},
   "outputs": [
    {
     "data": {
      "text/html": [
       "<div>\n",
       "<style scoped>\n",
       "    .dataframe tbody tr th:only-of-type {\n",
       "        vertical-align: middle;\n",
       "    }\n",
       "\n",
       "    .dataframe tbody tr th {\n",
       "        vertical-align: top;\n",
       "    }\n",
       "\n",
       "    .dataframe thead th {\n",
       "        text-align: right;\n",
       "    }\n",
       "</style>\n",
       "<table border=\"1\" class=\"dataframe\">\n",
       "  <thead>\n",
       "    <tr style=\"text-align: right;\">\n",
       "      <th></th>\n",
       "      <th>TV</th>\n",
       "      <th>radio</th>\n",
       "      <th>newspaper</th>\n",
       "    </tr>\n",
       "  </thead>\n",
       "  <tbody>\n",
       "    <tr>\n",
       "      <th>0</th>\n",
       "      <td>230.1</td>\n",
       "      <td>37.8</td>\n",
       "      <td>69.2</td>\n",
       "    </tr>\n",
       "    <tr>\n",
       "      <th>1</th>\n",
       "      <td>44.5</td>\n",
       "      <td>39.3</td>\n",
       "      <td>45.1</td>\n",
       "    </tr>\n",
       "    <tr>\n",
       "      <th>2</th>\n",
       "      <td>17.2</td>\n",
       "      <td>45.9</td>\n",
       "      <td>69.3</td>\n",
       "    </tr>\n",
       "    <tr>\n",
       "      <th>3</th>\n",
       "      <td>151.5</td>\n",
       "      <td>41.3</td>\n",
       "      <td>58.5</td>\n",
       "    </tr>\n",
       "    <tr>\n",
       "      <th>4</th>\n",
       "      <td>180.8</td>\n",
       "      <td>10.8</td>\n",
       "      <td>58.4</td>\n",
       "    </tr>\n",
       "  </tbody>\n",
       "</table>\n",
       "</div>"
      ],
      "text/plain": [
       "      TV  radio  newspaper\n",
       "0  230.1   37.8       69.2\n",
       "1   44.5   39.3       45.1\n",
       "2   17.2   45.9       69.3\n",
       "3  151.5   41.3       58.5\n",
       "4  180.8   10.8       58.4"
      ]
     },
     "execution_count": 12,
     "metadata": {},
     "output_type": "execute_result"
    }
   ],
   "source": [
    "X.head()"
   ]
  },
  {
   "cell_type": "code",
   "execution_count": 59,
   "id": "af666156",
   "metadata": {},
   "outputs": [],
   "source": [
    "X_train, X_test, y_train, y_test = train_test_split(X,y,test_size=20) # test size splits data as %80 , %20"
   ]
  },
  {
   "cell_type": "code",
   "execution_count": 60,
   "id": "efcd4618",
   "metadata": {},
   "outputs": [],
   "source": [
    "from sklearn.linear_model import LinearRegression\n",
    "from sklearn.metrics import mean_squared_error"
   ]
  },
  {
   "cell_type": "code",
   "execution_count": 61,
   "id": "e1ae4998",
   "metadata": {},
   "outputs": [],
   "source": [
    "model=LinearRegression().fit(X_train,y_train)"
   ]
  },
  {
   "cell_type": "code",
   "execution_count": 62,
   "id": "1643dea5",
   "metadata": {},
   "outputs": [
    {
     "data": {
      "text/plain": [
       "0.8833074014937116"
      ]
     },
     "execution_count": 62,
     "metadata": {},
     "output_type": "execute_result"
    }
   ],
   "source": [
    "model.score(X_train,y_train)"
   ]
  },
  {
   "cell_type": "code",
   "execution_count": 63,
   "id": "e57cd930",
   "metadata": {},
   "outputs": [
    {
     "data": {
      "text/plain": [
       "1.7101694121175393"
      ]
     },
     "execution_count": 63,
     "metadata": {},
     "output_type": "execute_result"
    }
   ],
   "source": [
    "np.sqrt(mean_squared_error(y_train,model.predict(X_train))) # RMSE Train error"
   ]
  },
  {
   "cell_type": "code",
   "execution_count": 64,
   "id": "4cef636f",
   "metadata": {},
   "outputs": [
    {
     "data": {
      "text/plain": [
       "1.265260327882406"
      ]
     },
     "execution_count": 64,
     "metadata": {},
     "output_type": "execute_result"
    }
   ],
   "source": [
    "np.sqrt(mean_squared_error(y_test,model.predict(X_test))) #  Test Error"
   ]
  },
  {
   "cell_type": "markdown",
   "id": "dc3807e0",
   "metadata": {},
   "source": [
    "### <font color=\"red\"> K fold cross validation </font>"
   ]
  },
  {
   "cell_type": "code",
   "execution_count": 65,
   "id": "a82b754d",
   "metadata": {},
   "outputs": [],
   "source": [
    "# We generally use K cross validation because sometimes holdout method's results can be fallacious."
   ]
  },
  {
   "cell_type": "code",
   "execution_count": 66,
   "id": "b04c316d",
   "metadata": {},
   "outputs": [],
   "source": [
    "from sklearn.model_selection import cross_val_score"
   ]
  },
  {
   "cell_type": "code",
   "execution_count": 70,
   "id": "efc4ed0c",
   "metadata": {},
   "outputs": [
    {
     "data": {
      "text/plain": [
       "array([-4.15001904, -1.91109942, -6.44657899, -3.23285881, -1.44604754,\n",
       "       -2.40744058, -2.64242584, -3.45879545, -2.09994064, -2.89730452])"
      ]
     },
     "execution_count": 70,
     "metadata": {},
     "output_type": "execute_result"
    }
   ],
   "source": [
    "cross_val_score(model,X_train,y_train,cv=10,scoring=\"neg_mean_squared_error\") # MSE\n",
    "# This function uses k fold cross validation method, takes 10 sample, one of them is used for testing to others\n",
    "# gives us 10 different error"
   ]
  },
  {
   "cell_type": "code",
   "execution_count": 73,
   "id": "86c36e13",
   "metadata": {},
   "outputs": [
    {
     "data": {
      "text/plain": [
       "3.0692510835346276"
      ]
     },
     "execution_count": 73,
     "metadata": {},
     "output_type": "execute_result"
    }
   ],
   "source": [
    "np.mean(-cross_val_score(model,X_train,y_train,cv=10,scoring=\"neg_mean_squared_error\")) # MSE"
   ]
  },
  {
   "cell_type": "code",
   "execution_count": 72,
   "id": "7e85af44",
   "metadata": {},
   "outputs": [
    {
     "data": {
      "text/plain": [
       "1.7519278191565506"
      ]
     },
     "execution_count": 72,
     "metadata": {},
     "output_type": "execute_result"
    }
   ],
   "source": [
    "np.sqrt(np.mean(-cross_val_score(model,X_train,y_train,cv=10,scoring=\"neg_mean_squared_error\"))) # RMSE"
   ]
  },
  {
   "cell_type": "code",
   "execution_count": 74,
   "id": "bd8a1b27",
   "metadata": {},
   "outputs": [
    {
     "data": {
      "text/plain": [
       "1.749276312684338"
      ]
     },
     "execution_count": 74,
     "metadata": {},
     "output_type": "execute_result"
    }
   ],
   "source": [
    "np.sqrt(np.mean(-cross_val_score(model,X,y,cv=10,scoring=\"neg_mean_squared_error\"))) # RMSE\n",
    "# this last process is validated error rate, since we used general datasets here, not train or test."
   ]
  },
  {
   "cell_type": "markdown",
   "id": "0d14028b",
   "metadata": {},
   "source": [
    "# <font color=\"orange\"> Ridge Regression </font>\n",
    "<b>\n",
    "->> Ridge regression is a method of estimating the coefficients of multiple-regression models in scenarios where the independent variables are highly correlated.\n",
    "<img src=\"./used_images/ridge.png\" width=\"600\" height=\"600\">\n",
    "<br>\n",
    "->> Resisted to over-fitting.\n",
    "<br>\n",
    "->> Biased but it has low variance (Sometimes we prefer biased models).\n",
    "<br>\n",
    "->> When it has more parameters, close to Least Squares.\n",
    "<br>\n",
    "->> It has a solution for when dataset has more variables than observations.\n",
    "<br>\n",
    "->> It has a solution when independent variables has a high correlation between each other. It means an information can be carried by other independent variable,too \n",
    "<br>\n",
    "->> It creates model with all variables, the irellevant variables are not taken out, it makes close to their coefficient zero. (&beta; values)\n",
    "<br>\n",
    "->> <b>&lambda;</b> is critical value here, it is a tuning term. It is important to find a good value for &lambda; , to finding, we use CV method <b>(&lambda; is user defined variable) </b>\n",
    "<br>\n",
    "->> We are looing a &lambda; value which gives us sum of squared errors minimum.\n",
    "<br>\n",
    "->> The cluster is selected which has certain values, and each of them's cross validation test error is calculated for &lambda;\n",
    "<br>\n",
    "->> The value, which gives most less cross validation is selected as &lambda; parameter.\n",
    "<br>\n",
    "->> Lastly, with selected &lambda; value the model is fitted again to all observations.\n",
    "<br>\n",
    "</b>"
   ]
  },
  {
   "cell_type": "markdown",
   "id": "8617c349",
   "metadata": {},
   "source": [
    "# <font color=\"orange\"> Ridge Regression Model</font>"
   ]
  },
  {
   "cell_type": "code",
   "execution_count": 1,
   "id": "d22c44b7",
   "metadata": {},
   "outputs": [],
   "source": [
    "import pandas as pd\n",
    "import numpy as np\n",
    "import seaborn as sns\n",
    "import matplotlib.pyplot as plt \n",
    "from sklearn.linear_model import Ridge, RidgeCV, LinearRegression # Ridge and RidgeCV for Ridge Regression\n",
    "from sklearn.model_selection import train_test_split,cross_val_score\n",
    "from sklearn.metrics import mean_squared_error,r2_score\n",
    "from statsmodels.api import OLS"
   ]
  },
  {
   "cell_type": "code",
   "execution_count": 2,
   "id": "0b92e1fa",
   "metadata": {},
   "outputs": [],
   "source": [
    "df=pd.read_csv(\"./csv_files/Hitters.csv\")\n",
    "df.dropna(inplace=True)\n",
    "dms=pd.get_dummies(df[[\"League\",\"Division\",\"NewLeague\"]])\n",
    "y=df[\"Salary\"]\n",
    "X_=df.drop([\"Salary\",\"League\",\"Division\",\"NewLeague\"],axis=1).astype(\"float64\")\n",
    "X=pd.concat([X_,dms[[\"League_N\",\"Division_W\",\"NewLeague_N\"]]],axis=1)\n",
    "X_train, X_test, y_train, y_test = train_test_split(X,y,test_size=0.25,random_state=42)"
   ]
  },
  {
   "cell_type": "code",
   "execution_count": 3,
   "id": "1e82f27e",
   "metadata": {},
   "outputs": [
    {
     "data": {
      "text/plain": [
       "(263, 20)"
      ]
     },
     "execution_count": 3,
     "metadata": {},
     "output_type": "execute_result"
    }
   ],
   "source": [
    "df.shape"
   ]
  },
  {
   "cell_type": "code",
   "execution_count": 4,
   "id": "e87e5126",
   "metadata": {},
   "outputs": [],
   "source": [
    "# We fit our model on train dataset, we test our model on test dataset\n",
    "model=Ridge(alpha=5).fit(X_train,y_train) # alpha value is lambda value in formula"
   ]
  },
  {
   "cell_type": "code",
   "execution_count": 5,
   "id": "fa6cdb33",
   "metadata": {},
   "outputs": [
    {
     "name": "stdout",
     "output_type": "stream",
     "text": [
      "-3.4251968687158296\n",
      "[ -1.81040449   8.87872786   7.12487047  -3.31713488  -2.01162162\n",
      "   5.40691525   7.25828404  -0.13033385  -0.25425913  -0.71109275\n",
      "   1.81452      0.77083457  -0.6768975    0.26211894   0.2646614\n",
      "  -0.36947934  76.19519054 -90.15523668 -16.00453535]\n"
     ]
    }
   ],
   "source": [
    "print(model.intercept_)\n",
    "print(model.coef_)"
   ]
  },
  {
   "cell_type": "code",
   "execution_count": 6,
   "id": "047f8d7b",
   "metadata": {},
   "outputs": [],
   "source": [
    "lambdas= 10**np.linspace(10,-2,100)*0.5"
   ]
  },
  {
   "cell_type": "code",
   "execution_count": 8,
   "id": "a4371ba5",
   "metadata": {},
   "outputs": [],
   "source": [
    "model= Ridge()\n",
    "coefficients=[]\n",
    "for i in lambdas:\n",
    "    model.set_params(alpha=i)\n",
    "    model.fit(X_train,y_train)\n",
    "    coefficients.append(model.coef_)"
   ]
  },
  {
   "cell_type": "code",
   "execution_count": 10,
   "id": "cd35f4d9",
   "metadata": {},
   "outputs": [
    {
     "data": {
      "image/png": "[encoded data removed]",
      "text/plain": [
       "<Figure size 432x288 with 1 Axes>"
      ]
     },
     "metadata": {
      "needs_background": "light"
     },
     "output_type": "display_data"
    }
   ],
   "source": [
    "ax=plt.gca() # object\n",
    "ax.plot(lambdas,coefficients)\n",
    "ax.set_xscale(\"log\") \n",
    "\n",
    "# This graph show us that how different lambda values can change or produce different Beta values (coefficients)\n"
   ]
  },
  {
   "cell_type": "code",
   "execution_count": 11,
   "id": "64a0b9ed",
   "metadata": {},
   "outputs": [
    {
     "data": {
      "text/plain": [
       "Ridge(alpha=0.005)"
      ]
     },
     "execution_count": 11,
     "metadata": {},
     "output_type": "execute_result"
    }
   ],
   "source": [
    "model"
   ]
  },
  {
   "cell_type": "code",
   "execution_count": 12,
   "id": "803f0aaf",
   "metadata": {},
   "outputs": [
    {
     "data": {
      "text/plain": [
       "array([ 377.43897818,  802.20172846,  495.61262179,  112.53310635,\n",
       "        426.2235674 , 1004.23269616,  154.7234935 ,  362.55653134,\n",
       "        485.36598379,  918.70526984])"
      ]
     },
     "execution_count": 12,
     "metadata": {},
     "output_type": "execute_result"
    }
   ],
   "source": [
    "y_predicted=model.predict(X_train) \n",
    "y_predicted[0:10]"
   ]
  },
  {
   "cell_type": "code",
   "execution_count": 13,
   "id": "cfba6ebd",
   "metadata": {},
   "outputs": [
    {
     "data": {
      "text/plain": [
       "183     125.0\n",
       "229    1940.0\n",
       "286     940.0\n",
       "102     375.0\n",
       "153     100.0\n",
       "320     960.0\n",
       "135      90.0\n",
       "213     100.0\n",
       "308     750.0\n",
       "161     657.0\n",
       "Name: Salary, dtype: float64"
      ]
     },
     "execution_count": 13,
     "metadata": {},
     "output_type": "execute_result"
    }
   ],
   "source": [
    "y_train[0:10]"
   ]
  },
  {
   "cell_type": "markdown",
   "id": "b8e11f9c",
   "metadata": {},
   "source": [
    "### <font color=\"red\"> Checking Train Error</font>"
   ]
  },
  {
   "cell_type": "code",
   "execution_count": 14,
   "id": "fa25a557",
   "metadata": {},
   "outputs": [
    {
     "data": {
      "text/plain": [
       "289.3292830531484"
      ]
     },
     "execution_count": 14,
     "metadata": {},
     "output_type": "execute_result"
    }
   ],
   "source": [
    "np.sqrt(mean_squared_error(y_train,y_predicted)) # Finding Train Error (RMSE) which is not validated\n"
   ]
  },
  {
   "cell_type": "code",
   "execution_count": 15,
   "id": "1c610160",
   "metadata": {},
   "outputs": [
    {
     "data": {
      "text/plain": [
       "351.8239478850039"
      ]
     },
     "execution_count": 15,
     "metadata": {},
     "output_type": "execute_result"
    }
   ],
   "source": [
    "# for finding validated RMSE error we should use K fold cross validation method\n",
    "MSE=np.mean(-cross_val_score(model,X_train,y_train,cv=10,scoring=\"neg_mean_squared_error\")) # Validated MSE\n",
    "np.sqrt(MSE) # validated RMSE\n",
    "\n",
    "# The low value of error doesnt mean that every time good,In here as we can see, non-validated value is lower than validated one\n",
    "# but validated one is more true, so we should do whatever we do, according to validated error/s"
   ]
  },
  {
   "cell_type": "markdown",
   "id": "d99c1fae",
   "metadata": {},
   "source": [
    "### <font color=\"red\"> Checking Test Error</font>"
   ]
  },
  {
   "cell_type": "code",
   "execution_count": 16,
   "id": "e546b7a1",
   "metadata": {},
   "outputs": [
    {
     "data": {
      "text/plain": [
       "127485.98233342989"
      ]
     },
     "execution_count": 16,
     "metadata": {},
     "output_type": "execute_result"
    }
   ],
   "source": [
    "# To calculate Test Error, we need to access test set's actual and predicted values\n",
    "y_test_predict=model.predict(X_test)\n",
    "\n",
    "mean_squared_error(y_test,y_test_predict) # TEST MSE ERROR"
   ]
  },
  {
   "cell_type": "code",
   "execution_count": 17,
   "id": "7fb752fa",
   "metadata": {},
   "outputs": [
    {
     "data": {
      "text/plain": [
       "357.0517922282843"
      ]
     },
     "execution_count": 17,
     "metadata": {},
     "output_type": "execute_result"
    }
   ],
   "source": [
    "np.sqrt(mean_squared_error(y_test,y_test_predict))"
   ]
  },
  {
   "cell_type": "markdown",
   "id": "99df09ab",
   "metadata": {},
   "source": [
    "### <font color=\"red\"> Model Tuning</font>"
   ]
  },
  {
   "cell_type": "code",
   "execution_count": 18,
   "id": "32a3dba3",
   "metadata": {},
   "outputs": [
    {
     "data": {
      "text/plain": [
       "356.8082905730238"
      ]
     },
     "execution_count": 18,
     "metadata": {},
     "output_type": "execute_result"
    }
   ],
   "source": [
    "model=Ridge(1).fit(X_train,y_train)\n",
    "y_test_pred=model.predict(X_test)\n",
    "np.sqrt(mean_squared_error(y_test,y_test_pred))\n",
    "\n",
    "# We dont know Lambda value, which gives minimum, we need to tune model by hyperparameters because we need to find it by trying\n",
    "\n",
    "# to find appropriate lambda value"
   ]
  },
  {
   "cell_type": "code",
   "execution_count": 19,
   "id": "86829795",
   "metadata": {},
   "outputs": [],
   "source": [
    "# We try to inscpect our errors, thats why we created different lambda parameters\n",
    "lambda1=np.random.randint(0,1000,100)\n",
    "lambda2=10**np.linspace(10,-2,100)*0.5"
   ]
  },
  {
   "cell_type": "code",
   "execution_count": null,
   "id": "a08e3dea",
   "metadata": {
    "scrolled": false
   },
   "outputs": [],
   "source": [
    "ridgecv_model=RidgeCV(alphas=lambda2,scoring=\"neg_mean_squared_error\",cv=10,normalize=True).fit(X_train,y_train)"
   ]
  },
  {
   "cell_type": "code",
   "execution_count": 21,
   "id": "9596d708",
   "metadata": {},
   "outputs": [
    {
     "data": {
      "text/plain": [
       "0.7599555414764666"
      ]
     },
     "execution_count": 21,
     "metadata": {},
     "output_type": "execute_result"
    }
   ],
   "source": [
    "ridgecv_model.alpha_  # we need to find optimum paramater, this gives us"
   ]
  },
  {
   "cell_type": "code",
   "execution_count": 22,
   "id": "5d58d8bc",
   "metadata": {},
   "outputs": [],
   "source": [
    "#final model\n",
    "tuned_model=Ridge(ridgecv_model.alpha_).fit(X_train,y_train)"
   ]
  },
  {
   "cell_type": "code",
   "execution_count": 23,
   "id": "11535302",
   "metadata": {},
   "outputs": [
    {
     "name": "stdout",
     "output_type": "stream",
     "text": [
      "127347.8496527369\n",
      "356.858304727152\n"
     ]
    }
   ],
   "source": [
    "predicted_tuned_model=tuned_model.predict(X_test)\n",
    "print(mean_squared_error(y_test,predicted_tuned_model)) # MSE\n",
    "print(np.sqrt(mean_squared_error(y_test,predicted_tuned_model))) #R MSE\n",
    "# We found for Lambda2 parameter, lets try for lambda 1 "
   ]
  },
  {
   "cell_type": "code",
   "execution_count": null,
   "id": "a6200162",
   "metadata": {
    "scrolled": true
   },
   "outputs": [],
   "source": [
    "second_ridgecv_model=RidgeCV(alphas=lambda1,scoring=\"neg_mean_squared_error\",cv=10,normalize=True).fit(X_train,y_train)"
   ]
  },
  {
   "cell_type": "code",
   "execution_count": 25,
   "id": "984a9af8",
   "metadata": {},
   "outputs": [
    {
     "data": {
      "text/plain": [
       "6"
      ]
     },
     "execution_count": 25,
     "metadata": {},
     "output_type": "execute_result"
    }
   ],
   "source": [
    "second_ridgecv_model.alpha_"
   ]
  },
  {
   "cell_type": "code",
   "execution_count": 26,
   "id": "6e5e9ea3",
   "metadata": {},
   "outputs": [],
   "source": [
    "second_tuned_model=Ridge(alpha=second_ridgecv_model.alpha_).fit(X_train,y_train)"
   ]
  },
  {
   "cell_type": "code",
   "execution_count": 27,
   "id": "7d75ce85",
   "metadata": {},
   "outputs": [],
   "source": [
    "second_predicted_model=second_tuned_model.predict(X_test)"
   ]
  },
  {
   "cell_type": "code",
   "execution_count": 28,
   "id": "78beea7c",
   "metadata": {},
   "outputs": [
    {
     "name": "stdout",
     "output_type": "stream",
     "text": [
      "126989.32626569158\n",
      "356.3556176990782\n"
     ]
    }
   ],
   "source": [
    "print(mean_squared_error(y_test,second_predicted_model)) # MSE\n",
    "print(np.sqrt(mean_squared_error(y_test,second_predicted_model))) #R MSE\n",
    "# We found for Lambda2 parameter, lets try for lambda 1 "
   ]
  },
  {
   "cell_type": "markdown",
   "id": "0304034d",
   "metadata": {},
   "source": [
    "# <font color=\"orange\"> Lasso Regression </font>\n",
    "\n",
    "->> The aim is that finding coefficients that makes mean squared error minimize by applying penalty.\n",
    "<br>\n",
    "->> The aim is same with <b>Ridge Regression, they are also called as Regularization </b>\n",
    "<br>\n",
    "->> Lasso Regression called as L1 method, Ridge called as L2 method , they called as different methods, its about to different penalty terms\n",
    "<br>\n",
    "<img src=\"./used_images/lasso.png\" width=\"600\" height=\"600\">\n",
    "<br>\n",
    "->> The aim is same, we should find optimum &lambda; variable\n",
    "##### <font color=\"red\"> Specs </font>\n",
    "->> Is is used to eliminate Ridge Regression's disadvantage, the disadvantage is that remains on model relevant or irrelevant variables.\n",
    "<br>\n",
    "->> It makes coefficients close to zero\n",
    "<br>\n",
    "->> When L1 (&lambda;) norm is bigger enough, it makes some coefficients zero. Thus, the varible selection is made.\n",
    "<br>\n",
    "->> The selection of &lambda; is important again, we use Cross-Validation.\n",
    "<br>\n",
    "->> Ridge and Lasso are not superior from each other.\n",
    "<br>\n",
    "<b>\n",
    "<br>\n",
    "->> We are looing a &lambda; value which gives us sum of squared errors minimum.\n",
    "<br>\n",
    "->> The cluster is selected which has certain values, and each of them's cross validation test error is calculated for &lambda;\n",
    "<br>\n",
    "->> The value, which gives most less cross validation is selected as &lambda; parameter.\n",
    "<br>\n",
    "->> Lastly, with selected &lambda; value the model is fitted again to all observations.\n",
    "<br>\n",
    "</b>"
   ]
  },
  {
   "cell_type": "markdown",
   "id": "94b08c37",
   "metadata": {},
   "source": [
    "# <font color=\"orange\"> Lasso Regression Model </font>"
   ]
  },
  {
   "cell_type": "code",
   "execution_count": 8,
   "id": "e07e83f8",
   "metadata": {},
   "outputs": [],
   "source": [
    "import pandas as pd\n",
    "import numpy as np\n",
    "import seaborn as sns\n",
    "import matplotlib.pyplot as plt\n",
    "from sklearn.linear_model import Ridge,RidgeCV,Lasso,LassoCV,LinearRegression\n",
    "from sklearn.model_selection import cross_val_score,train_test_split\n",
    "from sklearn.metrics import mean_squared_error,r2_score\n",
    "from statsmodels.api import OLS"
   ]
  },
  {
   "cell_type": "code",
   "execution_count": 11,
   "id": "8441c145",
   "metadata": {},
   "outputs": [
    {
     "data": {
      "text/html": [
       "<div>\n",
       "<style scoped>\n",
       "    .dataframe tbody tr th:only-of-type {\n",
       "        vertical-align: middle;\n",
       "    }\n",
       "\n",
       "    .dataframe tbody tr th {\n",
       "        vertical-align: top;\n",
       "    }\n",
       "\n",
       "    .dataframe thead th {\n",
       "        text-align: right;\n",
       "    }\n",
       "</style>\n",
       "<table border=\"1\" class=\"dataframe\">\n",
       "  <thead>\n",
       "    <tr style=\"text-align: right;\">\n",
       "      <th></th>\n",
       "      <th>AtBat</th>\n",
       "      <th>Hits</th>\n",
       "      <th>HmRun</th>\n",
       "      <th>Runs</th>\n",
       "      <th>RBI</th>\n",
       "      <th>Walks</th>\n",
       "      <th>Years</th>\n",
       "      <th>CAtBat</th>\n",
       "      <th>CHits</th>\n",
       "      <th>CHmRun</th>\n",
       "      <th>CRuns</th>\n",
       "      <th>CRBI</th>\n",
       "      <th>CWalks</th>\n",
       "      <th>League</th>\n",
       "      <th>Division</th>\n",
       "      <th>PutOuts</th>\n",
       "      <th>Assists</th>\n",
       "      <th>Errors</th>\n",
       "      <th>Salary</th>\n",
       "      <th>NewLeague</th>\n",
       "    </tr>\n",
       "  </thead>\n",
       "  <tbody>\n",
       "    <tr>\n",
       "      <th>1</th>\n",
       "      <td>315</td>\n",
       "      <td>81</td>\n",
       "      <td>7</td>\n",
       "      <td>24</td>\n",
       "      <td>38</td>\n",
       "      <td>39</td>\n",
       "      <td>14</td>\n",
       "      <td>3449</td>\n",
       "      <td>835</td>\n",
       "      <td>69</td>\n",
       "      <td>321</td>\n",
       "      <td>414</td>\n",
       "      <td>375</td>\n",
       "      <td>N</td>\n",
       "      <td>W</td>\n",
       "      <td>632</td>\n",
       "      <td>43</td>\n",
       "      <td>10</td>\n",
       "      <td>475.0</td>\n",
       "      <td>N</td>\n",
       "    </tr>\n",
       "    <tr>\n",
       "      <th>2</th>\n",
       "      <td>479</td>\n",
       "      <td>130</td>\n",
       "      <td>18</td>\n",
       "      <td>66</td>\n",
       "      <td>72</td>\n",
       "      <td>76</td>\n",
       "      <td>3</td>\n",
       "      <td>1624</td>\n",
       "      <td>457</td>\n",
       "      <td>63</td>\n",
       "      <td>224</td>\n",
       "      <td>266</td>\n",
       "      <td>263</td>\n",
       "      <td>A</td>\n",
       "      <td>W</td>\n",
       "      <td>880</td>\n",
       "      <td>82</td>\n",
       "      <td>14</td>\n",
       "      <td>480.0</td>\n",
       "      <td>A</td>\n",
       "    </tr>\n",
       "    <tr>\n",
       "      <th>3</th>\n",
       "      <td>496</td>\n",
       "      <td>141</td>\n",
       "      <td>20</td>\n",
       "      <td>65</td>\n",
       "      <td>78</td>\n",
       "      <td>37</td>\n",
       "      <td>11</td>\n",
       "      <td>5628</td>\n",
       "      <td>1575</td>\n",
       "      <td>225</td>\n",
       "      <td>828</td>\n",
       "      <td>838</td>\n",
       "      <td>354</td>\n",
       "      <td>N</td>\n",
       "      <td>E</td>\n",
       "      <td>200</td>\n",
       "      <td>11</td>\n",
       "      <td>3</td>\n",
       "      <td>500.0</td>\n",
       "      <td>N</td>\n",
       "    </tr>\n",
       "    <tr>\n",
       "      <th>4</th>\n",
       "      <td>321</td>\n",
       "      <td>87</td>\n",
       "      <td>10</td>\n",
       "      <td>39</td>\n",
       "      <td>42</td>\n",
       "      <td>30</td>\n",
       "      <td>2</td>\n",
       "      <td>396</td>\n",
       "      <td>101</td>\n",
       "      <td>12</td>\n",
       "      <td>48</td>\n",
       "      <td>46</td>\n",
       "      <td>33</td>\n",
       "      <td>N</td>\n",
       "      <td>E</td>\n",
       "      <td>805</td>\n",
       "      <td>40</td>\n",
       "      <td>4</td>\n",
       "      <td>91.5</td>\n",
       "      <td>N</td>\n",
       "    </tr>\n",
       "    <tr>\n",
       "      <th>5</th>\n",
       "      <td>594</td>\n",
       "      <td>169</td>\n",
       "      <td>4</td>\n",
       "      <td>74</td>\n",
       "      <td>51</td>\n",
       "      <td>35</td>\n",
       "      <td>11</td>\n",
       "      <td>4408</td>\n",
       "      <td>1133</td>\n",
       "      <td>19</td>\n",
       "      <td>501</td>\n",
       "      <td>336</td>\n",
       "      <td>194</td>\n",
       "      <td>A</td>\n",
       "      <td>W</td>\n",
       "      <td>282</td>\n",
       "      <td>421</td>\n",
       "      <td>25</td>\n",
       "      <td>750.0</td>\n",
       "      <td>A</td>\n",
       "    </tr>\n",
       "  </tbody>\n",
       "</table>\n",
       "</div>"
      ],
      "text/plain": [
       "   AtBat  Hits  HmRun  Runs  RBI  Walks  Years  CAtBat  CHits  CHmRun  CRuns  \\\n",
       "1    315    81      7    24   38     39     14    3449    835      69    321   \n",
       "2    479   130     18    66   72     76      3    1624    457      63    224   \n",
       "3    496   141     20    65   78     37     11    5628   1575     225    828   \n",
       "4    321    87     10    39   42     30      2     396    101      12     48   \n",
       "5    594   169      4    74   51     35     11    4408   1133      19    501   \n",
       "\n",
       "   CRBI  CWalks League Division  PutOuts  Assists  Errors  Salary NewLeague  \n",
       "1   414     375      N        W      632       43      10   475.0         N  \n",
       "2   266     263      A        W      880       82      14   480.0         A  \n",
       "3   838     354      N        E      200       11       3   500.0         N  \n",
       "4    46      33      N        E      805       40       4    91.5         N  \n",
       "5   336     194      A        W      282      421      25   750.0         A  "
      ]
     },
     "execution_count": 11,
     "metadata": {},
     "output_type": "execute_result"
    }
   ],
   "source": [
    "df=pd.read_csv(\"./csv_files/Hitters.csv\")\n",
    "df.dropna(inplace=True)\n",
    "df.head()"
   ]
  },
  {
   "cell_type": "code",
   "execution_count": 12,
   "id": "e7f28d0e",
   "metadata": {},
   "outputs": [],
   "source": [
    "dms=pd.get_dummies(df[[\"League\",\"Division\",\"NewLeague\"]])"
   ]
  },
  {
   "cell_type": "code",
   "execution_count": 15,
   "id": "d16bc050",
   "metadata": {},
   "outputs": [],
   "source": [
    "y=df[[\"Salary\"]]\n",
    "X_=df.drop(columns=[\"League\",\"Division\",\"NewLeague\",\"Salary\"],axis=1).astype(\"float64\")\n",
    "X=pd.concat([X_,dms[[\"League_N\",\"Division_W\",\"NewLeague_N\"]]],axis=1)"
   ]
  },
  {
   "cell_type": "code",
   "execution_count": 16,
   "id": "0b1c88bd",
   "metadata": {},
   "outputs": [],
   "source": [
    "X_train,X_test,y_train,y_test= train_test_split(X,y,test_size=0.25,random_state=42)"
   ]
  },
  {
   "cell_type": "code",
   "execution_count": 17,
   "id": "2e0c5d8a",
   "metadata": {},
   "outputs": [
    {
     "name": "stderr",
     "output_type": "stream",
     "text": [
      "C:\\ProgramData\\Anaconda3\\lib\\site-packages\\sklearn\\linear_model\\_coordinate_descent.py:647: ConvergenceWarning: Objective did not converge. You might want to increase the number of iterations, check the scale of the features or consider increasing regularisation. Duality gap: 8.257e+06, tolerance: 3.899e+03\n",
      "  model = cd_fast.enet_coordinate_descent(\n"
     ]
    }
   ],
   "source": [
    "first_model=Lasso().fit(X_train,y_train)"
   ]
  },
  {
   "cell_type": "code",
   "execution_count": 20,
   "id": "8e159505",
   "metadata": {},
   "outputs": [
    {
     "name": "stdout",
     "output_type": "stream",
     "text": [
      "[-5.58745068]\n",
      "[-1.74875691e+00  8.59204135e+00  6.67993798e+00 -3.06715333e+00\n",
      " -1.91843070e+00  5.32372890e+00  8.39184117e+00 -1.63172447e-01\n",
      " -8.22311277e-02 -3.93602861e-01  1.71118530e+00  6.55730545e-01\n",
      " -6.48379405e-01  2.59815358e-01  2.73041157e-01 -4.41440454e-01\n",
      "  8.54474011e+01 -9.59701213e+01 -2.13086605e+01]\n"
     ]
    }
   ],
   "source": [
    "# These are values that are created for default alpha value\n",
    "print(first_model.intercept_)\n",
    "print(first_model.coef_)"
   ]
  },
  {
   "cell_type": "code",
   "execution_count": 57,
   "id": "58c819af",
   "metadata": {
    "scrolled": true
   },
   "outputs": [],
   "source": [
    "lambdas=np.random.randint(1,100000,100) # we wrote for different lambda variables\n",
    "lambdas2=10**np.linspace(10,-2,100)*0.5\n",
    "lasso=Lasso()\n",
    "coefs=[]\n",
    "for i in lambdas2:\n",
    "    lasso.set_params(alpha=i,max_iter=100000)\n",
    "    lasso.fit(X_train,y_train)\n",
    "    coefs.append(lasso.coef_)"
   ]
  },
  {
   "cell_type": "code",
   "execution_count": 36,
   "id": "f0424fa7",
   "metadata": {},
   "outputs": [
    {
     "data": {
      "image/png": "[encoded data removed]",
      "text/plain": [
       "<Figure size 432x288 with 1 Axes>"
      ]
     },
     "metadata": {
      "needs_background": "light"
     },
     "output_type": "display_data"
    }
   ],
   "source": [
    "ax=plt.gca()\n",
    "ax.plot(lambdas2,coefs)\n",
    "ax.set_xscale(\"log\")\n",
    "# As we can see, when parameter value (lambda) is increased, beta values (coefs) are getting close to 0 or 0"
   ]
  },
  {
   "cell_type": "markdown",
   "id": "445287b4",
   "metadata": {},
   "source": [
    "### <font color=\"red\"> Lasso Regression Prediction</font>"
   ]
  },
  {
   "cell_type": "code",
   "execution_count": 46,
   "id": "aafc683e",
   "metadata": {},
   "outputs": [],
   "source": [
    "y_predicted=first_model.predict(X_test)"
   ]
  },
  {
   "cell_type": "code",
   "execution_count": 47,
   "id": "0643a80b",
   "metadata": {},
   "outputs": [
    {
     "data": {
      "text/plain": [
       "356.09758845540347"
      ]
     },
     "execution_count": 47,
     "metadata": {},
     "output_type": "execute_result"
    }
   ],
   "source": [
    "np.sqrt(mean_squared_error(y_test,y_predicted)) # RMSE for TEST ERROR"
   ]
  },
  {
   "cell_type": "code",
   "execution_count": 50,
   "id": "a3385ec7",
   "metadata": {},
   "outputs": [
    {
     "data": {
      "text/plain": [
       "0.41422798132366134"
      ]
     },
     "execution_count": 50,
     "metadata": {},
     "output_type": "execute_result"
    }
   ],
   "source": [
    "r2_score(y_test,y_predicted)\n"
   ]
  },
  {
   "cell_type": "markdown",
   "id": "e2809b20",
   "metadata": {},
   "source": [
    "### <font color=\"red\"> Lasso Regression Model Tuning</font>"
   ]
  },
  {
   "cell_type": "code",
   "execution_count": 62,
   "id": "0298bd42",
   "metadata": {},
   "outputs": [
    {
     "name": "stderr",
     "output_type": "stream",
     "text": [
      "C:\\ProgramData\\Anaconda3\\lib\\site-packages\\sklearn\\linear_model\\_coordinate_descent.py:1571: DataConversionWarning: A column-vector y was passed when a 1d array was expected. Please change the shape of y to (n_samples, ), for example using ravel().\n",
      "  y = column_or_1d(y, warn=True)\n"
     ]
    }
   ],
   "source": [
    "example=LassoCV(cv=10,max_iter=100000).fit(X_train,y_train)\n",
    "ex_tuned=Lasso().set_params(alpha=example.alpha_).fit(X_train,y_train)\n",
    "ex_predicted=ex_tuned.predict(X_test)"
   ]
  },
  {
   "cell_type": "code",
   "execution_count": 64,
   "id": "28314fb9",
   "metadata": {},
   "outputs": [
    {
     "data": {
      "text/plain": [
       "373.5957225069794"
      ]
     },
     "execution_count": 64,
     "metadata": {},
     "output_type": "execute_result"
    }
   ],
   "source": [
    "np.sqrt(mean_squared_error(y_test,ex_predicted)) # This rsult without alpha values"
   ]
  },
  {
   "cell_type": "code",
   "execution_count": 68,
   "id": "6fc08927",
   "metadata": {},
   "outputs": [
    {
     "name": "stderr",
     "output_type": "stream",
     "text": [
      "C:\\ProgramData\\Anaconda3\\lib\\site-packages\\sklearn\\linear_model\\_coordinate_descent.py:1571: DataConversionWarning: A column-vector y was passed when a 1d array was expected. Please change the shape of y to (n_samples, ), for example using ravel().\n",
      "  y = column_or_1d(y, warn=True)\n"
     ]
    },
    {
     "name": "stdout",
     "output_type": "stream",
     "text": [
      "363.68933685229706\n"
     ]
    },
    {
     "name": "stderr",
     "output_type": "stream",
     "text": [
      "C:\\ProgramData\\Anaconda3\\lib\\site-packages\\sklearn\\linear_model\\_coordinate_descent.py:1571: DataConversionWarning: A column-vector y was passed when a 1d array was expected. Please change the shape of y to (n_samples, ), for example using ravel().\n",
      "  y = column_or_1d(y, warn=True)\n"
     ]
    },
    {
     "name": "stdout",
     "output_type": "stream",
     "text": [
      "363.6832708037447\n"
     ]
    }
   ],
   "source": [
    "# ridgecv obj\n",
    "# tuned model\n",
    "# predict\n",
    "\n",
    "lambda1=np.random.randint(0,1000,100)\n",
    "lambda2=10**np.linspace(10,-2,100)*0.5\n",
    "\n",
    "# For lambda 1\n",
    "lassocv_obj=LassoCV(alphas=lambda1,cv=10,max_iter=100000).fit(X_train,y_train)\n",
    "tuned_lasso=Lasso(alpha=lassocv_obj.alpha_).fit(X_train,y_train)\n",
    "lasso_predicted=tuned_lasso.predict(X_test)\n",
    "print(np.sqrt(mean_squared_error(y_test,lasso_predicted))) # RMSE FOR LAMDA 1 VALUES , TEST ERROR\n",
    "\n",
    "#########################\n",
    "\n",
    "# For lambda 2\n",
    "lassocv_obj=LassoCV(alphas=lambda2,cv=10,max_iter=100000).fit(X_train,y_train)\n",
    "tuned_model=Lasso(alpha=lassocv_obj.alpha_).fit(X_train,y_train)\n",
    "lasso_predicted=tuned_model.predict(X_test)\n",
    "print(np.sqrt(mean_squared_error(y_test,lasso_predicted))) # RMSE FOR LAMDA 2 VALUES, TEST ERROR"
   ]
  },
  {
   "cell_type": "code",
   "execution_count": 69,
   "id": "d303911d",
   "metadata": {},
   "outputs": [
    {
     "data": {
      "text/plain": [
       "AtBat         -1.052276\n",
       "Hits           5.342648\n",
       "HmRun          0.000000\n",
       "Runs           0.000000\n",
       "RBI            0.000000\n",
       "Walks          2.640006\n",
       "Years          0.000000\n",
       "CAtBat        -0.174125\n",
       "CHits          0.249805\n",
       "CHmRun        -0.000000\n",
       "CRuns          1.035075\n",
       "CRBI           0.469281\n",
       "CWalks        -0.186771\n",
       "PutOuts        0.272541\n",
       "Assists        0.170528\n",
       "Errors        -0.000000\n",
       "League_N       0.000000\n",
       "Division_W    -0.000000\n",
       "NewLeague_N    0.000000\n",
       "dtype: float64"
      ]
     },
     "execution_count": 69,
     "metadata": {},
     "output_type": "execute_result"
    }
   ],
   "source": [
    "pd.Series(tuned_model.coef_, index=X_train.columns)\n",
    "\n",
    "# Zeros are irrelevant values"
   ]
  },
  {
   "cell_type": "code",
   "execution_count": 2,
   "id": "c9234a9f",
   "metadata": {},
   "outputs": [],
   "source": [
    "import pandas as pd\n",
    "import numpy as np\n",
    "import seaborn as sns\n",
    "import matplotlib.pyplot as plt\n",
    "from sklearn.linear_model import ElasticNet,ElasticNetCV,Ridge,RidgeCV,Lasso,LassoCV\n",
    "from sklearn.metrics import r2_score, mean_squared_error\n",
    "from sklearn.model_selection import train_test_split,cross_val_score\n",
    "from sklearn import model_selection\n",
    "from statsmodels.api import OLS"
   ]
  },
  {
   "cell_type": "markdown",
   "id": "cc8abec5",
   "metadata": {},
   "source": [
    "# <font color=\"orange\"> ElasticNet Regression </font>\n",
    "<br>\n",
    "->> The aim is that finding coefficients by penalty coefficients which make sum of error square minimize.\n",
    "<br>\n",
    "->> ElasticNet merges L1 (Lasso) and L2 (Ridge) approaches \n",
    "<br>\n",
    "->> ElasticNet does more effective normalization, does penalty like ridge, select variables like lasso.\n",
    "<img src=\"./used_images/elasticnet.png\" width=\"600\" height=\"600\">\n",
    "<br>\n",
    "->><b> &lambda;1 , and &lambda;2 variables is reducted to \"one &lambda; variable\"</b>\n",
    "<br>\n",
    "\n",
    "### <font color=\"red\"> ElasticNet Model and Prediction </font>"
   ]
  },
  {
   "cell_type": "code",
   "execution_count": 6,
   "id": "daf3c7c0",
   "metadata": {},
   "outputs": [],
   "source": [
    "df=pd.read_csv(\"./csv_files/Hitters.csv\")\n",
    "df.dropna(inplace=True)\n",
    "dms=pd.get_dummies(df[[\"League\",\"Division\",\"NewLeague\"]])\n",
    "y=df[[\"Salary\"]]\n",
    "X_=df.drop(columns=[\"Salary\",\"League\",\"Division\",\"NewLeague\"],axis=1).astype(\"float64\")\n",
    "X=pd.concat([X_,dms[[\"League_N\",\"Division_W\",\"NewLeague_N\"]]],axis=1)\n",
    "X_train, X_test, y_train, y_test = train_test_split(X,y,test_size=0.25,random_state=27)"
   ]
  },
  {
   "cell_type": "code",
   "execution_count": 8,
   "id": "a6efc602",
   "metadata": {},
   "outputs": [
    {
     "name": "stderr",
     "output_type": "stream",
     "text": [
      "C:\\ProgramData\\Anaconda3\\lib\\site-packages\\sklearn\\linear_model\\_coordinate_descent.py:647: ConvergenceWarning: Objective did not converge. You might want to increase the number of iterations, check the scale of the features or consider increasing regularisation. Duality gap: 9.166e+06, tolerance: 3.842e+03\n",
      "  model = cd_fast.enet_coordinate_descent(\n"
     ]
    }
   ],
   "source": [
    "elasticnet_model=ElasticNet().fit(X_train,y_train)"
   ]
  },
  {
   "cell_type": "code",
   "execution_count": 11,
   "id": "5ca80630",
   "metadata": {},
   "outputs": [
    {
     "name": "stdout",
     "output_type": "stream",
     "text": [
      "[-2.42263046e+00  9.13925681e+00  1.98893613e+00 -3.45393862e+00\n",
      " -3.25986886e-02  6.66970061e+00 -1.31092900e+00 -1.40413852e-01\n",
      " -5.10226618e-03 -8.34697430e-01  1.39990568e+00  9.42508808e-01\n",
      " -7.45915131e-01  2.64604463e-01  5.59220790e-01 -5.90963048e+00\n",
      "  8.10403005e+00 -3.01478611e+01  6.92388633e+00]\n",
      "[144.75862981]\n"
     ]
    }
   ],
   "source": [
    "print(elasticnet_model.coef_)\n",
    "print(elasticnet_model.intercept_)"
   ]
  },
  {
   "cell_type": "code",
   "execution_count": 31,
   "id": "239d2c5d",
   "metadata": {},
   "outputs": [
    {
     "data": {
      "text/plain": [
       "array([ 444.38589217,  762.53236549,  613.88913929, 1067.92590459,\n",
       "        424.23299852, 1028.33474332,  238.43563689,  251.93971097,\n",
       "        491.95067285,  732.56699017])"
      ]
     },
     "execution_count": 31,
     "metadata": {},
     "output_type": "execute_result"
    }
   ],
   "source": [
    "elasticnet_model.predict(X_train)[0:10]\n"
   ]
  },
  {
   "cell_type": "code",
   "execution_count": 32,
   "id": "a6a9da3b",
   "metadata": {},
   "outputs": [
    {
     "data": {
      "text/plain": [
       "array([974.66879659, 952.33740734, 634.4285159 , 316.38594442,\n",
       "       457.49313988, 279.2429225 , 487.76470053, 509.09753859,\n",
       "       780.82423858, 236.93219705])"
      ]
     },
     "execution_count": 32,
     "metadata": {},
     "output_type": "execute_result"
    }
   ],
   "source": [
    "predicted=elasticnet_model.predict(X_test)\n",
    "predicted[0:10]"
   ]
  },
  {
   "cell_type": "code",
   "execution_count": 37,
   "id": "9a8f3731",
   "metadata": {},
   "outputs": [
    {
     "name": "stdout",
     "output_type": "stream",
     "text": [
      "RMSE : 326.38\n",
      "R2 score: 0.52\n"
     ]
    }
   ],
   "source": [
    "mse=mean_squared_error(y_test,predicted)\n",
    "print(\"RMSE : {:.2f}\".format(np.sqrt(mse)))\n",
    "print(\"R2 score: {:.2f}\".format(r2_score(y_test,predicted)))"
   ]
  },
  {
   "cell_type": "markdown",
   "id": "88153e2d",
   "metadata": {},
   "source": [
    "### <font color=\"red\"> ElasticNet Model Tuning </font>"
   ]
  },
  {
   "cell_type": "code",
   "execution_count": 48,
   "id": "48158321",
   "metadata": {
    "scrolled": true
   },
   "outputs": [],
   "source": [
    "lambda1=100**np.linspace(10,-2,100)*0.5"
   ]
  },
  {
   "cell_type": "code",
   "execution_count": 54,
   "id": "e1e978af",
   "metadata": {},
   "outputs": [
    {
     "name": "stderr",
     "output_type": "stream",
     "text": [
      "C:\\ProgramData\\Anaconda3\\lib\\site-packages\\sklearn\\linear_model\\_coordinate_descent.py:1571: DataConversionWarning: A column-vector y was passed when a 1d array was expected. Please change the shape of y to (n_samples, ), for example using ravel().\n",
      "  y = column_or_1d(y, warn=True)\n"
     ]
    },
    {
     "data": {
      "text/plain": [
       "355.5648767775567"
      ]
     },
     "execution_count": 54,
     "metadata": {},
     "output_type": "execute_result"
    }
   ],
   "source": [
    "enet_cv_model=ElasticNetCV(alphas=lambda1,cv=10,max_iter=100000).fit(X_train,y_train) \n",
    "enet_cv_model.alpha_ # lambda\n",
    "enet_cv_model.coef_ # betas \n",
    "#final model\n",
    "tuned_model=ElasticNet(alpha=enet_cv_model.alpha_,max_iter=100000).fit(X_train,y_train)\n",
    "tuned_predicted=tuned_model.predict(X_test)\n",
    "np.sqrt(mean_squared_error(y_test,tuned_predicted)) # RMSE TEST ERROR"
   ]
  },
  {
   "cell_type": "code",
   "execution_count": 47,
   "id": "60eef19e",
   "metadata": {},
   "outputs": [],
   "source": [
    "?ElasticNet"
   ]
  },
  {
   "cell_type": "code",
   "execution_count": null,
   "id": "e87980d3",
   "metadata": {},
   "outputs": [],
   "source": []
  }
 ],
 "metadata": {
  "kernelspec": {
   "display_name": "Python 3 (ipykernel)",
   "language": "python",
   "name": "python3"
  },
  "language_info": {
   "codemirror_mode": {
    "name": "ipython",
    "version": 3
   },
   "file_extension": ".py",
   "mimetype": "text/x-python",
   "name": "python",
   "nbconvert_exporter": "python",
   "pygments_lexer": "ipython3",
   "version": "3.9.12"
  }
 },
 "nbformat": 4,
 "nbformat_minor": 5
}
