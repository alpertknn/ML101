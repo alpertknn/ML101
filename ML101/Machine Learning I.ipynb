{
 "cells": [
  {
   "cell_type": "markdown",
   "id": "b6d743c7",
   "metadata": {},
   "source": [
    "# <font color=\"red\">Machine Learning</font>\n",
    "####  <font color=\"black\">->> Machine Learning is a scientific area that develops vary algorithms and techniques to provide computers learning like humans.</font>\n",
    "### <font color=\"orange\">Lets assume that a user wants to know his car's price. By machine learning, we need to set a model for finding a value. So we can say;</font>\n",
    "\n",
    "  <ul>\n",
    "      <li>For finding or predicting the car's price, we can think as setting a relation or we can state a model or linear\n",
    "        relationship\n",
    "      </li>\n",
    "      <li>Theoritically relationship;\n",
    "        Yi= &beta;0 + &beta;1Xi1 + &beta;2Xi2 +....+ &beta;jXij+&epsilon;i\n",
    "      </li>\n",
    "      <li>\n",
    "          Yi => Price\n",
    "      </li>\n",
    "      <li>\n",
    "          &beta; => Car Specs\n",
    "      </li>\n",
    "      <li>\n",
    "          X => kilometer, model, gear type, etc..\n",
    "      </li>\n",
    "  </ul>\n",
    "<font color=\"black\">By this therotical func. we can predict a value for a user who wants to find his car's price or value</font>  \n",
    "<ul>\n",
    "    <li>\n",
    "        <font color=\"black\">Our main aim is that creating a model like above with datas which are gathered from related dataset</font>\n",
    "    </li>\n",
    "</ul>\n",
    "\n",
    "\n",
    "      "
   ]
  },
  {
   "cell_type": "markdown",
   "id": "243daf71",
   "metadata": {},
   "source": [
    " # <font color=\"red\">Machine Learning Concepts</font>\n",
    " \n",
    "#### <font color=\"Orange\">->> Dependent & Independent Variables</font>\n",
    "  <ul>\n",
    "    <li>\n",
    "      <b>Dependent Variable</b> is an aimed main variable for predicting on a machine learning problem\n",
    "    </li>\n",
    "    <li>\n",
    "      The variables which generated Dependent Variables are <b>Independent Variables</b>\n",
    "    </li>\n",
    "    <li>\n",
    "     <b>Example</b> --> Car price is dependent, gear type model and year independent\n",
    "     </li>\n",
    "     <li>\n",
    "      Our main aim is that predicting the y dependent value by using x independent values\n",
    "      </li>\n",
    "   </ul>\n",
    "   \n",
    "####   <font color=\"Orange\">->> Learning Types </font>\n",
    "   <ul>\n",
    "      <li>\n",
    "       <b>Supervised</b> -> Independent and Dependent Variables are together\n",
    "      </li>\n",
    "      <li>\n",
    "       <b>Unsupervised</b> -> Only Independent Variables are exist, The main aim is that gathering observations together by their common specs\n",
    "      </li>\n",
    "      <li>\n",
    "       <b>Reinforcement</b>   \n",
    "      </li>\n",
    "      <li>\n",
    "       <b>Semi-Supervised</b>    \n",
    "      </li>\n",
    "   </ul>\n",
    "   \n",
    "#### <font color=\"Orange\">->> Types of Problems </font>\n",
    "   <ul>\n",
    "      <li>\n",
    "       <b>Regression</b>\n",
    "        <ul>\n",
    "            <li>\n",
    "                If our dependent variable is categorical, this is a classification problem. Sometimes it can be transormed to 0-1 form\n",
    "            </li>\n",
    "            <li>\n",
    "                If our dependent variable is numeric or continuous, we can say it's a regression problem.\n",
    "            </li>\n",
    "          </ul>\n",
    "      </li>\n",
    "   </ul>\n",
    "   \n",
    "##### <font color=\"Orange\">->> Test-Train </font>\n",
    "   <ul>\n",
    "    <li>\n",
    "        We split dataset into two separate sets as <b>Train (%80) and Test (%20).</b>\n",
    "    </li>\n",
    "    <li>\n",
    "     <b>Variable Selection</b> -> For modelling we can select few independent values to predicting dependent value.\n",
    "        <ul>\n",
    "            <li>\n",
    "                The main aim is that using less resource and maximum performance.\n",
    "            </li>\n",
    "        </ul>\n",
    "    </li>\n",
    "    <li>\n",
    "        <b>Model Selection</b>:\n",
    "        <ul>\n",
    "            <li>\n",
    "                Selection of best model inside of created models which are created potential by different variable combinations \n",
    "            </li>\n",
    "            <li>\n",
    "                Model selection among the different models created\n",
    "            </li>\n",
    "        </ul>\n",
    "    </li>\n",
    "    <li>\n",
    "        <b>How can we select model?</b>\n",
    "        <ul>\n",
    "            <li>\n",
    "                <b>Explainability rate or RMSE (Root Mean Square Error) value for Regression</b>\n",
    "            </li>\n",
    "            <li>\n",
    "                True Classification rate value for <b>Classification</b>\n",
    "            </li>\n",
    "        </ul>\n",
    "    </li>\n",
    "   </ul>\n",
    "   \n",
    " ##### <font color=\"Orange\">->> Test-Train </font>\n",
    "   <ul>\n",
    "    <li>\n",
    "        <b>Overfitting</b>\n",
    "        <ul>\n",
    "            <li>\n",
    "             Overfitting refers to a model that models the training data too well. Overfitting happens when a model learns the detail and noise in the training data to the extent that it negatively impacts the performance of the model on new data. \n",
    "            </li>\n",
    "        </ul>\n",
    "    </li>\n",
    "    <li>\n",
    "        <b>Deterministic and Stochastic Models</b>\n",
    "        <ul>\n",
    "            <li>\n",
    "                <b>Deterministic models</b> has certain relationship between variables. An example, y=2.5x. If we know x, we can find y, this and similar processes which has certain results are called as deterministic models.\n",
    "            </li>\n",
    "            <li>\n",
    "                <b>Stochastic models</b> also called as probabilistic models, they dont have a certain result, there can be always random error, so the model can be thought like -> y=2.5x + random error\n",
    "            </li>\n",
    "        </ul>\n",
    "    </li>\n",
    "    <li>\n",
    "       <b>Linear and Non-Linear Models</b>\n",
    "    <ul>\n",
    "        <li>\n",
    "            Mathematical Linearity and Non-Linearity\n",
    "        </li>\n",
    "    </ul>\n",
    "    </li>\n",
    "   </ul>\n",
    "   \n",
    "  ##### <font color=\"Orange\">->> Model Validation Methods </font>\n",
    "  <ul>\n",
    "    <li>\n",
    "        <b>Model Creating</b> -> Modelization of relations between dependent and independent variables \n",
    "    </li>\n",
    "    <li>\n",
    "        Evaluation of Categorical and Numerical Variables\n",
    "    </li>\n",
    "    <li>\n",
    "        Model validation determines whether the trained model is trustworthy.\n",
    "    </li>\n",
    "    <li> <b>Holdout Method</b>\n",
    "        <ul>\n",
    "            <li>\n",
    "                Splitting data set into Train and Test, Train takes %80 of data, Test takes %20.Then we train the data by using train dataset and then we evaluate by using test set\n",
    "            </li>\n",
    "        </ul>\n",
    "    </li>\n",
    "    <li> <b>K Fold Cross Validation (Most Used Method) </b>\n",
    "        <ul>\n",
    "            <li>\n",
    "                We split data as <b>%80 Train and %20 Test</b>, then we do this method <b>(validation)</b> onto <b>Train Dataset</b>. For validation we take some parts from dataset like amount of k, 10 or 5 depends on dataset. For example, lets assume we take 5, we take one of 5 and the selected one keeps out. After that, the model is created by using remaining values, which is 4 in this example, then model is tested by using taken value. This process implements for other values,too. It continues until k amount of selected values are finished. \n",
    "            </li>\n",
    "            <li>\n",
    "                After this process, the average of errors are taken <b>(Validation or Training Error)</b>. Then we test our datset by using our actual test dataset for a last time. \n",
    "            </li>\n",
    "        </ul>\n",
    "    </li>\n",
    "    <li>\n",
    "        <b>Leave One Out</b>\n",
    "        <ul>\n",
    "            <li>\n",
    "                Leave One Out is a special case of K Cross Validation Method where number of folds equals to number of instances in dataset, we leave one of them as a test side. Thus, if we have 1000 sample, 999 for training, 1 one testing.\n",
    "            </li>\n",
    "            <li>\n",
    "                As a disadvantege, If we have larger dataset, it can become an unreasonable situation to implementing this validation method because it can take too much energy and time.\n",
    "            </li>\n",
    "        </ul>\n",
    "    </li>\n",
    "    <li><b>Bootstrap</b>\n",
    "        <ul>\n",
    "            <li>\n",
    "                In this validation method, bootstrap instances are created. Created instances are less than actual dataset's size. Then model is created above this method, taken average of Train and Test evaluates.\n",
    "            </li>\n",
    "        </ul>\n",
    "    </li>\n",
    "  </ul>\n",
    " \n",
    "##### <font color=\"Orange\">->> Evaluation of Prediction Success of Models </font>\n",
    "\n",
    "<li><b>Success Evaluation of Regression Models</b>\n",
    "    <ul>\n",
    "        <li>\n",
    "            <b>Mean Squared Error</b> ->  (MSE) measures the average of the squares of the errors—that is, the average squared difference between the estimated values and the actual value. <img src=\"./used_images/1.jpg\" width=\"350\" height=\"450\">\n",
    "        </li>\n",
    "        <li>\n",
    "            <b>Root Mean Squared Error</b> -> (RMSE) is a frequently used measure of the differences between values (sample or population values) predicted by a model or an estimator and the values observed. <img src=\"./used_images/2.png\" width=\"350\" height=\"350\">\n",
    "        </li>\n",
    "        <li>\n",
    "            <b>Mean Absolute Error</b> -> (MAE) is a measure of errors between paired observations expressing the same phenomenon.<img src=\"./used_images/3.png\" width=\"350\" height=\"350\">\n",
    "        </li>\n",
    "    </ul>\n",
    "</li>\n",
    "\n",
    "  ##### <font color=\"Orange\">->> Success Evaluation for Classification Models </font>\n",
    "  <li>Classification is a supervised learning approach in which a target variable is discrete (or categorical).\n",
    "      <ul>\n",
    "        <li> <b>Classification Accuracy</b> -> Classification accuracy shows how many of the predictions are correct. <img src=\"./used_images/4.png\" width=\"350\" height=\"350\">\n",
    "        </li>\n",
    "          <li>\n",
    "              <b>Confusion matrix</b> -> A confusion matrix is not a metric to evaluate a model, but it provides insight into the predictions. <img src=\"./used_images/5.png\" width=\"350\" height=\"350\">\n",
    "              <img src=\"./used_images/6.png\" width=\"550\" height=\"550\">\n",
    "              <img src=\"./used_images/7.png\" width=\"550\" height=\"550\">\n",
    "          </li>\n",
    "           <li>\n",
    "               <b>ROC Curve</b>\n",
    "               <ul>\n",
    "                   <li>\n",
    "                       ROC Graphic shows us the <b> the rate of True Positive Rate and False Positive Rate</b>, shows us the performance of a classification model. \n",
    "                   </li>\n",
    "                   <li>\n",
    "                       <b>If Area Under Curve (AUC)</b> is big, it means, the model has high prediction success rate, if it is not big, it means the model has low prediction success rate. Consequently, If the curve close to dashed line, it means lower success rate, if not, high success rate.\n",
    "                   </li>\n",
    "                   <li>\n",
    "                       The dashed line shows the success rate when we dont use model. Can be thought as, if we give 0 and 1 to all values, it means there will be %50 success and %50 fail rate.\n",
    "                   </li>\n",
    "                   <li>\n",
    "                       Our main aim is that creating a model which has greater area in this ROC Graph\n",
    "                   </li>\n",
    "                   <img src=\"./used_images/9.png\" width=\"300\" height=\"300\">\n",
    "               </ul>\n",
    "          </li>\n",
    "       </ul>\n",
    "   </li>\n",
    "   \n",
    "   ##### <font color=\"Orange\">->> Bias-Variance Tradeoff </font>\n",
    "   <li>\n",
    "    Our aim is evaluating more accurately of model predictions.\n",
    "    <ul>\n",
    "        <li>\n",
    "            <b>Training Error is an error acquired over dataset  that used for creating models </b>\n",
    "        </li>\n",
    "        <li>\n",
    "            <b>Test Error is an consisted error for used dataset which is used for testing of created model.</b>\n",
    "        </li>\n",
    "        <li>\n",
    "            <b>Training and Test Errors are dependent to each other. </b>\n",
    "        </li>\n",
    "        <img src=\"./used_images/10.png\" width=\"600\" height=\"600\">\n",
    "        <li>\n",
    "            <b>The flexibility of a model can be described as how much is model's behavior influenced by characteristics of the data.</b>\n",
    "        </li>\n",
    "        <li>\n",
    "            Bias states the difference between real and predicted values.\n",
    "        </li>\n",
    "        <li>\n",
    "            <b>Variance means variability. It refers to the changes in the model when using different portions of the training data set</b>, Flexibility means variance, high variance means high flexibility, high variance represents dataset very-well. If variance is too high, there could be overfitting situation. <b>Overfitting means the model has learned the structure of dataset very well.If we try that model with another dataset, which is overtrained, it wouldn't give good results because there is high variance and memorization situation</b>.If variance is too low, it means the model is weak, it could learn the dataset very well.\n",
    "        </li>\n",
    "        <li>\n",
    "            The true model generally has lower bias and variance. Yes, highver variance sometimes could be good because if variance is high, it means there is low bias, but there is another thing, generalizability. When variance increases, \tgeneralizability is decreasing, generalizability means how model can work with another datasets ?. \n",
    "        </li>\n",
    "        <li>\n",
    "            Therefore, the best way is keeping the balance between bias and variance, we should prefer lower variance and bias for ideal situation.\n",
    "        </li>\n",
    "        <img src=\"./used_images/11.png\" width=\"600\" height=\"600\">\n",
    "        <li>\n",
    "            <b> So, how can we select best model or flexibility for a True model? </b>\n",
    "            <ul>\n",
    "                <li>\n",
    "                    <b>The Flexibility (variance)</b> is selected to average test error.If average test error is high, we prefer more flexible model. When model flexes, variance gets high.     \n",
    "                </li>\n",
    "                <li>\n",
    "                    So, if we have high bias situation, we should make model more flexible, but we should be careful about that, because as we said before, flexibility means variance. When variance gets high, there can be a situation like overfitting. Therefore, if we enconter a situation like this, we should forget to create a stop point to avoiding overfitting situation.\n",
    "                </li>\n",
    "            </ul>\n",
    "        </li>\n",
    "    </ul>\n",
    "   </li>\n",
    "   \n",
    "  ##### <font color=\"Orange\">->> Parameter, Hyper-Parameter, Parameter Tuning and Model Tuning Concepts </font>\n",
    "  <li>Our aim is that increasing model prediction performance\n",
    "    <ul>\n",
    "        <li>\n",
    "            <b>Model Parameters -></b> Parameters are learned from data\n",
    "        </li>\n",
    "        <li>\n",
    "            <b>Model Hyper-parameters -></b> Parameters are defined by user and optimized by data.\n",
    "        </li>\n",
    "        <li>\n",
    "            <b>Paramater and Model Tuning -></b> Our aim is optimizing the model parameters and hyper-parameters, and trying to reach or predict minimum error.\n",
    "        </li>\n",
    "    </ul>\n",
    "  </li>\n",
    "    \n",
    "  ##### <font color=\"Orange\">->> Linear Regression Models </font> \n",
    "  <li>A linear regression model describes the relationship between a dependent variable, y, and one or more independent variables, X. The dependent variable is also called the response variable. Independent variables are also called explanatory or predictor variables.\n",
    "    <ul>\n",
    "         <li>\n",
    "             <b>Simple Linear Regression</b>\n",
    "        </li>\n",
    "        <li>\n",
    "            <b>Multiple Linear Regression</b>\n",
    "        </li>\n",
    "        <li>\n",
    "            <b>Ridge Regression</b>\n",
    "        </li>\n",
    "        <li>\n",
    "            <b>Lasso Regression</b>\n",
    "        </li>\n",
    "        <li>\n",
    "            <b>Elastic Net Regression</b>\n",
    "        </li>\n",
    "    </ul>\n",
    "  </li>\n",
    "  \n",
    "  ##### <font color=\"Orange\">->> Simple Linear Regression </font> \n",
    "  <li> Simple Linear Regression contains one dependent,one independent variable, Main aim is finding a linear function that states a relationship between dependent and independent variable. <b>Simple and Multiple Linear Regression subjects is needed to understand very well because these can be thought basics of Machine Learning</b>\n",
    "    <ul>\n",
    "        <li>\n",
    "            Our aim is modelization of relationship between variables. Modelization means, stating mathematical forms of relations between vary concepts.\n",
    "        </li>\n",
    "         <li>\n",
    "         Lets assume that we are trying to model the relation between house and square meter of that house, as we know this relation has direct proportion, if the square meter of house increases, the house price increases, too.\n",
    "        </li>\n",
    "        <br>\n",
    "        <li> <b>Population function can have represented as:</b>\n",
    "            <img src=\"./used_images/population.png\" width=\"300\" height=\"300\">\n",
    "        </li>\n",
    "        <li> <b>Sample function can have represented as:</b>\n",
    "            <img src=\"./used_images/sample.png\" width=\"300\" height=\"300\">\n",
    "        </li>\n",
    "        <li> <b>Error and Residuals can have represented as:</b>\n",
    "            <img src=\"./used_images/errors or residuals.png\" width=\"300\" height=\"300\">\n",
    "            <br>\n",
    "            <center><b>OR</b></center>\n",
    "            <br>\n",
    "            <img src=\"./used_images/error.png\" width=\"300\" height=\"300\">\n",
    "        </li>\n",
    "        <li>\n",
    "            Finding optimum &beta; values which has low error rate.\n",
    "        </li>\n",
    "        <li>\n",
    "            We need to find a value such that it minimizes the value of &epsilon;.\n",
    "        </li>\n",
    "        <br>\n",
    "        <li><b>The Sum of Squared Estimate of Errors (SSE):</b>\n",
    "            <img src=\"./used_images/sse.png\" width=\"300\" height=\"300\">\n",
    "            <br>\n",
    "            <img src=\"./used_images/last.png\" width=\"300\" height=\"300\">\n",
    "        </li>\n",
    "        <li> <b>Model Prediction can have represented as:</b>\n",
    "            <img src=\"./used_images/prediction model.png\" width=\"300\" height=\"300\">\n",
    "        </li>\n",
    "        <li>\n",
    "            We can find these values (&beta;0, &beta;1)by using data, as you can see, by this formulas.\n",
    "        </li>\n",
    "        <li>\n",
    "            <b> &beta;0 -></b> The point where line intercepts y axis or the height \n",
    "            <br><b> &beta;1 -></b> Slope of Line\n",
    "            <br><b> &epsilon; -></b> Error Term\n",
    "            <br><b>x̄ -></b> Mean of Independent Values\n",
    "            <br><b>ȳ -></b> Mean of Dependent Values\n",
    "            <br><b>𝑦̂i -></b> Predicted Values \n",
    "            <br><b>Xi -></b> Independent Variable Values \n",
    "            <br><b>Yi -></b> Dependent Variable Values\n",
    "        </li>\n",
    "        <br>\n",
    "        <br>\n",
    "        <li>  \n",
    "            <b>Graphichal Representation:</b>\n",
    "        </li>\n",
    "        <img src=\"./used_images/graph.png\" width=\"600\" height=\"600\">\n",
    "        <br>\n",
    "        <li>\n",
    "            Blue Dots are actual values\n",
    "        </li>\n",
    "        <li>\n",
    "            Red Line is representing predicted values\n",
    "        </li>\n",
    "        <li>\n",
    "            Consequently, when we have 2 variable and we want to show their relationship , we can use <b>Sample Linear Regression.</b>\n",
    "        </li>\n",
    "    </ul>\n",
    "    \n",
    "  </li>\n",
    "    "
   ]
  },
  {
   "cell_type": "markdown",
   "id": "d4fa9656",
   "metadata": {},
   "source": [
    "##### <font color=\"Orange\">->> Simple Linear Regression Model Section </font> "
   ]
  },
  {
   "cell_type": "code",
   "execution_count": 1,
   "id": "aadb40ee",
   "metadata": {},
   "outputs": [],
   "source": [
    "import pandas as pd\n",
    "import numpy as np\n",
    "import seaborn as sns\n",
    "import matplotlib.pyplot as plt\n",
    "from sklearn.linear_model import LinearRegression"
   ]
  },
  {
   "cell_type": "code",
   "execution_count": 2,
   "id": "db90851b",
   "metadata": {
    "scrolled": true
   },
   "outputs": [],
   "source": [
    "df=pd.read_csv(r\".\\csv_files\\Advertising.csv\")"
   ]
  },
  {
   "cell_type": "code",
   "execution_count": 3,
   "id": "804065ea",
   "metadata": {},
   "outputs": [
    {
     "data": {
      "text/html": [
       "<div>\n",
       "<style scoped>\n",
       "    .dataframe tbody tr th:only-of-type {\n",
       "        vertical-align: middle;\n",
       "    }\n",
       "\n",
       "    .dataframe tbody tr th {\n",
       "        vertical-align: top;\n",
       "    }\n",
       "\n",
       "    .dataframe thead th {\n",
       "        text-align: right;\n",
       "    }\n",
       "</style>\n",
       "<table border=\"1\" class=\"dataframe\">\n",
       "  <thead>\n",
       "    <tr style=\"text-align: right;\">\n",
       "      <th></th>\n",
       "      <th>TV</th>\n",
       "      <th>radio</th>\n",
       "      <th>newspaper</th>\n",
       "      <th>sales</th>\n",
       "    </tr>\n",
       "  </thead>\n",
       "  <tbody>\n",
       "    <tr>\n",
       "      <th>0</th>\n",
       "      <td>230.1</td>\n",
       "      <td>37.8</td>\n",
       "      <td>69.2</td>\n",
       "      <td>22.1</td>\n",
       "    </tr>\n",
       "    <tr>\n",
       "      <th>1</th>\n",
       "      <td>44.5</td>\n",
       "      <td>39.3</td>\n",
       "      <td>45.1</td>\n",
       "      <td>10.4</td>\n",
       "    </tr>\n",
       "    <tr>\n",
       "      <th>2</th>\n",
       "      <td>17.2</td>\n",
       "      <td>45.9</td>\n",
       "      <td>69.3</td>\n",
       "      <td>9.3</td>\n",
       "    </tr>\n",
       "    <tr>\n",
       "      <th>3</th>\n",
       "      <td>151.5</td>\n",
       "      <td>41.3</td>\n",
       "      <td>58.5</td>\n",
       "      <td>18.5</td>\n",
       "    </tr>\n",
       "    <tr>\n",
       "      <th>4</th>\n",
       "      <td>180.8</td>\n",
       "      <td>10.8</td>\n",
       "      <td>58.4</td>\n",
       "      <td>12.9</td>\n",
       "    </tr>\n",
       "  </tbody>\n",
       "</table>\n",
       "</div>"
      ],
      "text/plain": [
       "      TV  radio  newspaper  sales\n",
       "0  230.1   37.8       69.2   22.1\n",
       "1   44.5   39.3       45.1   10.4\n",
       "2   17.2   45.9       69.3    9.3\n",
       "3  151.5   41.3       58.5   18.5\n",
       "4  180.8   10.8       58.4   12.9"
      ]
     },
     "execution_count": 3,
     "metadata": {},
     "output_type": "execute_result"
    }
   ],
   "source": [
    "df=df.iloc[:,1:len(df)]\n",
    "df.head()"
   ]
  },
  {
   "cell_type": "code",
   "execution_count": 4,
   "id": "4fd92fd2",
   "metadata": {},
   "outputs": [
    {
     "name": "stdout",
     "output_type": "stream",
     "text": [
      "<class 'pandas.core.frame.DataFrame'>\n",
      "RangeIndex: 200 entries, 0 to 199\n",
      "Data columns (total 4 columns):\n",
      " #   Column     Non-Null Count  Dtype  \n",
      "---  ------     --------------  -----  \n",
      " 0   TV         200 non-null    float64\n",
      " 1   radio      200 non-null    float64\n",
      " 2   newspaper  200 non-null    float64\n",
      " 3   sales      200 non-null    float64\n",
      "dtypes: float64(4)\n",
      "memory usage: 6.4 KB\n"
     ]
    }
   ],
   "source": [
    " df.info()"
   ]
  },
  {
   "cell_type": "code",
   "execution_count": 5,
   "id": "bece0b13",
   "metadata": {
    "scrolled": true
   },
   "outputs": [
    {
     "data": {
      "image/png": "[encoded data removed]",
      "text/plain": [
       "<Figure size 432x432 with 3 Axes>"
      ]
     },
     "metadata": {
      "needs_background": "light"
     },
     "output_type": "display_data"
    }
   ],
   "source": [
    "# Showing relationship between TV and Sales\n",
    "sns.jointplot(x=df[\"TV\"],y=df[\"sales\"],data=df,kind=\"reg\");\n",
    "#This graph shows that there is a linear relationship between tv and sales, when tv increases, the sales increases,too\n"
   ]
  },
  {
   "cell_type": "code",
   "execution_count": 6,
   "id": "4167383a",
   "metadata": {},
   "outputs": [],
   "source": [
    "# X axis independent, Y axis is dependent\n",
    "X=df[[\"TV\"]]\n",
    "y=df[[\"sales\"]]"
   ]
  },
  {
   "cell_type": "code",
   "execution_count": 7,
   "id": "796da223",
   "metadata": {},
   "outputs": [],
   "source": [
    "reg=LinearRegression() # Creating a Linear Regression model object "
   ]
  },
  {
   "cell_type": "code",
   "execution_count": 8,
   "id": "615e939f",
   "metadata": {},
   "outputs": [],
   "source": [
    "model=reg.fit(X,y) # Fit func. means create the model"
   ]
  },
  {
   "cell_type": "code",
   "execution_count": 9,
   "id": "e104b98f",
   "metadata": {
    "scrolled": true
   },
   "outputs": [
    {
     "data": {
      "text/plain": [
       "['__abstractmethods__',\n",
       " '__class__',\n",
       " '__delattr__',\n",
       " '__dict__',\n",
       " '__dir__',\n",
       " '__doc__',\n",
       " '__eq__',\n",
       " '__format__',\n",
       " '__ge__',\n",
       " '__getattribute__',\n",
       " '__getstate__',\n",
       " '__gt__',\n",
       " '__hash__',\n",
       " '__init__',\n",
       " '__init_subclass__',\n",
       " '__le__',\n",
       " '__lt__',\n",
       " '__module__',\n",
       " '__ne__',\n",
       " '__new__',\n",
       " '__reduce__',\n",
       " '__reduce_ex__',\n",
       " '__repr__',\n",
       " '__setattr__',\n",
       " '__setstate__',\n",
       " '__sizeof__',\n",
       " '__str__',\n",
       " '__subclasshook__',\n",
       " '__weakref__',\n",
       " '_abc_impl',\n",
       " '_check_feature_names',\n",
       " '_check_n_features',\n",
       " '_decision_function',\n",
       " '_estimator_type',\n",
       " '_get_param_names',\n",
       " '_get_tags',\n",
       " '_more_tags',\n",
       " '_preprocess_data',\n",
       " '_repr_html_',\n",
       " '_repr_html_inner',\n",
       " '_repr_mimebundle_',\n",
       " '_residues',\n",
       " '_set_intercept',\n",
       " '_validate_data',\n",
       " 'coef_',\n",
       " 'copy_X',\n",
       " 'feature_names_in_',\n",
       " 'fit',\n",
       " 'fit_intercept',\n",
       " 'get_params',\n",
       " 'intercept_',\n",
       " 'n_features_in_',\n",
       " 'n_jobs',\n",
       " 'normalize',\n",
       " 'positive',\n",
       " 'predict',\n",
       " 'rank_',\n",
       " 'score',\n",
       " 'set_params',\n",
       " 'singular_']"
      ]
     },
     "execution_count": 9,
     "metadata": {},
     "output_type": "execute_result"
    }
   ],
   "source": [
    "dir(model) # dir func shows the possible funcs. that can be used "
   ]
  },
  {
   "cell_type": "code",
   "execution_count": 10,
   "id": "7221ab9a",
   "metadata": {},
   "outputs": [
    {
     "name": "stdout",
     "output_type": "stream",
     "text": [
      "[7.03259355]\n",
      "[[0.04753664]]\n",
      "0.611875050850071\n"
     ]
    }
   ],
   "source": [
    "# intercept_ method gives us the B0 value , as we know that B0 value means the interception on the y axis\n",
    "print(model.intercept_)\n",
    "# coef_ method gives us B1 value, as we know in the formula it was a coefficient value of x\n",
    "print(model.coef_)\n",
    "# In addition we can also take the r square value, which describes the score of the model, it means \n",
    "# What percentage of dependent variables can we explain with independent variables? \n",
    "print(model.score(X,y))"
   ]
  },
  {
   "cell_type": "code",
   "execution_count": 11,
   "id": "180a3577",
   "metadata": {},
   "outputs": [
    {
     "name": "stderr",
     "output_type": "stream",
     "text": [
      "C:\\ProgramData\\Anaconda3\\lib\\site-packages\\seaborn\\_decorators.py:36: FutureWarning: Pass the following variables as keyword args: x, y. From version 0.12, the only valid positional argument will be `data`, and passing other arguments without an explicit keyword will result in an error or misinterpretation.\n",
      "  warnings.warn(\n"
     ]
    },
    {
     "data": {
      "image/png": "[encoded data removed]",
      "text/plain": [
       "<Figure size 432x288 with 1 Axes>"
      ]
     },
     "metadata": {
      "needs_background": "light"
     },
     "output_type": "display_data"
    }
   ],
   "source": [
    "g=sns.regplot(df[\"TV\"],df[\"sales\"],ci=95,scatter_kws={\"color\":\"r\",\"s\":9})\n",
    "g.set_title(\"Model Equation is: Sales= 7.03 + TV* 0.05\")\n",
    "g.set_ylabel(\"Sales\")\n",
    "g.set_xlabel(\"TV Sales\")\n",
    "plt.xlim(-10,310)\n",
    "plt.ylim(bottom=0);\n"
   ]
  },
  {
   "cell_type": "code",
   "execution_count": 12,
   "id": "25b68bfd",
   "metadata": {},
   "outputs": [
    {
     "name": "stderr",
     "output_type": "stream",
     "text": [
      "C:\\ProgramData\\Anaconda3\\lib\\site-packages\\seaborn\\_decorators.py:36: FutureWarning: Pass the following variables as keyword args: x, y. From version 0.12, the only valid positional argument will be `data`, and passing other arguments without an explicit keyword will result in an error or misinterpretation.\n",
      "  warnings.warn(\n"
     ]
    },
    {
     "data": {
      "image/png": "[encoded data removed]",
      "text/plain": [
       "<Figure size 432x288 with 1 Axes>"
      ]
     },
     "metadata": {
      "needs_background": "light"
     },
     "output_type": "display_data"
    }
   ],
   "source": [
    "g=sns.regplot(df[\"TV\"],df[\"sales\"],ci=None,scatter_kws={\"color\":\"r\",\"s\":9})\n",
    "g.set_title(\"Model Equation is: Sales= 7.03 + TV* 0.05\")\n",
    "g.set_ylabel(\"Sales\")\n",
    "g.set_xlabel(\"TV Sales\")\n",
    "plt.xlim(-10,310)\n",
    "plt.ylim(bottom=0);\n"
   ]
  },
  {
   "cell_type": "code",
   "execution_count": 13,
   "id": "5aa2b87a",
   "metadata": {},
   "outputs": [
    {
     "name": "stdout",
     "output_type": "stream",
     "text": [
      "[[19.39212006]]\n"
     ]
    },
    {
     "name": "stderr",
     "output_type": "stream",
     "text": [
      "C:\\ProgramData\\Anaconda3\\lib\\site-packages\\sklearn\\base.py:450: UserWarning: X does not have valid feature names, but LinearRegression was fitted with feature names\n",
      "  warnings.warn(\n",
      "C:\\ProgramData\\Anaconda3\\lib\\site-packages\\sklearn\\base.py:450: UserWarning: X does not have valid feature names, but LinearRegression was fitted with feature names\n",
      "  warnings.warn(\n"
     ]
    },
    {
     "data": {
      "text/plain": [
       "array([[26.04724972]])"
      ]
     },
     "execution_count": 13,
     "metadata": {},
     "output_type": "execute_result"
    }
   ],
   "source": [
    "# How can we us ethis structure ? \n",
    "# Lets assume that we are asked to do a prediction asked,if we have 260 tv sales, what could be our sales  ?\n",
    "# Basically, we can show like this y= b0+b1*x;\n",
    "\n",
    "print(model.intercept_+model.coef_*260)\n",
    "\n",
    "# We did this calculation process by hand, but how can we do by using code side (sklearn) ?\n",
    "\n",
    "model.predict([[260]])\n",
    "# Lets assume for 400 value, as we can see above, there is no 400 value, since we have a model or pattern, which is trained,\n",
    "# We can do our prediction\n",
    "\n",
    "model.predict([[400]])"
   ]
  },
  {
   "cell_type": "code",
   "execution_count": 14,
   "id": "f29666c8",
   "metadata": {},
   "outputs": [
    {
     "name": "stderr",
     "output_type": "stream",
     "text": [
      "C:\\ProgramData\\Anaconda3\\lib\\site-packages\\sklearn\\base.py:450: UserWarning: X does not have valid feature names, but LinearRegression was fitted with feature names\n",
      "  warnings.warn(\n"
     ]
    },
    {
     "data": {
      "text/plain": [
       "array([[11.78625759],\n",
       "       [14.16308961],\n",
       "       [14.63845602]])"
      ]
     },
     "execution_count": 14,
     "metadata": {},
     "output_type": "execute_result"
    }
   ],
   "source": [
    "# We can calculate multiple values\n",
    "new_value=[[100],[150],[160]]\n",
    "model.predict(new_value)"
   ]
  },
  {
   "cell_type": "markdown",
   "id": "b2fac577",
   "metadata": {},
   "source": [
    "##### <font color=\"Orange\">->> Residuals and Importance on Machine Learning Side </font> \n",
    "\n",
    "<b>MSE --> Mean Square Error</b>\n",
    "<br>\n",
    "<b>RMSE --> Root Mean Square Error</b>\n",
    "<br>\n",
    "-> Our aim is that minimizing the error rate between Predicted and Real Values,<b> MSE and RMSE</b> is used metrics for this."
   ]
  },
  {
   "cell_type": "code",
   "execution_count": 15,
   "id": "4f1cf425",
   "metadata": {},
   "outputs": [
    {
     "data": {
      "text/html": [
       "<div>\n",
       "<style scoped>\n",
       "    .dataframe tbody tr th:only-of-type {\n",
       "        vertical-align: middle;\n",
       "    }\n",
       "\n",
       "    .dataframe tbody tr th {\n",
       "        vertical-align: top;\n",
       "    }\n",
       "\n",
       "    .dataframe thead th {\n",
       "        text-align: right;\n",
       "    }\n",
       "</style>\n",
       "<table border=\"1\" class=\"dataframe\">\n",
       "  <thead>\n",
       "    <tr style=\"text-align: right;\">\n",
       "      <th></th>\n",
       "      <th>Real Values</th>\n",
       "      <th>Predicted Values</th>\n",
       "    </tr>\n",
       "  </thead>\n",
       "  <tbody>\n",
       "    <tr>\n",
       "      <th>0</th>\n",
       "      <td>22.1</td>\n",
       "      <td>17.970775</td>\n",
       "    </tr>\n",
       "    <tr>\n",
       "      <th>1</th>\n",
       "      <td>10.4</td>\n",
       "      <td>9.147974</td>\n",
       "    </tr>\n",
       "    <tr>\n",
       "      <th>2</th>\n",
       "      <td>9.3</td>\n",
       "      <td>7.850224</td>\n",
       "    </tr>\n",
       "    <tr>\n",
       "      <th>3</th>\n",
       "      <td>18.5</td>\n",
       "      <td>14.234395</td>\n",
       "    </tr>\n",
       "    <tr>\n",
       "      <th>4</th>\n",
       "      <td>12.9</td>\n",
       "      <td>15.627218</td>\n",
       "    </tr>\n",
       "    <tr>\n",
       "      <th>5</th>\n",
       "      <td>7.2</td>\n",
       "      <td>7.446162</td>\n",
       "    </tr>\n",
       "    <tr>\n",
       "      <th>6</th>\n",
       "      <td>11.8</td>\n",
       "      <td>9.765950</td>\n",
       "    </tr>\n",
       "    <tr>\n",
       "      <th>7</th>\n",
       "      <td>13.2</td>\n",
       "      <td>12.746498</td>\n",
       "    </tr>\n",
       "    <tr>\n",
       "      <th>8</th>\n",
       "      <td>4.8</td>\n",
       "      <td>7.441409</td>\n",
       "    </tr>\n",
       "    <tr>\n",
       "      <th>9</th>\n",
       "      <td>10.6</td>\n",
       "      <td>16.530414</td>\n",
       "    </tr>\n",
       "  </tbody>\n",
       "</table>\n",
       "</div>"
      ],
      "text/plain": [
       "   Real Values  Predicted Values\n",
       "0         22.1         17.970775\n",
       "1         10.4          9.147974\n",
       "2          9.3          7.850224\n",
       "3         18.5         14.234395\n",
       "4         12.9         15.627218\n",
       "5          7.2          7.446162\n",
       "6         11.8          9.765950\n",
       "7         13.2         12.746498\n",
       "8          4.8          7.441409\n",
       "9         10.6         16.530414"
      ]
     },
     "execution_count": 15,
     "metadata": {},
     "output_type": "execute_result"
    }
   ],
   "source": [
    "real_y=y[:10]\n",
    "predicted=pd.DataFrame(model.predict(X)[0:10])\n",
    "newdf=pd.concat([real_y,predicted],ignore_index=True,axis=1)\n",
    "newdf.columns=[\"Real Values\",\"Predicted Values\"]\n",
    "newdf"
   ]
  },
  {
   "cell_type": "code",
   "execution_count": 16,
   "id": "4411567b",
   "metadata": {},
   "outputs": [
    {
     "data": {
      "text/html": [
       "<div>\n",
       "<style scoped>\n",
       "    .dataframe tbody tr th:only-of-type {\n",
       "        vertical-align: middle;\n",
       "    }\n",
       "\n",
       "    .dataframe tbody tr th {\n",
       "        vertical-align: top;\n",
       "    }\n",
       "\n",
       "    .dataframe thead th {\n",
       "        text-align: right;\n",
       "    }\n",
       "</style>\n",
       "<table border=\"1\" class=\"dataframe\">\n",
       "  <thead>\n",
       "    <tr style=\"text-align: right;\">\n",
       "      <th></th>\n",
       "      <th>Real Values</th>\n",
       "      <th>Predicted Values</th>\n",
       "      <th>errors</th>\n",
       "    </tr>\n",
       "  </thead>\n",
       "  <tbody>\n",
       "    <tr>\n",
       "      <th>0</th>\n",
       "      <td>22.1</td>\n",
       "      <td>17.970775</td>\n",
       "      <td>4.129225</td>\n",
       "    </tr>\n",
       "    <tr>\n",
       "      <th>1</th>\n",
       "      <td>10.4</td>\n",
       "      <td>9.147974</td>\n",
       "      <td>1.252026</td>\n",
       "    </tr>\n",
       "    <tr>\n",
       "      <th>2</th>\n",
       "      <td>9.3</td>\n",
       "      <td>7.850224</td>\n",
       "      <td>1.449776</td>\n",
       "    </tr>\n",
       "    <tr>\n",
       "      <th>3</th>\n",
       "      <td>18.5</td>\n",
       "      <td>14.234395</td>\n",
       "      <td>4.265605</td>\n",
       "    </tr>\n",
       "    <tr>\n",
       "      <th>4</th>\n",
       "      <td>12.9</td>\n",
       "      <td>15.627218</td>\n",
       "      <td>-2.727218</td>\n",
       "    </tr>\n",
       "    <tr>\n",
       "      <th>5</th>\n",
       "      <td>7.2</td>\n",
       "      <td>7.446162</td>\n",
       "      <td>-0.246162</td>\n",
       "    </tr>\n",
       "    <tr>\n",
       "      <th>6</th>\n",
       "      <td>11.8</td>\n",
       "      <td>9.765950</td>\n",
       "      <td>2.034050</td>\n",
       "    </tr>\n",
       "    <tr>\n",
       "      <th>7</th>\n",
       "      <td>13.2</td>\n",
       "      <td>12.746498</td>\n",
       "      <td>0.453502</td>\n",
       "    </tr>\n",
       "    <tr>\n",
       "      <th>8</th>\n",
       "      <td>4.8</td>\n",
       "      <td>7.441409</td>\n",
       "      <td>-2.641409</td>\n",
       "    </tr>\n",
       "    <tr>\n",
       "      <th>9</th>\n",
       "      <td>10.6</td>\n",
       "      <td>16.530414</td>\n",
       "      <td>-5.930414</td>\n",
       "    </tr>\n",
       "  </tbody>\n",
       "</table>\n",
       "</div>"
      ],
      "text/plain": [
       "   Real Values  Predicted Values    errors\n",
       "0         22.1         17.970775  4.129225\n",
       "1         10.4          9.147974  1.252026\n",
       "2          9.3          7.850224  1.449776\n",
       "3         18.5         14.234395  4.265605\n",
       "4         12.9         15.627218 -2.727218\n",
       "5          7.2          7.446162 -0.246162\n",
       "6         11.8          9.765950  2.034050\n",
       "7         13.2         12.746498  0.453502\n",
       "8          4.8          7.441409 -2.641409\n",
       "9         10.6         16.530414 -5.930414"
      ]
     },
     "execution_count": 16,
     "metadata": {},
     "output_type": "execute_result"
    }
   ],
   "source": [
    "newdf[\"errors\"]=newdf[\"Real Values\"]-newdf[\"Predicted Values\"]\n",
    "newdf"
   ]
  },
  {
   "cell_type": "code",
   "execution_count": 17,
   "id": "b5ec63af",
   "metadata": {},
   "outputs": [
    {
     "data": {
      "text/plain": [
       "9.290350329638105"
      ]
     },
     "execution_count": 17,
     "metadata": {},
     "output_type": "execute_result"
    }
   ],
   "source": [
    "newdf[\"square of errors\"]=newdf[\"errors\"]**2\n",
    "newdf[\"square of errors\"].mean() # Mean square of error (MSE)"
   ]
  },
  {
   "cell_type": "code",
   "execution_count": 18,
   "id": "903fef81",
   "metadata": {
    "scrolled": true
   },
   "outputs": [
    {
     "data": {
      "text/html": [
       "<div>\n",
       "<style scoped>\n",
       "    .dataframe tbody tr th:only-of-type {\n",
       "        vertical-align: middle;\n",
       "    }\n",
       "\n",
       "    .dataframe tbody tr th {\n",
       "        vertical-align: top;\n",
       "    }\n",
       "\n",
       "    .dataframe thead th {\n",
       "        text-align: right;\n",
       "    }\n",
       "</style>\n",
       "<table border=\"1\" class=\"dataframe\">\n",
       "  <thead>\n",
       "    <tr style=\"text-align: right;\">\n",
       "      <th></th>\n",
       "      <th>Real Values</th>\n",
       "      <th>Predicted Values</th>\n",
       "      <th>errors</th>\n",
       "      <th>square of errors</th>\n",
       "    </tr>\n",
       "  </thead>\n",
       "  <tbody>\n",
       "    <tr>\n",
       "      <th>0</th>\n",
       "      <td>22.1</td>\n",
       "      <td>17.970775</td>\n",
       "      <td>4.129225</td>\n",
       "      <td>17.050503</td>\n",
       "    </tr>\n",
       "    <tr>\n",
       "      <th>1</th>\n",
       "      <td>10.4</td>\n",
       "      <td>9.147974</td>\n",
       "      <td>1.252026</td>\n",
       "      <td>1.567569</td>\n",
       "    </tr>\n",
       "    <tr>\n",
       "      <th>2</th>\n",
       "      <td>9.3</td>\n",
       "      <td>7.850224</td>\n",
       "      <td>1.449776</td>\n",
       "      <td>2.101851</td>\n",
       "    </tr>\n",
       "    <tr>\n",
       "      <th>3</th>\n",
       "      <td>18.5</td>\n",
       "      <td>14.234395</td>\n",
       "      <td>4.265605</td>\n",
       "      <td>18.195390</td>\n",
       "    </tr>\n",
       "    <tr>\n",
       "      <th>4</th>\n",
       "      <td>12.9</td>\n",
       "      <td>15.627218</td>\n",
       "      <td>-2.727218</td>\n",
       "      <td>7.437719</td>\n",
       "    </tr>\n",
       "    <tr>\n",
       "      <th>5</th>\n",
       "      <td>7.2</td>\n",
       "      <td>7.446162</td>\n",
       "      <td>-0.246162</td>\n",
       "      <td>0.060596</td>\n",
       "    </tr>\n",
       "    <tr>\n",
       "      <th>6</th>\n",
       "      <td>11.8</td>\n",
       "      <td>9.765950</td>\n",
       "      <td>2.034050</td>\n",
       "      <td>4.137358</td>\n",
       "    </tr>\n",
       "    <tr>\n",
       "      <th>7</th>\n",
       "      <td>13.2</td>\n",
       "      <td>12.746498</td>\n",
       "      <td>0.453502</td>\n",
       "      <td>0.205664</td>\n",
       "    </tr>\n",
       "    <tr>\n",
       "      <th>8</th>\n",
       "      <td>4.8</td>\n",
       "      <td>7.441409</td>\n",
       "      <td>-2.641409</td>\n",
       "      <td>6.977040</td>\n",
       "    </tr>\n",
       "    <tr>\n",
       "      <th>9</th>\n",
       "      <td>10.6</td>\n",
       "      <td>16.530414</td>\n",
       "      <td>-5.930414</td>\n",
       "      <td>35.169814</td>\n",
       "    </tr>\n",
       "  </tbody>\n",
       "</table>\n",
       "</div>"
      ],
      "text/plain": [
       "   Real Values  Predicted Values    errors  square of errors\n",
       "0         22.1         17.970775  4.129225         17.050503\n",
       "1         10.4          9.147974  1.252026          1.567569\n",
       "2          9.3          7.850224  1.449776          2.101851\n",
       "3         18.5         14.234395  4.265605         18.195390\n",
       "4         12.9         15.627218 -2.727218          7.437719\n",
       "5          7.2          7.446162 -0.246162          0.060596\n",
       "6         11.8          9.765950  2.034050          4.137358\n",
       "7         13.2         12.746498  0.453502          0.205664\n",
       "8          4.8          7.441409 -2.641409          6.977040\n",
       "9         10.6         16.530414 -5.930414         35.169814"
      ]
     },
     "execution_count": 18,
     "metadata": {},
     "output_type": "execute_result"
    }
   ],
   "source": [
    "newdf"
   ]
  },
  {
   "cell_type": "code",
   "execution_count": 19,
   "id": "466c69d7",
   "metadata": {},
   "outputs": [],
   "source": [
    "import math\n",
    "import numpy as np"
   ]
  },
  {
   "cell_type": "code",
   "execution_count": 20,
   "id": "84c59568",
   "metadata": {
    "scrolled": true
   },
   "outputs": [
    {
     "data": {
      "text/html": [
       "<div>\n",
       "<style scoped>\n",
       "    .dataframe tbody tr th:only-of-type {\n",
       "        vertical-align: middle;\n",
       "    }\n",
       "\n",
       "    .dataframe tbody tr th {\n",
       "        vertical-align: top;\n",
       "    }\n",
       "\n",
       "    .dataframe thead th {\n",
       "        text-align: right;\n",
       "    }\n",
       "</style>\n",
       "<table border=\"1\" class=\"dataframe\">\n",
       "  <thead>\n",
       "    <tr style=\"text-align: right;\">\n",
       "      <th></th>\n",
       "      <th>Real Values</th>\n",
       "      <th>Predicted Values</th>\n",
       "      <th>errors</th>\n",
       "      <th>square of errors</th>\n",
       "    </tr>\n",
       "  </thead>\n",
       "  <tbody>\n",
       "    <tr>\n",
       "      <th>0</th>\n",
       "      <td>22.0</td>\n",
       "      <td>18.0</td>\n",
       "      <td>4.0</td>\n",
       "      <td>17.0</td>\n",
       "    </tr>\n",
       "    <tr>\n",
       "      <th>1</th>\n",
       "      <td>10.0</td>\n",
       "      <td>9.0</td>\n",
       "      <td>1.0</td>\n",
       "      <td>2.0</td>\n",
       "    </tr>\n",
       "    <tr>\n",
       "      <th>2</th>\n",
       "      <td>9.0</td>\n",
       "      <td>8.0</td>\n",
       "      <td>1.0</td>\n",
       "      <td>2.0</td>\n",
       "    </tr>\n",
       "    <tr>\n",
       "      <th>3</th>\n",
       "      <td>18.0</td>\n",
       "      <td>14.0</td>\n",
       "      <td>4.0</td>\n",
       "      <td>18.0</td>\n",
       "    </tr>\n",
       "    <tr>\n",
       "      <th>4</th>\n",
       "      <td>13.0</td>\n",
       "      <td>16.0</td>\n",
       "      <td>-3.0</td>\n",
       "      <td>7.0</td>\n",
       "    </tr>\n",
       "    <tr>\n",
       "      <th>5</th>\n",
       "      <td>7.0</td>\n",
       "      <td>7.0</td>\n",
       "      <td>-0.0</td>\n",
       "      <td>0.0</td>\n",
       "    </tr>\n",
       "    <tr>\n",
       "      <th>6</th>\n",
       "      <td>12.0</td>\n",
       "      <td>10.0</td>\n",
       "      <td>2.0</td>\n",
       "      <td>4.0</td>\n",
       "    </tr>\n",
       "    <tr>\n",
       "      <th>7</th>\n",
       "      <td>13.0</td>\n",
       "      <td>13.0</td>\n",
       "      <td>0.0</td>\n",
       "      <td>0.0</td>\n",
       "    </tr>\n",
       "    <tr>\n",
       "      <th>8</th>\n",
       "      <td>5.0</td>\n",
       "      <td>7.0</td>\n",
       "      <td>-3.0</td>\n",
       "      <td>7.0</td>\n",
       "    </tr>\n",
       "    <tr>\n",
       "      <th>9</th>\n",
       "      <td>11.0</td>\n",
       "      <td>17.0</td>\n",
       "      <td>-6.0</td>\n",
       "      <td>35.0</td>\n",
       "    </tr>\n",
       "  </tbody>\n",
       "</table>\n",
       "</div>"
      ],
      "text/plain": [
       "   Real Values  Predicted Values  errors  square of errors\n",
       "0         22.0              18.0     4.0              17.0\n",
       "1         10.0               9.0     1.0               2.0\n",
       "2          9.0               8.0     1.0               2.0\n",
       "3         18.0              14.0     4.0              18.0\n",
       "4         13.0              16.0    -3.0               7.0\n",
       "5          7.0               7.0    -0.0               0.0\n",
       "6         12.0              10.0     2.0               4.0\n",
       "7         13.0              13.0     0.0               0.0\n",
       "8          5.0               7.0    -3.0               7.0\n",
       "9         11.0              17.0    -6.0              35.0"
      ]
     },
     "execution_count": 20,
     "metadata": {},
     "output_type": "execute_result"
    }
   ],
   "source": [
    "newdf.apply(lambda x:np.round(x))"
   ]
  },
  {
   "cell_type": "markdown",
   "id": "3bcd6867",
   "metadata": {},
   "source": [
    "##### <font color=\"Orange\">->> Multiple Linear Regression </font> \n",
    "<br>\n",
    "->> The aim is that finding function which states the relationship between <b>dependent and independent  variables by making mean square error minimize.</b>\n",
    "<br>\n",
    "->> In Multiple Linear Regression, the researcher generally have 2 main aim; \n",
    "<br>->> Prediction of Dependent Variable by variables which affects dependent variables.\n",
    "<br>->> Which independent variable is most affecting the dependent variable.\n",
    "\n",
    "<br>->><b> The relationship in Multiple Linear Regression can be defined as; Yi= &beta;0 + &beta;1 Xi1 + &beta;2 Xi2 + ...&beta;n Xin + &epsilon;</b>\n",
    "<br> ->> Our aim is finding these &beta; coefficients\n",
    "<br> <img src=\"./used_images/multiple.png\" width=\"300\" height=\"300\">\n",
    "<br> ->> There are many approaches to finding &beta; values, like least squares or normal equation methods, we can find these coefficients\n",
    "<br> ->> If the data size is getting bigger or have a big data, this method cannot work properly, <b>for bigger datasets Gradient Descent can be used.</b>\n",
    "<br>\n",
    "<br>\n",
    "<br>\n",
    "->><b> Multiple Linear Regression has a Hypothesise, so we should be careful when we are applying this regression method.</b>\n",
    "<br>&nbsp;- Errors are distributed normally.\n",
    "<br>&nbsp;- There is no autocorrelation between errors ad they are independent.\n",
    "<br>&nbsp;- For each observation, error terms and variances are constant.\n",
    "<br>&nbsp;- There is no relationship between error term and variables\n",
    "<br>&nbsp;- There is no multiple linear relation problem between independent variables \n",
    "<br><b>These are can be ignored on prediction process, but if we are working on econometry or similar areas, we should be careful about these hypothesise.</b>\n",
    "##### <font color=\"Orange\">->> Pros and Cons of Regression Models </font> \n",
    "<br>&nbsp;+ If this subject is understood well, the other ML and DL subject can be learnt easily.\n",
    "<br>&nbsp;+ Varbiables' effect level and expressiveness can be evaluated\n",
    "<br>&nbsp;+ The score can be measure (r2 value)\n",
    "<br>&nbsp;+ Model expressivness can be evaluated\n",
    "<br>&nbsp;- It has hypothesises\n",
    "<br>&nbsp;- It is sensitive for outliers\n",
    "<br>\n",
    "##### <font color=\"Orange\">->> Multiple Linear Regression Model/s </font> "
   ]
  },
  {
   "cell_type": "code",
   "execution_count": 15,
   "id": "07e8518c",
   "metadata": {},
   "outputs": [],
   "source": [
    "import pandas as pd\n",
    "import numpy as np\n",
    "import seaborn as sns\n",
    "from matplotlib import pyplot as plt\n",
    "import statsmodels.api as sm"
   ]
  },
  {
   "cell_type": "code",
   "execution_count": 7,
   "id": "fbac64d1",
   "metadata": {},
   "outputs": [
    {
     "data": {
      "text/html": [
       "<div>\n",
       "<style scoped>\n",
       "    .dataframe tbody tr th:only-of-type {\n",
       "        vertical-align: middle;\n",
       "    }\n",
       "\n",
       "    .dataframe tbody tr th {\n",
       "        vertical-align: top;\n",
       "    }\n",
       "\n",
       "    .dataframe thead th {\n",
       "        text-align: right;\n",
       "    }\n",
       "</style>\n",
       "<table border=\"1\" class=\"dataframe\">\n",
       "  <thead>\n",
       "    <tr style=\"text-align: right;\">\n",
       "      <th></th>\n",
       "      <th>TV</th>\n",
       "      <th>radio</th>\n",
       "      <th>newspaper</th>\n",
       "      <th>sales</th>\n",
       "    </tr>\n",
       "  </thead>\n",
       "  <tbody>\n",
       "    <tr>\n",
       "      <th>0</th>\n",
       "      <td>230.1</td>\n",
       "      <td>37.8</td>\n",
       "      <td>69.2</td>\n",
       "      <td>22.1</td>\n",
       "    </tr>\n",
       "    <tr>\n",
       "      <th>1</th>\n",
       "      <td>44.5</td>\n",
       "      <td>39.3</td>\n",
       "      <td>45.1</td>\n",
       "      <td>10.4</td>\n",
       "    </tr>\n",
       "    <tr>\n",
       "      <th>2</th>\n",
       "      <td>17.2</td>\n",
       "      <td>45.9</td>\n",
       "      <td>69.3</td>\n",
       "      <td>9.3</td>\n",
       "    </tr>\n",
       "    <tr>\n",
       "      <th>3</th>\n",
       "      <td>151.5</td>\n",
       "      <td>41.3</td>\n",
       "      <td>58.5</td>\n",
       "      <td>18.5</td>\n",
       "    </tr>\n",
       "    <tr>\n",
       "      <th>4</th>\n",
       "      <td>180.8</td>\n",
       "      <td>10.8</td>\n",
       "      <td>58.4</td>\n",
       "      <td>12.9</td>\n",
       "    </tr>\n",
       "  </tbody>\n",
       "</table>\n",
       "</div>"
      ],
      "text/plain": [
       "      TV  radio  newspaper  sales\n",
       "0  230.1   37.8       69.2   22.1\n",
       "1   44.5   39.3       45.1   10.4\n",
       "2   17.2   45.9       69.3    9.3\n",
       "3  151.5   41.3       58.5   18.5\n",
       "4  180.8   10.8       58.4   12.9"
      ]
     },
     "execution_count": 7,
     "metadata": {},
     "output_type": "execute_result"
    }
   ],
   "source": [
    "df=pd.read_csv(\"./csv_files/Advertising.csv\")\n",
    "df=df.iloc[:,1:len(df)]\n",
    "df.head()"
   ]
  },
  {
   "cell_type": "code",
   "execution_count": 9,
   "id": "55b1f284",
   "metadata": {},
   "outputs": [],
   "source": [
    "X=df.drop(\"sales\",axis=1) # All independent variables\n",
    "y=df[[\"sales\"]] #dependent variable"
   ]
  },
  {
   "cell_type": "code",
   "execution_count": 16,
   "id": "2883b53e",
   "metadata": {},
   "outputs": [],
   "source": [
    "model=sm.OLS(y,X).fit() # Finding B values least square method, and creating the model"
   ]
  },
  {
   "cell_type": "code",
   "execution_count": 19,
   "id": "b33f52fa",
   "metadata": {},
   "outputs": [
    {
     "data": {
      "text/html": [
       "<table class=\"simpletable\">\n",
       "<caption>OLS Regression Results</caption>\n",
       "<tr>\n",
       "  <th>Dep. Variable:</th>          <td>sales</td>      <th>  R-squared (uncentered):</th>      <td>   0.982</td> \n",
       "</tr>\n",
       "<tr>\n",
       "  <th>Model:</th>                   <td>OLS</td>       <th>  Adj. R-squared (uncentered):</th> <td>   0.982</td> \n",
       "</tr>\n",
       "<tr>\n",
       "  <th>Method:</th>             <td>Least Squares</td>  <th>  F-statistic:       </th>          <td>   3566.</td> \n",
       "</tr>\n",
       "<tr>\n",
       "  <th>Date:</th>             <td>Thu, 08 Sep 2022</td> <th>  Prob (F-statistic):</th>          <td>2.43e-171</td>\n",
       "</tr>\n",
       "<tr>\n",
       "  <th>Time:</th>                 <td>13:59:31</td>     <th>  Log-Likelihood:    </th>          <td> -423.54</td> \n",
       "</tr>\n",
       "<tr>\n",
       "  <th>No. Observations:</th>      <td>   200</td>      <th>  AIC:               </th>          <td>   853.1</td> \n",
       "</tr>\n",
       "<tr>\n",
       "  <th>Df Residuals:</th>          <td>   197</td>      <th>  BIC:               </th>          <td>   863.0</td> \n",
       "</tr>\n",
       "<tr>\n",
       "  <th>Df Model:</th>              <td>     3</td>      <th>                     </th>              <td> </td>    \n",
       "</tr>\n",
       "<tr>\n",
       "  <th>Covariance Type:</th>      <td>nonrobust</td>    <th>                     </th>              <td> </td>    \n",
       "</tr>\n",
       "</table>\n",
       "<table class=\"simpletable\">\n",
       "<tr>\n",
       "      <td></td>         <th>coef</th>     <th>std err</th>      <th>t</th>      <th>P>|t|</th>  <th>[0.025</th>    <th>0.975]</th>  \n",
       "</tr>\n",
       "<tr>\n",
       "  <th>TV</th>        <td>    0.0538</td> <td>    0.001</td> <td>   40.507</td> <td> 0.000</td> <td>    0.051</td> <td>    0.056</td>\n",
       "</tr>\n",
       "<tr>\n",
       "  <th>radio</th>     <td>    0.2222</td> <td>    0.009</td> <td>   23.595</td> <td> 0.000</td> <td>    0.204</td> <td>    0.241</td>\n",
       "</tr>\n",
       "<tr>\n",
       "  <th>newspaper</th> <td>    0.0168</td> <td>    0.007</td> <td>    2.517</td> <td> 0.013</td> <td>    0.004</td> <td>    0.030</td>\n",
       "</tr>\n",
       "</table>\n",
       "<table class=\"simpletable\">\n",
       "<tr>\n",
       "  <th>Omnibus:</th>       <td> 5.982</td> <th>  Durbin-Watson:     </th> <td>   2.038</td>\n",
       "</tr>\n",
       "<tr>\n",
       "  <th>Prob(Omnibus):</th> <td> 0.050</td> <th>  Jarque-Bera (JB):  </th> <td>   7.039</td>\n",
       "</tr>\n",
       "<tr>\n",
       "  <th>Skew:</th>          <td>-0.232</td> <th>  Prob(JB):          </th> <td>  0.0296</td>\n",
       "</tr>\n",
       "<tr>\n",
       "  <th>Kurtosis:</th>      <td> 3.794</td> <th>  Cond. No.          </th> <td>    12.6</td>\n",
       "</tr>\n",
       "</table><br/><br/>Notes:<br/>[1] R² is computed without centering (uncentered) since the model does not contain a constant.<br/>[2] Standard Errors assume that the covariance matrix of the errors is correctly specified."
      ],
      "text/plain": [
       "<class 'statsmodels.iolib.summary.Summary'>\n",
       "\"\"\"\n",
       "                                 OLS Regression Results                                \n",
       "=======================================================================================\n",
       "Dep. Variable:                  sales   R-squared (uncentered):                   0.982\n",
       "Model:                            OLS   Adj. R-squared (uncentered):              0.982\n",
       "Method:                 Least Squares   F-statistic:                              3566.\n",
       "Date:                Thu, 08 Sep 2022   Prob (F-statistic):                   2.43e-171\n",
       "Time:                        13:59:31   Log-Likelihood:                         -423.54\n",
       "No. Observations:                 200   AIC:                                      853.1\n",
       "Df Residuals:                     197   BIC:                                      863.0\n",
       "Df Model:                           3                                                  \n",
       "Covariance Type:            nonrobust                                                  \n",
       "==============================================================================\n",
       "                 coef    std err          t      P>|t|      [0.025      0.975]\n",
       "------------------------------------------------------------------------------\n",
       "TV             0.0538      0.001     40.507      0.000       0.051       0.056\n",
       "radio          0.2222      0.009     23.595      0.000       0.204       0.241\n",
       "newspaper      0.0168      0.007      2.517      0.013       0.004       0.030\n",
       "==============================================================================\n",
       "Omnibus:                        5.982   Durbin-Watson:                   2.038\n",
       "Prob(Omnibus):                  0.050   Jarque-Bera (JB):                7.039\n",
       "Skew:                          -0.232   Prob(JB):                       0.0296\n",
       "Kurtosis:                       3.794   Cond. No.                         12.6\n",
       "==============================================================================\n",
       "\n",
       "Notes:\n",
       "[1] R² is computed without centering (uncentered) since the model does not contain a constant.\n",
       "[2] Standard Errors assume that the covariance matrix of the errors is correctly specified.\n",
       "\"\"\""
      ]
     },
     "execution_count": 19,
     "metadata": {},
     "output_type": "execute_result"
    }
   ],
   "source": [
    "model.summary() # This method has many information about model, output of multiple regression"
   ]
  },
  {
   "cell_type": "markdown",
   "id": "ec3cb118",
   "metadata": {},
   "source": [
    "# <font color=\"Orange\"> For Statsmodel Table </font>\n",
    "<br>\n",
    "<br>\n",
    "->>  As we can see above, <b>R-squared value is around %98, it means our independent variables can state the dependent variables with %98 rate.</b>\n",
    "<br>\n",
    "\n",
    "->>  There is another R-squared variable, <b><font color=\"red\">The most vital difference between adjusted R-squared and R-squared is simply that adjusted R-squared considers and tests different independent variables against the model and R-squared does not.</font></b>\n",
    "<br>\n",
    "<br>\n",
    "->> <b>F statistic</b> states that the model is expressiveness or not\n",
    "<br>\n",
    "<br>\n",
    "->> <b>Prob (F-statistic) gives us the P value of F-statistic</b>, here this value is less than 0.05, so it means the model is significant (statistically).\n",
    "<br>\n",
    "<br>\n",
    "->> Coef values are <b>&beta; values of independent variables, to give an example, <font color=\"red\">if we spend 1 unit of TV, it means it will cause average 0.05 increase on sales (\"dependent\") variable.</font> </b>\n",
    "<br>\n",
    "<br>\n",
    "->> Std error values are <b>Standart errors of coefficients </b>\n",
    "<br>\n",
    "<br>\n",
    "->> T statistics value and P value can be used for that the model is significant or not.  <b><font color=\"red\">This hypothesise tells us that the variables are not significant, since p value is less than 0.05, it means we reject this hypothesise and that means variables are significant.</font> </b>\n",
    "<br>\n",
    "<br>\n",
    "# <font color=\"Orange\"> For Scikit Learn </font>"
   ]
  },
  {
   "cell_type": "code",
   "execution_count": 60,
   "id": "b2bb882b",
   "metadata": {},
   "outputs": [],
   "source": [
    "from sklearn.linear_model import LinearRegression\n",
    "from sklearn.metrics import mean_squared_error\n",
    "import math"
   ]
  },
  {
   "cell_type": "code",
   "execution_count": 22,
   "id": "bf309254",
   "metadata": {},
   "outputs": [],
   "source": [
    "model=LinearRegression().fit(X,y)"
   ]
  },
  {
   "cell_type": "code",
   "execution_count": 24,
   "id": "6adf17bb",
   "metadata": {},
   "outputs": [
    {
     "name": "stdout",
     "output_type": "stream",
     "text": [
      "[2.93888937]\n",
      "[[ 0.04576465  0.18853002 -0.00103749]]\n"
     ]
    }
   ],
   "source": [
    "print(model.intercept_) # B0 value\n",
    "print(model.coef_)  # B1, B2 , B3 value of independent variables"
   ]
  },
  {
   "cell_type": "code",
   "execution_count": 38,
   "id": "365ec66b",
   "metadata": {},
   "outputs": [
    {
     "name": "stdout",
     "output_type": "stream",
     "text": [
      "6.180000000000001\n"
     ]
    }
   ],
   "source": [
    " # We can state the formula as;\n",
    "\n",
    "predicted_by_hand = 2.94 + 0.046*30 + 0.19*10 - 0.001*40\n",
    "print(predicted_by_hand)"
   ]
  },
  {
   "cell_type": "code",
   "execution_count": 49,
   "id": "d0df63f6",
   "metadata": {},
   "outputs": [
    {
     "name": "stderr",
     "output_type": "stream",
     "text": [
      "C:\\ProgramData\\Anaconda3\\lib\\site-packages\\sklearn\\base.py:450: UserWarning: X does not have valid feature names, but LinearRegression was fitted with feature names\n",
      "  warnings.warn(\n"
     ]
    },
    {
     "data": {
      "text/plain": [
       "array([[6.15562918]])"
      ]
     },
     "execution_count": 49,
     "metadata": {},
     "output_type": "execute_result"
    }
   ],
   "source": [
    "spend_units=[[30],[10],[40]]\n",
    "spend_units=pd.DataFrame(spend_units).T\n",
    "model.predict(spend_units) "
   ]
  },
  {
   "cell_type": "code",
   "execution_count": 50,
   "id": "3a419611",
   "metadata": {},
   "outputs": [
    {
     "data": {
      "text/plain": [
       "0.8972106381789522"
      ]
     },
     "execution_count": 50,
     "metadata": {},
     "output_type": "execute_result"
    }
   ],
   "source": [
    "model.score(X,y)"
   ]
  },
  {
   "cell_type": "code",
   "execution_count": 58,
   "id": "1f665207",
   "metadata": {},
   "outputs": [],
   "source": [
    "y_predicted=model.predict(X)"
   ]
  },
  {
   "cell_type": "code",
   "execution_count": 75,
   "id": "6d3bf2c1",
   "metadata": {},
   "outputs": [
    {
     "name": "stdout",
     "output_type": "stream",
     "text": [
      "MSE IS 2.78\n",
      "RMSE IS 1.67\n"
     ]
    }
   ],
   "source": [
    "MSE=mean_squared_error(y,y_predicted) # MSE STATISTICS\n",
    "print(\"MSE IS {:.2f}\".format(MSE)) # Mean squared error\n",
    "print(\"RMSE IS {:.2f}\".format(np.sqrt(MSE))) # Root mean squared error"
   ]
  },
  {
   "cell_type": "code",
   "execution_count": null,
   "id": "c83b6790",
   "metadata": {},
   "outputs": [],
   "source": []
  }
 ],
 "metadata": {
  "kernelspec": {
   "display_name": "Python 3 (ipykernel)",
   "language": "python",
   "name": "python3"
  },
  "language_info": {
   "codemirror_mode": {
    "name": "ipython",
    "version": 3
   },
   "file_extension": ".py",
   "mimetype": "text/x-python",
   "name": "python",
   "nbconvert_exporter": "python",
   "pygments_lexer": "ipython3",
   "version": "3.9.12"
  }
 },
 "nbformat": 4,
 "nbformat_minor": 5
}
