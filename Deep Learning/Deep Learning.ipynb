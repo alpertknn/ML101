{
 "cells": [
  {
   "cell_type": "markdown",
   "id": "cd1e80a4",
   "metadata": {},
   "source": [
    "# <font color=\"orange\">Deep Learning</font> \n",
    "->> Deep Learning is a subbranch of Machine Learning which takes reference as human brain process and decision structure.\n",
    "<img src=\"./used_images/cell.png\" width=\"500\" height=\"500\">\n",
    "<img src=\"./used_images/nn.png\" width=\"500\" height=\"500\">\n",
    "<br>\n",
    "->> Input Layer takes the information or features, and transmits the other layers, then those other layers processes the information and gives an output.\n",
    "<br>\n",
    "->> There can be more than one hidden layer in Artifical Neural Network. If there is more than one layer, it named as \"Deep Neural Network\".\n",
    "<br>\n",
    "->> Basically we have a true and predicted values by using networks, our aim is that making difference minimize.\n",
    "<br>\n",
    "->> In every layer, the data can be thought as cleared, transformed with their activation functions, etc.. \n",
    "### <font color=\"red\">Gradient Descent</font> \n",
    "->> It is an optimization method that is used for function minimization.\n",
    "<br>\n",
    "->> Gradient descent (GD) is an iterative first-order optimisation algorithm used to find a local minimum/maximum of a given function. It finds the related parameters which make minimum or maximum.\n",
    "<br>\n",
    "->> This method is commonly used in machine learning (ML) and deep learning(DL) to minimise a cost/loss function\n",
    "<img src=\"./used_images/cost.png\" width=\"600\" height=\"700\">\n",
    "->> To find the local minimum of a function using gradient descent, we must take steps proportional to the negative of the gradient (move away from the gradient) of the function at the current point.\n",
    "<br>\n",
    "->> If we take steps proportional to the positive of the gradient (moving towards the gradient), we will approach a local maximum of the function, and the procedure is called Gradient Ascent.\n",
    "<img src=\"./used_images/cost2.png\" width=\"600\" height=\"700\">\n",
    "<img src=\"./used_images/cost3.png\" width=\"600\" height=\"700\">\n",
    "->> Cost function can be names as Loss, and MSE (Mean Squared Error)\n",
    "### <font color=\"red\">General ANN Process</font> \n",
    "->> Giving imputs, the start of bias and weight values\n",
    "<br>\n",
    "->> Then forward propagation is done, and the errors are calculated\n",
    "<br>\n",
    "->> After finding error rate/s, backwards propagation is done.\n",
    "<br> \n",
    "->> Then Parameters are updated,and it gives a final prediction. It continues until a certain epoch or when our datasets error rate is decreasing.\n",
    "<br>\n",
    "### <font color=\"red\">Forward Propagation</font> \n",
    "<br> \n",
    "->> MSE generally used for regression problems, for classification problems logloss or cross entropy is preferred. Here we assumed that it is a regression problem, so we gave random weights for an example.\n",
    "<img src=\"./used_images/1.png\" width=\"500\" height=\"500\">\n",
    "<img src=\"./used_images/2.png\" width=\"500\" height=\"500\">\n",
    "->> Here, we calculated the total error of this example for forward propagation step in ann. \n",
    "<br>\n",
    "->> etotal also called as lost or cost.\n",
    "<br>\n",
    "\n",
    "### <font color=\"red\">Backwards Propagation</font> \n",
    "->> Used for weight optimization by using Gradient Descent Method.\n",
    "<img src=\"./used_images/3.png\" width=\"600\" height=\"600\">\n",
    "->> Lets assume that we want to optimize w5 value. To optimizing, we need to take a partial derivative of forward steps, we cannot directly take its partial derivative or we cannot calculate over total error because to arrive w5, we have out01, net01 and total error values.\n",
    "<br>\n",
    "->> To optimize w5 value, as we said before, we need to calculate the partial derivative to total by w5. Firstly we need to calculate the partial derivative of total by out01, then out01 by net01, and net01 by w5.\n",
    "<img src=\"./used_images/4.png\" width=\"600\" height=\"600\">\n",
    "->> Then we find this result. So what is this result, we calculated the partial derivative of total by w5. Next, we implement our update rule, it means we will update w5.\n",
    "### <font color=\"red\">Update Rule</font> \n",
    "->>  To find the optimized value, we multiply it by a learning rate , then we get optimized one.\n",
    "<br>\n",
    "->> The partial derivative of a function at a certain point gives us the maximum direction of increase.\n",
    "<br>\n",
    "->> Here our gradient value is positive, it means, in the formula as we can see there is a minus sign and when we do that calculation, the we will be move forward the negative side of the gradient.\n",
    "<br>\n",
    "->> The &alpha; value determines that the speed of the learning process. As we know, that if we give a high value to alpha we can miss the optimal point, simultaneously, if we give low value, the process will be too slow. It is better to find alpha value by using trial and error. Generally it is determined as, 0.1,0.01,0.5,0,05, etc..\n",
    "<img src=\"./used_images/5.png\" width=\"600\" height=\"600\">\n",
    "->> Above, we have demonstrated update rule for only w5 value, here you can see other updated values.\n",
    "<img src=\"./used_images/6.png\" width=\"600\" height=\"600\">\n",
    "->> As we can see below, our Total error (etotal) is decreased after optimization process of all weights. The process, which we have done above can be thought as just 1 epoch, if we do more, it can decrease the error and this is names as learning process.\n",
    "<img src=\"./used_images/7.png\" width=\"600\" height=\"600\">\n",
    "### <font color=\"red\">Activation Functions</font> \n",
    "->> An activation function's mission is trasmitting the data  by transforming it using various functions.\n",
    "<br>\n",
    "->> The activation functions are functions that are used for providing anns learning from complex datasets.\n",
    "<br>\n",
    "->> It is better to use non-linear activation functions because the non linear ones are more sensitive.\n",
    "<img src=\"./used_images/8.png\" width=\"700\" height=\"700\">\n",
    "->> Do we have to use activation functions ? When we dont use activation functions, it remains as it is or as linear, it isnt transformed.\n",
    "<br>\n",
    "### <font color=\"purple\">Sigmoid Activation Function</font> \n",
    "->> Sigmoid Function transforms the incoming value between 0 and 1. Generally used in classification problems' output layer.\n",
    "<br>\n",
    "->> Since we can see from the image above, sigmoid function's derivative is converged to 0, so there can be gradient vanishing problem. Therefore, it can stop the learning process, it is not preferred in the multiple-layered learning processes or inside the hidden layers.\n",
    "### <font color=\"purple\">Tanh or Hyperbolic Tangent Activation Function</font> \n",
    "->> Tanh is also like logistic sigmoid but better. The range of the tanh function is from (-1 to 1). tanh is also sigmoidal (s - shaped), non-linear.\n",
    "<br>\n",
    "->> The tanh function is mainly used classification between two classes.\n",
    "<br>\n",
    "->><font color=\"red\"> Both tanh and logistic sigmoid activation functions are used in feed-forward nets.</font>\n",
    "<br>\n",
    "->> It is not preferred in the multiple-layered learning processes.\n",
    "### <font color=\"purple\">ReLU (Rectified Linear Unit) Activation Function</font>\n",
    "->> g(z) is zero when z is less than zero and g(z) is equal to z when z is above or equal to zero.\n",
    "<br>\n",
    "->> ReLu is generally used to inside hidden layers.\n",
    "<br>\n",
    "->> It deactivates the neurons which are less than 0, it means that neurons take 0. Some neurons aren't worked.\n",
    "<img src=\"./used_images/9.png\" width=\"400\" height=\"400\">\n",
    "### <font color=\"purple\">As a Result;</font>\n",
    "->> ReLu is used inside hidden layers.\n",
    "<br>\n",
    "->> In output layer, Sigmoid function is used for classification problems\n",
    "<br>\n",
    "->> <font color=\"red\">The softmax function is a more generalized logistic activation function which is used for multiclass classification.</font>\n",
    "\n",
    "# <font color=\"orange\">Overfitting in ANN</font>\n",
    "->> <font color=\"red\"> There are some methods to prevent overfitting.</font> \n",
    "<br>\n",
    "->> Early Stopping\n",
    "<br>\n",
    "->> L1 and L2 Regularization\n",
    "<br>\n",
    "->> Dropout\n",
    "<br>\n",
    "->> Data Augmentation\n",
    "<img src=\"./used_images/11.png\" width=\"500\" height=\"500\">\n",
    "<img src=\"./used_images/12.png\" width=\"500\" height=\"500\">\n",
    "### <font color=\"purple\">The differences between L1 and L2 regularization:</font> \n",
    "->> L1 regularization penalizes the sum of absolute values of the weights, whereas L2 regularization penalizes the sum of squares of the weights. \n",
    "<br>\n",
    "->> The L1 regularization solution is sparse. The L2 regularization solution is non-sparse.\n",
    "<br>\n",
    "->> L2 regularization doesn’t perform feature selection, since weights are only reduced to values near 0 instead of 0. L1 regularization has built-in feature selection.\n",
    "<br>\n",
    "->> L1 regularization is robust to outliers, L2 regularization is not.\n",
    "### <font color=\"purple\">Dropout</font> \n",
    "->> Dropout is a technique where randomly selected neurons are ignored during training. They are “dropped out” randomly. This means that their contribution to the activation of downstream neurons is temporally removed on the forward pass, and any weight updates are not applied to the neuron on the backward pass.\n",
    "<img src=\"./used_images/13.png\" width=\"500\" height=\"500\">\n",
    "<img src=\"./used_images/14.png\" width=\"500\" height=\"500\">\n",
    "<img src=\"./used_images/15.png\" width=\"500\" height=\"500\">\n",
    "->> It has a similar job like random forests. Since, here we drop some neurons, and it allows us the selection of combinations are randomly selected.\n",
    "### <font color=\"purple\">Data Augmentation</font> \n",
    "->> Data augmentation in data analysis are techniques used to increase the amount of data by adding slightly modified copies of already existing data or newly created synthetic data from existing data. It acts as a regularizer and helps reduce overfitting when training a machine learning model\n",
    "\n",
    "# <font color=\"orange\">Handwritten Number Recognition</font>\n",
    "->> Business Problem\n",
    "<br>\n",
    "->> Data Understanding\n",
    "<br>\n",
    "->> Data Preparation\n",
    "<br>\n",
    "->> Modeling\n",
    "<br>\n",
    "->> Evaluation\n",
    "\n",
    "### <font color=\"red\">Business Problem</font>\n",
    "\n",
    "->> Can we use human power more efficiently ?\n",
    "<br>\n",
    "->> We will use MNIST dataset to exercise."
   ]
  },
  {
   "cell_type": "code",
   "execution_count": 103,
   "id": "5202fa49",
   "metadata": {},
   "outputs": [],
   "source": [
    "import tensorflow as tf\n",
    "from tensorflow.keras.datasets import mnist\n",
    "from tensorflow.keras.models import load_model,Sequential\n",
    "from tensorflow.keras.layers import Dense,Flatten\n",
    "from tensorflow.keras.utils import to_categorical, plot_model\n",
    "import matplotlib.pyplot as plt\n",
    "import numpy as np\n",
    "import pandas as pd\n",
    "import warnings\n",
    "from warnings import filterwarnings\n",
    "warnings.filterwarnings(\"ignore\",category=DeprecationWarning)\n",
    "warnings.filterwarnings(\"ignore\",category=FutureWarning)\n",
    "warnings.filterwarnings(\"ignore\",category=UserWarning)\n",
    "filterwarnings(\"ignore\")"
   ]
  },
  {
   "cell_type": "code",
   "execution_count": 104,
   "id": "58c80ebb",
   "metadata": {},
   "outputs": [],
   "source": [
    "(x_train, y_train),(x_test,y_test) = mnist.load_data()"
   ]
  },
  {
   "cell_type": "code",
   "execution_count": 105,
   "id": "2b0bb902",
   "metadata": {},
   "outputs": [
    {
     "name": "stdout",
     "output_type": "stream",
     "text": [
      "(60000, 28, 28) (60000,)\n",
      "(10000, 28, 28) (10000,)\n"
     ]
    }
   ],
   "source": [
    "print(x_train.shape,y_train.shape) \n",
    "print(x_test.shape,y_test.shape)"
   ]
  },
  {
   "cell_type": "code",
   "execution_count": 106,
   "id": "857855e3",
   "metadata": {},
   "outputs": [
    {
     "data": {
      "text/plain": [
       "array([0, 1, 2, 3, 4, 5, 6, 7, 8, 9], dtype=uint8)"
      ]
     },
     "execution_count": 106,
     "metadata": {},
     "output_type": "execute_result"
    }
   ],
   "source": [
    "# x are independent , y are target variables\n",
    "(np.unique(y_train))\n"
   ]
  },
  {
   "cell_type": "code",
   "execution_count": 107,
   "id": "f72b1709",
   "metadata": {},
   "outputs": [],
   "source": [
    "num_labels = len(np.unique(y_train))"
   ]
  },
  {
   "cell_type": "code",
   "execution_count": 108,
   "id": "72174031",
   "metadata": {},
   "outputs": [],
   "source": [
    "def visualize_img(data):\n",
    "    plt.figure(figsize=(10,10))\n",
    "    for i in range(10):\n",
    "        ax = plt.subplot(5,5,i+1)\n",
    "        plt.imshow(data[i],cmap=\"gray\")\n",
    "        plt.axis(\"off\")\n",
    "        "
   ]
  },
  {
   "cell_type": "code",
   "execution_count": 109,
   "id": "ae24adc0",
   "metadata": {
    "scrolled": false
   },
   "outputs": [
    {
     "data": {
      "image/png": "[encoded data removed]",
      "text/plain": [
       "<Figure size 720x720 with 10 Axes>"
      ]
     },
     "metadata": {
      "needs_background": "light"
     },
     "output_type": "display_data"
    }
   ],
   "source": [
    "visualize_img(x_train)"
   ]
  },
  {
   "cell_type": "code",
   "execution_count": 110,
   "id": "836850c9",
   "metadata": {},
   "outputs": [
    {
     "data": {
      "text/plain": [
       "(60000, 28, 28)"
      ]
     },
     "execution_count": 110,
     "metadata": {},
     "output_type": "execute_result"
    }
   ],
   "source": [
    "x_train.shape"
   ]
  },
  {
   "cell_type": "code",
   "execution_count": 111,
   "id": "c17e58e9",
   "metadata": {},
   "outputs": [
    {
     "data": {
      "text/plain": [
       "Text(0, 0.5, 'x_axis')"
      ]
     },
     "execution_count": 111,
     "metadata": {},
     "output_type": "execute_result"
    },
    {
     "data": {
      "image/png": "[encoded data removed]",
      "text/plain": [
       "<Figure size 360x360 with 1 Axes>"
      ]
     },
     "metadata": {
      "needs_background": "light"
     },
     "output_type": "display_data"
    }
   ],
   "source": [
    "plt.figure(figsize=(5,5))\n",
    "plt.imshow(x_train[2],cmap=\"gray\");\n",
    "plt.xlabel(\"y_axis\")\n",
    "plt.ylabel(\"x_axis\")"
   ]
  },
  {
   "cell_type": "code",
   "execution_count": 112,
   "id": "e22fe8ba",
   "metadata": {},
   "outputs": [
    {
     "data": {
      "text/plain": [
       "0"
      ]
     },
     "execution_count": 112,
     "metadata": {},
     "output_type": "execute_result"
    }
   ],
   "source": [
    "x_train[2][10,10]"
   ]
  },
  {
   "cell_type": "code",
   "execution_count": 113,
   "id": "bb9c7df4",
   "metadata": {},
   "outputs": [
    {
     "data": {
      "text/plain": [
       "49"
      ]
     },
     "execution_count": 113,
     "metadata": {},
     "output_type": "execute_result"
    }
   ],
   "source": [
    "x_train[2][14,10]"
   ]
  },
  {
   "cell_type": "code",
   "execution_count": 114,
   "id": "bd200066",
   "metadata": {},
   "outputs": [
    {
     "data": {
      "text/plain": [
       "24.799744897959183"
      ]
     },
     "execution_count": 114,
     "metadata": {},
     "output_type": "execute_result"
    }
   ],
   "source": [
    "x_train[2].mean()"
   ]
  },
  {
   "cell_type": "code",
   "execution_count": 115,
   "id": "764b8979",
   "metadata": {},
   "outputs": [
    {
     "data": {
      "text/plain": [
       "array([[ 49, 116, 144, 150, 241, 243, 234, 179, 241, 252],\n",
       "       [254, 250, 240, 198, 143,  91,  28,   5, 233, 250],\n",
       "       [ 98,  56,   0,   0,   0,   0,   0, 102, 254, 220],\n",
       "       [  0,   0,   0,   0,   0,   0,   0, 169, 254, 137],\n",
       "       [  0,   0,   0,   0,   0,   0,   0, 169, 254,  57],\n",
       "       [  0,   0,   0,   0,   0,   0,   0, 169, 254,  57]], dtype=uint8)"
      ]
     },
     "execution_count": 115,
     "metadata": {},
     "output_type": "execute_result"
    }
   ],
   "source": [
    "x_train[2][14:20,10:20]"
   ]
  },
  {
   "cell_type": "code",
   "execution_count": 116,
   "id": "262aabc5",
   "metadata": {},
   "outputs": [
    {
     "data": {
      "text/plain": [
       "96.51666666666667"
      ]
     },
     "execution_count": 116,
     "metadata": {},
     "output_type": "execute_result"
    }
   ],
   "source": [
    "x_train[2][14:20,10:20].mean() # we can represent or we can divide image by slicing"
   ]
  },
  {
   "cell_type": "markdown",
   "id": "b28bef65",
   "metadata": {},
   "source": [
    "->> These are subplot grid parameters encoded as a single integer. For example, \"111\" means \"1x1 grid, first subplot\" and \"234\" means \"2x3 grid, 4th subplot\".\n",
    "\n",
    "Alternative form for add_subplot(111) is add_subplot(1, 1, 1)."
   ]
  },
  {
   "cell_type": "code",
   "execution_count": 117,
   "id": "156a7d49",
   "metadata": {},
   "outputs": [],
   "source": [
    "# we can visualize pixels\n",
    "def pixel_visualize(img):\n",
    "    fig = plt.figure(figsize=(12,12))\n",
    "    ax = fig.add_subplot(111)\n",
    "    ax.imshow(img,cmap=\"gray\")\n",
    "    width,height = img.shape\n",
    "    \n",
    "    threshold = img.max()/2.5\n",
    "    for x in range(width):\n",
    "        for y in range(height):\n",
    "            ax.annotate(str(round(img[x][y],2)),xy=(y,x),color=\"white\" if img[x][y]<threshold else \"black\")\n",
    "    \n",
    "    \n",
    "      "
   ]
  },
  {
   "cell_type": "code",
   "execution_count": 118,
   "id": "f57584d6",
   "metadata": {},
   "outputs": [
    {
     "data": {
      "image/png": "[encoded data removed]",
      "text/plain": [
       "<Figure size 864x864 with 1 Axes>"
      ]
     },
     "metadata": {
      "needs_background": "light"
     },
     "output_type": "display_data"
    }
   ],
   "source": [
    "pixel_visualize(x_train[2])"
   ]
  },
  {
   "cell_type": "markdown",
   "id": "9903ca21",
   "metadata": {},
   "source": [
    "->> We do 3 steps for data preparation;\n",
    "<br>\n",
    "->> Encoding for dependent variable\n",
    "<br>\n",
    "->> Reshaping for anns detecting\n",
    "<br>\n",
    "->> Normalization for every pixels standardization\n",
    "### <font color=\"purple\">Encoding</font>\n",
    "->> Before => [0,1,2,3,4,5,6,7,8,9] \n",
    "<br>\n",
    "->> After encoding => [0,0,1,0,0,0,0,0,0]"
   ]
  },
  {
   "cell_type": "code",
   "execution_count": 119,
   "id": "662553dc",
   "metadata": {},
   "outputs": [
    {
     "data": {
      "text/plain": [
       "(28, 28)"
      ]
     },
     "execution_count": 119,
     "metadata": {},
     "output_type": "execute_result"
    }
   ],
   "source": [
    "x_train[2].shape"
   ]
  },
  {
   "cell_type": "code",
   "execution_count": 120,
   "id": "fd4eeb77",
   "metadata": {},
   "outputs": [
    {
     "name": "stdout",
     "output_type": "stream",
     "text": [
      "x_train:(60000,)\n",
      "x_test:(10000,)\n",
      "x_train:(60000, 28, 28)\n",
      "x_test:(10000, 28, 28)\n"
     ]
    }
   ],
   "source": [
    "print(f\"x_train:{y_train.shape}\")\n",
    "print(f\"x_test:{y_test.shape}\")\n",
    "print(f\"x_train:{x_train.shape}\")\n",
    "print(f\"x_test:{x_test.shape}\")"
   ]
  },
  {
   "cell_type": "code",
   "execution_count": 121,
   "id": "8bb8a713",
   "metadata": {},
   "outputs": [],
   "source": [
    "y_train = to_categorical(y_train)\n",
    "y_test = to_categorical(y_test)"
   ]
  },
  {
   "cell_type": "code",
   "execution_count": 122,
   "id": "13aa3ac9",
   "metadata": {},
   "outputs": [
    {
     "name": "stdout",
     "output_type": "stream",
     "text": [
      "x_train:(60000, 10)\n",
      "x_test:(10000, 10)\n"
     ]
    }
   ],
   "source": [
    "print(f\"x_train:{y_train.shape}\")\n",
    "print(f\"x_test:{y_test.shape}\")"
   ]
  },
  {
   "cell_type": "markdown",
   "id": "7747aae5",
   "metadata": {},
   "source": [
    "### <font color=\"purple\">Reshaping</font>\n",
    "->> We need to add pixel values to x datasets"
   ]
  },
  {
   "cell_type": "code",
   "execution_count": 123,
   "id": "4ff5bf78",
   "metadata": {},
   "outputs": [],
   "source": [
    "image_size=x_train.shape[1]"
   ]
  },
  {
   "cell_type": "code",
   "execution_count": 124,
   "id": "1a16980b",
   "metadata": {},
   "outputs": [
    {
     "data": {
      "text/plain": [
       "28"
      ]
     },
     "execution_count": 124,
     "metadata": {},
     "output_type": "execute_result"
    }
   ],
   "source": [
    "image_size"
   ]
  },
  {
   "cell_type": "code",
   "execution_count": 125,
   "id": "4885bf4f",
   "metadata": {},
   "outputs": [
    {
     "name": "stdout",
     "output_type": "stream",
     "text": [
      "-------Before-------\n",
      "x_train:(60000, 28, 28)\n",
      "x_test:(10000, 28, 28)\n"
     ]
    }
   ],
   "source": [
    "print(\"-------Before-------\")\n",
    "print(f\"x_train:{x_train.shape}\")\n",
    "print(f\"x_test:{x_test.shape}\")"
   ]
  },
  {
   "cell_type": "code",
   "execution_count": 126,
   "id": "5d72a16a",
   "metadata": {},
   "outputs": [
    {
     "name": "stdout",
     "output_type": "stream",
     "text": [
      "-------After-------\n",
      "x_train:(60000, 28, 28, 1)\n",
      "x_test:(10000, 28, 28, 1)\n"
     ]
    }
   ],
   "source": [
    "# As we know the image is 28*28 pixels so = 784, The 1 value represents every pixel's value, thats why we reshaped the image\n",
    "x_train = x_train.reshape(x_train.shape[0],28,28,1)\n",
    "x_test = x_test.reshape(x_test.shape[0],28,28,1)\n",
    "print(\"-------After-------\")\n",
    "print(f\"x_train:{x_train.shape}\")\n",
    "print(f\"x_test:{x_test.shape}\")"
   ]
  },
  {
   "cell_type": "code",
   "execution_count": 127,
   "id": "04d80a90",
   "metadata": {},
   "outputs": [
    {
     "data": {
      "text/plain": [
       "(28, 28, 1)"
      ]
     },
     "execution_count": 127,
     "metadata": {},
     "output_type": "execute_result"
    }
   ],
   "source": [
    "x_train[2].shape"
   ]
  },
  {
   "cell_type": "markdown",
   "id": "64135a0c",
   "metadata": {},
   "source": [
    "### <font color=\"purple\">Standardization</font>\n",
    "->> We need to do a standardization for fast learning and performance of ann, so we need to change pixel values to 0-1\n",
    "<br>\n",
    "->> For performance we converted to float32"
   ]
  },
  {
   "cell_type": "code",
   "execution_count": 128,
   "id": "0e5e615b",
   "metadata": {},
   "outputs": [],
   "source": [
    "x_train = x_train.astype(\"float32\") / 255\n",
    "x_test = x_test.astype(\"float32\") / 255"
   ]
  },
  {
   "cell_type": "code",
   "execution_count": 129,
   "id": "b0ecbe9f",
   "metadata": {
    "scrolled": true
   },
   "outputs": [
    {
     "name": "stdout",
     "output_type": "stream",
     "text": [
      "x_train:(60000, 28, 28, 1)\n",
      "x_test:(10000, 28, 28, 1)\n"
     ]
    }
   ],
   "source": [
    "print(f\"x_train:{x_train.shape}\")\n",
    "print(f\"x_test:{x_test.shape}\")"
   ]
  },
  {
   "cell_type": "markdown",
   "id": "937dd1b7",
   "metadata": {},
   "source": [
    "## <font color=\"red\">Modeling</font>\n",
    "\n",
    "### <font color=\"purple\">Defining an Ann</font>"
   ]
  },
  {
   "cell_type": "code",
   "execution_count": 130,
   "id": "b50b8d3a",
   "metadata": {},
   "outputs": [],
   "source": [
    "#Flatten is used for understanding to dataset which is standarted and normalized. Also units=128 is used for this dataset.\n",
    "model = tf.keras.Sequential([\n",
    "        Flatten(input_shape=(28,28,1)),\n",
    "        Dense(units=128,activation=\"relu\",name=\"layer1\"),\n",
    "    \n",
    "        Dense(units=num_labels,activation=\"softmax\",name=\"output_layer\")])\n",
    "\n",
    "# Defining loss optimizer and metrics.\n",
    "model.compile(loss=\"categorical_crossentropy\",optimizer=\"adam\",metrics=[tf.keras.metrics.Precision(),\n",
    "                                                                       tf.keras.metrics.Recall(),\"accuracy\"])"
   ]
  },
  {
   "cell_type": "code",
   "execution_count": 131,
   "id": "4cf08804",
   "metadata": {},
   "outputs": [
    {
     "name": "stdout",
     "output_type": "stream",
     "text": [
      "Model: \"sequential_1\"\n",
      "_________________________________________________________________\n",
      " Layer (type)                Output Shape              Param #   \n",
      "=================================================================\n",
      " flatten_1 (Flatten)         (None, 784)               0         \n",
      "                                                                 \n",
      " layer1 (Dense)              (None, 128)               100480    \n",
      "                                                                 \n",
      " output_layer (Dense)        (None, 10)                1290      \n",
      "                                                                 \n",
      "=================================================================\n",
      "Total params: 101,770\n",
      "Trainable params: 101,770\n",
      "Non-trainable params: 0\n",
      "_________________________________________________________________\n"
     ]
    }
   ],
   "source": [
    "model.summary()"
   ]
  },
  {
   "cell_type": "markdown",
   "id": "ff3f7950",
   "metadata": {},
   "source": [
    "\n",
    "->> Output layer is 128*10, but it adds additionally bias values of 10 values so => 1290"
   ]
  },
  {
   "cell_type": "markdown",
   "id": "ea600139",
   "metadata": {},
   "source": [
    "\n"
   ]
  },
  {
   "cell_type": "markdown",
   "id": "ad5e4eb4",
   "metadata": {},
   "source": [
    "### <font color=\"purple\">Fitting model</font>\n",
    "->> Batch size is a term used in machine learning and refers to the number of training examples utilized in one iteration.\n",
    "<br>\n",
    "<br>\n",
    "->> For instance, let's say you have 1280 training samples and you want to set up a batch_size equal to 128. The algorithm takes the first 128 samples (from 1st to 128th) from the training dataset and trains the network. Next, it takes the second 128 samples (from 129st to 256th) and trains the network again. We can keep doing this procedure until we have propagated all samples through of the network. Problem might happen with the last set of samples. In our example, we've used 1280 which is not divisible by 128 without remainder."
   ]
  },
  {
   "cell_type": "code",
   "execution_count": 132,
   "id": "b6bdfa65",
   "metadata": {},
   "outputs": [
    {
     "name": "stdout",
     "output_type": "stream",
     "text": [
      "Epoch 1/10\n",
      "938/938 [==============================] - 2s 2ms/step - loss: 0.2975 - precision_1: 0.9498 - recall_1: 0.8801 - accuracy: 0.9166 - val_loss: 0.1586 - val_precision_1: 0.9633 - val_recall_1: 0.9452 - val_accuracy: 0.9542\n",
      "Epoch 2/10\n",
      "938/938 [==============================] - 2s 2ms/step - loss: 0.1345 - precision_1: 0.9692 - recall_1: 0.9531 - accuracy: 0.9608 - val_loss: 0.1175 - val_precision_1: 0.9704 - val_recall_1: 0.9588 - val_accuracy: 0.9642\n",
      "Epoch 3/10\n",
      "938/938 [==============================] - 2s 2ms/step - loss: 0.0941 - precision_1: 0.9776 - recall_1: 0.9678 - accuracy: 0.9724 - val_loss: 0.0951 - val_precision_1: 0.9755 - val_recall_1: 0.9677 - val_accuracy: 0.9710\n",
      "Epoch 4/10\n",
      "938/938 [==============================] - 2s 2ms/step - loss: 0.0725 - precision_1: 0.9820 - recall_1: 0.9752 - accuracy: 0.9783 - val_loss: 0.0856 - val_precision_1: 0.9767 - val_recall_1: 0.9702 - val_accuracy: 0.9730\n",
      "Epoch 5/10\n",
      "938/938 [==============================] - 2s 2ms/step - loss: 0.0566 - precision_1: 0.9861 - recall_1: 0.9805 - accuracy: 0.9830 - val_loss: 0.0757 - val_precision_1: 0.9797 - val_recall_1: 0.9742 - val_accuracy: 0.9771\n",
      "Epoch 6/10\n",
      "938/938 [==============================] - 2s 2ms/step - loss: 0.0456 - precision_1: 0.9883 - recall_1: 0.9842 - accuracy: 0.9862 - val_loss: 0.0788 - val_precision_1: 0.9769 - val_recall_1: 0.9723 - val_accuracy: 0.9734\n",
      "Epoch 7/10\n",
      "938/938 [==============================] - 2s 2ms/step - loss: 0.0366 - precision_1: 0.9907 - recall_1: 0.9879 - accuracy: 0.9893 - val_loss: 0.0724 - val_precision_1: 0.9794 - val_recall_1: 0.9756 - val_accuracy: 0.9770\n",
      "Epoch 8/10\n",
      "938/938 [==============================] - 2s 2ms/step - loss: 0.0304 - precision_1: 0.9922 - recall_1: 0.9898 - accuracy: 0.9909 - val_loss: 0.0788 - val_precision_1: 0.9776 - val_recall_1: 0.9730 - val_accuracy: 0.9749\n",
      "Epoch 9/10\n",
      "938/938 [==============================] - 2s 2ms/step - loss: 0.0254 - precision_1: 0.9935 - recall_1: 0.9917 - accuracy: 0.9927 - val_loss: 0.0723 - val_precision_1: 0.9787 - val_recall_1: 0.9758 - val_accuracy: 0.9768\n",
      "Epoch 10/10\n",
      "938/938 [==============================] - 2s 2ms/step - loss: 0.0209 - precision_1: 0.9947 - recall_1: 0.9933 - accuracy: 0.9939 - val_loss: 0.0733 - val_precision_1: 0.9798 - val_recall_1: 0.9765 - val_accuracy: 0.9777\n"
     ]
    },
    {
     "data": {
      "text/plain": [
       "<keras.callbacks.History at 0x1f91ee0cca0>"
      ]
     },
     "execution_count": 132,
     "metadata": {},
     "output_type": "execute_result"
    }
   ],
   "source": [
    "# After defining model, we need to fit it\n",
    "# batch_size is during optimization process (gradient calculating) takes random 128 samples and does its optimization to looking this\n",
    "model.fit(x_train,y_train,epochs=10,batch_size=64,validation_data=(x_test,y_test))"
   ]
  },
  {
   "cell_type": "markdown",
   "id": "68bc42fb",
   "metadata": {},
   "source": [
    "### <font color=\"purple\">We can evaluate our model</font>"
   ]
  },
  {
   "cell_type": "code",
   "execution_count": 133,
   "id": "3aa3fada",
   "metadata": {},
   "outputs": [
    {
     "name": "stdout",
     "output_type": "stream",
     "text": [
      "Epoch 1/10\n",
      "469/469 [==============================] - 1s 2ms/step - loss: 0.0118 - precision_1: 0.9979 - recall_1: 0.9974 - accuracy: 0.9977 - val_loss: 0.0707 - val_precision_1: 0.9798 - val_recall_1: 0.9777 - val_accuracy: 0.9787\n",
      "Epoch 2/10\n",
      "469/469 [==============================] - 1s 2ms/step - loss: 0.0096 - precision_1: 0.9986 - recall_1: 0.9981 - accuracy: 0.9984 - val_loss: 0.0680 - val_precision_1: 0.9811 - val_recall_1: 0.9791 - val_accuracy: 0.9796\n",
      "Epoch 3/10\n",
      "469/469 [==============================] - 1s 2ms/step - loss: 0.0080 - precision_1: 0.9989 - recall_1: 0.9985 - accuracy: 0.9987 - val_loss: 0.0705 - val_precision_1: 0.9810 - val_recall_1: 0.9793 - val_accuracy: 0.9799\n",
      "Epoch 4/10\n",
      "469/469 [==============================] - 1s 2ms/step - loss: 0.0077 - precision_1: 0.9989 - recall_1: 0.9986 - accuracy: 0.9988 - val_loss: 0.0746 - val_precision_1: 0.9792 - val_recall_1: 0.9768 - val_accuracy: 0.9778\n",
      "Epoch 5/10\n",
      "469/469 [==============================] - 1s 2ms/step - loss: 0.0068 - precision_1: 0.9991 - recall_1: 0.9990 - accuracy: 0.9991 - val_loss: 0.0740 - val_precision_1: 0.9801 - val_recall_1: 0.9776 - val_accuracy: 0.9784\n",
      "Epoch 6/10\n",
      "469/469 [==============================] - 1s 2ms/step - loss: 0.0063 - precision_1: 0.9991 - recall_1: 0.9989 - accuracy: 0.9991 - val_loss: 0.0761 - val_precision_1: 0.9789 - val_recall_1: 0.9768 - val_accuracy: 0.9776\n",
      "Epoch 7/10\n",
      "469/469 [==============================] - 1s 2ms/step - loss: 0.0058 - precision_1: 0.9991 - recall_1: 0.9989 - accuracy: 0.9990 - val_loss: 0.0778 - val_precision_1: 0.9800 - val_recall_1: 0.9781 - val_accuracy: 0.9788\n",
      "Epoch 8/10\n",
      "469/469 [==============================] - 1s 2ms/step - loss: 0.0044 - precision_1: 0.9995 - recall_1: 0.9993 - accuracy: 0.9994 - val_loss: 0.0742 - val_precision_1: 0.9814 - val_recall_1: 0.9800 - val_accuracy: 0.9803\n",
      "Epoch 9/10\n",
      "469/469 [==============================] - 1s 2ms/step - loss: 0.0043 - precision_1: 0.9995 - recall_1: 0.9994 - accuracy: 0.9995 - val_loss: 0.0858 - val_precision_1: 0.9782 - val_recall_1: 0.9769 - val_accuracy: 0.9774\n",
      "Epoch 10/10\n",
      "469/469 [==============================] - 1s 2ms/step - loss: 0.0050 - precision_1: 0.9992 - recall_1: 0.9991 - accuracy: 0.9991 - val_loss: 0.0886 - val_precision_1: 0.9790 - val_recall_1: 0.9770 - val_accuracy: 0.9776\n"
     ]
    }
   ],
   "source": [
    "history = model.fit(x_train,y_train,epochs=10,batch_size=128,validation_data=(x_test,y_test))"
   ]
  },
  {
   "cell_type": "markdown",
   "id": "ff200bc2",
   "metadata": {},
   "source": [
    "### <font color=\"red\">Accuracy and Loss Graphs</font>"
   ]
  },
  {
   "cell_type": "code",
   "execution_count": 134,
   "id": "c11dc678",
   "metadata": {},
   "outputs": [
    {
     "data": {
      "image/png": "[encoded data removed]",
      "text/plain": [
       "<Figure size 1440x360 with 2 Axes>"
      ]
     },
     "metadata": {
      "needs_background": "light"
     },
     "output_type": "display_data"
    }
   ],
   "source": [
    "# Accuracy Graph\n",
    "\n",
    "plt.figure(figsize=(20,5))\n",
    "\n",
    "plt.subplot(1,2,1) # First plot\n",
    "plt.plot(history.history[\"accuracy\"],color=\"b\",label=\"Training Accuracy\")\n",
    "plt.plot(history.history[\"val_accuracy\"],color=\"r\",label=\"Validation Accuracy\")\n",
    "plt.legend(loc=\"lower right\")\n",
    "plt.xlabel(\"Epoch\",fontsize=16)\n",
    "plt.ylabel(\"Accuracy\",fontsize=16)\n",
    "plt.ylim([min(plt.ylim()),1])\n",
    "plt.title(\"Accuracy Graph\",fontsize=16)\n",
    "\n",
    "# Loss Graph\n",
    "plt.subplot(1,2,2) # Second Graph\n",
    "plt.plot(history.history[\"loss\"],color=\"b\",label=\"Loss\")\n",
    "plt.plot(history.history[\"val_loss\"],color=\"r\",label=\"Validation Loss\")\n",
    "plt.legend(loc=\"upper right\")\n",
    "plt.xlabel(\"Epoch\",fontsize=16)\n",
    "plt.ylabel(\"Loss\",fontsize=16)\n",
    "plt.title(\"Loss Graph\",fontsize=16)\n",
    "plt.ylim(0,max(plt.ylim()))\n",
    "plt.show()"
   ]
  },
  {
   "cell_type": "code",
   "execution_count": 135,
   "id": "9aeb4d92",
   "metadata": {},
   "outputs": [
    {
     "name": "stdout",
     "output_type": "stream",
     "text": [
      "Test Accuracy: 97.8%\n",
      "Test Loss: 8.9%\n",
      "Test Precision: 97.9%\n",
      "Test Recall: 97.7%\n"
     ]
    }
   ],
   "source": [
    "# Evaluating model\n",
    "\n",
    "loss, precision, recall, acc = model.evaluate(x_test,y_test,verbose=False)\n",
    "print(\"Test Accuracy: %.1f%%\"%(100*acc))\n",
    "print(\"Test Loss: %.1f%%\"%(100*loss))\n",
    "print(\"Test Precision: %.1f%%\"%(100*precision))\n",
    "print(\"Test Recall: %.1f%%\"%(100*recall))"
   ]
  },
  {
   "cell_type": "markdown",
   "id": "40021db7",
   "metadata": {},
   "source": [
    "->> Precision and Recall;\n",
    "<br>\n",
    "->> If our accuracy,precision and recall values are close together, it means there is no unbalanced situation.\n",
    "<br>\n",
    "->> Precision is our predictions' success.\n",
    "<br>\n",
    "->> How many of the true positives were correctly identified? "
   ]
  },
  {
   "cell_type": "markdown",
   "id": "b35ec32d",
   "metadata": {},
   "source": [
    "### <font color=\"purple\">Model Saving and Prediction</font>"
   ]
  },
  {
   "cell_type": "code",
   "execution_count": 136,
   "id": "091cd865",
   "metadata": {},
   "outputs": [],
   "source": [
    "model.save(\"mnist_model.h5\")"
   ]
  },
  {
   "cell_type": "code",
   "execution_count": 143,
   "id": "6af055fb",
   "metadata": {},
   "outputs": [
    {
     "data": {
      "text/plain": [
       "6766"
      ]
     },
     "execution_count": 143,
     "metadata": {},
     "output_type": "execute_result"
    }
   ],
   "source": [
    "# Choosing a random image to prediction\n",
    "import random\n",
    "random = random.randint(0,x_test.shape[0])\n",
    "random"
   ]
  },
  {
   "cell_type": "code",
   "execution_count": 144,
   "id": "e45cc20c",
   "metadata": {},
   "outputs": [
    {
     "data": {
      "text/plain": [
       "array([1., 0., 0., 0., 0., 0., 0., 0., 0., 0.], dtype=float32)"
      ]
     },
     "execution_count": 144,
     "metadata": {},
     "output_type": "execute_result"
    }
   ],
   "source": [
    "test_image = x_test[random]\n",
    "y_test[random]"
   ]
  },
  {
   "cell_type": "code",
   "execution_count": 145,
   "id": "6dc97f98",
   "metadata": {},
   "outputs": [
    {
     "data": {
      "image/png": "[encoded data removed]",
      "text/plain": [
       "<Figure size 432x288 with 1 Axes>"
      ]
     },
     "metadata": {
      "needs_background": "light"
     },
     "output_type": "display_data"
    }
   ],
   "source": [
    "plt.imshow(test_image.reshape(28,28),cmap=\"gray\");"
   ]
  },
  {
   "cell_type": "code",
   "execution_count": 146,
   "id": "715aac5c",
   "metadata": {},
   "outputs": [],
   "source": [
    "test_data = x_test[random].reshape(1,28,28,1)"
   ]
  },
  {
   "cell_type": "code",
   "execution_count": 147,
   "id": "9a80f504",
   "metadata": {},
   "outputs": [
    {
     "name": "stdout",
     "output_type": "stream",
     "text": [
      "1/1 [==============================] - 0s 71ms/step\n"
     ]
    },
    {
     "data": {
      "text/plain": [
       "array([[1.0000000e+00, 1.6328051e-22, 1.9644381e-13, 1.3807955e-20,\n",
       "        5.3718666e-22, 1.9612145e-17, 2.6445562e-12, 3.2295373e-18,\n",
       "        5.2147720e-18, 4.7411068e-15]], dtype=float32)"
      ]
     },
     "execution_count": 147,
     "metadata": {},
     "output_type": "execute_result"
    }
   ],
   "source": [
    "probability = model.predict(test_data)\n",
    "probability"
   ]
  },
  {
   "cell_type": "code",
   "execution_count": 148,
   "id": "a3823d1a",
   "metadata": {},
   "outputs": [],
   "source": [
    "predicted_classes = np.argmax(probability)"
   ]
  },
  {
   "cell_type": "code",
   "execution_count": 149,
   "id": "b5b2ea88",
   "metadata": {},
   "outputs": [
    {
     "name": "stdout",
     "output_type": "stream",
     "text": [
      "Predicted Class: 0\n",
      "Probability of Predicted Class: 100.00% \n",
      "Other Classes Probability Values:\n",
      " [[1.0000000e+00 1.6328051e-22 1.9644381e-13 1.3807955e-20 5.3718666e-22\n",
      "  1.9612145e-17 2.6445562e-12 3.2295373e-18 5.2147720e-18 4.7411068e-15]]\n"
     ]
    }
   ],
   "source": [
    "print(f\"Predicted Class: {predicted_classes}\")\n",
    "print(\"Probability of Predicted Class: %.2f%% \"%(np.max(probability)*100))\n",
    "print(f\"Other Classes Probability Values:\\n {probability}\")                                       "
   ]
  },
  {
   "cell_type": "code",
   "execution_count": null,
   "id": "5c2ee9b7",
   "metadata": {},
   "outputs": [],
   "source": []
  }
 ],
 "metadata": {
  "kernelspec": {
   "display_name": "Python 3 (ipykernel)",
   "language": "python",
   "name": "python3"
  },
  "language_info": {
   "codemirror_mode": {
    "name": "ipython",
    "version": 3
   },
   "file_extension": ".py",
   "mimetype": "text/x-python",
   "name": "python",
   "nbconvert_exporter": "python",
   "pygments_lexer": "ipython3",
   "version": "3.9.12"
  }
 },
 "nbformat": 4,
 "nbformat_minor": 5
}
