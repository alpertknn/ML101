{
 "cells": [
  {
   "cell_type": "markdown",
   "id": "049a39de",
   "metadata": {},
   "source": [
    "# <font color=\"orange\">In this course we will follow these topics; (as Classification Problems) </font>\n",
    "<b>\n",
    "->> Logistic Regression\n",
    "<br>\n",
    "->> K-Nearest Neighbors Algorithm\n",
    "<br>\n",
    "->> Support Vector Regression - SVR\n",
    "<br>\n",
    "->> Artificial neural network\n",
    "<br>\n",
    "->> Classification and Regression Trees\n",
    "<br>\n",
    "->> Random Forests\n",
    "<br>\n",
    "->> Gradient Boosting Machines\n",
    "<br>\n",
    "->> XGBoost\n",
    "<br>\n",
    "->> LightGBM\n",
    "<br>\n",
    "->> CatBoost\n",
    "</b>\n",
    "\n",
    "->> Classification is a modelization type that used when dependent variable is consisted of classes or categorical variables. \n",
    "<br>\n",
    "<b>>> Woman or man, sick or not sick, can pay or cant pay </b>\n",
    "<br>\n",
    "->> Another type of Supervised Learning -> Regression, Classification\n",
    "<br>\n",
    "\n",
    "# <font color=\"orange\">Logistic Regression</font>\n",
    "<b><font color=\"purple\">->> Our main aim is that generate a model which states a relationship between independent and dependent variables.</font></b>\n",
    "<br>\n",
    "->> Logistic Regression can be thought as an adapted version of Multiple Linear Regression's classification problems, but it has some differences.\n",
    "<br>\n",
    "->> Dependent variable is consisted of categorical variables\n",
    "<br>\n",
    "->> Logistic Regression takes its name from logit transformation.\n",
    "<br>\n",
    "->> The hypothesis which are needed to applying on Linear Regression don't necessary in here, so it makes Logistic Regression flexible.\n",
    "<br>\n",
    "->> The probability of occurance of depentdent variables's value, that is defined as 1, is calculated. Thus, We don't interest that dependent value, what  value it will take.\n",
    "<br>\n",
    "->> By Logistic Function, the producted values are between 0-1.\n",
    "<img src=\"./used_images/logistic.png\"  width=\"500\" height=\"500\">\n",
    "<br>\n",
    "<b><font color=\"purple\">->> How to Find These Coefficients ?</font></b>\n",
    "<br>\n",
    "->> As we remember from the regression, we tried to find the coefficients that minimize the difference between the squares of the dependent and independent variables. In here, we use similar methods to find these coefficients.\n",
    "<img src=\"./used_images/logistic2.png\"  width=\"500\" height=\"500\">\n",
    "<br>\n",
    "### <font color=\"red\">Logistic Regression Model and Prediction</font>"
   ]
  },
  {
   "cell_type": "code",
   "execution_count": 17,
   "id": "dd9057f7",
   "metadata": {},
   "outputs": [],
   "source": [
    "# The all functions that we will use in this work\n",
    "import pandas as pd\n",
    "import numpy as np\n",
    "import seaborn as sns\n",
    "import statsmodels.api as sm\n",
    "import matplotlib.pyplot as plt\n",
    "\n",
    "from sklearn.metrics import accuracy_score,r2_score,mean_squared_error,confusion_matrix,roc_auc_score,roc_curve, classification_report\n",
    "from sklearn.preprocessing import scale,StandardScaler\n",
    "from sklearn.model_selection import train_test_split,GridSearchCV,cross_val_score\n",
    "from sklearn.linear_model import LogisticRegression\n",
    "from sklearn.tree import DecisionTreeClassifier\n",
    "from sklearn.neighbors import KNeighborsClassifier\n",
    "from sklearn.ensemble import GradientBoostingClassifier,RandomForestClassifier\n",
    "from sklearn.neural_network import MLPClassifier\n",
    "from sklearn.svm import SVC\n",
    "\n",
    "\n",
    "from warnings import filterwarnings\n",
    "filterwarnings(\"ignore\",category=DeprecationWarning)\n",
    "filterwarnings(\"ignore\",category=FutureWarning)"
   ]
  },
  {
   "cell_type": "code",
   "execution_count": 18,
   "id": "0852c175",
   "metadata": {},
   "outputs": [
    {
     "data": {
      "text/html": [
       "<div>\n",
       "<style scoped>\n",
       "    .dataframe tbody tr th:only-of-type {\n",
       "        vertical-align: middle;\n",
       "    }\n",
       "\n",
       "    .dataframe tbody tr th {\n",
       "        vertical-align: top;\n",
       "    }\n",
       "\n",
       "    .dataframe thead th {\n",
       "        text-align: right;\n",
       "    }\n",
       "</style>\n",
       "<table border=\"1\" class=\"dataframe\">\n",
       "  <thead>\n",
       "    <tr style=\"text-align: right;\">\n",
       "      <th></th>\n",
       "      <th>Pregnancies</th>\n",
       "      <th>Glucose</th>\n",
       "      <th>BloodPressure</th>\n",
       "      <th>SkinThickness</th>\n",
       "      <th>Insulin</th>\n",
       "      <th>BMI</th>\n",
       "      <th>DiabetesPedigreeFunction</th>\n",
       "      <th>Age</th>\n",
       "      <th>Outcome</th>\n",
       "    </tr>\n",
       "  </thead>\n",
       "  <tbody>\n",
       "    <tr>\n",
       "      <th>0</th>\n",
       "      <td>6</td>\n",
       "      <td>148</td>\n",
       "      <td>72</td>\n",
       "      <td>35</td>\n",
       "      <td>0</td>\n",
       "      <td>33.6</td>\n",
       "      <td>0.627</td>\n",
       "      <td>50</td>\n",
       "      <td>1</td>\n",
       "    </tr>\n",
       "    <tr>\n",
       "      <th>1</th>\n",
       "      <td>1</td>\n",
       "      <td>85</td>\n",
       "      <td>66</td>\n",
       "      <td>29</td>\n",
       "      <td>0</td>\n",
       "      <td>26.6</td>\n",
       "      <td>0.351</td>\n",
       "      <td>31</td>\n",
       "      <td>0</td>\n",
       "    </tr>\n",
       "    <tr>\n",
       "      <th>2</th>\n",
       "      <td>8</td>\n",
       "      <td>183</td>\n",
       "      <td>64</td>\n",
       "      <td>0</td>\n",
       "      <td>0</td>\n",
       "      <td>23.3</td>\n",
       "      <td>0.672</td>\n",
       "      <td>32</td>\n",
       "      <td>1</td>\n",
       "    </tr>\n",
       "    <tr>\n",
       "      <th>3</th>\n",
       "      <td>1</td>\n",
       "      <td>89</td>\n",
       "      <td>66</td>\n",
       "      <td>23</td>\n",
       "      <td>94</td>\n",
       "      <td>28.1</td>\n",
       "      <td>0.167</td>\n",
       "      <td>21</td>\n",
       "      <td>0</td>\n",
       "    </tr>\n",
       "    <tr>\n",
       "      <th>4</th>\n",
       "      <td>0</td>\n",
       "      <td>137</td>\n",
       "      <td>40</td>\n",
       "      <td>35</td>\n",
       "      <td>168</td>\n",
       "      <td>43.1</td>\n",
       "      <td>2.288</td>\n",
       "      <td>33</td>\n",
       "      <td>1</td>\n",
       "    </tr>\n",
       "  </tbody>\n",
       "</table>\n",
       "</div>"
      ],
      "text/plain": [
       "   Pregnancies  Glucose  BloodPressure  SkinThickness  Insulin   BMI  \\\n",
       "0            6      148             72             35        0  33.6   \n",
       "1            1       85             66             29        0  26.6   \n",
       "2            8      183             64              0        0  23.3   \n",
       "3            1       89             66             23       94  28.1   \n",
       "4            0      137             40             35      168  43.1   \n",
       "\n",
       "   DiabetesPedigreeFunction  Age  Outcome  \n",
       "0                     0.627   50        1  \n",
       "1                     0.351   31        0  \n",
       "2                     0.672   32        1  \n",
       "3                     0.167   21        0  \n",
       "4                     2.288   33        1  "
      ]
     },
     "execution_count": 18,
     "metadata": {},
     "output_type": "execute_result"
    }
   ],
   "source": [
    "\"\"\"\n",
    "    Let's assume that we are working as a data scientist at a hospital, we are asked to develop a product which predicts\n",
    "    the patient is diabetic or not. We have some analysis about patient or some informations about his/her sickness, we want to \n",
    "    create a model which predicts the patient is diabetics or not when we enter some information about that patient. At the end\n",
    "    of this work, the hospital can use this as a artifical intelligence product which predicts the patient's situation.\n",
    "\n",
    "\"\"\"\n",
    "\n",
    "# Here, we try to predict Outcome value \n",
    "df = pd.read_csv(\"./csv_files/diabetes.csv\")\n",
    "df.head()"
   ]
  },
  {
   "cell_type": "code",
   "execution_count": 19,
   "id": "7d28bd6a",
   "metadata": {},
   "outputs": [
    {
     "data": {
      "text/plain": [
       "0    500\n",
       "1    268\n",
       "Name: Outcome, dtype: int64"
      ]
     },
     "execution_count": 19,
     "metadata": {},
     "output_type": "execute_result"
    }
   ],
   "source": [
    "df[\"Outcome\"].value_counts()"
   ]
  },
  {
   "cell_type": "code",
   "execution_count": 20,
   "id": "d3e4a8cd",
   "metadata": {},
   "outputs": [
    {
     "data": {
      "text/html": [
       "<div>\n",
       "<style scoped>\n",
       "    .dataframe tbody tr th:only-of-type {\n",
       "        vertical-align: middle;\n",
       "    }\n",
       "\n",
       "    .dataframe tbody tr th {\n",
       "        vertical-align: top;\n",
       "    }\n",
       "\n",
       "    .dataframe thead th {\n",
       "        text-align: right;\n",
       "    }\n",
       "</style>\n",
       "<table border=\"1\" class=\"dataframe\">\n",
       "  <thead>\n",
       "    <tr style=\"text-align: right;\">\n",
       "      <th></th>\n",
       "      <th>count</th>\n",
       "      <th>mean</th>\n",
       "      <th>std</th>\n",
       "      <th>min</th>\n",
       "      <th>25%</th>\n",
       "      <th>50%</th>\n",
       "      <th>75%</th>\n",
       "      <th>max</th>\n",
       "    </tr>\n",
       "  </thead>\n",
       "  <tbody>\n",
       "    <tr>\n",
       "      <th>Pregnancies</th>\n",
       "      <td>768.0</td>\n",
       "      <td>3.845052</td>\n",
       "      <td>3.369578</td>\n",
       "      <td>0.000</td>\n",
       "      <td>1.00000</td>\n",
       "      <td>3.0000</td>\n",
       "      <td>6.00000</td>\n",
       "      <td>17.00</td>\n",
       "    </tr>\n",
       "    <tr>\n",
       "      <th>Glucose</th>\n",
       "      <td>768.0</td>\n",
       "      <td>120.894531</td>\n",
       "      <td>31.972618</td>\n",
       "      <td>0.000</td>\n",
       "      <td>99.00000</td>\n",
       "      <td>117.0000</td>\n",
       "      <td>140.25000</td>\n",
       "      <td>199.00</td>\n",
       "    </tr>\n",
       "    <tr>\n",
       "      <th>BloodPressure</th>\n",
       "      <td>768.0</td>\n",
       "      <td>69.105469</td>\n",
       "      <td>19.355807</td>\n",
       "      <td>0.000</td>\n",
       "      <td>62.00000</td>\n",
       "      <td>72.0000</td>\n",
       "      <td>80.00000</td>\n",
       "      <td>122.00</td>\n",
       "    </tr>\n",
       "    <tr>\n",
       "      <th>SkinThickness</th>\n",
       "      <td>768.0</td>\n",
       "      <td>20.536458</td>\n",
       "      <td>15.952218</td>\n",
       "      <td>0.000</td>\n",
       "      <td>0.00000</td>\n",
       "      <td>23.0000</td>\n",
       "      <td>32.00000</td>\n",
       "      <td>99.00</td>\n",
       "    </tr>\n",
       "    <tr>\n",
       "      <th>Insulin</th>\n",
       "      <td>768.0</td>\n",
       "      <td>79.799479</td>\n",
       "      <td>115.244002</td>\n",
       "      <td>0.000</td>\n",
       "      <td>0.00000</td>\n",
       "      <td>30.5000</td>\n",
       "      <td>127.25000</td>\n",
       "      <td>846.00</td>\n",
       "    </tr>\n",
       "    <tr>\n",
       "      <th>BMI</th>\n",
       "      <td>768.0</td>\n",
       "      <td>31.992578</td>\n",
       "      <td>7.884160</td>\n",
       "      <td>0.000</td>\n",
       "      <td>27.30000</td>\n",
       "      <td>32.0000</td>\n",
       "      <td>36.60000</td>\n",
       "      <td>67.10</td>\n",
       "    </tr>\n",
       "    <tr>\n",
       "      <th>DiabetesPedigreeFunction</th>\n",
       "      <td>768.0</td>\n",
       "      <td>0.471876</td>\n",
       "      <td>0.331329</td>\n",
       "      <td>0.078</td>\n",
       "      <td>0.24375</td>\n",
       "      <td>0.3725</td>\n",
       "      <td>0.62625</td>\n",
       "      <td>2.42</td>\n",
       "    </tr>\n",
       "    <tr>\n",
       "      <th>Age</th>\n",
       "      <td>768.0</td>\n",
       "      <td>33.240885</td>\n",
       "      <td>11.760232</td>\n",
       "      <td>21.000</td>\n",
       "      <td>24.00000</td>\n",
       "      <td>29.0000</td>\n",
       "      <td>41.00000</td>\n",
       "      <td>81.00</td>\n",
       "    </tr>\n",
       "    <tr>\n",
       "      <th>Outcome</th>\n",
       "      <td>768.0</td>\n",
       "      <td>0.348958</td>\n",
       "      <td>0.476951</td>\n",
       "      <td>0.000</td>\n",
       "      <td>0.00000</td>\n",
       "      <td>0.0000</td>\n",
       "      <td>1.00000</td>\n",
       "      <td>1.00</td>\n",
       "    </tr>\n",
       "  </tbody>\n",
       "</table>\n",
       "</div>"
      ],
      "text/plain": [
       "                          count        mean         std     min       25%  \\\n",
       "Pregnancies               768.0    3.845052    3.369578   0.000   1.00000   \n",
       "Glucose                   768.0  120.894531   31.972618   0.000  99.00000   \n",
       "BloodPressure             768.0   69.105469   19.355807   0.000  62.00000   \n",
       "SkinThickness             768.0   20.536458   15.952218   0.000   0.00000   \n",
       "Insulin                   768.0   79.799479  115.244002   0.000   0.00000   \n",
       "BMI                       768.0   31.992578    7.884160   0.000  27.30000   \n",
       "DiabetesPedigreeFunction  768.0    0.471876    0.331329   0.078   0.24375   \n",
       "Age                       768.0   33.240885   11.760232  21.000  24.00000   \n",
       "Outcome                   768.0    0.348958    0.476951   0.000   0.00000   \n",
       "\n",
       "                               50%        75%     max  \n",
       "Pregnancies                 3.0000    6.00000   17.00  \n",
       "Glucose                   117.0000  140.25000  199.00  \n",
       "BloodPressure              72.0000   80.00000  122.00  \n",
       "SkinThickness              23.0000   32.00000   99.00  \n",
       "Insulin                    30.5000  127.25000  846.00  \n",
       "BMI                        32.0000   36.60000   67.10  \n",
       "DiabetesPedigreeFunction    0.3725    0.62625    2.42  \n",
       "Age                        29.0000   41.00000   81.00  \n",
       "Outcome                     0.0000    1.00000    1.00  "
      ]
     },
     "execution_count": 20,
     "metadata": {},
     "output_type": "execute_result"
    }
   ],
   "source": [
    "df.describe().T"
   ]
  },
  {
   "cell_type": "code",
   "execution_count": 21,
   "id": "c4a70997",
   "metadata": {},
   "outputs": [
    {
     "data": {
      "text/plain": [
       "' \\n    \"X_train, X_test, y_train, y_test = train_test_split(X,y,random_state=42,train_size=0.25) normally we do this,\\n    to understand better, we didnt do here.\\n'"
      ]
     },
     "execution_count": 21,
     "metadata": {},
     "output_type": "execute_result"
    }
   ],
   "source": [
    "# defining dependent and independent values\n",
    "y=df[\"Outcome\"]\n",
    "X=df.drop(columns=\"Outcome\",axis=1)\n",
    "\"\"\" \n",
    "    \"X_train, X_test, y_train, y_test = train_test_split(X,y,random_state=42,train_size=0.25) normally we do this,\n",
    "    to understand better, we didnt do here.\n",
    "\"\"\""
   ]
  },
  {
   "cell_type": "code",
   "execution_count": 22,
   "id": "b661e839",
   "metadata": {},
   "outputs": [
    {
     "name": "stdout",
     "output_type": "stream",
     "text": [
      "[-5.88679617]\n",
      "[[ 1.16994476e-01  2.83733435e-02 -1.68981359e-02  7.55145090e-04\n",
      "  -6.41407258e-04  5.97201268e-02  6.76128123e-01  7.23498971e-03]]\n"
     ]
    }
   ],
   "source": [
    "loc_model= LogisticRegression(solver=\"liblinear\").fit(X,y)\n",
    "print(loc_model.intercept_)\n",
    "print(loc_model.coef_)"
   ]
  },
  {
   "cell_type": "code",
   "execution_count": 23,
   "id": "dc22b37c",
   "metadata": {},
   "outputs": [
    {
     "data": {
      "text/plain": [
       "array([1, 0, 1, 0, 1, 0, 0, 1, 1, 0], dtype=int64)"
      ]
     },
     "execution_count": 23,
     "metadata": {},
     "output_type": "execute_result"
    }
   ],
   "source": [
    "predicted=loc_model.predict(X)\n",
    "predicted[0:10]"
   ]
  },
  {
   "cell_type": "code",
   "execution_count": 24,
   "id": "344c64f8",
   "metadata": {
    "scrolled": true
   },
   "outputs": [
    {
     "data": {
      "text/plain": [
       "0    1\n",
       "1    0\n",
       "2    1\n",
       "3    0\n",
       "4    1\n",
       "5    0\n",
       "6    1\n",
       "7    0\n",
       "8    1\n",
       "9    1\n",
       "Name: Outcome, dtype: int64"
      ]
     },
     "execution_count": 24,
     "metadata": {},
     "output_type": "execute_result"
    }
   ],
   "source": [
    "y[0:10] # actual values"
   ]
  },
  {
   "cell_type": "code",
   "execution_count": 25,
   "id": "6f9d6735",
   "metadata": {},
   "outputs": [
    {
     "name": "stdout",
     "output_type": "stream",
     "text": [
      "[[448  52]\n",
      " [121 147]]\n",
      "0.7747395833333334\n"
     ]
    }
   ],
   "source": [
    "# To get success rate of model we can use these functions.\n",
    "print(confusion_matrix(y,predicted))\n",
    "print(accuracy_score(y,predicted))\n"
   ]
  },
  {
   "cell_type": "code",
   "execution_count": 26,
   "id": "5199ca39",
   "metadata": {},
   "outputs": [
    {
     "name": "stdout",
     "output_type": "stream",
     "text": [
      "              precision    recall  f1-score   support\n",
      "\n",
      "           0       0.79      0.90      0.84       500\n",
      "           1       0.74      0.55      0.63       268\n",
      "\n",
      "    accuracy                           0.77       768\n",
      "   macro avg       0.76      0.72      0.73       768\n",
      "weighted avg       0.77      0.77      0.77       768\n",
      "\n"
     ]
    }
   ],
   "source": [
    "print(classification_report(y,predicted))"
   ]
  },
  {
   "cell_type": "code",
   "execution_count": 27,
   "id": "b59ef4a3",
   "metadata": {},
   "outputs": [
    {
     "data": {
      "text/plain": [
       "array([[0.3505852 , 0.6494148 ],\n",
       "       [0.91692518, 0.08307482],\n",
       "       [0.22489628, 0.77510372],\n",
       "       [0.92127453, 0.07872547],\n",
       "       [0.16759435, 0.83240565]])"
      ]
     },
     "execution_count": 27,
     "metadata": {},
     "output_type": "execute_result"
    }
   ],
   "source": [
    "# Gives propability of predictions\n",
    "loc_model.predict_proba(X)[0:5]"
   ]
  },
  {
   "cell_type": "code",
   "execution_count": 28,
   "id": "8afb1bac",
   "metadata": {},
   "outputs": [
    {
     "data": {
      "image/png": "[encoded data removed]",
      "text/plain": [
       "<Figure size 432x288 with 1 Axes>"
      ]
     },
     "metadata": {
      "needs_background": "light"
     },
     "output_type": "display_data"
    }
   ],
   "source": [
    "# We can visualize ROC Curve\n",
    "\n",
    "roc_auc=roc_auc_score(y,loc_model.predict(X))\n",
    "fpr,tpr,thresholds = roc_curve(y,loc_model.predict_proba(X)[:,1])\n",
    "plt.figure()\n",
    "plt.plot(fpr,tpr,label=\"AUC (area=%0.2f)\"%roc_auc)\n",
    "plt.plot([0,1],[0,1],\"r--\")\n",
    "plt.xlim([0.0,1.0])\n",
    "plt.ylim([0.0,1.05])\n",
    "plt.xlabel(\"False Positive Rate\")\n",
    "plt.ylabel(\"True Positive Rate\")\n",
    "plt.title(\"Receiver operating characteristic\")\n",
    "plt.legend(loc=\"lower right\")\n",
    "plt.savefig(\"Log_ROC\")\n",
    "plt.show()\n",
    "\n"
   ]
  },
  {
   "cell_type": "markdown",
   "id": "71429f7a",
   "metadata": {},
   "source": [
    "### <font color=\"red\">Logistic Regression Model Tuning (Model Validation)</font>"
   ]
  },
  {
   "cell_type": "code",
   "execution_count": 29,
   "id": "efc94477",
   "metadata": {},
   "outputs": [],
   "source": [
    "X_train, X_test, y_train, y_test = train_test_split(X,y,random_state=42,test_size=0.3)\n"
   ]
  },
  {
   "cell_type": "code",
   "execution_count": 30,
   "id": "62d5dd5a",
   "metadata": {},
   "outputs": [],
   "source": [
    "log_cv_model=LogisticRegression(solver=\"liblinear\").fit(X_train,y_train)"
   ]
  },
  {
   "cell_type": "code",
   "execution_count": 31,
   "id": "a1b7bb32",
   "metadata": {},
   "outputs": [
    {
     "data": {
      "text/plain": [
       "0.7532467532467533"
      ]
     },
     "execution_count": 31,
     "metadata": {},
     "output_type": "execute_result"
    }
   ],
   "source": [
    "predicted=log_cv_model.predict(X_test)\n",
    "# To get model score, if score is high it means our classification is successful\n",
    "accuracy_score(y_test,predicted)"
   ]
  },
  {
   "cell_type": "code",
   "execution_count": 32,
   "id": "0e63cc16",
   "metadata": {},
   "outputs": [
    {
     "data": {
      "text/plain": [
       "array([0.79166667, 0.82608696, 0.73913043, 0.82608696, 0.73913043,\n",
       "       0.91304348, 0.73913043, 0.65217391, 0.65217391, 0.82608696])"
      ]
     },
     "execution_count": 32,
     "metadata": {},
     "output_type": "execute_result"
    }
   ],
   "source": [
    "# To validation of model, we can use k fold cross validation\n",
    "cross_val_score(log_model,X_test,y_test,cv=10) # Calculated 10 test error\n"
   ]
  },
  {
   "cell_type": "code",
   "execution_count": 33,
   "id": "ff03a76f",
   "metadata": {},
   "outputs": [
    {
     "name": "stdout",
     "output_type": "stream",
     "text": [
      "0.7704710144927536\n"
     ]
    }
   ],
   "source": [
    "print(cross_val_score(log_model,X_test,y_test,cv=10).mean())"
   ]
  },
  {
   "cell_type": "markdown",
   "id": "00cfa05c",
   "metadata": {},
   "source": [
    "# <font color=\"orange\">K Nearest Neighbors</font>\n",
    "->> The prediction is done to observations similarities.\n",
    "### <font color=\"red\">K Nearest Neighbors Model and Prediction</font>"
   ]
  },
  {
   "cell_type": "code",
   "execution_count": 34,
   "id": "660b78b7",
   "metadata": {},
   "outputs": [],
   "source": [
    "import pandas as pd\n",
    "import numpy as np\n",
    "import seaborn as sns\n",
    "import matplotlib.pyplot as plt\n",
    "from sklearn.metrics import r2_score,mean_squared_error,confusion_matrix,roc_auc_score,roc_curve,classification_report\n",
    "from sklearn.model_selection import cross_val_score,GridSearchCV,train_test_split\n",
    "from sklearn.neighbors import KNeighborsClassifier"
   ]
  },
  {
   "cell_type": "code",
   "execution_count": 35,
   "id": "81c7693a",
   "metadata": {},
   "outputs": [],
   "source": [
    "df=pd.read_csv(\"./csv_files/diabetes.csv\")\n",
    "y=df[\"Outcome\"]\n",
    "X=df.drop(columns=[\"Outcome\"],axis=1)\n",
    "X_train,X_test,y_train,y_test = train_test_split(X,y,random_state=42,test_size=0.30)"
   ]
  },
  {
   "cell_type": "code",
   "execution_count": 36,
   "id": "df5ea77a",
   "metadata": {},
   "outputs": [],
   "source": [
    "knn_model=KNeighborsClassifier().fit(X_train,y_train)"
   ]
  },
  {
   "cell_type": "code",
   "execution_count": 37,
   "id": "250e77f6",
   "metadata": {},
   "outputs": [],
   "source": [
    "predicted=knn_model.predict(X_test)"
   ]
  },
  {
   "cell_type": "code",
   "execution_count": 38,
   "id": "2f4c794f",
   "metadata": {},
   "outputs": [
    {
     "name": "stdout",
     "output_type": "stream",
     "text": [
      "0.6883116883116883\n",
      "              precision    recall  f1-score   support\n",
      "\n",
      "           0       0.77      0.75      0.76       151\n",
      "           1       0.55      0.56      0.56        80\n",
      "\n",
      "    accuracy                           0.69       231\n",
      "   macro avg       0.66      0.66      0.66       231\n",
      "weighted avg       0.69      0.69      0.69       231\n",
      "\n"
     ]
    }
   ],
   "source": [
    "print(accuracy_score(y_test,predicted))\n",
    "print(classification_report(y_test,predicted))"
   ]
  },
  {
   "cell_type": "markdown",
   "id": "82cf2515",
   "metadata": {},
   "source": [
    "### <font color=\"red\">K Nearest Neighbors Model Tuning</font>"
   ]
  },
  {
   "cell_type": "code",
   "execution_count": 39,
   "id": "2299605d",
   "metadata": {},
   "outputs": [
    {
     "name": "stdout",
     "output_type": "stream",
     "text": [
      "Fitting 10 folds for each of 49 candidates, totalling 490 fits\n"
     ]
    }
   ],
   "source": [
    "# changing this parameter n_neighbors\n",
    "\n",
    "knn_model=KNeighborsClassifier()\n",
    "knn_params={\"n_neighbors\":np.arange(1,50)}\n",
    "tuned_model=GridSearchCV(knn_model,param_grid=knn_params,cv=10,verbose=2,n_jobs=-1).fit(X_train,y_train)"
   ]
  },
  {
   "cell_type": "code",
   "execution_count": 40,
   "id": "c74aa0b9",
   "metadata": {},
   "outputs": [
    {
     "name": "stdout",
     "output_type": "stream",
     "text": [
      "{'n_neighbors': 11}\n",
      "0.748637316561845\n",
      "KNeighborsClassifier(n_neighbors=11)\n"
     ]
    }
   ],
   "source": [
    "print(tuned_model.best_params_)\n",
    "print(tuned_model.best_score_)\n",
    "print(tuned_model.best_estimator_)"
   ]
  },
  {
   "cell_type": "code",
   "execution_count": 41,
   "id": "e141a816",
   "metadata": {},
   "outputs": [
    {
     "data": {
      "text/plain": [
       "0.7316017316017316"
      ]
     },
     "execution_count": 41,
     "metadata": {},
     "output_type": "execute_result"
    }
   ],
   "source": [
    "# final model\n",
    "knn_final_model=KNeighborsClassifier(n_neighbors=11).fit(X_train,y_train)\n",
    "predicted=knn_final_model.predict(X_test)\n",
    "accuracy_score(y_test,predicted)"
   ]
  },
  {
   "cell_type": "code",
   "execution_count": 42,
   "id": "f4dc38ed",
   "metadata": {},
   "outputs": [
    {
     "name": "stdout",
     "output_type": "stream",
     "text": [
      "0.7316017316017316\n"
     ]
    }
   ],
   "source": [
    "# Other way of getting score, more practical \n",
    "print(knn_final_model.score(X_test,y_test))"
   ]
  },
  {
   "cell_type": "markdown",
   "id": "85da480c",
   "metadata": {},
   "source": [
    "# <font color=\"orange\">Support Vector Machines</font>\n",
    "->> The aim is finding hyper-plane which makes optimum the differences between two classes.\n",
    "<br>\n",
    "<img src=\"./used_images/svm.png\" width=\"400\" height=\"400\">\n",
    "<br>\n",
    "->> Our aim is separating two classes, so we put a marging and makes the distance maximum between them. We do this by hyper-plane and hyper plane means that is 2d or 3d line.\n",
    "<br>\n",
    "->> <b><font color=\"purple\"> What does support vector machines mean ?</font></b>\n",
    "<br>\n",
    "->> The Support Vector Machines mean, the dots that determine the direction and distance of margin, as you can see as black dots on the image, called as support points, hard or soft calculations are used.\n",
    "<br>\n",
    "->> In real life, sometimes this form cannot be stated like this, cannot be linear or when dataset have more dimension, sometimes we are needed to use non-lnear methods.\n",
    "<br>\n",
    "## <font color=\"purple\"> Non-Linear Support Vector Machine</font>\n",
    "<img src=\"./used_images/non-linear.png\" width=\"600\" height=\"600\">\n",
    "<br>\n",
    "->> When we want to split two classes, as you can see on the first image, if we use linear splitting methods like hard  and soft margins, there can be remaining parts.\n",
    "<br>\n",
    "->> To avoid this situation or to do, we need to increase the dimension of dataset likse second image.\n",
    "<br>\n",
    "->> <b><font color=\"purple\"> How to do ?</font></b>\n",
    "<br>\n",
    "->> By Kernel Trick, we have radial basis method and this method has sigma -> σ (standart deviation, variance -> σ2) and mu -> µ (mean), when this parameters are changed, we have an opportunity to change observations or the slope.\n",
    "\n",
    "### <font color=\"red\">Support Vector Machines Model and Prediction</font>"
   ]
  },
  {
   "cell_type": "code",
   "execution_count": 43,
   "id": "a6f1675d",
   "metadata": {},
   "outputs": [],
   "source": [
    "import pandas as pd\n",
    "import numpy as np\n",
    "from sklearn.model_selection import GridSearchCV,train_test_split,cross_val_score\n",
    "from sklearn.metrics import r2_score,mean_squared_error,roc_auc_score,roc_curve,classification_report,accuracy_score\n",
    "from sklearn.svm import SVC\n",
    "from warnings import filterwarnings\n",
    "filterwarnings(\"ignore\")"
   ]
  },
  {
   "cell_type": "code",
   "execution_count": 44,
   "id": "57bc1302",
   "metadata": {},
   "outputs": [],
   "source": [
    "df=pd.read_csv(\"./csv_files/diabetes.csv\")\n",
    "y=df[\"Outcome\"]\n",
    "X=df.drop(columns=[\"Outcome\"],axis=1)\n",
    "X_train,X_test,y_train,y_test = train_test_split(X,y,random_state=42,test_size=0.30)"
   ]
  },
  {
   "cell_type": "code",
   "execution_count": 45,
   "id": "5df54869",
   "metadata": {},
   "outputs": [
    {
     "data": {
      "text/plain": [
       "0.7445887445887446"
      ]
     },
     "execution_count": 45,
     "metadata": {},
     "output_type": "execute_result"
    }
   ],
   "source": [
    "svm_model=SVC(kernel=\"linear\").fit(X_train,y_train) #to observe linear model, default is non linear -> rbf\n",
    "predicted=svm_model.predict(X_test)\n",
    "accuracy_score(y_test,predicted)  # First test error withour tuning"
   ]
  },
  {
   "cell_type": "markdown",
   "id": "40b94cd0",
   "metadata": {},
   "source": [
    "### <font color=\"red\">Support Vector Machines Model Tuning</font>"
   ]
  },
  {
   "cell_type": "code",
   "execution_count": 46,
   "id": "4371620a",
   "metadata": {},
   "outputs": [],
   "source": [
    "# C is penalty parameter, rbf is radial basis function\n",
    "svm_model=SVC()\n",
    "svm_params={\"C\":np.arange(1,10),\"kernel\":[\"linear\",\"rbf\"]}"
   ]
  },
  {
   "cell_type": "code",
   "execution_count": 47,
   "id": "6cf50c43",
   "metadata": {},
   "outputs": [
    {
     "name": "stdout",
     "output_type": "stream",
     "text": [
      "Fitting 5 folds for each of 18 candidates, totalling 90 fits\n"
     ]
    }
   ],
   "source": [
    "svm_cv_model=GridSearchCV(svm_model,param_grid=svm_params,cv=5,n_jobs=-1,verbose=2).fit(X_train,y_train)"
   ]
  },
  {
   "cell_type": "code",
   "execution_count": 48,
   "id": "afa8df98",
   "metadata": {},
   "outputs": [
    {
     "name": "stdout",
     "output_type": "stream",
     "text": [
      "{'C': 2, 'kernel': 'linear'}\n",
      "0.7839044652128765\n",
      "SVC(C=2, kernel='linear')\n"
     ]
    }
   ],
   "source": [
    "print(svm_cv_model.best_params_)\n",
    "print(svm_cv_model.best_score_)\n",
    "print(svm_cv_model.best_estimator_)"
   ]
  },
  {
   "cell_type": "code",
   "execution_count": 50,
   "id": "a3db5f70",
   "metadata": {},
   "outputs": [
    {
     "data": {
      "text/plain": [
       "0.7445887445887446"
      ]
     },
     "execution_count": 50,
     "metadata": {},
     "output_type": "execute_result"
    }
   ],
   "source": [
    "# final model\n",
    "\n",
    "svc_final_model=SVC(C=1,kernel=\"linear\").fit(X_train,y_train)\n",
    "predicted=svc_final_model.predict(X_test)\n",
    "accuracy_score(y_test,predicted)\n",
    "\"\"\"\n",
    "    if the problem is getting complex or we have a complex problem, \n",
    "    big dataset, to use non-linear methods and tree based methods would be better\n",
    "\"\"\" "
   ]
  },
  {
   "cell_type": "markdown",
   "id": "92e752a6",
   "metadata": {},
   "source": [
    "# <font color=\"orange\">Artifical Neural Networks</font>\n",
    "->> The main aim is that reaching the coefficients which can predict minimum error.\n",
    "<br>\n",
    "<img src=\"./used_images/ann.png\" width=\"600\" height=\"600\">\n",
    "<br>\n",
    "->> Here, logic is same with regression , but there is little difference on activation function side. \n",
    "<br>\n",
    "->> On Activation Function, we can use different activation functions like sigmoid, it gives a probabilit value between 1 and 0.\n",
    "<br>\n",
    "->> Our aim is reaching weights or coefficients which are making minimum error that the difference between dependent and independent variables.\n",
    "<br>\n",
    "### <font color=\"red\">Artifical Neural Networks Model and Prediction</font>"
   ]
  },
  {
   "cell_type": "code",
   "execution_count": 152,
   "id": "dc19654a",
   "metadata": {},
   "outputs": [],
   "source": [
    "import pandas as pd\n",
    "import numpy as np\n",
    "import seaborn as sns\n",
    "import matplotlib.pyplot as plt \n",
    "from sklearn.neural_network import MLPClassifier\n",
    "from sklearn.preprocessing import StandardScaler,scale\n",
    "from sklearn.model_selection import train_test_split,cross_val_score,GridSearchCV\n",
    "from sklearn.metrics import r2_score,mean_squared_error,accuracy_score,roc_curve,roc_auc_score,classification_report\n",
    "from warnings import filterwarnings\n",
    "filterwarnings(\"ignore\")"
   ]
  },
  {
   "cell_type": "code",
   "execution_count": 153,
   "id": "54706b3b",
   "metadata": {},
   "outputs": [],
   "source": [
    "df=pd.read_csv(\"./csv_files/diabetes.csv\")\n",
    "y=df[\"Outcome\"]\n",
    "X=df.drop(columns=[\"Outcome\"],axis=1)\n",
    "X_train,X_test,y_train,y_test = train_test_split(X,y,random_state=42,test_size=0.30)"
   ]
  },
  {
   "cell_type": "code",
   "execution_count": 154,
   "id": "5fb1d274",
   "metadata": {},
   "outputs": [
    {
     "name": "stdout",
     "output_type": "stream",
     "text": [
      "0.7359307359307359\n"
     ]
    }
   ],
   "source": [
    "mlpc_model=MLPClassifier().fit(X_train,y_train)\n",
    "predicted=mlpc_model.predict(X_test)\n",
    "# print(mlpc_model.coefs_) to print coefs of model\n",
    "print(accuracy_score(y_test,predicted))"
   ]
  },
  {
   "cell_type": "code",
   "execution_count": 54,
   "id": "5cdc7170",
   "metadata": {},
   "outputs": [],
   "source": [
    "# hidden_layer_sizez, activation, solver -> large datasets set adam, otherwise lbfgs, alpha is penalty parameter"
   ]
  },
  {
   "cell_type": "markdown",
   "id": "0de6481e",
   "metadata": {},
   "source": [
    "### <font color=\"red\">Artifical Neural Networks Model Tuning</font>"
   ]
  },
  {
   "cell_type": "code",
   "execution_count": 55,
   "id": "b72964f1",
   "metadata": {},
   "outputs": [
    {
     "name": "stdout",
     "output_type": "stream",
     "text": [
      "Fitting 10 folds for each of 28 candidates, totalling 280 fits\n"
     ]
    }
   ],
   "source": [
    "# (100,100) means that the hidden layer consists of 2 layer as 100 and 100\n",
    "\n",
    "mlpc_model=MLPClassifier()\n",
    "mlpc_parameter={\"hidden_layer_sizes\":[(10,10),(100,100,100),(100,100),(3,5)],\n",
    "               \"activation\":[\"logistic\"],\n",
    "               \"solver\":[\"lbfgs\"],\n",
    "               \"alpha\":[1,5,0.0001,0.005,0.03,0.01,0.1]}\n",
    "\n",
    "mlpc_cv_model=GridSearchCV(mlpc_model,param_grid=mlpc_parameter,cv=10,n_jobs=-1,verbose=2).fit(X_train,y_train)"
   ]
  },
  {
   "cell_type": "code",
   "execution_count": 56,
   "id": "566050c1",
   "metadata": {},
   "outputs": [
    {
     "name": "stdout",
     "output_type": "stream",
     "text": [
      "{'activation': 'logistic', 'alpha': 5, 'hidden_layer_sizes': (100, 100), 'solver': 'lbfgs'}\n",
      "MLPClassifier(activation='logistic', alpha=5, hidden_layer_sizes=(100, 100),\n",
      "              solver='lbfgs')\n"
     ]
    }
   ],
   "source": [
    "print(mlpc_cv_model.best_params_)\n",
    "print(mlpc_cv_model.best_estimator_)\n"
   ]
  },
  {
   "cell_type": "code",
   "execution_count": 57,
   "id": "df223bf7",
   "metadata": {
    "scrolled": true
   },
   "outputs": [
    {
     "name": "stdout",
     "output_type": "stream",
     "text": [
      "0.7272727272727273\n"
     ]
    }
   ],
   "source": [
    "# final model for logistic func\n",
    "\n",
    "mlp_final_model=MLPClassifier(hidden_layer_sizes=(100,100),activation=\"logistic\",alpha=5,solver=\"lbfgs\").fit(X_train,y_train)\n",
    "predicted=mlp_final_model.predict(X_test)\n",
    "print(accuracy_score(y_test,predicted))"
   ]
  },
  {
   "cell_type": "markdown",
   "id": "29335c62",
   "metadata": {},
   "source": [
    "#### <font color=\"purple\">For Relu Func</font>"
   ]
  },
  {
   "cell_type": "code",
   "execution_count": 58,
   "id": "b315b974",
   "metadata": {},
   "outputs": [
    {
     "name": "stdout",
     "output_type": "stream",
     "text": [
      "Fitting 10 folds for each of 28 candidates, totalling 280 fits\n"
     ]
    }
   ],
   "source": [
    "# lets make for relu func\n",
    "\n",
    "mlpc_model=MLPClassifier()\n",
    "mlpc_parameter={\"hidden_layer_sizes\":[(10,10),(100,100,100),(100,100),(3,5)],\n",
    "               \"activation\":[\"relu\"],\n",
    "               \"solver\":[\"lbfgs\"],\n",
    "               \"alpha\":[1,5,0.0001,0.005,0.03,0.01,0.1]}\n",
    "\n",
    "mlpc_cv_model=GridSearchCV(mlpc_model,param_grid=mlpc_parameter,cv=10,n_jobs=-1,verbose=2).fit(X_train,y_train)"
   ]
  },
  {
   "cell_type": "code",
   "execution_count": 59,
   "id": "0cac44d5",
   "metadata": {},
   "outputs": [
    {
     "name": "stdout",
     "output_type": "stream",
     "text": [
      "{'activation': 'relu', 'alpha': 0.0001, 'hidden_layer_sizes': (10, 10), 'solver': 'lbfgs'}\n",
      "MLPClassifier(hidden_layer_sizes=(10, 10), solver='lbfgs')\n"
     ]
    }
   ],
   "source": [
    "print(mlpc_cv_model.best_params_)\n",
    "print(mlpc_cv_model.best_estimator_)\n"
   ]
  },
  {
   "cell_type": "code",
   "execution_count": 60,
   "id": "530dc548",
   "metadata": {},
   "outputs": [
    {
     "name": "stdout",
     "output_type": "stream",
     "text": [
      "0.7316017316017316\n"
     ]
    }
   ],
   "source": [
    "# final model for relu func\n",
    "\n",
    "final_model=MLPClassifier(hidden_layer_sizes=(100,100),activation=\"logistic\",alpha=5,solver=\"lbfgs\").fit(X_train,y_train)\n",
    "predicted=final_model.predict(X_test)\n",
    "print(accuracy_score(y_test,predicted))"
   ]
  },
  {
   "cell_type": "markdown",
   "id": "c4fd1c46",
   "metadata": {},
   "source": [
    "### <font color=\"purple\">Variable Transformation</font>\n",
    "->> For artifical neural networks, variable transormation is important, if we do variable standardization, machine learning algorithms tend to have more performance because some outliers or similar situatins can be removed after standardization process."
   ]
  },
  {
   "cell_type": "code",
   "execution_count": 155,
   "id": "b299865d",
   "metadata": {},
   "outputs": [],
   "source": [
    "df=pd.read_csv(\"./csv_files/diabetes.csv\")\n",
    "y=df[\"Outcome\"]\n",
    "X=df.drop(columns=[\"Outcome\"],axis=1)\n"
   ]
  },
  {
   "cell_type": "code",
   "execution_count": 156,
   "id": "d5b70783",
   "metadata": {},
   "outputs": [],
   "source": [
    "# Scaling for Training Dataset\n",
    "scaler=StandardScaler()\n",
    "scaler.fit(X_train)\n",
    "X_train=scaler.transform(X_train)\n",
    "\n",
    "# We need to do same process for Test Dataset\n",
    "\n",
    "scaler.fit(X_test)\n",
    "X_test=scaler.transform(X_test)\n"
   ]
  },
  {
   "cell_type": "code",
   "execution_count": 157,
   "id": "ce85cfe5",
   "metadata": {},
   "outputs": [
    {
     "name": "stdout",
     "output_type": "stream",
     "text": [
      "Fitting 10 folds for each of 28 candidates, totalling 280 fits\n"
     ]
    }
   ],
   "source": [
    "mlpc_model=MLPClassifier()\n",
    "mlpc_parameter={\"hidden_layer_sizes\":[(10,10),(100,100,100),(100,100),(3,5)],\n",
    "               \"activation\":[\"logistic\"],\n",
    "               \"solver\":[\"lbfgs\"],\n",
    "               \"alpha\":[1,5,0.0001,0.005,0.03,0.01,0.1]}\n",
    "\n",
    "mlpc_cv_model=GridSearchCV(mlpc_model,param_grid=mlpc_parameter,cv=10,n_jobs=-1,verbose=2).fit(X_train,y_train)"
   ]
  },
  {
   "cell_type": "code",
   "execution_count": 158,
   "id": "4c39480e",
   "metadata": {},
   "outputs": [
    {
     "name": "stdout",
     "output_type": "stream",
     "text": [
      "{'activation': 'logistic', 'alpha': 1, 'hidden_layer_sizes': (3, 5), 'solver': 'lbfgs'}\n",
      "MLPClassifier(activation='logistic', alpha=1, hidden_layer_sizes=(3, 5),\n",
      "              solver='lbfgs')\n"
     ]
    }
   ],
   "source": [
    "print(mlpc_cv_model.best_params_)\n",
    "print(mlpc_cv_model.best_estimator_)\n"
   ]
  },
  {
   "cell_type": "code",
   "execution_count": 159,
   "id": "9e2b5bbb",
   "metadata": {},
   "outputs": [
    {
     "name": "stdout",
     "output_type": "stream",
     "text": [
      "0.7575757575757576\n"
     ]
    }
   ],
   "source": [
    "mlp_final_model=MLPClassifier(hidden_layer_sizes=(100,100),activation=\"logistic\",alpha=5,solver=\"lbfgs\").fit(X_train,y_train)\n",
    "predicted=mlp_final_model.predict(X_test)\n",
    "print(accuracy_score(y_test,predicted))\n",
    "\n",
    "# as we can see accuracy score is increased, so in artifical intelligcend"
   ]
  },
  {
   "cell_type": "markdown",
   "id": "447267f8",
   "metadata": {},
   "source": [
    "### <font color=\"purple\">As we can see, our accuracy score has increased. In conlusion, we need to use \"RELU\" activation function if we have a regression problem, if we have a classification problem, we use \"LOGISTIC\" activation function. Also, alpha, hidden_layer_size, and solver parameters need to set. Lastly, in artifical neural network problems, we need to scale our data. </font>"
   ]
  },
  {
   "cell_type": "markdown",
   "id": "122cdb58",
   "metadata": {},
   "source": [
    "# <font color=\"orange\">Classification and Regression Trees</font>\n",
    "->> The aim is transforming complex structures to simple decision structures. It means, heterogenous datasets are splitted subsets to determined a target variables.\n",
    "<br>\n",
    "->><b><font color=\"purple\"> To splitting data, Gini Impurity, Information Gain and Chi-Square are used.</font></b>"
   ]
  },
  {
   "cell_type": "markdown",
   "id": "3cb75139",
   "metadata": {},
   "source": [
    "### <font color=\"red\">Classification and Regression Trees Model and Prediction</font>"
   ]
  },
  {
   "cell_type": "code",
   "execution_count": 66,
   "id": "d113cc7f",
   "metadata": {},
   "outputs": [],
   "source": [
    "import pandas as pd\n",
    "import numpy as np\n",
    "import seaborn as sns\n",
    "import matplotlib.pyplot as plt \n",
    "from sklearn.metrics import r2_score,mean_squared_error,accuracy_score,roc_auc_score,roc_curve,classification_report\n",
    "from sklearn.model_selection import GridSearchCV,cross_val_score,train_test_split\n",
    "from sklearn.tree import DecisionTreeClassifier"
   ]
  },
  {
   "cell_type": "code",
   "execution_count": 67,
   "id": "d651149a",
   "metadata": {},
   "outputs": [],
   "source": [
    "df=pd.read_csv(\"./csv_files/diabetes.csv\")\n",
    "y=df[\"Outcome\"]\n",
    "X=df.drop(columns=[\"Outcome\"],axis=1)\n",
    "X_train,X_test,y_train,y_test = train_test_split(X,y,random_state=42,test_size=0.30)"
   ]
  },
  {
   "cell_type": "code",
   "execution_count": 68,
   "id": "9ab21291",
   "metadata": {},
   "outputs": [
    {
     "name": "stdout",
     "output_type": "stream",
     "text": [
      "0.6796536796536796\n"
     ]
    }
   ],
   "source": [
    "cart_model=DecisionTreeClassifier().fit(X_train,y_train)\n",
    "predicted=cart_model.predict(X_test)\n",
    "print(accuracy_score(y_test,predicted)) # first score withour optimization, tune."
   ]
  },
  {
   "cell_type": "markdown",
   "id": "6baa7a2e",
   "metadata": {},
   "source": [
    "### <font color=\"red\">Classification and Regression Trees Model Tuning</font>"
   ]
  },
  {
   "cell_type": "code",
   "execution_count": 71,
   "id": "b1b314d4",
   "metadata": {},
   "outputs": [
    {
     "name": "stdout",
     "output_type": "stream",
     "text": [
      "Fitting 10 folds for each of 30 candidates, totalling 300 fits\n"
     ]
    }
   ],
   "source": [
    "cart_model=DecisionTreeClassifier()\n",
    "cart_params={\"max_depth\":[2,3,5,8,10],\"min_samples_split\":[2,3,5,10,20,50]}\n",
    "cartcv_model=GridSearchCV(cart_model,param_grid=cart_params,cv=10,n_jobs=-1,verbose=2).fit(X_train,y_train)"
   ]
  },
  {
   "cell_type": "code",
   "execution_count": 72,
   "id": "eb3ddb27",
   "metadata": {},
   "outputs": [
    {
     "name": "stdout",
     "output_type": "stream",
     "text": [
      "{'max_depth': 5, 'min_samples_split': 20}\n",
      "DecisionTreeClassifier(max_depth=5, min_samples_split=20)\n"
     ]
    }
   ],
   "source": [
    "print(cartcv_model.best_params_)\n",
    "print(cartcv_model.best_estimator_)"
   ]
  },
  {
   "cell_type": "code",
   "execution_count": 73,
   "id": "f9dde052",
   "metadata": {},
   "outputs": [
    {
     "name": "stdout",
     "output_type": "stream",
     "text": [
      "0.7532467532467533\n"
     ]
    }
   ],
   "source": [
    "# final_model\n",
    "cart_final_model=DecisionTreeClassifier(max_depth=5,min_samples_split=20).fit(X_train,y_train)\n",
    "predicted=cart_final_model.predict(X_test)\n",
    "print(accuracy_score(y_test,predicted))"
   ]
  },
  {
   "cell_type": "markdown",
   "id": "24c05254",
   "metadata": {},
   "source": [
    "# <font color=\"orange\">Random Forests</font>\n",
    "->> Random Forests are based on evaluation of gathered trees which are generated by more than one decision trees.\n",
    "<br>\n",
    "->> Bagging is a special case of Random Forest, bagging is based on bootstrap, bootstrapping is the method of randomly creating samples of data out of a population with replacement to estimate a population parameter.\n",
    "\n",
    "### <font color=\"red\">Random Forests Model and Prediction</font>"
   ]
  },
  {
   "cell_type": "code",
   "execution_count": 74,
   "id": "c087147f",
   "metadata": {},
   "outputs": [],
   "source": [
    "import pandas as pd\n",
    "import numpy as np \n",
    "import matplotlib.pyplot as plt\n",
    "import seaborn as sns \n",
    "from sklearn.metrics import r2_score,mean_squared_error,roc_auc_score,roc_curve,classification_report,accuracy_score\n",
    "from sklearn.model_selection import GridSearchCV,train_test_split,cross_val_score,train_test_split\n",
    "from sklearn.ensemble import RandomForestClassifier\n"
   ]
  },
  {
   "cell_type": "code",
   "execution_count": 75,
   "id": "07427e51",
   "metadata": {},
   "outputs": [],
   "source": [
    "df=pd.read_csv(\"./csv_files/diabetes.csv\")\n",
    "y=df[\"Outcome\"]\n",
    "X=df.drop(columns=[\"Outcome\"],axis=1)\n",
    "X_train,X_test,y_train,y_test = train_test_split(X,y,random_state=42,test_size=0.30)"
   ]
  },
  {
   "cell_type": "code",
   "execution_count": 76,
   "id": "f7c2a952",
   "metadata": {},
   "outputs": [
    {
     "name": "stdout",
     "output_type": "stream",
     "text": [
      "0.7532467532467533\n"
     ]
    }
   ],
   "source": [
    "model=RandomForestClassifier().fit(X_train,y_train)\n",
    "predicted=model.predict(X_test)\n",
    "print(accuracy_score(y_test,predicted))"
   ]
  },
  {
   "cell_type": "markdown",
   "id": "8284e372",
   "metadata": {},
   "source": [
    "### <font color=\"red\">Random Forests Model Tuning</font>"
   ]
  },
  {
   "cell_type": "code",
   "execution_count": 77,
   "id": "c18885b6",
   "metadata": {},
   "outputs": [
    {
     "name": "stdout",
     "output_type": "stream",
     "text": [
      "Fitting 10 folds for each of 64 candidates, totalling 640 fits\n"
     ]
    }
   ],
   "source": [
    "#important paramters are n_estimators, min_samples_split, max_depth,max_features -> states the number of variables while splitting\n",
    "\n",
    "# if tree branches more, it can cause overfitting, the branching period needs to be controlled\n",
    "model=RandomForestClassifier()\n",
    "model_param={\"n_estimators\":[100,200,500,1000],\n",
    "             \"max_features\":[3,5,7,8],\n",
    "             \"min_samples_split\":[2,5,10,20]\n",
    "             }\n",
    "model_cv=GridSearchCV(model,param_grid=model_param,cv=10,n_jobs=-1,verbose=2).fit(X_train,y_train)"
   ]
  },
  {
   "cell_type": "code",
   "execution_count": 78,
   "id": "597b0899",
   "metadata": {},
   "outputs": [
    {
     "name": "stdout",
     "output_type": "stream",
     "text": [
      "{'max_features': 7, 'min_samples_split': 2, 'n_estimators': 100}\n",
      "RandomForestClassifier(max_features=7)\n"
     ]
    }
   ],
   "source": [
    "print(model_cv.best_params_)\n",
    "print(model_cv.best_estimator_)"
   ]
  },
  {
   "cell_type": "code",
   "execution_count": 79,
   "id": "c78246c0",
   "metadata": {},
   "outputs": [
    {
     "name": "stdout",
     "output_type": "stream",
     "text": [
      "0.7316017316017316\n"
     ]
    }
   ],
   "source": [
    "# final model\n",
    "rf_final_model=RandomForestClassifier(n_estimators=200,max_features=5,min_samples_split=2).fit(X_train,y_train)\n",
    "predicted=rf_final_model.predict(X_test)\n",
    "print(accuracy_score(y_test,predicted))"
   ]
  },
  {
   "cell_type": "markdown",
   "id": "deff9ea0",
   "metadata": {},
   "source": [
    "### <font color=\"purple\">Variable Importance Levels</font>"
   ]
  },
  {
   "cell_type": "code",
   "execution_count": 80,
   "id": "a9b8083d",
   "metadata": {},
   "outputs": [
    {
     "data": {
      "image/png": "[encoded data removed]",
      "text/plain": [
       "<Figure size 432x288 with 1 Axes>"
      ]
     },
     "metadata": {
      "needs_background": "light"
     },
     "output_type": "display_data"
    }
   ],
   "source": [
    "importance = pd.DataFrame({\"importance\":rf_final_model.feature_importances_},index=X_train.columns)\n",
    "\n",
    "importance.sort_values(by=\"importance\",ascending=True).plot(kind=\"barh\",color=\"r\");\n",
    "plt.gca().legend_=None"
   ]
  },
  {
   "cell_type": "code",
   "execution_count": 81,
   "id": "8a50acb5",
   "metadata": {},
   "outputs": [
    {
     "data": {
      "image/png": "[encoded data removed]",
      "text/plain": [
       "<Figure size 432x288 with 1 Axes>"
      ]
     },
     "metadata": {
      "needs_background": "light"
     },
     "output_type": "display_data"
    }
   ],
   "source": [
    "new_importance = pd.DataFrame(rf_final_model.feature_importances_, index=X_train.columns,columns=[\"importance\"]).sort_values(by=\"importance\",ascending=False)\n",
    "\n",
    "sns.barplot(data=new_importance,x=new_importance[\"importance\"],y=new_importance.index)\n",
    "plt.xlabel(\"Variable Importance Score\")\n",
    "plt.ylabel(\"Variables\")\n",
    "plt.title(\"Variable Importance Levels\")\n",
    "plt.show();"
   ]
  },
  {
   "cell_type": "markdown",
   "id": "5a80bfca",
   "metadata": {},
   "source": [
    "# <font color=\"orange\">Gradient Boosting Machines</font>\n",
    "->> The generalized version of AdaBoost.\n",
    "<br>\n",
    "->> Boosting method/s is an idea based on gathering weak learners together, revealing strong learners. \n",
    "<br>\n",
    "->> Bad prediction is a high  result of mean squared error of real and predicted values . The trees, which are predicting bad, are weak predictors.\n",
    "<br>\n",
    "->> This idea is suggested on 1990 but nobody actualized this idea.\n",
    "<br>\n",
    "->> Adaptive Boosting (AdaBoost) is an algorithm that aims to gather weak classifiers together, and create a strong classifier.\n",
    "<br>\n",
    "->> Gradient boosting creates a series of models in the form of a single predictive model.\n",
    "<br>\n",
    "->> The model, inside of the series, is generated on (fit)  previous model's prediction outliers/errors (residuals).\n",
    "<br>\n",
    "->> Gradient Boosting Machines (GBM) uses Gradient Descent Algorithm.\n",
    "<br>\n",
    "->> Gradient Boosting can use base learner types like (Trees, linear terms, splines, etc..).\n",
    "<br>\n",
    "->> Cost and Link functions can be modified.\n",
    "<br>\n",
    "->> GBM consists of Boosting + Gradient Descent.\n",
    "### <font color=\"red\">Gradient Boosting Machines Model and Prediction</font>"
   ]
  },
  {
   "cell_type": "code",
   "execution_count": 82,
   "id": "93a20ff8",
   "metadata": {},
   "outputs": [],
   "source": [
    "import pandas as pd\n",
    "import numpy as np\n",
    "import seaborn as sns\n",
    "import matplotlib.pyplot as plt\n",
    "from sklearn.metrics import r2_score,mean_squared_error,roc_auc_score,roc_curve,classification_report,accuracy_score\n",
    "from sklearn.model_selection import train_test_split,GridSearchCV\n",
    "from sklearn.ensemble import GradientBoostingClassifier"
   ]
  },
  {
   "cell_type": "code",
   "execution_count": 83,
   "id": "d036a634",
   "metadata": {},
   "outputs": [],
   "source": [
    "df=pd.read_csv(\"./csv_files/diabetes.csv\")\n",
    "y=df[\"Outcome\"]\n",
    "X=df.drop(columns=[\"Outcome\"],axis=1)\n",
    "X_train,X_test,y_train,y_test = train_test_split(X,y,random_state=42,test_size=0.30)"
   ]
  },
  {
   "cell_type": "code",
   "execution_count": 84,
   "id": "b532d9cb",
   "metadata": {},
   "outputs": [
    {
     "name": "stdout",
     "output_type": "stream",
     "text": [
      "0.7489177489177489\n"
     ]
    }
   ],
   "source": [
    "gbm_model=GradientBoostingClassifier().fit(X_train,y_train)\n",
    "predicted=gbm_model.predict(X_test)\n",
    "print(accuracy_score(y_test,predicted))"
   ]
  },
  {
   "cell_type": "markdown",
   "id": "caf584ec",
   "metadata": {},
   "source": [
    "### <font color=\"red\">Gradient Boosting Machines Model Tuning</font>"
   ]
  },
  {
   "cell_type": "code",
   "execution_count": 85,
   "id": "478ac259",
   "metadata": {},
   "outputs": [
    {
     "name": "stdout",
     "output_type": "stream",
     "text": [
      "Fitting 10 folds for each of 64 candidates, totalling 640 fits\n"
     ]
    }
   ],
   "source": [
    "# Our aim is finding the difference between real and predicted values, and trying to avoid overfitting.\n",
    "# n_estimators, learning_rate, loss, min_samples_split, max_depth, subsample can be changed\n",
    "\n",
    "gbm_model=GradientBoostingClassifier()\n",
    "gbm_params={\"learning_rate\":[0.1,0.01,0.001,0.05],\n",
    "           \"n_estimators\":[100,300,500,1000],\n",
    "           \"max_depth\":[2,3,5,8]}\n",
    "gbm_cv_model=GridSearchCV(gbm_model,\n",
    "                          param_grid=gbm_params\n",
    "                          ,cv=10,\n",
    "                          n_jobs=-1,\n",
    "                          verbose=2).fit(X_train,y_train)"
   ]
  },
  {
   "cell_type": "code",
   "execution_count": 86,
   "id": "5fa2f430",
   "metadata": {},
   "outputs": [
    {
     "name": "stdout",
     "output_type": "stream",
     "text": [
      "{'learning_rate': 0.01, 'max_depth': 5, 'n_estimators': 500}\n",
      "GradientBoostingClassifier(learning_rate=0.01, max_depth=5, n_estimators=500)\n"
     ]
    }
   ],
   "source": [
    "print(gbm_cv_model.best_params_)\n",
    "print(gbm_cv_model.best_estimator_)"
   ]
  },
  {
   "cell_type": "code",
   "execution_count": 87,
   "id": "163afc5f",
   "metadata": {},
   "outputs": [
    {
     "name": "stdout",
     "output_type": "stream",
     "text": [
      "0.7445887445887446\n"
     ]
    }
   ],
   "source": [
    "# final model\n",
    "\n",
    "gbm_final_model=GradientBoostingClassifier(n_estimators=300,max_depth=5,learning_rate=0.01).fit(X_train,y_train)\n",
    "predicted=gbm_final_model.predict(X_test)\n",
    "print(accuracy_score(y_test,predicted))"
   ]
  },
  {
   "cell_type": "code",
   "execution_count": 88,
   "id": "3bcd88d4",
   "metadata": {},
   "outputs": [
    {
     "data": {
      "image/png": "[encoded data removed]",
      "text/plain": [
       "<Figure size 432x288 with 1 Axes>"
      ]
     },
     "metadata": {
      "needs_background": "light"
     },
     "output_type": "display_data"
    }
   ],
   "source": [
    "# Let's look variable importance\n",
    "\n",
    "importance=pd.DataFrame({\"variable_importance\":gbm_final_model.feature_importances_},index=X_train.columns).sort_values(by=\"variable_importance\",ascending=False)\n",
    "\n",
    "sns.barplot(data=importance,x=importance[\"variable_importance\"],y=importance.index)\n",
    "plt.xlabel(\"Variable Importance Scores\")\n",
    "plt.ylabel(\"Variables\")\n",
    "plt.title(\"Variable Importance Levels\");"
   ]
  },
  {
   "cell_type": "markdown",
   "id": "03375450",
   "metadata": {},
   "source": [
    "# <font color=\"orange\">Extreme Gradient Boosting (XGBoost) </font>\n",
    "->> XGBoost is an another optimized case of GBM, that can be integrated to other platforms, scaled, and it is used to increase the speed and performance of GBM.\n",
    "<br>\n",
    "->> Can be used in Python, R , Hadoop, Scala and Julia.\n",
    "<br>\n",
    "->> Can be Scaled\n",
    "<br>\n",
    "->> Fast\n",
    "<br>\n",
    "->> High Prediction Rate\n",
    "<br>\n",
    "->> It has proved its success in many kaggle competetions.\n",
    "### <font color=\"red\">Extreme Gradient Boosting (XGBoost) Model and Prediction</font>"
   ]
  },
  {
   "cell_type": "code",
   "execution_count": 89,
   "id": "ff5c4c4c",
   "metadata": {},
   "outputs": [],
   "source": [
    "import pandas as pd \n",
    "import numpy as np\n",
    "import seaborn as sns\n",
    "import matplotlib.pyplot as plt\n",
    "from sklearn.metrics import r2_score,accuracy_score,mean_squared_error,classification_report,roc_auc_score,roc_curve\n",
    "from sklearn.model_selection import train_test_split,GridSearchCV,cross_val_score\n",
    "from xgboost import XGBClassifier"
   ]
  },
  {
   "cell_type": "code",
   "execution_count": 174,
   "id": "fc020487",
   "metadata": {},
   "outputs": [],
   "source": [
    "df=pd.read_csv(\"./csv_files/diabetes.csv\")\n",
    "y=df[\"Outcome\"]\n",
    "X=df.drop(columns=[\"Outcome\"],axis=1)\n",
    "X_train,X_test,y_train,y_test = train_test_split(X,y,random_state=42,test_size=0.30)"
   ]
  },
  {
   "cell_type": "code",
   "execution_count": 91,
   "id": "43bf4378",
   "metadata": {},
   "outputs": [
    {
     "name": "stdout",
     "output_type": "stream",
     "text": [
      "0.7359307359307359\n"
     ]
    }
   ],
   "source": [
    "xgb_model=XGBClassifier().fit(X_train,y_train)\n",
    "predicted=xgb_model.predict(X_test)\n",
    "print(accuracy_score(y_test,predicted))"
   ]
  },
  {
   "cell_type": "markdown",
   "id": "0a7e825a",
   "metadata": {},
   "source": [
    "### <font color=\"red\">Extreme Gradient Boosting (XGBoost) Model Tuning</font>"
   ]
  },
  {
   "cell_type": "code",
   "execution_count": 92,
   "id": "4e5f3463",
   "metadata": {},
   "outputs": [
    {
     "name": "stdout",
     "output_type": "stream",
     "text": [
      "Fitting 10 folds for each of 81 candidates, totalling 810 fits\n"
     ]
    }
   ],
   "source": [
    "xgb_model=XGBClassifier()\n",
    "xgb_params={\"n_estimators\":[100,500,1000],\n",
    "            \"max_depth\":[3,5,7],\n",
    "            \"learning_rate\":[0.1,0.01,0.001],\n",
    "            \"subsample\":[0.6,0.8,1]\n",
    "           }\n",
    "xgb_cv_model=GridSearchCV(xgb_model,param_grid=xgb_params,cv=10,n_jobs=-1,verbose=2).fit(X_train,y_train)"
   ]
  },
  {
   "cell_type": "code",
   "execution_count": 93,
   "id": "48a3026f",
   "metadata": {},
   "outputs": [
    {
     "name": "stdout",
     "output_type": "stream",
     "text": [
      "XGBClassifier(base_score=0.5, booster='gbtree', callbacks=None,\n",
      "              colsample_bylevel=1, colsample_bynode=1, colsample_bytree=1,\n",
      "              early_stopping_rounds=None, enable_categorical=False,\n",
      "              eval_metric=None, gamma=0, gpu_id=-1, grow_policy='depthwise',\n",
      "              importance_type=None, interaction_constraints='',\n",
      "              learning_rate=0.001, max_bin=256, max_cat_to_onehot=4,\n",
      "              max_delta_step=0, max_depth=7, max_leaves=0, min_child_weight=1,\n",
      "              missing=nan, monotone_constraints='()', n_estimators=500,\n",
      "              n_jobs=0, num_parallel_tree=1, predictor='auto', random_state=0,\n",
      "              reg_alpha=0, reg_lambda=1, ...)\n",
      "{'learning_rate': 0.001, 'max_depth': 7, 'n_estimators': 500, 'subsample': 0.6}\n"
     ]
    }
   ],
   "source": [
    "print(xgb_cv_model.best_estimator_)\n",
    "print(xgb_cv_model.best_params_)"
   ]
  },
  {
   "cell_type": "code",
   "execution_count": 94,
   "id": "190b2cef",
   "metadata": {},
   "outputs": [
    {
     "name": "stdout",
     "output_type": "stream",
     "text": [
      "0.7575757575757576\n"
     ]
    }
   ],
   "source": [
    "# final model\n",
    "\n",
    "xgb_final_model = XGBClassifier(n_estimators=500,max_depth=7,learning_rate=0.001,subsample=0.6).fit(X_train,y_train)\n",
    "predicted = xgb_final_model.predict(X_test)\n",
    "print(accuracy_score(y_test,predicted))"
   ]
  },
  {
   "cell_type": "code",
   "execution_count": 95,
   "id": "cb6e12c4",
   "metadata": {},
   "outputs": [],
   "source": [
    "# Variable importance"
   ]
  },
  {
   "cell_type": "code",
   "execution_count": 96,
   "id": "ed3dde31",
   "metadata": {},
   "outputs": [
    {
     "data": {
      "image/png": "[encoded data removed]",
      "text/plain": [
       "<Figure size 432x288 with 1 Axes>"
      ]
     },
     "metadata": {
      "needs_background": "light"
     },
     "output_type": "display_data"
    }
   ],
   "source": [
    "importance = pd.DataFrame({\"variable_scores\":xgb_final_model.feature_importances_},index=X_train.columns).sort_values(by=\"variable_scores\",ascending=False)\n",
    "\n",
    "sns.barplot(data=importance,x=importance[\"variable_scores\"],y=importance.index)\n",
    "plt.title(\"Varianle Importance Levels\")\n",
    "plt.xlabel(\"Variable Importance Scores\")\n",
    "plt.ylabel(\"Variables\")\n",
    "plt.show();"
   ]
  },
  {
   "cell_type": "markdown",
   "id": "23fba73e",
   "metadata": {},
   "source": [
    "# <font color=\"orange\">Light GBM </font>\n",
    "->> Light GBM is another developed type of GBM, that aimed to increase to performance of XGBoost's train time. <b>(Microsoft's Algorithm)</b>\n",
    "<br>\n",
    "->> When dataset and parameter number is increased, thje XGBoost's train time can be longer, so as a solution, LightGBM is developed for this problem \n",
    "<br>\n",
    "->> <b><font color=\"purple\"> Why LightGBM has more performance ? </font></b>\n",
    "<br>\n",
    "->> Light GBM is used Leaf-wise growth strategy, Depth First instead of Level Wise and Breadth-first.\n",
    "<br>\n",
    "->> The difference appears on the splitting processes, to splitting variables,and to discover different points of them, XGBoost is used Level-wise tree growth strategy also we can call like using Decision Trees. \n",
    "<br>\n",
    "->> On the other hand, LightGBM is focused on splitting process to better fitting and creating a better model, this process is called as Leaf_wise growth strategy.\n",
    "\n",
    "### <font color=\"red\">Light GBM Model and Prediction</font>"
   ]
  },
  {
   "cell_type": "code",
   "execution_count": 97,
   "id": "9b07cb5e",
   "metadata": {},
   "outputs": [],
   "source": [
    "import pandas as pd\n",
    "import numpy as np \n",
    "import matplotlib.pyplot as plt\n",
    "import seaborn as sns\n",
    "from sklearn.metrics import r2_score,accuracy_score,mean_squared_error,roc_auc_score,roc_curve,classification_report\n",
    "from sklearn.model_selection import train_test_split,GridSearchCV\n",
    "from lightgbm import LGBMClassifier"
   ]
  },
  {
   "cell_type": "code",
   "execution_count": 98,
   "id": "fb772091",
   "metadata": {},
   "outputs": [],
   "source": [
    "df=pd.read_csv(\"./csv_files/diabetes.csv\")\n",
    "y=df[\"Outcome\"]\n",
    "X=df.drop(columns=[\"Outcome\"],axis=1)\n",
    "X_train,X_test,y_train,y_test = train_test_split(X,y,random_state=42,test_size=0.30)"
   ]
  },
  {
   "cell_type": "code",
   "execution_count": 99,
   "id": "59bb7446",
   "metadata": {},
   "outputs": [
    {
     "name": "stdout",
     "output_type": "stream",
     "text": [
      "0.7229437229437229\n"
     ]
    }
   ],
   "source": [
    "lgbm_model=LGBMClassifier().fit(X_train,y_train)\n",
    "predicted=lgbm_model.predict(X_test)\n",
    "print(accuracy_score(y_test,predicted))"
   ]
  },
  {
   "cell_type": "markdown",
   "id": "70be96db",
   "metadata": {},
   "source": [
    "### <font color=\"red\">Light GBM Model Tuning</font>"
   ]
  },
  {
   "cell_type": "code",
   "execution_count": 100,
   "id": "ea197a44",
   "metadata": {},
   "outputs": [
    {
     "name": "stdout",
     "output_type": "stream",
     "text": [
      "Fitting 10 folds for each of 45 candidates, totalling 450 fits\n"
     ]
    }
   ],
   "source": [
    "# if we have unbalanced class problem, we can tune class_weight\n",
    "lgbm_params={\"n_estimators\":[200,500,100],\"learning_rate\":[0.1,0.01,0.001],\"max_depth\":[1,2,3,5,8]}\n",
    "lgbm_model=LGBMClassifier()\n",
    "lgbm_cv_model=GridSearchCV(lgbm_model,param_grid=lgbm_params,cv=10,n_jobs=-1,verbose=2).fit(X_train,y_train)"
   ]
  },
  {
   "cell_type": "code",
   "execution_count": 101,
   "id": "1a11dd57",
   "metadata": {},
   "outputs": [
    {
     "name": "stdout",
     "output_type": "stream",
     "text": [
      "LGBMClassifier(learning_rate=0.01, max_depth=1, n_estimators=500)\n",
      "{'learning_rate': 0.01, 'max_depth': 1, 'n_estimators': 500}\n"
     ]
    }
   ],
   "source": [
    "print(lgbm_cv_model.best_estimator_)\n",
    "print(lgbm_cv_model.best_params_)"
   ]
  },
  {
   "cell_type": "code",
   "execution_count": 102,
   "id": "3d95099b",
   "metadata": {},
   "outputs": [
    {
     "name": "stdout",
     "output_type": "stream",
     "text": [
      "0.7575757575757576\n"
     ]
    }
   ],
   "source": [
    "# final model\n",
    "\n",
    "lgbm_final_model=LGBMClassifier(n_estimators=500,learning_rate=0.01,max_depth=1).fit(X_train,y_train)\n",
    "predicted=lgbm_final_model.predict(X_test)\n",
    "print(accuracy_score(y_test,predicted))"
   ]
  },
  {
   "cell_type": "code",
   "execution_count": 103,
   "id": "3dd95be5",
   "metadata": {},
   "outputs": [],
   "source": [
    "# variable importance"
   ]
  },
  {
   "cell_type": "code",
   "execution_count": 104,
   "id": "3038bb71",
   "metadata": {},
   "outputs": [
    {
     "data": {
      "image/png": "[encoded data removed]",
      "text/plain": [
       "<Figure size 432x288 with 1 Axes>"
      ]
     },
     "metadata": {
      "needs_background": "light"
     },
     "output_type": "display_data"
    }
   ],
   "source": [
    "importance = pd.DataFrame({\"variable_scores\":lgbm_final_model.feature_importances_},index=X_train.columns).sort_values(by=\"variable_scores\",ascending=False)\n",
    "\n",
    "sns.barplot(data=importance,x=importance[\"variable_scores\"],y=importance.index)\n",
    "plt.title(\"Varianle Importance Levels\")\n",
    "plt.xlabel(\"Variable Importance Scores\")\n",
    "plt.ylabel(\"Variables\")\n",
    "plt.show();"
   ]
  },
  {
   "cell_type": "markdown",
   "id": "3580811c",
   "metadata": {},
   "source": [
    "# <font color=\"orange\">Category Boosting (CatBoost) </font>\n",
    "->> CatBoost is an another form of GBM that can handle categorical variables as automatically, fast and successful. <b>(Yandex)</b>\n",
    "<br>\n",
    "->> This is one of the good algorithm that can handle when we have important or more categorical variables.\n",
    "<br>\n",
    "->> In the methods, which are based on Tree methods, the data analysts can transform numerical values to categorical variables to make branching easier, and increasing tree performance.\n",
    "<br>\n",
    "->> Categorical Variable Support.\n",
    "<br>\n",
    "->> Fast and Scalable GPU Support.\n",
    "<br>\n",
    "->> More Successful Predictions.\n",
    "<br>\n",
    "->> Fast Train and Prediction.\n",
    "<br>\n",
    "->> The First open-source and successful Machine Learning work of Russia.\n",
    "\n",
    "### <font color=\"red\">Category Boosting (CatBoost) Model and Prediction </font>"
   ]
  },
  {
   "cell_type": "code",
   "execution_count": 105,
   "id": "ae65be48",
   "metadata": {},
   "outputs": [],
   "source": [
    "import pandas as pd \n",
    "import numpy as np\n",
    "import seaborn as sns\n",
    "import matplotlib.pyplot as plt\n",
    "from sklearn.model_selection import train_test_split,GridSearchCV\n",
    "from sklearn.metrics import r2_score,mean_squared_error,roc_auc_score,roc_curve,classification_report,accuracy_score\n",
    "from catboost import CatBoostClassifier"
   ]
  },
  {
   "cell_type": "code",
   "execution_count": 106,
   "id": "350e1918",
   "metadata": {},
   "outputs": [],
   "source": [
    "df=pd.read_csv(\"./csv_files/diabetes.csv\")\n",
    "y=df[\"Outcome\"]\n",
    "X=df.drop(columns=[\"Outcome\"],axis=1)\n",
    "X_train,X_test,y_train,y_test = train_test_split(X,y,random_state=42,test_size=0.30)"
   ]
  },
  {
   "cell_type": "code",
   "execution_count": 107,
   "id": "dacecbbd",
   "metadata": {},
   "outputs": [
    {
     "name": "stdout",
     "output_type": "stream",
     "text": [
      "0.7402597402597403\n"
     ]
    }
   ],
   "source": [
    "cat_model=CatBoostClassifier().fit(X_train,y_train,verbose=False)\n",
    "predicted=cat_model.predict(X_test)\n",
    "print(accuracy_score(y_test,predicted))"
   ]
  },
  {
   "cell_type": "markdown",
   "id": "6340f5a7",
   "metadata": {},
   "source": [
    "### <font color=\"red\">Category Boosting (CatBoost) Model Tuning </font>"
   ]
  },
  {
   "cell_type": "code",
   "execution_count": 108,
   "id": "c1582bc5",
   "metadata": {},
   "outputs": [
    {
     "name": "stdout",
     "output_type": "stream",
     "text": [
      "Fitting 5 folds for each of 27 candidates, totalling 135 fits\n"
     ]
    }
   ],
   "source": [
    "cat_model=CatBoostClassifier()\n",
    "cat_params={\"iterations\":[200,500,100],\"learning_rate\":[0.1,0.03,0.01],\"depth\":[4,5,8]}\n",
    "cat_cv_model=GridSearchCV(cat_model,param_grid=cat_params,cv=5,n_jobs=-1,verbose=2).fit(X_train,y_train,verbose=False)"
   ]
  },
  {
   "cell_type": "code",
   "execution_count": 109,
   "id": "acc882c2",
   "metadata": {},
   "outputs": [
    {
     "name": "stdout",
     "output_type": "stream",
     "text": [
      "{'depth': 8, 'iterations': 200, 'learning_rate': 0.01}\n"
     ]
    }
   ],
   "source": [
    "print(cat_cv_model.best_params_)"
   ]
  },
  {
   "cell_type": "code",
   "execution_count": 110,
   "id": "e6c6cf09",
   "metadata": {},
   "outputs": [],
   "source": [
    "# final model "
   ]
  },
  {
   "cell_type": "code",
   "execution_count": 111,
   "id": "aa76a733",
   "metadata": {},
   "outputs": [
    {
     "name": "stdout",
     "output_type": "stream",
     "text": [
      "0.7532467532467533\n"
     ]
    }
   ],
   "source": [
    "catb_final_model=CatBoostClassifier(iterations=200,learning_rate=0.01,depth=8).fit(X_train,y_train,verbose=False)\n",
    "predicted=catb_final_model.predict(X_test)\n",
    "print(accuracy_score(y_test,predicted))"
   ]
  },
  {
   "cell_type": "code",
   "execution_count": 112,
   "id": "2359e0ed",
   "metadata": {},
   "outputs": [
    {
     "data": {
      "image/png": "[encoded data removed]",
      "text/plain": [
       "<Figure size 432x288 with 1 Axes>"
      ]
     },
     "metadata": {
      "needs_background": "light"
     },
     "output_type": "display_data"
    }
   ],
   "source": [
    "# Variabe importance\n",
    "importance = pd.DataFrame({\"variable_scores\":catb_final_model.feature_importances_},index=X_train.columns).sort_values(by=\"variable_scores\",ascending=False)\n",
    "\n",
    "sns.barplot(data=importance,x=importance[\"variable_scores\"],y=importance.index)\n",
    "plt.title(\"Varianle Importance Levels\")\n",
    "plt.xlabel(\"Variable Importance Scores\")\n",
    "plt.ylabel(\"Variables\")\n",
    "plt.show();"
   ]
  },
  {
   "cell_type": "markdown",
   "id": "00146cb7",
   "metadata": {},
   "source": [
    "# <font color=\"orange\">Comparison of All Models</font>\n",
    "\n",
    "### <font color=\"purple\">Here, we will compare all tuned models what we did in this course</font>"
   ]
  },
  {
   "cell_type": "code",
   "execution_count": 175,
   "id": "34f8d596",
   "metadata": {},
   "outputs": [],
   "source": [
    "models=[log_cv_model,\n",
    "        knn_final_model,\n",
    "        svc_final_model,\n",
    "        mlp_final_model,\n",
    "        cart_final_model,\n",
    "        rf_final_model,\n",
    "        gbm_final_model,\n",
    "        xgb_final_model,\n",
    "        catb_final_model,\n",
    "        lgbm_final_model]\n",
    "\n",
    "result=[]\n",
    "results=pd.DataFrame(columns=[\"Models\",\"Accuracy\"])\n",
    "\n",
    "for model in models:\n",
    "    names=model.__class__.__name__\n",
    "    y_pred=model.predict(X_test)\n",
    "    accuracy=accuracy_score(y_test,y_pred)\n",
    "    result=pd.DataFrame([[names,accuracy*100]],columns=[\"Models\",\"Accuracy\"])\n",
    "    results=results.append(result)"
   ]
  },
  {
   "cell_type": "code",
   "execution_count": 176,
   "id": "389ef1f2",
   "metadata": {
    "scrolled": true
   },
   "outputs": [],
   "source": [
    "results.sort_values(inplace=True,by=\"Accuracy\",ascending=True)"
   ]
  },
  {
   "cell_type": "code",
   "execution_count": 177,
   "id": "8c1192a3",
   "metadata": {},
   "outputs": [
    {
     "data": {
      "image/png": "[encoded data removed]",
      "text/plain": [
       "<Figure size 432x288 with 1 Axes>"
      ]
     },
     "metadata": {
      "needs_background": "light"
     },
     "output_type": "display_data"
    }
   ],
   "source": [
    "sns.barplot(x=\"Accuracy\",y=\"Models\",data=results)\n",
    "plt.xlabel(\"Accuracy %\")\n",
    "plt.ylabel(\"Accuracy Rate of Models\");\n",
    "plt.title(\"This graph Shows us a True Classification of person that if person has diabetics or not..\")\n",
    "plt.show();"
   ]
  },
  {
   "cell_type": "markdown",
   "id": "8fa7ee36",
   "metadata": {},
   "source": [
    "### <font color=\"purple\">What else can we do ?</font>\n",
    "->> Variable Derivation / Creation\n",
    "<br>\n",
    "->> Variable Selection\n",
    "<br>\n",
    "->> Automatic ML (AutoML)\n",
    "<br>\n",
    "->> Model Deployment"
   ]
  },
  {
   "cell_type": "code",
   "execution_count": null,
   "id": "02fa1587",
   "metadata": {},
   "outputs": [],
   "source": []
  }
 ],
 "metadata": {
  "kernelspec": {
   "display_name": "Python 3 (ipykernel)",
   "language": "python",
   "name": "python3"
  },
  "language_info": {
   "codemirror_mode": {
    "name": "ipython",
    "version": 3
   },
   "file_extension": ".py",
   "mimetype": "text/x-python",
   "name": "python",
   "nbconvert_exporter": "python",
   "pygments_lexer": "ipython3",
   "version": "3.9.12"
  }
 },
 "nbformat": 4,
 "nbformat_minor": 5
}
